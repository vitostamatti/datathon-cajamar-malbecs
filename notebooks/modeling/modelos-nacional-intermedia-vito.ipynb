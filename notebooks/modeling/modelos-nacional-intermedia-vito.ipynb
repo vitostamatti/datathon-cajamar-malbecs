{
 "cells": [
  {
   "cell_type": "code",
   "execution_count": 20,
   "metadata": {},
   "outputs": [],
   "source": [
    "import pandas as pd\n",
    "import numpy as np\n",
    "import matplotlib.pyplot as plt\n",
    "\n",
    "#Malbecs\n",
    "from malbecs.modeling import train as tr\n",
    "import malbecs.modeling.transformers as mt\n",
    "\n",
    "import warnings\n",
    "warnings.filterwarnings('ignore')\n",
    "\n",
    "from sklearn.compose import make_column_transformer\n",
    "from sklearn.ensemble import RandomForestRegressor\n",
    "from sklearn.pipeline import make_pipeline\n",
    "from sklearn.preprocessing import OrdinalEncoder, StandardScaler\n",
    "from sklearn.decomposition import PCA\n",
    "from sklearn.model_selection import cross_validate\n",
    "from sklearn.ensemble import StackingRegressor, VotingRegressor\n",
    "\n",
    "seed = 42\n"
   ]
  },
  {
   "cell_type": "code",
   "execution_count": 3,
   "metadata": {},
   "outputs": [],
   "source": [
    "wine_path = \"../../data/final/wine_final.csv\"\n",
    "eto_path = \"../../data/final/eto_final.csv\"\n",
    "meteo_path = \"../../data/final/meteo_final.csv\"\n",
    "\n",
    "def show_feat_imps(feat_imp, feat_names):\n",
    "    pd.DataFrame(\n",
    "        feat_imp,\n",
    "        index=feat_names,\n",
    "        columns=[\"feat_imp\"]\n",
    "    ).sort_values(\"feat_imp\")[-50:].plot(kind='barh', figsize=(6, 15))"
   ]
  },
  {
   "cell_type": "markdown",
   "metadata": {},
   "source": [
    "## Cargamos datos preprocesados"
   ]
  },
  {
   "cell_type": "code",
   "execution_count": 4,
   "metadata": {},
   "outputs": [],
   "source": [
    "data = tr.load_final_data(\n",
    "    wine_path=wine_path,\n",
    "    eto_path=eto_path,\n",
    "    meteo_path=meteo_path\n",
    ")"
   ]
  },
  {
   "cell_type": "code",
   "execution_count": 5,
   "metadata": {},
   "outputs": [],
   "source": [
    "with open(\"../../data/final/meteo_features.txt\", \"r\", encoding=\"utf-8\") as f:\n",
    "    meteo_cols = f.read().split(\"\\n\")\n",
    "\n",
    "with open(\"../../data/final/eto_features.txt\", \"r\") as f:\n",
    "    eto_cols = f.read().split(\"\\n\")\n",
    "\n",
    "with open(\"../../data/final/wine_features.txt\", \"r\") as f:\n",
    "    wine_cols = f.read().split(\"\\n\")"
   ]
  },
  {
   "cell_type": "markdown",
   "metadata": {},
   "source": [
    "Dejamos funcion para split y CV"
   ]
  },
  {
   "cell_type": "code",
   "execution_count": 9,
   "metadata": {},
   "outputs": [],
   "source": [
    "data_train = tr.filter_camp(data.copy(), min_camp=15, max_camp=21)\n",
    "\n",
    "data_final = tr.filter_camp(data, min_camp=22, max_camp=22)\n",
    "\n",
    "train, test = tr.train_test_split(data_train, test_camp=21)\n",
    "\n",
    "X, y = tr.xy_split(data_train)\n",
    "\n",
    "cat_cols = [\n",
    "    'id_finca',\n",
    "    'id_zona',\n",
    "    'id_estacion',\n",
    "    'variedad',\n",
    "    \"modo\",\n",
    "    \"tipo\",\n",
    "    \"color\",\n",
    "    \"prod_shift1_gt_shift2\",\n",
    "    \"sup_is_nan\",\n",
    "]\n",
    "num_cols = [col for col in X.columns if col not in cat_cols]\n",
    "\n",
    "X[cat_cols] = X[cat_cols].astype('category')\n",
    "\n",
    "X_train, y_train = tr.xy_split(train)\n",
    "X_test, y_test = tr.xy_split(test)\n",
    "X_final, y_final = tr.xy_split(data_final)\n",
    "\n",
    "train_idxs, test_idxs = tr.CampKFold.get_train_test(\n",
    "    X['campaña'], from_camp=19, to_camp=21\n",
    ")\n",
    "\n",
    "cv = tr.CampKFold(train_idxs, test_idxs)\n"
   ]
  },
  {
   "attachments": {},
   "cell_type": "markdown",
   "metadata": {},
   "source": [
    "Variables climáticas"
   ]
  },
  {
   "cell_type": "code",
   "execution_count": 10,
   "metadata": {},
   "outputs": [],
   "source": [
    "percip_cols = [c for c in eto_cols if \"Precip\" in c]\n",
    "snow_cols = [c for c in eto_cols if \"Snow\" in c]\n",
    "temp_day_cols = [c for c in eto_cols if \"TemperatureLocalDay\" in c]\n",
    "temp_cols = [\n",
    "    c for c in eto_cols if \"TemperatureLocalAfter\" in c or \"TemperatureLocalOvern\" in c]\n",
    "evotrans_cols = [c for c in eto_cols if \"Evapotranspiration\" in c]\n",
    "feelslike_cols = [c for c in eto_cols if \"FeelsLikeLoca\" in c]\n",
    "irrad_cols = [c for c in eto_cols if \"Irradiance\" in c]\n",
    "gust_cols = [c for c in eto_cols if \"Gust\" in c]\n",
    "wind_cols = [c for c in eto_cols if \"Wind\" in c]\n",
    "dewpoint_cols = [c for c in eto_cols if \"Dewpoint\" in c]\n",
    "mslp_cols = [c for c in eto_cols if \"MSLP\" in c]\n",
    "humid_cols = [c for c in eto_cols if \"Humidity\" in c]\n",
    "uvindex_cols = [c for c in eto_cols if \"UVIndex\" in c]\n",
    "visib_cols = [c for c in eto_cols if \"Visibility\" in c]\n",
    "\n",
    "tempuo = [c for c in eto_cols if (\"Temp\" in c) and (\"StdM\" in c )]\n",
    "tempdiff = [c for c in eto_cols if (\"Temp\" in c) and (\"Diff\" in c)]\n",
    "precipuo = [c for c in eto_cols if (\"Precip\" in c) and (\"StdM\" in c )]\n",
    "precipdiff = [c for c in eto_cols if (\"Precip\" in c) and (\"Diff\" in c)]\n",
    "snowpuo = [c for c in eto_cols if (\"Snow\" in c) and (\"StdM\" in c )]\n",
    "snowpdiff = [c for c in eto_cols if (\"Snow\" in c) and (\"Diff\" in c)]\n",
    "winduo = [c for c in eto_cols if (\"Wind\" in c) and (\"StdM\" in c )]\n",
    "winddiff = [c for c in eto_cols if (\"Wind\" in c) and (\"Diff\" in c )]\n",
    "gustuo = [c for c in eto_cols if (\"Gust\" in c) and (\"StdM\" in c)]\n",
    "gustdiff = [c for c in eto_cols if (\"Gust\" in c) and (\"Diff\" in c)]"
   ]
  },
  {
   "attachments": {},
   "cell_type": "markdown",
   "metadata": {},
   "source": [
    "Variables extra producción"
   ]
  },
  {
   "cell_type": "code",
   "execution_count": 22,
   "metadata": {},
   "outputs": [],
   "source": [
    "from sklearn.pipeline import Pipeline\n",
    "from sklearn.compose import ColumnTransformer\n",
    "\n",
    "def get_preprocesing():\n",
    "\n",
    "    model_num_cols = [\n",
    "        'campaña',\n",
    "        'superficie',\n",
    "        'prod_shift_max',\n",
    "        'prod_shift_change',\n",
    "        'prod_shift_avg',\n",
    "        'prod_he_var_zone_mean_hist_total',\n",
    "        'prod_he_var_zone_std_hist_total',\n",
    "        'prod_he_var_modo_zona_mean_shift1_total',\n",
    "        \"prod_he_var_modo_zona_change_total\"\n",
    "    ]\n",
    "\n",
    "    return ColumnTransformer([\n",
    "\n",
    "        ('Flag',OrdinalEncoder(handle_unknown='use_encoded_value',unknown_value=-1), ['sup_is_nan']),\n",
    "        ('Zona_encoder',mt.TargetEncoder(), ['id_zona']),\n",
    "        ('Zona_encoder_2',OrdinalEncoder(handle_unknown='use_encoded_value',unknown_value=-1), ['id_zona']),\n",
    "        ('Variedad_encoder',OrdinalEncoder(handle_unknown='use_encoded_value',unknown_value=-1), ['variedad']),\n",
    "        ('Modo_encoder',OrdinalEncoder(handle_unknown='use_encoded_value',unknown_value=-1), ['modo']),\n",
    "        ('Numerics_encoder',StandardScaler(), model_num_cols),\n",
    "\n",
    "        ('Temp_pipeline',Pipeline([('Temp_pipeline',StandardScaler()),('asdasd',PCA(n_components=3, random_state=seed))]), temp_cols),\n",
    "\n",
    "        ('Under_over_scaler',StandardScaler(),[c for c in precipuo if \"2Std\" in c]),\n",
    "\n",
    "        ('Precip_PCA',make_pipeline(StandardScaler(),PCA(n_components=2, random_state=seed)),\n",
    "             [c for c in percip_cols if 'Sum' in c]\n",
    "        )],\n",
    "        remainder='drop'\n",
    "    )\n"
   ]
  },
  {
   "cell_type": "code",
   "execution_count": 23,
   "metadata": {},
   "outputs": [
    {
     "name": "stdout",
     "output_type": "stream",
     "text": [
      "train:  [-4628.3377254  -4398.48711481 -4442.27470561]\n",
      "test:  [-4835.54310361 -6739.44960258 -5258.11263034]\n",
      "Train Mean RMSE: -4489.6998486044895\n",
      "Test Mean RMSE: -5611.03511217436\n"
     ]
    }
   ],
   "source": [
    "prep = get_preprocesing()\n",
    "model = RandomForestRegressor(\n",
    "    random_state=seed,\n",
    "    n_estimators=500,\n",
    "    min_samples_leaf=4,\n",
    "    n_jobs=-1,\n",
    "    max_features=0.20,\n",
    "    max_samples=0.8\n",
    ")\n",
    "\n",
    "m = make_pipeline(\n",
    "    prep,\n",
    "    model\n",
    ")\n",
    "\n",
    "res = cross_validate(\n",
    "    estimator=m,\n",
    "    X=X,\n",
    "    y=y,\n",
    "    cv=cv,\n",
    "    n_jobs=-1,\n",
    "    scoring=tr.rmse_scorer,\n",
    "    return_train_score=True,\n",
    "    return_estimator=True,\n",
    "\n",
    ")\n",
    "\n",
    "print(\"train: \", res['train_score'])\n",
    "print(\"test: \", res['test_score'])\n",
    "print(f\"Train Mean RMSE: {np.mean(res.get('train_score'))}\")\n",
    "print(f\"Test Mean RMSE: {np.mean(res.get('test_score'))}\")"
   ]
  },
  {
   "cell_type": "code",
   "execution_count": 24,
   "metadata": {},
   "outputs": [],
   "source": [
    "m.fit(X,y)\n",
    "y_pred_temp = m.predict(X_final)"
   ]
  },
  {
   "cell_type": "code",
   "execution_count": 25,
   "metadata": {},
   "outputs": [
    {
     "name": "stdout",
     "output_type": "stream",
     "text": [
      "train:  [-4799.10657187 -4554.70950316 -4573.13390607]\n",
      "test:  [-4772.69965371 -6693.3883576  -5282.4933207 ]\n",
      "Train Mean RMSE: -4642.316660367932\n",
      "Test Mean RMSE: -5582.860444006027\n"
     ]
    }
   ],
   "source": [
    "def get_preprocesing_notemp():\n",
    "\n",
    "    model_num_cols = [\n",
    "        'campaña',\n",
    "        'superficie',\n",
    "        'prod_shift_max',\n",
    "        'prod_shift_change',\n",
    "        'prod_shift_avg',\n",
    "        'prod_he_var_zone_mean_hist_total',\n",
    "        'prod_he_var_zone_std_hist_total',\n",
    "        'prod_he_var_modo_zona_mean_shift1_total',\n",
    "        \"prod_he_var_modo_zona_change_total\"\n",
    "    ]\n",
    "\n",
    "    return ColumnTransformer([\n",
    "\n",
    "        ('Flag',OrdinalEncoder(handle_unknown='use_encoded_value',unknown_value=-1), ['sup_is_nan']),\n",
    "        ('Zona_encoder',mt.TargetEncoder(), ['id_zona']),\n",
    "        ('Zona_encoder_2',OrdinalEncoder(handle_unknown='use_encoded_value',unknown_value=-1), ['id_zona']),\n",
    "        ('Variedad_encoder',OrdinalEncoder(handle_unknown='use_encoded_value',unknown_value=-1), ['variedad']),\n",
    "        ('Modo_encoder',OrdinalEncoder(handle_unknown='use_encoded_value',unknown_value=-1), ['modo']),\n",
    "        ('Numerics_encoder',StandardScaler(), model_num_cols),\n",
    "\n",
    "        ('Under_over_scaler',StandardScaler(),[c for c in precipuo if \"2Std\" in c]),\n",
    "\n",
    "        ('Precip_PCA',make_pipeline(StandardScaler(),PCA(n_components=2, random_state=seed)),\n",
    "             [c for c in percip_cols if 'Sum' in c]\n",
    "        ),\n",
    "        (\"Snow\",StandardScaler(),[c for c in snow_cols if 'Sum' in c and (\"1\" in c or \"2\" in c)]),\n",
    "        ],\n",
    "\n",
    "        remainder='drop'\n",
    "    )\n",
    "\n",
    "prep = get_preprocesing_notemp()\n",
    "\n",
    "model = RandomForestRegressor(\n",
    "    random_state=seed,\n",
    "    n_estimators=500,\n",
    "    min_samples_leaf=4,\n",
    "    n_jobs=-1,\n",
    "    max_features=0.20,\n",
    "    max_samples=0.8\n",
    ")\n",
    "\n",
    "m = make_pipeline(\n",
    "    prep,\n",
    "    model\n",
    ")\n",
    "res = cross_validate(\n",
    "    estimator=m,\n",
    "    X=X,\n",
    "    y=y,\n",
    "    cv=cv,\n",
    "    n_jobs=-1,\n",
    "    scoring=tr.rmse_scorer,\n",
    "    return_train_score=True,\n",
    "    return_estimator=True,\n",
    "\n",
    ")\n",
    "\n",
    "print(\"train: \", res['train_score'])\n",
    "print(\"test: \", res['test_score'])\n",
    "print(f\"Train Mean RMSE: {np.mean(res.get('train_score'))}\")\n",
    "print(f\"Test Mean RMSE: {np.mean(res.get('test_score'))}\")\n"
   ]
  },
  {
   "cell_type": "code",
   "execution_count": null,
   "metadata": {},
   "outputs": [],
   "source": [
    "# train:  [-4628.3377254  -4398.48711481 -4442.27470561]\n",
    "# test:  [-4835.54310361 -6739.44960258 -5258.11263034]\n",
    "# Train Mean RMSE: -4489.6998486044895\n",
    "# Test Mean RMSE: -5611.03511217436\n",
    "\n",
    "# no temp + snow\n",
    "# train:  [-4799.10657187 -4554.70950316 -4573.13390607]\n",
    "# test:  [-4772.69965371 -6693.3883576  -5282.4933207 ]\n",
    "# Train Mean RMSE: -4642.316660367932\n",
    "# Test Mean RMSE: -5582.860444006027\n"
   ]
  },
  {
   "cell_type": "code",
   "execution_count": 26,
   "metadata": {},
   "outputs": [],
   "source": [
    "\n",
    "m.fit(X,y)\n",
    "y_pred_notemp = m.predict(X_final)"
   ]
  },
  {
   "cell_type": "code",
   "execution_count": 27,
   "metadata": {},
   "outputs": [
    {
     "data": {
      "image/png": "[encoded data removed]",
      "text/plain": [
       "<Figure size 1000x1000 with 1 Axes>"
      ]
     },
     "metadata": {},
     "output_type": "display_data"
    }
   ],
   "source": [
    "plt.figure(figsize=(10,10))\n",
    "plt.scatter(y_pred_temp, y_pred_notemp, alpha=0.5)\n",
    "plt.plot( [0,120000],[0,120000] )\n",
    "plt.xlabel('Temp')\n",
    "plt.ylabel('NoTemp')\n",
    "plt.title('Prediccion Local vs Under Over')\n",
    "plt.show()\n"
   ]
  },
  {
   "cell_type": "markdown",
   "metadata": {},
   "source": [
    "### Comparar vs original"
   ]
  },
  {
   "cell_type": "code",
   "execution_count": 32,
   "metadata": {},
   "outputs": [],
   "source": [
    "df_preds = pd.read_csv('../../data/final/Malbecs.txt',sep='|',header=None)\n",
    "preds_originales = df_preds[6]"
   ]
  },
  {
   "cell_type": "markdown",
   "metadata": {},
   "source": [
    "Ajustamos modelo para 2022"
   ]
  },
  {
   "cell_type": "code",
   "execution_count": 33,
   "metadata": {},
   "outputs": [],
   "source": [
    "x_test_2022 = data_final.drop(columns=['produccion'])"
   ]
  },
  {
   "cell_type": "code",
   "execution_count": 34,
   "metadata": {},
   "outputs": [
    {
     "data": {
      "text/html": [
       "<style>#sk-container-id-2 {color: black;background-color: white;}#sk-container-id-2 pre{padding: 0;}#sk-container-id-2 div.sk-toggleable {background-color: white;}#sk-container-id-2 label.sk-toggleable__label {cursor: pointer;display: block;width: 100%;margin-bottom: 0;padding: 0.3em;box-sizing: border-box;text-align: center;}#sk-container-id-2 label.sk-toggleable__label-arrow:before {content: \"▸\";float: left;margin-right: 0.25em;color: #696969;}#sk-container-id-2 label.sk-toggleable__label-arrow:hover:before {color: black;}#sk-container-id-2 div.sk-estimator:hover label.sk-toggleable__label-arrow:before {color: black;}#sk-container-id-2 div.sk-toggleable__content {max-height: 0;max-width: 0;overflow: hidden;text-align: left;background-color: #f0f8ff;}#sk-container-id-2 div.sk-toggleable__content pre {margin: 0.2em;color: black;border-radius: 0.25em;background-color: #f0f8ff;}#sk-container-id-2 input.sk-toggleable__control:checked~div.sk-toggleable__content {max-height: 200px;max-width: 100%;overflow: auto;}#sk-container-id-2 input.sk-toggleable__control:checked~label.sk-toggleable__label-arrow:before {content: \"▾\";}#sk-container-id-2 div.sk-estimator input.sk-toggleable__control:checked~label.sk-toggleable__label {background-color: #d4ebff;}#sk-container-id-2 div.sk-label input.sk-toggleable__control:checked~label.sk-toggleable__label {background-color: #d4ebff;}#sk-container-id-2 input.sk-hidden--visually {border: 0;clip: rect(1px 1px 1px 1px);clip: rect(1px, 1px, 1px, 1px);height: 1px;margin: -1px;overflow: hidden;padding: 0;position: absolute;width: 1px;}#sk-container-id-2 div.sk-estimator {font-family: monospace;background-color: #f0f8ff;border: 1px dotted black;border-radius: 0.25em;box-sizing: border-box;margin-bottom: 0.5em;}#sk-container-id-2 div.sk-estimator:hover {background-color: #d4ebff;}#sk-container-id-2 div.sk-parallel-item::after {content: \"\";width: 100%;border-bottom: 1px solid gray;flex-grow: 1;}#sk-container-id-2 div.sk-label:hover label.sk-toggleable__label {background-color: #d4ebff;}#sk-container-id-2 div.sk-serial::before {content: \"\";position: absolute;border-left: 1px solid gray;box-sizing: border-box;top: 0;bottom: 0;left: 50%;z-index: 0;}#sk-container-id-2 div.sk-serial {display: flex;flex-direction: column;align-items: center;background-color: white;padding-right: 0.2em;padding-left: 0.2em;position: relative;}#sk-container-id-2 div.sk-item {position: relative;z-index: 1;}#sk-container-id-2 div.sk-parallel {display: flex;align-items: stretch;justify-content: center;background-color: white;position: relative;}#sk-container-id-2 div.sk-item::before, #sk-container-id-2 div.sk-parallel-item::before {content: \"\";position: absolute;border-left: 1px solid gray;box-sizing: border-box;top: 0;bottom: 0;left: 50%;z-index: -1;}#sk-container-id-2 div.sk-parallel-item {display: flex;flex-direction: column;z-index: 1;position: relative;background-color: white;}#sk-container-id-2 div.sk-parallel-item:first-child::after {align-self: flex-end;width: 50%;}#sk-container-id-2 div.sk-parallel-item:last-child::after {align-self: flex-start;width: 50%;}#sk-container-id-2 div.sk-parallel-item:only-child::after {width: 0;}#sk-container-id-2 div.sk-dashed-wrapped {border: 1px dashed gray;margin: 0 0.4em 0.5em 0.4em;box-sizing: border-box;padding-bottom: 0.4em;background-color: white;}#sk-container-id-2 div.sk-label label {font-family: monospace;font-weight: bold;display: inline-block;line-height: 1.2em;}#sk-container-id-2 div.sk-label-container {text-align: center;}#sk-container-id-2 div.sk-container {/* jupyter's `normalize.less` sets `[hidden] { display: none; }` but bootstrap.min.css set `[hidden] { display: none !important; }` so we also need the `!important` here to be able to override the default hidden behavior on the sphinx rendered scikit-learn.org. See: https://github.com/scikit-learn/scikit-learn/issues/21755 */display: inline-block !important;position: relative;}#sk-container-id-2 div.sk-text-repr-fallback {display: none;}</style><div id=\"sk-container-id-2\" class=\"sk-top-container\"><div class=\"sk-text-repr-fallback\"><pre>Pipeline(steps=[(&#x27;columntransformer&#x27;,\n",
       "                 ColumnTransformer(transformers=[(&#x27;ordinalencoder-1&#x27;,\n",
       "                                                  OrdinalEncoder(handle_unknown=&#x27;use_encoded_value&#x27;,\n",
       "                                                                 unknown_value=-1),\n",
       "                                                  [&#x27;sup_is_nan&#x27;]),\n",
       "                                                 (&#x27;targetencoder&#x27;,\n",
       "                                                  TargetEncoder(),\n",
       "                                                  [&#x27;id_zona&#x27;]),\n",
       "                                                 (&#x27;ordinalencoder-2&#x27;,\n",
       "                                                  OrdinalEncoder(handle_unknown=&#x27;use_encoded_value&#x27;,\n",
       "                                                                 unknown_value=-1),\n",
       "                                                  [&#x27;id_zona&#x27;]),\n",
       "                                                 (&#x27;ordinalencoder-3&#x27;,\n",
       "                                                  OrdinalEnc...\n",
       "                                                  [&#x27;SumTotalPrecipAmountLocalDayMonth1&#x27;,\n",
       "                                                   &#x27;SumTotalPrecipAmountLocalDayMonth2&#x27;,\n",
       "                                                   &#x27;SumTotalPrecipAmountLocalDayMonth3&#x27;,\n",
       "                                                   &#x27;SumTotalPrecipAmountLocalDayMonth4&#x27;,\n",
       "                                                   &#x27;SumTotalPrecipAmountLocalDayMonth5&#x27;,\n",
       "                                                   &#x27;SumTotalPrecipAmountLocalDayMonth6&#x27;])])),\n",
       "                (&#x27;randomforestregressor&#x27;,\n",
       "                 RandomForestRegressor(max_features=0.2, max_samples=0.8,\n",
       "                                       min_samples_leaf=4, n_estimators=500,\n",
       "                                       n_jobs=-1, random_state=42))])</pre><b>In a Jupyter environment, please rerun this cell to show the HTML representation or trust the notebook. <br />On GitHub, the HTML representation is unable to render, please try loading this page with nbviewer.org.</b></div><div class=\"sk-container\" hidden><div class=\"sk-item sk-dashed-wrapped\"><div class=\"sk-label-container\"><div class=\"sk-label sk-toggleable\"><input class=\"sk-toggleable__control sk-hidden--visually\" id=\"sk-estimator-id-24\" type=\"checkbox\" ><label for=\"sk-estimator-id-24\" class=\"sk-toggleable__label sk-toggleable__label-arrow\">Pipeline</label><div class=\"sk-toggleable__content\"><pre>Pipeline(steps=[(&#x27;columntransformer&#x27;,\n",
       "                 ColumnTransformer(transformers=[(&#x27;ordinalencoder-1&#x27;,\n",
       "                                                  OrdinalEncoder(handle_unknown=&#x27;use_encoded_value&#x27;,\n",
       "                                                                 unknown_value=-1),\n",
       "                                                  [&#x27;sup_is_nan&#x27;]),\n",
       "                                                 (&#x27;targetencoder&#x27;,\n",
       "                                                  TargetEncoder(),\n",
       "                                                  [&#x27;id_zona&#x27;]),\n",
       "                                                 (&#x27;ordinalencoder-2&#x27;,\n",
       "                                                  OrdinalEncoder(handle_unknown=&#x27;use_encoded_value&#x27;,\n",
       "                                                                 unknown_value=-1),\n",
       "                                                  [&#x27;id_zona&#x27;]),\n",
       "                                                 (&#x27;ordinalencoder-3&#x27;,\n",
       "                                                  OrdinalEnc...\n",
       "                                                  [&#x27;SumTotalPrecipAmountLocalDayMonth1&#x27;,\n",
       "                                                   &#x27;SumTotalPrecipAmountLocalDayMonth2&#x27;,\n",
       "                                                   &#x27;SumTotalPrecipAmountLocalDayMonth3&#x27;,\n",
       "                                                   &#x27;SumTotalPrecipAmountLocalDayMonth4&#x27;,\n",
       "                                                   &#x27;SumTotalPrecipAmountLocalDayMonth5&#x27;,\n",
       "                                                   &#x27;SumTotalPrecipAmountLocalDayMonth6&#x27;])])),\n",
       "                (&#x27;randomforestregressor&#x27;,\n",
       "                 RandomForestRegressor(max_features=0.2, max_samples=0.8,\n",
       "                                       min_samples_leaf=4, n_estimators=500,\n",
       "                                       n_jobs=-1, random_state=42))])</pre></div></div></div><div class=\"sk-serial\"><div class=\"sk-item sk-dashed-wrapped\"><div class=\"sk-label-container\"><div class=\"sk-label sk-toggleable\"><input class=\"sk-toggleable__control sk-hidden--visually\" id=\"sk-estimator-id-25\" type=\"checkbox\" ><label for=\"sk-estimator-id-25\" class=\"sk-toggleable__label sk-toggleable__label-arrow\">columntransformer: ColumnTransformer</label><div class=\"sk-toggleable__content\"><pre>ColumnTransformer(transformers=[(&#x27;ordinalencoder-1&#x27;,\n",
       "                                 OrdinalEncoder(handle_unknown=&#x27;use_encoded_value&#x27;,\n",
       "                                                unknown_value=-1),\n",
       "                                 [&#x27;sup_is_nan&#x27;]),\n",
       "                                (&#x27;targetencoder&#x27;, TargetEncoder(), [&#x27;id_zona&#x27;]),\n",
       "                                (&#x27;ordinalencoder-2&#x27;,\n",
       "                                 OrdinalEncoder(handle_unknown=&#x27;use_encoded_value&#x27;,\n",
       "                                                unknown_value=-1),\n",
       "                                 [&#x27;id_zona&#x27;]),\n",
       "                                (&#x27;ordinalencoder-3&#x27;,\n",
       "                                 OrdinalEncoder(handle_unknown=&#x27;use_encoded_valu...\n",
       "                                  &#x27;PrecipOver2StdMonth6&#x27;]),\n",
       "                                (&#x27;pipeline-2&#x27;,\n",
       "                                 Pipeline(steps=[(&#x27;standardscaler&#x27;,\n",
       "                                                  StandardScaler()),\n",
       "                                                 (&#x27;pca&#x27;,\n",
       "                                                  PCA(n_components=2,\n",
       "                                                      random_state=42))]),\n",
       "                                 [&#x27;SumTotalPrecipAmountLocalDayMonth1&#x27;,\n",
       "                                  &#x27;SumTotalPrecipAmountLocalDayMonth2&#x27;,\n",
       "                                  &#x27;SumTotalPrecipAmountLocalDayMonth3&#x27;,\n",
       "                                  &#x27;SumTotalPrecipAmountLocalDayMonth4&#x27;,\n",
       "                                  &#x27;SumTotalPrecipAmountLocalDayMonth5&#x27;,\n",
       "                                  &#x27;SumTotalPrecipAmountLocalDayMonth6&#x27;])])</pre></div></div></div><div class=\"sk-parallel\"><div class=\"sk-parallel-item\"><div class=\"sk-item\"><div class=\"sk-label-container\"><div class=\"sk-label sk-toggleable\"><input class=\"sk-toggleable__control sk-hidden--visually\" id=\"sk-estimator-id-26\" type=\"checkbox\" ><label for=\"sk-estimator-id-26\" class=\"sk-toggleable__label sk-toggleable__label-arrow\">ordinalencoder-1</label><div class=\"sk-toggleable__content\"><pre>[&#x27;sup_is_nan&#x27;]</pre></div></div></div><div class=\"sk-serial\"><div class=\"sk-item\"><div class=\"sk-estimator sk-toggleable\"><input class=\"sk-toggleable__control sk-hidden--visually\" id=\"sk-estimator-id-27\" type=\"checkbox\" ><label for=\"sk-estimator-id-27\" class=\"sk-toggleable__label sk-toggleable__label-arrow\">OrdinalEncoder</label><div class=\"sk-toggleable__content\"><pre>OrdinalEncoder(handle_unknown=&#x27;use_encoded_value&#x27;, unknown_value=-1)</pre></div></div></div></div></div></div><div class=\"sk-parallel-item\"><div class=\"sk-item\"><div class=\"sk-label-container\"><div class=\"sk-label sk-toggleable\"><input class=\"sk-toggleable__control sk-hidden--visually\" id=\"sk-estimator-id-28\" type=\"checkbox\" ><label for=\"sk-estimator-id-28\" class=\"sk-toggleable__label sk-toggleable__label-arrow\">targetencoder</label><div class=\"sk-toggleable__content\"><pre>[&#x27;id_zona&#x27;]</pre></div></div></div><div class=\"sk-serial\"><div class=\"sk-item\"><div class=\"sk-estimator sk-toggleable\"><input class=\"sk-toggleable__control sk-hidden--visually\" id=\"sk-estimator-id-29\" type=\"checkbox\" ><label for=\"sk-estimator-id-29\" class=\"sk-toggleable__label sk-toggleable__label-arrow\">TargetEncoder</label><div class=\"sk-toggleable__content\"><pre>TargetEncoder()</pre></div></div></div></div></div></div><div class=\"sk-parallel-item\"><div class=\"sk-item\"><div class=\"sk-label-container\"><div class=\"sk-label sk-toggleable\"><input class=\"sk-toggleable__control sk-hidden--visually\" id=\"sk-estimator-id-30\" type=\"checkbox\" ><label for=\"sk-estimator-id-30\" class=\"sk-toggleable__label sk-toggleable__label-arrow\">ordinalencoder-2</label><div class=\"sk-toggleable__content\"><pre>[&#x27;id_zona&#x27;]</pre></div></div></div><div class=\"sk-serial\"><div class=\"sk-item\"><div class=\"sk-estimator sk-toggleable\"><input class=\"sk-toggleable__control sk-hidden--visually\" id=\"sk-estimator-id-31\" type=\"checkbox\" ><label for=\"sk-estimator-id-31\" class=\"sk-toggleable__label sk-toggleable__label-arrow\">OrdinalEncoder</label><div class=\"sk-toggleable__content\"><pre>OrdinalEncoder(handle_unknown=&#x27;use_encoded_value&#x27;, unknown_value=-1)</pre></div></div></div></div></div></div><div class=\"sk-parallel-item\"><div class=\"sk-item\"><div class=\"sk-label-container\"><div class=\"sk-label sk-toggleable\"><input class=\"sk-toggleable__control sk-hidden--visually\" id=\"sk-estimator-id-32\" type=\"checkbox\" ><label for=\"sk-estimator-id-32\" class=\"sk-toggleable__label sk-toggleable__label-arrow\">ordinalencoder-3</label><div class=\"sk-toggleable__content\"><pre>[&#x27;variedad&#x27;]</pre></div></div></div><div class=\"sk-serial\"><div class=\"sk-item\"><div class=\"sk-estimator sk-toggleable\"><input class=\"sk-toggleable__control sk-hidden--visually\" id=\"sk-estimator-id-33\" type=\"checkbox\" ><label for=\"sk-estimator-id-33\" class=\"sk-toggleable__label sk-toggleable__label-arrow\">OrdinalEncoder</label><div class=\"sk-toggleable__content\"><pre>OrdinalEncoder(handle_unknown=&#x27;use_encoded_value&#x27;, unknown_value=-1)</pre></div></div></div></div></div></div><div class=\"sk-parallel-item\"><div class=\"sk-item\"><div class=\"sk-label-container\"><div class=\"sk-label sk-toggleable\"><input class=\"sk-toggleable__control sk-hidden--visually\" id=\"sk-estimator-id-34\" type=\"checkbox\" ><label for=\"sk-estimator-id-34\" class=\"sk-toggleable__label sk-toggleable__label-arrow\">ordinalencoder-4</label><div class=\"sk-toggleable__content\"><pre>[&#x27;modo&#x27;]</pre></div></div></div><div class=\"sk-serial\"><div class=\"sk-item\"><div class=\"sk-estimator sk-toggleable\"><input class=\"sk-toggleable__control sk-hidden--visually\" id=\"sk-estimator-id-35\" type=\"checkbox\" ><label for=\"sk-estimator-id-35\" class=\"sk-toggleable__label sk-toggleable__label-arrow\">OrdinalEncoder</label><div class=\"sk-toggleable__content\"><pre>OrdinalEncoder(handle_unknown=&#x27;use_encoded_value&#x27;, unknown_value=-1)</pre></div></div></div></div></div></div><div class=\"sk-parallel-item\"><div class=\"sk-item\"><div class=\"sk-label-container\"><div class=\"sk-label sk-toggleable\"><input class=\"sk-toggleable__control sk-hidden--visually\" id=\"sk-estimator-id-36\" type=\"checkbox\" ><label for=\"sk-estimator-id-36\" class=\"sk-toggleable__label sk-toggleable__label-arrow\">standardscaler-1</label><div class=\"sk-toggleable__content\"><pre>[&#x27;campaña&#x27;, &#x27;superficie&#x27;, &#x27;prod_shift_max&#x27;, &#x27;prod_shift_change&#x27;, &#x27;prod_shift_avg&#x27;, &#x27;prod_he_var_zone_mean_hist_total&#x27;, &#x27;prod_he_var_zone_std_hist_total&#x27;, &#x27;prod_he_var_modo_zona_mean_shift1_total&#x27;, &#x27;prod_he_var_modo_zona_change_total&#x27;]</pre></div></div></div><div class=\"sk-serial\"><div class=\"sk-item\"><div class=\"sk-estimator sk-toggleable\"><input class=\"sk-toggleable__control sk-hidden--visually\" id=\"sk-estimator-id-37\" type=\"checkbox\" ><label for=\"sk-estimator-id-37\" class=\"sk-toggleable__label sk-toggleable__label-arrow\">StandardScaler</label><div class=\"sk-toggleable__content\"><pre>StandardScaler()</pre></div></div></div></div></div></div><div class=\"sk-parallel-item\"><div class=\"sk-item\"><div class=\"sk-label-container\"><div class=\"sk-label sk-toggleable\"><input class=\"sk-toggleable__control sk-hidden--visually\" id=\"sk-estimator-id-38\" type=\"checkbox\" ><label for=\"sk-estimator-id-38\" class=\"sk-toggleable__label sk-toggleable__label-arrow\">pipeline-1</label><div class=\"sk-toggleable__content\"><pre>[&#x27;MeanTemperatureLocalAfternoonAvgMonth1&#x27;, &#x27;MeanTemperatureLocalAfternoonAvgMonth2&#x27;, &#x27;MeanTemperatureLocalAfternoonAvgMonth3&#x27;, &#x27;MeanTemperatureLocalAfternoonAvgMonth4&#x27;, &#x27;MeanTemperatureLocalAfternoonAvgMonth5&#x27;, &#x27;MeanTemperatureLocalAfternoonAvgMonth6&#x27;, &#x27;MeanTemperatureLocalOvernightAvgMonth1&#x27;, &#x27;MeanTemperatureLocalOvernightAvgMonth2&#x27;, &#x27;MeanTemperatureLocalOvernightAvgMonth3&#x27;, &#x27;MeanTemperatureLocalOvernightAvgMonth4&#x27;, &#x27;MeanTemperatureLocalOvernightAvgMonth5&#x27;, &#x27;MeanTemperatureLocalOvernightAvgMonth6&#x27;]</pre></div></div></div><div class=\"sk-serial\"><div class=\"sk-item\"><div class=\"sk-serial\"><div class=\"sk-item\"><div class=\"sk-estimator sk-toggleable\"><input class=\"sk-toggleable__control sk-hidden--visually\" id=\"sk-estimator-id-39\" type=\"checkbox\" ><label for=\"sk-estimator-id-39\" class=\"sk-toggleable__label sk-toggleable__label-arrow\">StandardScaler</label><div class=\"sk-toggleable__content\"><pre>StandardScaler()</pre></div></div></div><div class=\"sk-item\"><div class=\"sk-estimator sk-toggleable\"><input class=\"sk-toggleable__control sk-hidden--visually\" id=\"sk-estimator-id-40\" type=\"checkbox\" ><label for=\"sk-estimator-id-40\" class=\"sk-toggleable__label sk-toggleable__label-arrow\">PCA</label><div class=\"sk-toggleable__content\"><pre>PCA(n_components=3, random_state=42)</pre></div></div></div></div></div></div></div></div><div class=\"sk-parallel-item\"><div class=\"sk-item\"><div class=\"sk-label-container\"><div class=\"sk-label sk-toggleable\"><input class=\"sk-toggleable__control sk-hidden--visually\" id=\"sk-estimator-id-41\" type=\"checkbox\" ><label for=\"sk-estimator-id-41\" class=\"sk-toggleable__label sk-toggleable__label-arrow\">standardscaler-2</label><div class=\"sk-toggleable__content\"><pre>[&#x27;PrecipOver2StdMonth1&#x27;, &#x27;PrecipOver2StdMonth2&#x27;, &#x27;PrecipOver2StdMonth3&#x27;, &#x27;PrecipOver2StdMonth4&#x27;, &#x27;PrecipOver2StdMonth5&#x27;, &#x27;PrecipOver2StdMonth6&#x27;]</pre></div></div></div><div class=\"sk-serial\"><div class=\"sk-item\"><div class=\"sk-estimator sk-toggleable\"><input class=\"sk-toggleable__control sk-hidden--visually\" id=\"sk-estimator-id-42\" type=\"checkbox\" ><label for=\"sk-estimator-id-42\" class=\"sk-toggleable__label sk-toggleable__label-arrow\">StandardScaler</label><div class=\"sk-toggleable__content\"><pre>StandardScaler()</pre></div></div></div></div></div></div><div class=\"sk-parallel-item\"><div class=\"sk-item\"><div class=\"sk-label-container\"><div class=\"sk-label sk-toggleable\"><input class=\"sk-toggleable__control sk-hidden--visually\" id=\"sk-estimator-id-43\" type=\"checkbox\" ><label for=\"sk-estimator-id-43\" class=\"sk-toggleable__label sk-toggleable__label-arrow\">pipeline-2</label><div class=\"sk-toggleable__content\"><pre>[&#x27;SumTotalPrecipAmountLocalDayMonth1&#x27;, &#x27;SumTotalPrecipAmountLocalDayMonth2&#x27;, &#x27;SumTotalPrecipAmountLocalDayMonth3&#x27;, &#x27;SumTotalPrecipAmountLocalDayMonth4&#x27;, &#x27;SumTotalPrecipAmountLocalDayMonth5&#x27;, &#x27;SumTotalPrecipAmountLocalDayMonth6&#x27;]</pre></div></div></div><div class=\"sk-serial\"><div class=\"sk-item\"><div class=\"sk-serial\"><div class=\"sk-item\"><div class=\"sk-estimator sk-toggleable\"><input class=\"sk-toggleable__control sk-hidden--visually\" id=\"sk-estimator-id-44\" type=\"checkbox\" ><label for=\"sk-estimator-id-44\" class=\"sk-toggleable__label sk-toggleable__label-arrow\">StandardScaler</label><div class=\"sk-toggleable__content\"><pre>StandardScaler()</pre></div></div></div><div class=\"sk-item\"><div class=\"sk-estimator sk-toggleable\"><input class=\"sk-toggleable__control sk-hidden--visually\" id=\"sk-estimator-id-45\" type=\"checkbox\" ><label for=\"sk-estimator-id-45\" class=\"sk-toggleable__label sk-toggleable__label-arrow\">PCA</label><div class=\"sk-toggleable__content\"><pre>PCA(n_components=2, random_state=42)</pre></div></div></div></div></div></div></div></div></div></div><div class=\"sk-item\"><div class=\"sk-estimator sk-toggleable\"><input class=\"sk-toggleable__control sk-hidden--visually\" id=\"sk-estimator-id-46\" type=\"checkbox\" ><label for=\"sk-estimator-id-46\" class=\"sk-toggleable__label sk-toggleable__label-arrow\">RandomForestRegressor</label><div class=\"sk-toggleable__content\"><pre>RandomForestRegressor(max_features=0.2, max_samples=0.8, min_samples_leaf=4,\n",
       "                      n_estimators=500, n_jobs=-1, random_state=42)</pre></div></div></div></div></div></div></div>"
      ],
      "text/plain": [
       "Pipeline(steps=[('columntransformer',\n",
       "                 ColumnTransformer(transformers=[('ordinalencoder-1',\n",
       "                                                  OrdinalEncoder(handle_unknown='use_encoded_value',\n",
       "                                                                 unknown_value=-1),\n",
       "                                                  ['sup_is_nan']),\n",
       "                                                 ('targetencoder',\n",
       "                                                  TargetEncoder(),\n",
       "                                                  ['id_zona']),\n",
       "                                                 ('ordinalencoder-2',\n",
       "                                                  OrdinalEncoder(handle_unknown='use_encoded_value',\n",
       "                                                                 unknown_value=-1),\n",
       "                                                  ['id_zona']),\n",
       "                                                 ('ordinalencoder-3',\n",
       "                                                  OrdinalEnc...\n",
       "                                                  ['SumTotalPrecipAmountLocalDayMonth1',\n",
       "                                                   'SumTotalPrecipAmountLocalDayMonth2',\n",
       "                                                   'SumTotalPrecipAmountLocalDayMonth3',\n",
       "                                                   'SumTotalPrecipAmountLocalDayMonth4',\n",
       "                                                   'SumTotalPrecipAmountLocalDayMonth5',\n",
       "                                                   'SumTotalPrecipAmountLocalDayMonth6'])])),\n",
       "                ('randomforestregressor',\n",
       "                 RandomForestRegressor(max_features=0.2, max_samples=0.8,\n",
       "                                       min_samples_leaf=4, n_estimators=500,\n",
       "                                       n_jobs=-1, random_state=42))])"
      ]
     },
     "execution_count": 34,
     "metadata": {},
     "output_type": "execute_result"
    }
   ],
   "source": [
    "m.fit(X,y)"
   ]
  },
  {
   "cell_type": "code",
   "execution_count": 35,
   "metadata": {},
   "outputs": [],
   "source": [
    "preds_2022 = m.predict(x_test_2022)"
   ]
  },
  {
   "cell_type": "code",
   "execution_count": 36,
   "metadata": {},
   "outputs": [],
   "source": [
    "df_preds_22 = data_final[['id_finca', 'variedad','modo','tipo','color','superficie']].copy()\n",
    "df_preds_22['produccion'] = preds_2022\n",
    "df_preds_22 = df_preds_22.sort_values(['id_finca', 'variedad','modo','tipo','color','superficie'], ascending=True)"
   ]
  },
  {
   "cell_type": "code",
   "execution_count": 49,
   "metadata": {},
   "outputs": [
    {
     "data": {
      "image/png": "[encoded data removed]",
      "text/plain": [
       "<Figure size 720x720 with 1 Axes>"
      ]
     },
     "metadata": {
      "needs_background": "light"
     },
     "output_type": "display_data"
    }
   ],
   "source": [
    "plt.figure(figsize=(10,10))\n",
    "plt.scatter(preds_originales, df_preds_22['produccion'], alpha=0.5)\n",
    "plt.plot( [0,120000],[0,120000] )\n",
    "plt.xlabel('Originales')\n",
    "plt.ylabel('Nuevas')\n",
    "plt.title('Prediccion Local vs Under Over')\n",
    "plt.show()"
   ]
  },
  {
   "cell_type": "code",
   "execution_count": 39,
   "metadata": {},
   "outputs": [],
   "source": [
    "df_preds_22.to_csv('../../data/final/intermedia-nacional/UH2023_Universidad Complutense de Madrid (UCM)_Malbecs_1.txt', sep=\"|\", header=None, index=False)"
   ]
  },
  {
   "cell_type": "markdown",
   "metadata": {},
   "source": [
    "## Modelo original sin cambiar mucho "
   ]
  },
  {
   "cell_type": "code",
   "execution_count": 40,
   "metadata": {},
   "outputs": [],
   "source": [
    "data_train = tr.filter_camp(data.copy(), min_camp=15, max_camp=21)\n",
    "\n",
    "data_final = tr.filter_camp(data, min_camp=22, max_camp=22)\n",
    "\n",
    "train, test = tr.train_test_split(data_train, test_camp=21)\n",
    "\n",
    "X, y = tr.xy_split(data_train)\n",
    "\n",
    "cat_cols = [\n",
    "    'id_finca',\n",
    "    'id_zona',\n",
    "    'id_estacion',\n",
    "    'variedad',\n",
    "    \"modo\",\n",
    "    \"tipo\",\n",
    "    \"color\",\n",
    "    \"prod_shift1_gt_shift2\",\n",
    "    \"sup_is_nan\",\n",
    "]\n",
    "num_cols = [col for col in X.columns if col not in cat_cols]\n",
    "\n",
    "X[cat_cols] = X[cat_cols].astype('category')\n",
    "\n",
    "X_train, y_train = tr.xy_split(train)\n",
    "X_test, y_test = tr.xy_split(test)\n",
    "X_final, y_final = tr.xy_split(data_final)\n",
    "\n",
    "train_idxs, test_idxs = tr.CampKFold.get_train_test(\n",
    "    X['campaña'], from_camp=19, to_camp=21\n",
    ")\n",
    "\n",
    "cv = tr.CampKFold(train_idxs, test_idxs)\n"
   ]
  },
  {
   "cell_type": "code",
   "execution_count": 41,
   "metadata": {},
   "outputs": [],
   "source": [
    "n_fincas = X['id_finca'].nunique()\n",
    "top_fincas = X.id_finca.value_counts()[:int(0.8*n_fincas)].index.values.tolist()\n",
    "X['id_finca_top'] = X['id_finca'].apply(lambda x: x if x in top_fincas else -1)\n",
    "\n",
    "n_zonas = X['id_zona'].nunique()\n",
    "top_zonas = X['id_zona'].value_counts()[:int(0.8*n_zonas)].index.values.tolist()\n",
    "X['id_zona_top'] = X['id_zona'].apply(lambda x: x if x in top_zonas else -1)\n",
    "\n",
    "n_var = X['variedad'].nunique()\n",
    "top_variedad= X['variedad'].value_counts()[:int(0.8*n_var)].index.values.tolist()\n",
    "X['variedad_top'] = X['variedad'].apply(\n",
    "    lambda x: x if x in top_variedad else -1)\n"
   ]
  },
  {
   "cell_type": "code",
   "execution_count": 42,
   "metadata": {},
   "outputs": [],
   "source": [
    "percip_cols = [c for c in eto_cols if \"Precip\" in c]\n",
    "snow_cols = [c for c in eto_cols if \"Snow\" in c]"
   ]
  },
  {
   "cell_type": "code",
   "execution_count": 43,
   "metadata": {},
   "outputs": [],
   "source": [
    "from sklearn.linear_model import LinearRegression, Lasso, Ridge, ElasticNet, HuberRegressor\n",
    "from sklearn.preprocessing import RobustScaler, StandardScaler\n",
    "from sklearn.compose import make_column_transformer\n",
    "from sklearn.ensemble import RandomForestRegressor\n",
    "from sklearn.pipeline import make_pipeline\n",
    "from sklearn.preprocessing import KBinsDiscretizer, OrdinalEncoder, StandardScaler\n",
    "import pickle as pkl\n",
    "from typing import List\n",
    "import malbecs.modeling.transformers as mt\n",
    "from sklearn.decomposition import PCA\n",
    "\n",
    "seed = 42\n",
    "\n",
    "def get_base_model_v2():\n",
    "\n",
    "    model_num_cols = [\n",
    "        'superficie',\n",
    "        'prod_shift_max',\n",
    "        'prod_shift_change',\n",
    "        'prod_shift_avg',\n",
    "    ]\n",
    "\n",
    "    m = make_pipeline(\n",
    "        make_column_transformer(\n",
    "\n",
    "            (mt.BaseNEncoder(), ['id_finca']),\n",
    "\n",
    "            (mt.TargetEncoder(), ['id_zona']),\n",
    "\n",
    "            (OrdinalEncoder(handle_unknown='use_encoded_value',\n",
    "             unknown_value=-1), ['id_estacion']),\n",
    "\n",
    "            (mt.BaseNEncoder(), ['variedad']),\n",
    "\n",
    "            (OrdinalEncoder(handle_unknown='use_encoded_value',\n",
    "             unknown_value=-1), ['modo']),\n",
    "\n",
    "            (KBinsDiscretizer(n_bins=2), ['altitud']),\n",
    "\n",
    "            (StandardScaler(), model_num_cols),\n",
    "\n",
    "            (make_pipeline(StandardScaler(),PCA(n_components=2, random_state=seed)),[c for c in percip_cols if 'Sum' in c]),\n",
    "            \n",
    "            (StandardScaler(),[c for c in snow_cols if 'Sum' in c and (\"1\" in c or \"2\" in c)]),\n",
    "\n",
    "            remainder='drop'\n",
    "        ),\n",
    "        RandomForestRegressor(\n",
    "            random_state=seed,\n",
    "            n_estimators=200,\n",
    "            min_samples_leaf=4,\n",
    "            n_jobs=-1,\n",
    "            max_features='sqrt',\n",
    "            max_samples=0.8\n",
    "        )\n",
    "    )\n",
    "    return m\n"
   ]
  },
  {
   "cell_type": "code",
   "execution_count": 44,
   "metadata": {},
   "outputs": [
    {
     "name": "stdout",
     "output_type": "stream",
     "text": [
      "train:  [-4762.75172392 -4546.54217991 -4609.76228565]\n",
      "test:  [-4828.66303666 -6695.44632565 -5414.76235157]\n",
      "Train Mean RMSE: -4639.685396494778\n",
      "Test Mean RMSE: -5646.290571291902\n"
     ]
    }
   ],
   "source": [
    "from sklearn.model_selection import cross_validate\n",
    "import numpy as np\n",
    "\n",
    "m_nuevo = get_base_model_v2()\n",
    "res = cross_validate(\n",
    "    estimator=m_nuevo,\n",
    "    X=X,\n",
    "    y=y,\n",
    "    cv=cv,\n",
    "    n_jobs=-1,\n",
    "    scoring=tr.rmse_scorer,\n",
    "    return_train_score=True,\n",
    "    return_estimator=True,\n",
    "    fit_params={\n",
    "        # \"randomforestregressor__sample_weight\": sample_weight\n",
    "        # \"stackingregressor__sample_weight\": sample_weight\n",
    "    }\n",
    ")\n",
    "\n",
    "\n",
    "print(\"train: \", res['train_score'])\n",
    "print(\"test: \", res['test_score'])\n",
    "print(f\"Train Mean RMSE: {np.mean(res.get('train_score'))}\")\n",
    "print(f\"Test Mean RMSE: {np.mean(res.get('test_score'))}\")"
   ]
  },
  {
   "cell_type": "markdown",
   "metadata": {},
   "source": [
    "Ajustamos para 2022"
   ]
  },
  {
   "cell_type": "code",
   "execution_count": 45,
   "metadata": {},
   "outputs": [],
   "source": [
    "x_test_v2 = data_final.drop(columns=['produccion'])"
   ]
  },
  {
   "cell_type": "code",
   "execution_count": 46,
   "metadata": {},
   "outputs": [],
   "source": [
    "m_nuevo = get_base_model_v2()\n",
    "m_nuevo.fit(X,y)\n",
    "preds_nuevas = m_nuevo.predict(x_test_v2)"
   ]
  },
  {
   "cell_type": "code",
   "execution_count": 47,
   "metadata": {},
   "outputs": [],
   "source": [
    "preds_final_v2 = data_final[['id_finca', 'variedad','modo','tipo','color','superficie']].copy()\n",
    "preds_final_v2['produccion'] = preds_nuevas\n",
    "preds_final_v2 = preds_final_v2.sort_values(['id_finca', 'variedad','modo','tipo','color','superficie'], ascending=True)"
   ]
  },
  {
   "cell_type": "code",
   "execution_count": 51,
   "metadata": {},
   "outputs": [
    {
     "data": {
      "image/png": "[encoded data removed]",
      "text/plain": [
       "<Figure size 720x720 with 1 Axes>"
      ]
     },
     "metadata": {
      "needs_background": "light"
     },
     "output_type": "display_data"
    }
   ],
   "source": [
    "plt.figure(figsize=(10,10))\n",
    "plt.scatter(preds_originales, preds_final_v2['produccion'], alpha=0.5)\n",
    "plt.plot( [0,120000],[0,120000] )\n",
    "plt.xlabel('Originales')\n",
    "plt.ylabel('Nuevas')\n",
    "plt.title('Prediccion Local vs Intento Original + PCAs')\n",
    "plt.show()"
   ]
  },
  {
   "cell_type": "code",
   "execution_count": 52,
   "metadata": {},
   "outputs": [
    {
     "data": {
      "text/html": [
       "<div>\n",
       "<style scoped>\n",
       "    .dataframe tbody tr th:only-of-type {\n",
       "        vertical-align: middle;\n",
       "    }\n",
       "\n",
       "    .dataframe tbody tr th {\n",
       "        vertical-align: top;\n",
       "    }\n",
       "\n",
       "    .dataframe thead th {\n",
       "        text-align: right;\n",
       "    }\n",
       "</style>\n",
       "<table border=\"1\" class=\"dataframe\">\n",
       "  <thead>\n",
       "    <tr style=\"text-align: right;\">\n",
       "      <th></th>\n",
       "      <th>id_finca</th>\n",
       "      <th>variedad</th>\n",
       "      <th>modo</th>\n",
       "      <th>tipo</th>\n",
       "      <th>color</th>\n",
       "      <th>superficie</th>\n",
       "      <th>produccion</th>\n",
       "    </tr>\n",
       "  </thead>\n",
       "  <tbody>\n",
       "    <tr>\n",
       "      <th>9041</th>\n",
       "      <td>439</td>\n",
       "      <td>9</td>\n",
       "      <td>2</td>\n",
       "      <td>0</td>\n",
       "      <td>0</td>\n",
       "      <td>1.0800</td>\n",
       "      <td>3620.716053</td>\n",
       "    </tr>\n",
       "    <tr>\n",
       "      <th>9022</th>\n",
       "      <td>447</td>\n",
       "      <td>40</td>\n",
       "      <td>2</td>\n",
       "      <td>0</td>\n",
       "      <td>1</td>\n",
       "      <td>0.4694</td>\n",
       "      <td>2525.368637</td>\n",
       "    </tr>\n",
       "    <tr>\n",
       "      <th>8718</th>\n",
       "      <td>523</td>\n",
       "      <td>32</td>\n",
       "      <td>2</td>\n",
       "      <td>0</td>\n",
       "      <td>1</td>\n",
       "      <td>0.6478</td>\n",
       "      <td>2086.596596</td>\n",
       "    </tr>\n",
       "    <tr>\n",
       "      <th>9249</th>\n",
       "      <td>702</td>\n",
       "      <td>59</td>\n",
       "      <td>2</td>\n",
       "      <td>0</td>\n",
       "      <td>1</td>\n",
       "      <td>1.1331</td>\n",
       "      <td>7758.320964</td>\n",
       "    </tr>\n",
       "    <tr>\n",
       "      <th>9305</th>\n",
       "      <td>797</td>\n",
       "      <td>59</td>\n",
       "      <td>1</td>\n",
       "      <td>0</td>\n",
       "      <td>1</td>\n",
       "      <td>7.5143</td>\n",
       "      <td>11859.437809</td>\n",
       "    </tr>\n",
       "    <tr>\n",
       "      <th>...</th>\n",
       "      <td>...</td>\n",
       "      <td>...</td>\n",
       "      <td>...</td>\n",
       "      <td>...</td>\n",
       "      <td>...</td>\n",
       "      <td>...</td>\n",
       "      <td>...</td>\n",
       "    </tr>\n",
       "    <tr>\n",
       "      <th>9223</th>\n",
       "      <td>99282</td>\n",
       "      <td>59</td>\n",
       "      <td>2</td>\n",
       "      <td>0</td>\n",
       "      <td>1</td>\n",
       "      <td>1.6244</td>\n",
       "      <td>7654.657389</td>\n",
       "    </tr>\n",
       "    <tr>\n",
       "      <th>9099</th>\n",
       "      <td>99377</td>\n",
       "      <td>52</td>\n",
       "      <td>2</td>\n",
       "      <td>0</td>\n",
       "      <td>1</td>\n",
       "      <td>0.6500</td>\n",
       "      <td>2559.978122</td>\n",
       "    </tr>\n",
       "    <tr>\n",
       "      <th>9507</th>\n",
       "      <td>99693</td>\n",
       "      <td>81</td>\n",
       "      <td>1</td>\n",
       "      <td>0</td>\n",
       "      <td>1</td>\n",
       "      <td>6.3397</td>\n",
       "      <td>28861.280945</td>\n",
       "    </tr>\n",
       "    <tr>\n",
       "      <th>8556</th>\n",
       "      <td>99793</td>\n",
       "      <td>52</td>\n",
       "      <td>2</td>\n",
       "      <td>0</td>\n",
       "      <td>1</td>\n",
       "      <td>0.1326</td>\n",
       "      <td>3874.175085</td>\n",
       "    </tr>\n",
       "    <tr>\n",
       "      <th>8555</th>\n",
       "      <td>99793</td>\n",
       "      <td>87</td>\n",
       "      <td>2</td>\n",
       "      <td>0</td>\n",
       "      <td>0</td>\n",
       "      <td>0.0189</td>\n",
       "      <td>3499.367476</td>\n",
       "    </tr>\n",
       "  </tbody>\n",
       "</table>\n",
       "<p>1075 rows × 7 columns</p>\n",
       "</div>"
      ],
      "text/plain": [
       "      id_finca  variedad  modo  tipo  color  superficie    produccion\n",
       "9041       439         9     2     0      0      1.0800   3620.716053\n",
       "9022       447        40     2     0      1      0.4694   2525.368637\n",
       "8718       523        32     2     0      1      0.6478   2086.596596\n",
       "9249       702        59     2     0      1      1.1331   7758.320964\n",
       "9305       797        59     1     0      1      7.5143  11859.437809\n",
       "...        ...       ...   ...   ...    ...         ...           ...\n",
       "9223     99282        59     2     0      1      1.6244   7654.657389\n",
       "9099     99377        52     2     0      1      0.6500   2559.978122\n",
       "9507     99693        81     1     0      1      6.3397  28861.280945\n",
       "8556     99793        52     2     0      1      0.1326   3874.175085\n",
       "8555     99793        87     2     0      0      0.0189   3499.367476\n",
       "\n",
       "[1075 rows x 7 columns]"
      ]
     },
     "execution_count": 52,
     "metadata": {},
     "output_type": "execute_result"
    }
   ],
   "source": [
    "preds_final_v2"
   ]
  },
  {
   "cell_type": "code",
   "execution_count": 53,
   "metadata": {},
   "outputs": [],
   "source": [
    "preds_final_v2.to_csv('../../data/final/intermedia-nacional/UH2023_Universidad Complutense de Madrid (UCM)_Malbecs_2.txt', sep=\"|\", header=None, index=False)"
   ]
  }
 ],
 "metadata": {
  "kernelspec": {
   "display_name": "base",
   "language": "python",
   "name": "python3"
  },
  "language_info": {
   "codemirror_mode": {
    "name": "ipython",
    "version": 3
   },
   "file_extension": ".py",
   "mimetype": "text/x-python",
   "name": "python",
   "nbconvert_exporter": "python",
   "pygments_lexer": "ipython3",
   "version": "3.9.13"
  },
  "orig_nbformat": 4
 },
 "nbformat": 4,
 "nbformat_minor": 2
}
