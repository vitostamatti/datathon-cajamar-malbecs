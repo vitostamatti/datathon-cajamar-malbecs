{
 "cells": [
  {
   "cell_type": "markdown",
   "id": "80be0b60-30e6-4d19-9ae1-8e586ac77a74",
   "metadata": {},
   "source": [
    "## Importamos librerias"
   ]
  },
  {
   "cell_type": "code",
   "execution_count": null,
   "id": "3e3dd853",
   "metadata": {},
   "outputs": [],
   "source": []
  },
  {
   "cell_type": "code",
   "execution_count": null,
   "id": "4fc5e0eb-941e-49b8-96f5-4f58d58506e5",
   "metadata": {},
   "outputs": [],
   "source": [
    "#EDA\n",
    "import pandas as pd\n",
    "pd.options.display.float_format = '{:.2f}'.format\n",
    "pd.set_option('display.max_colwidth', None)\n",
    "pd.set_option('display.max_columns', None)  \n",
    "\n",
    "# gol\n",
    "\n",
    "import numpy as np\n",
    "import warnings\n",
    "warnings.filterwarnings('ignore')\n",
    "\n",
    "#Data viz\n",
    "import matplotlib.pyplot as plt\n",
    "import seaborn as sns\n",
    "import plotly.express as px\n",
    "color_pal = sns.color_palette()\n",
    "plt.style.use('fivethirtyeight')\n",
    "\n",
    "#Modelos\n",
    "import sklearn as sk\n",
    "from sklearn.preprocessing import LabelEncoder\n",
    "from sklearn.ensemble import RandomForestRegressor\n",
    "from sklearn.model_selection import KFold, ShuffleSplit, LeaveOneOut, StratifiedKFold\n",
    "from sklearn.model_selection import cross_val_score, cross_val_predict\n",
    "from sklearn.model_selection import train_test_split\n",
    "\n",
    "from sklearn.preprocessing import PowerTransformer\n",
    "from sklearn.compose import ColumnTransformer\n",
    "from sklearn.preprocessing import OneHotEncoder, LabelEncoder, OrdinalEncoder\n",
    "from sklearn.impute import KNNImputer\n",
    "from sklearn.pipeline import make_pipeline\n",
    "from sklearn.metrics import mean_squared_error\n",
    "\n",
    "from xgboost import XGBRegressor\n",
    "\n",
    "#Resultados\n",
    "import shap"
   ]
  },
  {
   "cell_type": "markdown",
   "id": "a8839277-b4af-441b-8c9e-6653ac43b5d5",
   "metadata": {},
   "source": [
    "- CAMPAÑA: Año de la campaña.\n",
    "- ID_FINCA: Identificador de finca.\n",
    "- ID_ZONA: Identificador de una zona con una tipología de suelo común\n",
    "- ID_ESTACION: Identificador de estación meteorológica.\n",
    "- ALTITUD: Altitud media de la finca sobre el nivel del mar en metros.\n",
    "- VARIEDAD: Código de variedad de la uva que se cultiva en la finca.\n",
    "- MODO: Código del modo de cultivo.\n",
    "- TIPO: Tipo de cultivo dentro de la variedad.\n",
    "- COLOR: Identificador del color de la uva.\n",
    "- SUPERFICIE: Superficie en hectáreas que ocupa la finca.\n",
    "- PRODUCCION: Producción en kg. Obtenida en la campaña."
   ]
  },
  {
   "cell_type": "markdown",
   "id": "a83809d9-a25e-42f5-b670-0e23c52464bf",
   "metadata": {},
   "source": [
    "## Lectura de datos"
   ]
  },
  {
   "cell_type": "code",
   "execution_count": null,
   "id": "af68e9c9-23d4-4268-8b0b-bf6235366f83",
   "metadata": {},
   "outputs": [],
   "source": [
    "df = pd.read_csv('C:/Users/denis/OneDrive/Escritorio/Datathon/datos/UH_2023_TRAIN.txt', sep= '|', header=0 )"
   ]
  },
  {
   "cell_type": "code",
   "execution_count": null,
   "id": "b80c18e3-c265-41bf-b63c-26c5e51a35f4",
   "metadata": {},
   "outputs": [],
   "source": [
    "df.columns = [col.lower().replace('-','_') for col in df.columns]"
   ]
  },
  {
   "cell_type": "code",
   "execution_count": null,
   "id": "95ab5e9f-bc5d-494b-8952-d007be815d92",
   "metadata": {},
   "outputs": [],
   "source": [
    "print(f'Número de filas: {df.shape[0]}, Número de columnas:{df.shape[1]}')\n",
    "print(f'\\nCantidad de duplicados: {df.duplicated().sum()}\\n')\n",
    "print('-------- Tipos de columnas --------')\n",
    "print(df.dtypes)\n",
    "print('\\n -------- Cantidad de nulos --------')\n",
    "df.isna().sum()"
   ]
  },
  {
   "cell_type": "markdown",
   "id": "949a1c5f-addf-413d-bda4-f1d3abed0487",
   "metadata": {},
   "source": [
    "## Transformaciones"
   ]
  },
  {
   "cell_type": "markdown",
   "id": "dae60007-6f37-4170-938c-0284b497b14f",
   "metadata": {},
   "source": [
    "**Altitud**"
   ]
  },
  {
   "cell_type": "code",
   "execution_count": null,
   "id": "772ed1ee-a8b0-45ef-aba9-55bf9be95b9d",
   "metadata": {},
   "outputs": [],
   "source": [
    "def transform_altitud(alt):\n",
    "    if type(alt) is str:\n",
    "        alt_list = alt.split(\"-\")\n",
    "        alt_list = list(map(float, alt_list))\n",
    "        return np.mean(alt_list) \n",
    "    return alt"
   ]
  },
  {
   "cell_type": "code",
   "execution_count": null,
   "id": "98b793f9-44c6-4ed6-8604-e9cba3e517f2",
   "metadata": {},
   "outputs": [],
   "source": [
    "df['altitud'] = df['altitud'].apply(lambda alt: transform_altitud(alt))"
   ]
  },
  {
   "cell_type": "code",
   "execution_count": null,
   "id": "c1908765-81bf-4d91-a911-8fc039209cb3",
   "metadata": {},
   "outputs": [],
   "source": [
    "df.describe()"
   ]
  },
  {
   "cell_type": "markdown",
   "id": "df140fa6-395d-48c5-b96e-a58c12073512",
   "metadata": {},
   "source": [
    "### Agrupacion de valores\n",
    "\n",
    "Recategorizar aquellas columnas con muchos valores.\n",
    "\n",
    "- Variedad\n",
    "- Finca\n",
    "- Altitud\n",
    "- Zona\n",
    "\n",
    "Hacerlo para **train**"
   ]
  },
  {
   "cell_type": "code",
   "execution_count": null,
   "id": "b432c09a-102b-4b52-a9d2-4275092d1b6a",
   "metadata": {},
   "outputs": [],
   "source": [
    "df.nunique(axis=0)"
   ]
  },
  {
   "cell_type": "markdown",
   "id": "c8ebc940-243e-4676-b9db-6e4113248dbe",
   "metadata": {},
   "source": [
    "Separamos parte del dataset que utilizamos para imputaciones y nuevas features\n",
    "\n",
    "- 2022 lo usamos para imputar, pero a la hora del modelo lo sacamos porque no tiene el Target\n",
    "- Para los modelos usamos 2021 como Test, entonces lo sacamos ahora para las transformaciones para no hacer leakage -> Transf df\n",
    "- Luego podemos hacer backtesting con 2020, tomando 2021."
   ]
  },
  {
   "cell_type": "markdown",
   "id": "74fef059-e0fb-4434-a0dd-008464729e33",
   "metadata": {},
   "source": [
    "Separamos 2021 arafue"
   ]
  },
  {
   "cell_type": "code",
   "execution_count": null,
   "id": "0bd00ffd-1be5-433e-b36d-2ca7cefa2073",
   "metadata": {},
   "outputs": [],
   "source": [
    "transf = df[df.campaña != 21]"
   ]
  },
  {
   "cell_type": "code",
   "execution_count": null,
   "id": "8530851d-2954-487f-9c95-2b3c9e8ac285",
   "metadata": {},
   "outputs": [],
   "source": [
    "transf.isna().sum()"
   ]
  },
  {
   "cell_type": "markdown",
   "id": "1e245cd8-74d6-4b92-8952-7d3ed3a8f00a",
   "metadata": {},
   "source": [
    "**Variedad**"
   ]
  },
  {
   "cell_type": "code",
   "execution_count": null,
   "id": "9bfbdc82-3a56-4fec-9f83-0bcc8ccd17ec",
   "metadata": {},
   "outputs": [],
   "source": [
    "sns.scatterplot(data=df, x='produccion',y='variedad')\n",
    "plt.show()"
   ]
  },
  {
   "cell_type": "code",
   "execution_count": null,
   "id": "f237ce2d-93eb-4e11-a2d3-c3a5360a6ab3",
   "metadata": {},
   "outputs": [],
   "source": [
    "mayores = pd.DataFrame(transf.groupby('variedad')['produccion'].mean() > transf.produccion.mean())\n",
    "mayores = list(mayores[mayores['produccion']].index)\n",
    "df['variedad_alta'] = [1 if x in mayores else 0 for x in df.variedad]"
   ]
  },
  {
   "cell_type": "code",
   "execution_count": null,
   "id": "b436b4c7-dba9-4183-93c7-0d65f66638f6",
   "metadata": {},
   "outputs": [],
   "source": [
    "df['variedad_alta'].value_counts()"
   ]
  },
  {
   "cell_type": "markdown",
   "id": "8871b22c-9a83-4fe3-9597-7a9a2707d91c",
   "metadata": {},
   "source": [
    "**Altitud**"
   ]
  },
  {
   "cell_type": "code",
   "execution_count": null,
   "id": "2f753409-11c9-47ba-8a4d-4c4af5615061",
   "metadata": {},
   "outputs": [],
   "source": [
    "sns.scatterplot(data=df, x='produccion',y='altitud')\n",
    "plt.show()"
   ]
  },
  {
   "cell_type": "markdown",
   "id": "e270a0e0-55f0-46eb-8e31-3d41dc5d0a70",
   "metadata": {},
   "source": [
    "Arreglamos NAs"
   ]
  },
  {
   "cell_type": "code",
   "execution_count": null,
   "id": "15971466-f2d4-484e-a313-65e1bfe1a3c7",
   "metadata": {},
   "outputs": [],
   "source": [
    "altitudes = pd.DataFrame(transf.groupby('id_estacion')['altitud'].mean()).reset_index() #Creamos DF con media de altura por estacion\n",
    "\n",
    "df = df.merge(altitudes, how='left', on = 'id_estacion') #Joineamos con el df transformado\n",
    "df['altitud'] = df.altitud_x.fillna(df.altitud_y) #Le pegamos la nueva altitud a los que tengan NA en la original\n",
    "df = df.drop(columns=['altitud_x','altitud_y']) #Borramos columnas innecesarias\n",
    "df.head()"
   ]
  },
  {
   "cell_type": "markdown",
   "id": "bc629706-0707-47f5-b4a0-eb26aeb480d7",
   "metadata": {},
   "source": [
    "Altitud > media"
   ]
  },
  {
   "cell_type": "code",
   "execution_count": null,
   "id": "f0f790f9-088c-45b5-9587-f46b91aa7488",
   "metadata": {},
   "outputs": [],
   "source": [
    "mayores_altitud = pd.DataFrame(transf.groupby('altitud')['produccion'].mean() > transf.produccion.mean())\n",
    "mayores_altitud = list(mayores_altitud[mayores_altitud['produccion']].index)\n",
    "df['altitud_alta'] = [1 if x in mayores_altitud else 0 for x in df.altitud]"
   ]
  },
  {
   "cell_type": "code",
   "execution_count": null,
   "id": "6948b6e7-0f55-4cb5-b4c7-852d1be7fa12",
   "metadata": {},
   "outputs": [],
   "source": [
    "df['altitud_alta'].value_counts()"
   ]
  },
  {
   "cell_type": "markdown",
   "id": "e8d6593c-45fb-458e-8b3f-290fb4cbe26f",
   "metadata": {},
   "source": [
    "**id_finca**"
   ]
  },
  {
   "cell_type": "markdown",
   "id": "ca5f5683-6f72-476a-9558-33fe93983bce",
   "metadata": {},
   "source": [
    "Calculamos percentiles y agregamos columna al df transf"
   ]
  },
  {
   "cell_type": "code",
   "execution_count": null,
   "id": "c91d125c-240d-435b-bb19-d410bc2253d2",
   "metadata": {},
   "outputs": [],
   "source": [
    "fincas_prod = pd.DataFrame(transf.groupby('id_finca')['produccion'].mean()).reset_index()"
   ]
  },
  {
   "cell_type": "code",
   "execution_count": null,
   "id": "b661f668-fb05-49bf-a3d2-fab7f6652db8",
   "metadata": {},
   "outputs": [],
   "source": [
    "Q1 = fincas_prod.produccion.quantile(0.25)\n",
    "Q2 = fincas_prod.produccion.quantile(0.5)\n",
    "Q3 = fincas_prod.produccion.quantile(0.75)\n",
    "\n",
    "Q1,Q2,Q3"
   ]
  },
  {
   "cell_type": "code",
   "execution_count": null,
   "id": "1df6b642-a830-4240-a68f-811245b5c74c",
   "metadata": {},
   "outputs": [],
   "source": [
    "fincas_prod['fincas_percentiles'] = [0 if x < Q1 else 1 if x < Q2 else 2 if x < Q3 else 3 for x in fincas_prod.produccion]"
   ]
  },
  {
   "cell_type": "code",
   "execution_count": null,
   "id": "cda1b0a0-1d2e-47dc-b2aa-ff236aabb9c0",
   "metadata": {},
   "outputs": [],
   "source": [
    "df = df.merge(fincas_prod[['id_finca','fincas_percentiles']], how='left', on = 'id_finca') #Joineamos con el df transformado"
   ]
  },
  {
   "cell_type": "code",
   "execution_count": null,
   "id": "f93dc8a3-b871-43a2-8de4-d0cf2899ca6e",
   "metadata": {},
   "outputs": [],
   "source": [
    "df.fincas_percentiles.value_counts()"
   ]
  },
  {
   "cell_type": "markdown",
   "id": "7eb4a725-51da-4e9e-9c49-700eb443e133",
   "metadata": {},
   "source": [
    "**id_zona**\n",
    "\n",
    "Misma metodologia"
   ]
  },
  {
   "cell_type": "code",
   "execution_count": null,
   "id": "ef3e5cb7-0db8-4a60-b388-5bd85318958f",
   "metadata": {},
   "outputs": [],
   "source": [
    "zonas_prod = pd.DataFrame(transf.groupby('id_zona')['produccion'].mean()).reset_index()"
   ]
  },
  {
   "cell_type": "code",
   "execution_count": null,
   "id": "3871174c-fde2-4a73-9b8a-068aecc8014e",
   "metadata": {},
   "outputs": [],
   "source": [
    "Q1 = zonas_prod.produccion.quantile(0.25)\n",
    "Q2 = zonas_prod.produccion.quantile(0.5)\n",
    "Q3 = zonas_prod.produccion.quantile(0.75)\n",
    "\n",
    "Q1,Q2,Q3"
   ]
  },
  {
   "cell_type": "code",
   "execution_count": null,
   "id": "b725360b-2265-4f3e-8cda-2e581b13a396",
   "metadata": {},
   "outputs": [],
   "source": [
    "zonas_prod['zonas_percentiles'] = [0 if x < Q1 else 1 if x < Q2 else 2 if x < Q3 else 3 for x in zonas_prod.produccion]"
   ]
  },
  {
   "cell_type": "code",
   "execution_count": null,
   "id": "7e54538c-f1cd-41d2-9720-65c2d596cc6d",
   "metadata": {},
   "outputs": [],
   "source": [
    "df = df.merge(zonas_prod[['id_zona','zonas_percentiles']], how='left', on = 'id_zona') #Joineamos con el df transformado"
   ]
  },
  {
   "cell_type": "code",
   "execution_count": null,
   "id": "bf8c0074-5e1e-48f5-8b03-7f208e61182d",
   "metadata": {},
   "outputs": [],
   "source": [
    "df.zonas_percentiles.value_counts()"
   ]
  },
  {
   "cell_type": "markdown",
   "id": "fa5583bf-0830-44ef-90ec-9d30d3782097",
   "metadata": {},
   "source": [
    "### Imputar NAs para superficie\n",
    "\n",
    "- No usamos 2021 pues leakage, pero si usamos 2022"
   ]
  },
  {
   "cell_type": "code",
   "execution_count": null,
   "id": "5422144b-874d-4151-a25b-f179985932c6",
   "metadata": {},
   "outputs": [],
   "source": [
    "df['superficie'] = df['superficie'].replace(0, np.nan)\n",
    "transf['superficie'] = transf['superficie'].replace(0, np.nan)"
   ]
  },
  {
   "cell_type": "code",
   "execution_count": null,
   "id": "5721a31d-358b-4558-944f-3364c4583335",
   "metadata": {},
   "outputs": [],
   "source": [
    "df.superficie.isna().sum()"
   ]
  },
  {
   "cell_type": "code",
   "execution_count": null,
   "id": "08638b74-a028-466a-b313-0d00513628a1",
   "metadata": {},
   "outputs": [],
   "source": [
    "df.superficie.isna().groupby(df.campaña).sum()"
   ]
  },
  {
   "cell_type": "markdown",
   "id": "31d07d81-b726-4e04-a8b9-26507b31a648",
   "metadata": {},
   "source": [
    "Vamos cubriendo los NAs segun por menor a mayor jerarquia"
   ]
  },
  {
   "cell_type": "code",
   "execution_count": null,
   "id": "0fff068d",
   "metadata": {},
   "outputs": [],
   "source": [
    "df['superficie'] = df.groupby(['id_finca','variedad','modo'])['superficie'].transform(lambda x: x.fillna(x.mean()))\n",
    "df['superficie'] = df.groupby(['id_zona','variedad','modo'])['superficie'].transform(lambda x: x.fillna(x.mean()))\n",
    "df['superficie'] = df.groupby(['id_estacion','variedad','modo'])['superficie'].transform(lambda x: x.fillna(x.mean()))\n",
    "df['superficie'] = df.groupby(['variedad','modo'])['superficie'].transform(lambda x: x.fillna(x.mean()))\n",
    "df['superficie'] = df.groupby(['variedad'])['superficie'].transform(lambda x: x.fillna(x.mean()))\n",
    "\n",
    "df.superficie.isna().sum()"
   ]
  },
  {
   "cell_type": "markdown",
   "id": "365278f8-f400-429a-9f61-3e135cdc4d9b",
   "metadata": {},
   "source": [
    "Nos quedan 4 NAs en fincas_percentiles, hacemos fillna promedio"
   ]
  },
  {
   "cell_type": "code",
   "execution_count": null,
   "id": "2e034684-cb20-419a-a4ea-16ffdeb73fc2",
   "metadata": {},
   "outputs": [],
   "source": [
    "df['fincas_percentiles'] = df.fincas_percentiles.fillna(fincas_prod.fincas_percentiles.mean())"
   ]
  },
  {
   "cell_type": "code",
   "execution_count": null,
   "id": "162a3b6d-b3e5-4f58-999c-f6516bec08da",
   "metadata": {},
   "outputs": [],
   "source": [
    "df.isna().sum()"
   ]
  },
  {
   "cell_type": "code",
   "execution_count": 64,
   "id": "762dbcd8",
   "metadata": {},
   "outputs": [
    {
     "data": {
      "text/html": [
       "<div>\n",
       "<style scoped>\n",
       "    .dataframe tbody tr th:only-of-type {\n",
       "        vertical-align: middle;\n",
       "    }\n",
       "\n",
       "    .dataframe tbody tr th {\n",
       "        vertical-align: top;\n",
       "    }\n",
       "\n",
       "    .dataframe thead th {\n",
       "        text-align: right;\n",
       "    }\n",
       "</style>\n",
       "<table border=\"1\" class=\"dataframe\">\n",
       "  <thead>\n",
       "    <tr style=\"text-align: right;\">\n",
       "      <th></th>\n",
       "      <th>campaña</th>\n",
       "      <th>id_finca</th>\n",
       "      <th>id_zona</th>\n",
       "      <th>id_estacion</th>\n",
       "      <th>variedad</th>\n",
       "      <th>modo</th>\n",
       "      <th>tipo</th>\n",
       "      <th>color</th>\n",
       "      <th>superficie</th>\n",
       "      <th>produccion</th>\n",
       "      <th>variedad_alta</th>\n",
       "      <th>altitud</th>\n",
       "      <th>altitud_alta</th>\n",
       "      <th>fincas_percentiles</th>\n",
       "      <th>zonas_percentiles</th>\n",
       "    </tr>\n",
       "  </thead>\n",
       "  <tbody>\n",
       "    <tr>\n",
       "      <th>0</th>\n",
       "      <td>14</td>\n",
       "      <td>76953</td>\n",
       "      <td>515</td>\n",
       "      <td>4</td>\n",
       "      <td>26</td>\n",
       "      <td>2</td>\n",
       "      <td>0</td>\n",
       "      <td>1</td>\n",
       "      <td>2.64</td>\n",
       "      <td>22215.00</td>\n",
       "      <td>1</td>\n",
       "      <td>660.00</td>\n",
       "      <td>0</td>\n",
       "      <td>3.00</td>\n",
       "      <td>3</td>\n",
       "    </tr>\n",
       "    <tr>\n",
       "      <th>1</th>\n",
       "      <td>14</td>\n",
       "      <td>84318</td>\n",
       "      <td>515</td>\n",
       "      <td>4</td>\n",
       "      <td>26</td>\n",
       "      <td>2</td>\n",
       "      <td>0</td>\n",
       "      <td>1</td>\n",
       "      <td>2.64</td>\n",
       "      <td>22215.00</td>\n",
       "      <td>1</td>\n",
       "      <td>660.00</td>\n",
       "      <td>0</td>\n",
       "      <td>3.00</td>\n",
       "      <td>3</td>\n",
       "    </tr>\n",
       "    <tr>\n",
       "      <th>2</th>\n",
       "      <td>14</td>\n",
       "      <td>85579</td>\n",
       "      <td>340</td>\n",
       "      <td>4</td>\n",
       "      <td>32</td>\n",
       "      <td>2</td>\n",
       "      <td>0</td>\n",
       "      <td>1</td>\n",
       "      <td>2.91</td>\n",
       "      <td>20978.00</td>\n",
       "      <td>1</td>\n",
       "      <td>520.00</td>\n",
       "      <td>1</td>\n",
       "      <td>3.00</td>\n",
       "      <td>3</td>\n",
       "    </tr>\n",
       "    <tr>\n",
       "      <th>3</th>\n",
       "      <td>14</td>\n",
       "      <td>69671</td>\n",
       "      <td>340</td>\n",
       "      <td>4</td>\n",
       "      <td>32</td>\n",
       "      <td>2</td>\n",
       "      <td>0</td>\n",
       "      <td>1</td>\n",
       "      <td>2.91</td>\n",
       "      <td>40722.00</td>\n",
       "      <td>1</td>\n",
       "      <td>520.00</td>\n",
       "      <td>1</td>\n",
       "      <td>3.00</td>\n",
       "      <td>3</td>\n",
       "    </tr>\n",
       "    <tr>\n",
       "      <th>4</th>\n",
       "      <td>14</td>\n",
       "      <td>14001</td>\n",
       "      <td>852</td>\n",
       "      <td>14</td>\n",
       "      <td>81</td>\n",
       "      <td>1</td>\n",
       "      <td>0</td>\n",
       "      <td>1</td>\n",
       "      <td>2.82</td>\n",
       "      <td>14126.00</td>\n",
       "      <td>0</td>\n",
       "      <td>658.75</td>\n",
       "      <td>0</td>\n",
       "      <td>3.00</td>\n",
       "      <td>1</td>\n",
       "    </tr>\n",
       "  </tbody>\n",
       "</table>\n",
       "</div>"
      ],
      "text/plain": [
       "   campaña  id_finca  id_zona  id_estacion  variedad  modo  tipo  color  \\\n",
       "0       14     76953      515            4        26     2     0      1   \n",
       "1       14     84318      515            4        26     2     0      1   \n",
       "2       14     85579      340            4        32     2     0      1   \n",
       "3       14     69671      340            4        32     2     0      1   \n",
       "4       14     14001      852           14        81     1     0      1   \n",
       "\n",
       "   superficie  produccion  variedad_alta  altitud  altitud_alta  \\\n",
       "0        2.64    22215.00              1   660.00             0   \n",
       "1        2.64    22215.00              1   660.00             0   \n",
       "2        2.91    20978.00              1   520.00             1   \n",
       "3        2.91    40722.00              1   520.00             1   \n",
       "4        2.82    14126.00              0   658.75             0   \n",
       "\n",
       "   fincas_percentiles  zonas_percentiles  \n",
       "0                3.00                  3  \n",
       "1                3.00                  3  \n",
       "2                3.00                  3  \n",
       "3                3.00                  3  \n",
       "4                3.00                  1  "
      ]
     },
     "execution_count": 64,
     "metadata": {},
     "output_type": "execute_result"
    }
   ],
   "source": [
    "df.head()"
   ]
  },
  {
   "cell_type": "markdown",
   "id": "8c0f8ee7-24cc-4816-8790-5b21bc97ad44",
   "metadata": {},
   "source": [
    "## Separamos train\n",
    "\n",
    "- Sacamos 2022 y llamamos df_models al que le haremos split train y test\n",
    "- El train contiene data desde el inicio hasta 2020\n",
    "- El test, 2021"
   ]
  },
  {
   "cell_type": "code",
   "execution_count": 91,
   "id": "84783269-7a21-4cf7-9e62-34a2df69f0ee",
   "metadata": {},
   "outputs": [],
   "source": [
    "df_models = df[df.campaña < 22]"
   ]
  },
  {
   "cell_type": "code",
   "execution_count": 92,
   "id": "965ed528-2e9b-4879-aa69-2aae17aadb36",
   "metadata": {},
   "outputs": [
    {
     "data": {
      "text/plain": [
       "(8526, 15)"
      ]
     },
     "execution_count": 92,
     "metadata": {},
     "output_type": "execute_result"
    }
   ],
   "source": [
    "df_models.shape"
   ]
  },
  {
   "cell_type": "code",
   "execution_count": 93,
   "id": "ae4762bd-7e24-45e8-a8bf-a6ed97578cfc",
   "metadata": {},
   "outputs": [
    {
     "data": {
      "text/plain": [
       "campaña               0\n",
       "id_finca              0\n",
       "id_zona               0\n",
       "id_estacion           0\n",
       "variedad              0\n",
       "modo                  0\n",
       "tipo                  0\n",
       "color                 0\n",
       "superficie            0\n",
       "produccion            0\n",
       "variedad_alta         0\n",
       "altitud               0\n",
       "altitud_alta          0\n",
       "fincas_percentiles    0\n",
       "zonas_percentiles     0\n",
       "dtype: int64"
      ]
     },
     "execution_count": 93,
     "metadata": {},
     "output_type": "execute_result"
    }
   ],
   "source": [
    "df_models.isna().sum()"
   ]
  },
  {
   "cell_type": "code",
   "execution_count": 94,
   "id": "6b364c11-1afa-4477-9d1c-838d2048c4dd",
   "metadata": {},
   "outputs": [
    {
     "data": {
      "text/html": [
       "<div>\n",
       "<style scoped>\n",
       "    .dataframe tbody tr th:only-of-type {\n",
       "        vertical-align: middle;\n",
       "    }\n",
       "\n",
       "    .dataframe tbody tr th {\n",
       "        vertical-align: top;\n",
       "    }\n",
       "\n",
       "    .dataframe thead th {\n",
       "        text-align: right;\n",
       "    }\n",
       "</style>\n",
       "<table border=\"1\" class=\"dataframe\">\n",
       "  <thead>\n",
       "    <tr style=\"text-align: right;\">\n",
       "      <th></th>\n",
       "      <th>campaña</th>\n",
       "      <th>id_finca</th>\n",
       "      <th>id_zona</th>\n",
       "      <th>id_estacion</th>\n",
       "      <th>variedad</th>\n",
       "      <th>modo</th>\n",
       "      <th>tipo</th>\n",
       "      <th>color</th>\n",
       "      <th>superficie</th>\n",
       "      <th>produccion</th>\n",
       "      <th>variedad_alta</th>\n",
       "      <th>altitud</th>\n",
       "      <th>altitud_alta</th>\n",
       "      <th>fincas_percentiles</th>\n",
       "      <th>zonas_percentiles</th>\n",
       "    </tr>\n",
       "  </thead>\n",
       "  <tbody>\n",
       "    <tr>\n",
       "      <th>0</th>\n",
       "      <td>14</td>\n",
       "      <td>911</td>\n",
       "      <td>67</td>\n",
       "      <td>4</td>\n",
       "      <td>7</td>\n",
       "      <td>1</td>\n",
       "      <td>0</td>\n",
       "      <td>1</td>\n",
       "      <td>2.64</td>\n",
       "      <td>22215.00</td>\n",
       "      <td>1</td>\n",
       "      <td>660.00</td>\n",
       "      <td>0</td>\n",
       "      <td>3.00</td>\n",
       "      <td>3</td>\n",
       "    </tr>\n",
       "    <tr>\n",
       "      <th>1</th>\n",
       "      <td>14</td>\n",
       "      <td>993</td>\n",
       "      <td>67</td>\n",
       "      <td>4</td>\n",
       "      <td>7</td>\n",
       "      <td>1</td>\n",
       "      <td>0</td>\n",
       "      <td>1</td>\n",
       "      <td>2.64</td>\n",
       "      <td>22215.00</td>\n",
       "      <td>1</td>\n",
       "      <td>660.00</td>\n",
       "      <td>0</td>\n",
       "      <td>3.00</td>\n",
       "      <td>3</td>\n",
       "    </tr>\n",
       "    <tr>\n",
       "      <th>2</th>\n",
       "      <td>14</td>\n",
       "      <td>1014</td>\n",
       "      <td>39</td>\n",
       "      <td>4</td>\n",
       "      <td>8</td>\n",
       "      <td>1</td>\n",
       "      <td>0</td>\n",
       "      <td>1</td>\n",
       "      <td>2.91</td>\n",
       "      <td>20978.00</td>\n",
       "      <td>1</td>\n",
       "      <td>520.00</td>\n",
       "      <td>1</td>\n",
       "      <td>3.00</td>\n",
       "      <td>3</td>\n",
       "    </tr>\n",
       "    <tr>\n",
       "      <th>3</th>\n",
       "      <td>14</td>\n",
       "      <td>815</td>\n",
       "      <td>39</td>\n",
       "      <td>4</td>\n",
       "      <td>8</td>\n",
       "      <td>1</td>\n",
       "      <td>0</td>\n",
       "      <td>1</td>\n",
       "      <td>2.91</td>\n",
       "      <td>40722.00</td>\n",
       "      <td>1</td>\n",
       "      <td>520.00</td>\n",
       "      <td>1</td>\n",
       "      <td>3.00</td>\n",
       "      <td>3</td>\n",
       "    </tr>\n",
       "    <tr>\n",
       "      <th>4</th>\n",
       "      <td>14</td>\n",
       "      <td>171</td>\n",
       "      <td>107</td>\n",
       "      <td>14</td>\n",
       "      <td>20</td>\n",
       "      <td>0</td>\n",
       "      <td>0</td>\n",
       "      <td>1</td>\n",
       "      <td>2.82</td>\n",
       "      <td>14126.00</td>\n",
       "      <td>0</td>\n",
       "      <td>658.75</td>\n",
       "      <td>0</td>\n",
       "      <td>3.00</td>\n",
       "      <td>1</td>\n",
       "    </tr>\n",
       "  </tbody>\n",
       "</table>\n",
       "</div>"
      ],
      "text/plain": [
       "   campaña  id_finca  id_zona  id_estacion  variedad  modo  tipo  color  \\\n",
       "0       14       911       67            4         7     1     0      1   \n",
       "1       14       993       67            4         7     1     0      1   \n",
       "2       14      1014       39            4         8     1     0      1   \n",
       "3       14       815       39            4         8     1     0      1   \n",
       "4       14       171      107           14        20     0     0      1   \n",
       "\n",
       "   superficie  produccion  variedad_alta  altitud  altitud_alta  \\\n",
       "0        2.64    22215.00              1   660.00             0   \n",
       "1        2.64    22215.00              1   660.00             0   \n",
       "2        2.91    20978.00              1   520.00             1   \n",
       "3        2.91    40722.00              1   520.00             1   \n",
       "4        2.82    14126.00              0   658.75             0   \n",
       "\n",
       "   fincas_percentiles  zonas_percentiles  \n",
       "0                3.00                  3  \n",
       "1                3.00                  3  \n",
       "2                3.00                  3  \n",
       "3                3.00                  3  \n",
       "4                3.00                  1  "
      ]
     },
     "execution_count": 94,
     "metadata": {},
     "output_type": "execute_result"
    }
   ],
   "source": [
    "cat_cols = ['id_finca', 'id_zona', 'id_estacion','variedad','modo','tipo','color']\n",
    "\n",
    "label_encoder = LabelEncoder()\n",
    "\n",
    "for var in cat_cols:\n",
    "    df_models[var] = label_encoder.fit_transform(df_models[var])\n",
    "\n",
    "df_models.head()"
   ]
  },
  {
   "cell_type": "code",
   "execution_count": 95,
   "id": "0379e403-655a-4767-84f3-90b3f71e6f89",
   "metadata": {},
   "outputs": [],
   "source": [
    "target = 'produccion'\n",
    "\n",
    "X = df_models.loc[:, df_models.columns != target]\n",
    "y = df_models[target]\n",
    "\n",
    "X_train = X.iloc[:len(df_models[df_models['campaña']<21]),:]\n",
    "X_test = X.iloc[len(df_models[df_models['campaña']<21]):,:]\n",
    "y_train = y.iloc[:len(df_models[df_models['campaña']<21])]\n",
    "y_test = y.iloc[len(df_models[df_models['campaña']<21]):]"
   ]
  },
  {
   "cell_type": "code",
   "execution_count": 96,
   "id": "58b42e54-f3e3-4100-807e-be525c5a4968",
   "metadata": {},
   "outputs": [
    {
     "data": {
      "text/plain": [
       "((7482, 14), (1044, 14), (7482,), (1044,))"
      ]
     },
     "execution_count": 96,
     "metadata": {},
     "output_type": "execute_result"
    }
   ],
   "source": [
    "X_train.shape, X_test.shape, y_train.shape, y_test.shape"
   ]
  },
  {
   "cell_type": "markdown",
   "id": "cff5f603-1236-4759-84a3-3127b460e504",
   "metadata": {},
   "source": [
    "## Modelos"
   ]
  },
  {
   "cell_type": "markdown",
   "id": "0d5c7af4-34ae-4e05-b2d8-be495c199c76",
   "metadata": {},
   "source": [
    "### Solo data train"
   ]
  },
  {
   "cell_type": "code",
   "execution_count": 98,
   "id": "651aee63-7a0b-4a4a-9563-40a19faa54c3",
   "metadata": {},
   "outputs": [
    {
     "name": "stdout",
     "output_type": "stream",
     "text": [
      "5982.76444536286\n",
      "Wall time: 821 ms\n"
     ]
    }
   ],
   "source": [
    "%%time \n",
    "\n",
    "#Modelo\n",
    "xgb = XGBRegressor(random_state=99)\n",
    "\n",
    "#Entrenamiento\n",
    "xgb.fit(X_train, y_train)\n",
    "\n",
    "#Predicciones\n",
    "prediction = xgb.predict(X_test)\n",
    "\n",
    "#Resultados\n",
    "mse = mean_squared_error(y_test, prediction)\n",
    "print(np.sqrt(mse))"
   ]
  },
  {
   "cell_type": "code",
   "execution_count": 99,
   "id": "140f844f-abda-4f8b-a07a-e4764d389e3d",
   "metadata": {},
   "outputs": [
    {
     "data": {
      "image/png": "[encoded data removed]",
      "text/plain": [
       "<Figure size 360x720 with 1 Axes>"
      ]
     },
     "metadata": {
      "needs_background": "light"
     },
     "output_type": "display_data"
    }
   ],
   "source": [
    "plt.figure(figsize=(5,10))\n",
    "\n",
    "sorted_idx = xgb.feature_importances_.argsort()\n",
    "plt.barh(y=X.columns[sorted_idx],width=xgb.feature_importances_[sorted_idx])\n",
    "plt.xlabel(\"XGB Feature Importance\")\n",
    "plt.show()"
   ]
  },
  {
   "cell_type": "markdown",
   "id": "87ceade0-c045-4e82-a114-818357e0e3f4",
   "metadata": {},
   "source": [
    "### Cruzada con ETO"
   ]
  },
  {
   "cell_type": "code",
   "execution_count": 100,
   "id": "1826ec9b-7931-4433-a271-941089e017ca",
   "metadata": {},
   "outputs": [
    {
     "data": {
      "text/html": [
       "<div>\n",
       "<style scoped>\n",
       "    .dataframe tbody tr th:only-of-type {\n",
       "        vertical-align: middle;\n",
       "    }\n",
       "\n",
       "    .dataframe tbody tr th {\n",
       "        vertical-align: top;\n",
       "    }\n",
       "\n",
       "    .dataframe thead th {\n",
       "        text-align: right;\n",
       "    }\n",
       "</style>\n",
       "<table border=\"1\" class=\"dataframe\">\n",
       "  <thead>\n",
       "    <tr style=\"text-align: right;\">\n",
       "      <th></th>\n",
       "      <th>ID_ESTACION</th>\n",
       "      <th>GustLocalDayAvg_1</th>\n",
       "      <th>GustLocalDayAvg_2</th>\n",
       "      <th>GustLocalDayAvg_3</th>\n",
       "      <th>GustLocalDayAvg_4</th>\n",
       "      <th>GustLocalDayAvg_5</th>\n",
       "      <th>GustLocalDayAvg_6</th>\n",
       "      <th>MSLPLocalDayAvg_1</th>\n",
       "      <th>MSLPLocalDayAvg_2</th>\n",
       "      <th>MSLPLocalDayAvg_3</th>\n",
       "      <th>MSLPLocalDayAvg_4</th>\n",
       "      <th>MSLPLocalDayAvg_5</th>\n",
       "      <th>MSLPLocalDayAvg_6</th>\n",
       "      <th>RelativeHumidityLocalDayAvg_1</th>\n",
       "      <th>RelativeHumidityLocalDayAvg_2</th>\n",
       "      <th>RelativeHumidityLocalDayAvg_3</th>\n",
       "      <th>RelativeHumidityLocalDayAvg_4</th>\n",
       "      <th>RelativeHumidityLocalDayAvg_5</th>\n",
       "      <th>RelativeHumidityLocalDayAvg_6</th>\n",
       "      <th>UVIndexLocalDayAvg_1</th>\n",
       "      <th>UVIndexLocalDayAvg_2</th>\n",
       "      <th>UVIndexLocalDayAvg_3</th>\n",
       "      <th>UVIndexLocalDayAvg_4</th>\n",
       "      <th>UVIndexLocalDayAvg_5</th>\n",
       "      <th>UVIndexLocalDayAvg_6</th>\n",
       "      <th>VisibilityLocalDayAvg_1</th>\n",
       "      <th>VisibilityLocalDayAvg_2</th>\n",
       "      <th>VisibilityLocalDayAvg_3</th>\n",
       "      <th>VisibilityLocalDayAvg_4</th>\n",
       "      <th>VisibilityLocalDayAvg_5</th>\n",
       "      <th>VisibilityLocalDayAvg_6</th>\n",
       "      <th>WindSpeedLocalDayAvg_1</th>\n",
       "      <th>WindSpeedLocalDayAvg_2</th>\n",
       "      <th>WindSpeedLocalDayAvg_3</th>\n",
       "      <th>WindSpeedLocalDayAvg_4</th>\n",
       "      <th>WindSpeedLocalDayAvg_5</th>\n",
       "      <th>WindSpeedLocalDayAvg_6</th>\n",
       "      <th>lluvia_daytime_avg_1</th>\n",
       "      <th>lluvia_daytime_avg_2</th>\n",
       "      <th>lluvia_daytime_avg_3</th>\n",
       "      <th>lluvia_daytime_avg_4</th>\n",
       "      <th>lluvia_daytime_avg_5</th>\n",
       "      <th>lluvia_daytime_avg_6</th>\n",
       "      <th>lluvia_night_avg_1</th>\n",
       "      <th>lluvia_night_avg_2</th>\n",
       "      <th>lluvia_night_avg_3</th>\n",
       "      <th>lluvia_night_avg_4</th>\n",
       "      <th>lluvia_night_avg_5</th>\n",
       "      <th>lluvia_night_avg_6</th>\n",
       "      <th>nieve_daytime_Avg_1</th>\n",
       "      <th>nieve_daytime_Avg_2</th>\n",
       "      <th>nieve_daytime_Avg_3</th>\n",
       "      <th>nieve_daytime_Avg_4</th>\n",
       "      <th>nieve_daytime_Avg_5</th>\n",
       "      <th>nieve_daytime_Avg_6</th>\n",
       "      <th>nieve_night_Avg_1</th>\n",
       "      <th>nieve_night_Avg_2</th>\n",
       "      <th>nieve_night_Avg_3</th>\n",
       "      <th>nieve_night_Avg_4</th>\n",
       "      <th>nieve_night_Avg_5</th>\n",
       "      <th>nieve_night_Avg_6</th>\n",
       "      <th>campaña</th>\n",
       "    </tr>\n",
       "  </thead>\n",
       "  <tbody>\n",
       "    <tr>\n",
       "      <th>0</th>\n",
       "      <td>0</td>\n",
       "      <td>8.73</td>\n",
       "      <td>8.81</td>\n",
       "      <td>8.41</td>\n",
       "      <td>8.09</td>\n",
       "      <td>8.11</td>\n",
       "      <td>5.90</td>\n",
       "      <td>102201.83</td>\n",
       "      <td>102146.62</td>\n",
       "      <td>101755.81</td>\n",
       "      <td>101428.21</td>\n",
       "      <td>101617.30</td>\n",
       "      <td>101532.45</td>\n",
       "      <td>67.64</td>\n",
       "      <td>66.56</td>\n",
       "      <td>68.41</td>\n",
       "      <td>70.65</td>\n",
       "      <td>61.86</td>\n",
       "      <td>42.60</td>\n",
       "      <td>0.40</td>\n",
       "      <td>0.62</td>\n",
       "      <td>1.04</td>\n",
       "      <td>1.54</td>\n",
       "      <td>2.13</td>\n",
       "      <td>1.45</td>\n",
       "      <td>12703.95</td>\n",
       "      <td>12566.77</td>\n",
       "      <td>12205.02</td>\n",
       "      <td>12427.89</td>\n",
       "      <td>13459.72</td>\n",
       "      <td>16093.00</td>\n",
       "      <td>2.80</td>\n",
       "      <td>2.68</td>\n",
       "      <td>3.10</td>\n",
       "      <td>2.66</td>\n",
       "      <td>2.34</td>\n",
       "      <td>3.35</td>\n",
       "      <td>40.80</td>\n",
       "      <td>12.51</td>\n",
       "      <td>55.03</td>\n",
       "      <td>45.26</td>\n",
       "      <td>20.23</td>\n",
       "      <td>0.00</td>\n",
       "      <td>33.60</td>\n",
       "      <td>9.94</td>\n",
       "      <td>41.66</td>\n",
       "      <td>54.51</td>\n",
       "      <td>11.83</td>\n",
       "      <td>0.00</td>\n",
       "      <td>0.02</td>\n",
       "      <td>0.01</td>\n",
       "      <td>0.00</td>\n",
       "      <td>0.00</td>\n",
       "      <td>0.00</td>\n",
       "      <td>0.00</td>\n",
       "      <td>0.02</td>\n",
       "      <td>0.00</td>\n",
       "      <td>0.00</td>\n",
       "      <td>0.00</td>\n",
       "      <td>0.00</td>\n",
       "      <td>0.00</td>\n",
       "      <td>15</td>\n",
       "    </tr>\n",
       "    <tr>\n",
       "      <th>1</th>\n",
       "      <td>1</td>\n",
       "      <td>9.46</td>\n",
       "      <td>8.96</td>\n",
       "      <td>8.78</td>\n",
       "      <td>8.50</td>\n",
       "      <td>8.58</td>\n",
       "      <td>6.25</td>\n",
       "      <td>102234.06</td>\n",
       "      <td>102167.03</td>\n",
       "      <td>101762.08</td>\n",
       "      <td>101431.50</td>\n",
       "      <td>101629.07</td>\n",
       "      <td>101553.19</td>\n",
       "      <td>72.75</td>\n",
       "      <td>69.21</td>\n",
       "      <td>69.56</td>\n",
       "      <td>70.14</td>\n",
       "      <td>59.82</td>\n",
       "      <td>36.65</td>\n",
       "      <td>0.40</td>\n",
       "      <td>0.63</td>\n",
       "      <td>1.04</td>\n",
       "      <td>1.55</td>\n",
       "      <td>2.14</td>\n",
       "      <td>1.60</td>\n",
       "      <td>12317.72</td>\n",
       "      <td>12307.27</td>\n",
       "      <td>12143.72</td>\n",
       "      <td>12397.98</td>\n",
       "      <td>13268.26</td>\n",
       "      <td>16093.00</td>\n",
       "      <td>3.81</td>\n",
       "      <td>3.63</td>\n",
       "      <td>4.09</td>\n",
       "      <td>3.53</td>\n",
       "      <td>3.13</td>\n",
       "      <td>3.85</td>\n",
       "      <td>25.54</td>\n",
       "      <td>11.31</td>\n",
       "      <td>42.86</td>\n",
       "      <td>44.23</td>\n",
       "      <td>23.66</td>\n",
       "      <td>0.00</td>\n",
       "      <td>16.63</td>\n",
       "      <td>10.11</td>\n",
       "      <td>35.83</td>\n",
       "      <td>51.94</td>\n",
       "      <td>24.51</td>\n",
       "      <td>0.00</td>\n",
       "      <td>0.06</td>\n",
       "      <td>0.01</td>\n",
       "      <td>0.00</td>\n",
       "      <td>0.00</td>\n",
       "      <td>0.00</td>\n",
       "      <td>0.00</td>\n",
       "      <td>0.03</td>\n",
       "      <td>0.00</td>\n",
       "      <td>0.00</td>\n",
       "      <td>0.00</td>\n",
       "      <td>0.00</td>\n",
       "      <td>0.00</td>\n",
       "      <td>15</td>\n",
       "    </tr>\n",
       "    <tr>\n",
       "      <th>2</th>\n",
       "      <td>2</td>\n",
       "      <td>9.01</td>\n",
       "      <td>8.94</td>\n",
       "      <td>8.49</td>\n",
       "      <td>8.27</td>\n",
       "      <td>8.05</td>\n",
       "      <td>0.00</td>\n",
       "      <td>102230.35</td>\n",
       "      <td>102165.75</td>\n",
       "      <td>101763.44</td>\n",
       "      <td>101439.95</td>\n",
       "      <td>101615.43</td>\n",
       "      <td>101532.84</td>\n",
       "      <td>69.86</td>\n",
       "      <td>66.95</td>\n",
       "      <td>67.13</td>\n",
       "      <td>68.15</td>\n",
       "      <td>59.89</td>\n",
       "      <td>41.05</td>\n",
       "      <td>0.42</td>\n",
       "      <td>0.64</td>\n",
       "      <td>1.07</td>\n",
       "      <td>1.58</td>\n",
       "      <td>2.17</td>\n",
       "      <td>1.50</td>\n",
       "      <td>12708.40</td>\n",
       "      <td>12722.14</td>\n",
       "      <td>12670.05</td>\n",
       "      <td>12872.93</td>\n",
       "      <td>13692.44</td>\n",
       "      <td>16093.00</td>\n",
       "      <td>2.97</td>\n",
       "      <td>2.84</td>\n",
       "      <td>3.23</td>\n",
       "      <td>2.88</td>\n",
       "      <td>2.62</td>\n",
       "      <td>3.35</td>\n",
       "      <td>20.74</td>\n",
       "      <td>5.14</td>\n",
       "      <td>43.03</td>\n",
       "      <td>38.91</td>\n",
       "      <td>14.06</td>\n",
       "      <td>0.00</td>\n",
       "      <td>19.20</td>\n",
       "      <td>3.43</td>\n",
       "      <td>31.20</td>\n",
       "      <td>46.11</td>\n",
       "      <td>17.66</td>\n",
       "      <td>0.00</td>\n",
       "      <td>0.01</td>\n",
       "      <td>0.00</td>\n",
       "      <td>0.00</td>\n",
       "      <td>0.00</td>\n",
       "      <td>0.00</td>\n",
       "      <td>0.00</td>\n",
       "      <td>0.00</td>\n",
       "      <td>0.00</td>\n",
       "      <td>0.00</td>\n",
       "      <td>0.00</td>\n",
       "      <td>0.00</td>\n",
       "      <td>0.00</td>\n",
       "      <td>15</td>\n",
       "    </tr>\n",
       "    <tr>\n",
       "      <th>3</th>\n",
       "      <td>3</td>\n",
       "      <td>9.29</td>\n",
       "      <td>9.06</td>\n",
       "      <td>8.66</td>\n",
       "      <td>8.48</td>\n",
       "      <td>8.16</td>\n",
       "      <td>6.30</td>\n",
       "      <td>102213.03</td>\n",
       "      <td>102157.90</td>\n",
       "      <td>101758.68</td>\n",
       "      <td>101429.61</td>\n",
       "      <td>101625.83</td>\n",
       "      <td>101547.07</td>\n",
       "      <td>71.02</td>\n",
       "      <td>69.21</td>\n",
       "      <td>70.03</td>\n",
       "      <td>71.44</td>\n",
       "      <td>62.10</td>\n",
       "      <td>38.90</td>\n",
       "      <td>0.40</td>\n",
       "      <td>0.62</td>\n",
       "      <td>1.04</td>\n",
       "      <td>1.54</td>\n",
       "      <td>2.14</td>\n",
       "      <td>1.50</td>\n",
       "      <td>12500.75</td>\n",
       "      <td>12391.16</td>\n",
       "      <td>12075.28</td>\n",
       "      <td>12384.46</td>\n",
       "      <td>13293.40</td>\n",
       "      <td>16093.00</td>\n",
       "      <td>3.61</td>\n",
       "      <td>3.43</td>\n",
       "      <td>3.89</td>\n",
       "      <td>3.33</td>\n",
       "      <td>2.91</td>\n",
       "      <td>3.65</td>\n",
       "      <td>31.54</td>\n",
       "      <td>8.74</td>\n",
       "      <td>44.74</td>\n",
       "      <td>35.49</td>\n",
       "      <td>16.97</td>\n",
       "      <td>0.00</td>\n",
       "      <td>25.89</td>\n",
       "      <td>8.23</td>\n",
       "      <td>38.06</td>\n",
       "      <td>43.03</td>\n",
       "      <td>16.11</td>\n",
       "      <td>0.00</td>\n",
       "      <td>0.06</td>\n",
       "      <td>0.00</td>\n",
       "      <td>0.00</td>\n",
       "      <td>0.00</td>\n",
       "      <td>0.00</td>\n",
       "      <td>0.00</td>\n",
       "      <td>0.02</td>\n",
       "      <td>0.00</td>\n",
       "      <td>0.00</td>\n",
       "      <td>0.00</td>\n",
       "      <td>0.00</td>\n",
       "      <td>0.00</td>\n",
       "      <td>15</td>\n",
       "    </tr>\n",
       "    <tr>\n",
       "      <th>4</th>\n",
       "      <td>4</td>\n",
       "      <td>9.37</td>\n",
       "      <td>9.01</td>\n",
       "      <td>8.65</td>\n",
       "      <td>8.43</td>\n",
       "      <td>8.25</td>\n",
       "      <td>6.00</td>\n",
       "      <td>102229.53</td>\n",
       "      <td>102164.91</td>\n",
       "      <td>101770.68</td>\n",
       "      <td>101446.43</td>\n",
       "      <td>101620.98</td>\n",
       "      <td>101541.87</td>\n",
       "      <td>70.35</td>\n",
       "      <td>67.81</td>\n",
       "      <td>68.13</td>\n",
       "      <td>68.75</td>\n",
       "      <td>59.33</td>\n",
       "      <td>37.10</td>\n",
       "      <td>0.41</td>\n",
       "      <td>0.63</td>\n",
       "      <td>1.06</td>\n",
       "      <td>1.56</td>\n",
       "      <td>2.15</td>\n",
       "      <td>1.50</td>\n",
       "      <td>12605.38</td>\n",
       "      <td>12518.67</td>\n",
       "      <td>12333.94</td>\n",
       "      <td>12669.56</td>\n",
       "      <td>13506.27</td>\n",
       "      <td>16093.00</td>\n",
       "      <td>3.79</td>\n",
       "      <td>3.57</td>\n",
       "      <td>4.05</td>\n",
       "      <td>3.50</td>\n",
       "      <td>3.06</td>\n",
       "      <td>3.85</td>\n",
       "      <td>22.80</td>\n",
       "      <td>7.54</td>\n",
       "      <td>45.26</td>\n",
       "      <td>37.37</td>\n",
       "      <td>12.00</td>\n",
       "      <td>0.00</td>\n",
       "      <td>18.51</td>\n",
       "      <td>8.91</td>\n",
       "      <td>37.54</td>\n",
       "      <td>43.54</td>\n",
       "      <td>23.83</td>\n",
       "      <td>0.00</td>\n",
       "      <td>0.03</td>\n",
       "      <td>0.00</td>\n",
       "      <td>0.00</td>\n",
       "      <td>0.00</td>\n",
       "      <td>0.00</td>\n",
       "      <td>0.00</td>\n",
       "      <td>0.01</td>\n",
       "      <td>0.00</td>\n",
       "      <td>0.00</td>\n",
       "      <td>0.00</td>\n",
       "      <td>0.00</td>\n",
       "      <td>0.00</td>\n",
       "      <td>15</td>\n",
       "    </tr>\n",
       "  </tbody>\n",
       "</table>\n",
       "</div>"
      ],
      "text/plain": [
       "   ID_ESTACION  GustLocalDayAvg_1  GustLocalDayAvg_2  GustLocalDayAvg_3  \\\n",
       "0            0               8.73               8.81               8.41   \n",
       "1            1               9.46               8.96               8.78   \n",
       "2            2               9.01               8.94               8.49   \n",
       "3            3               9.29               9.06               8.66   \n",
       "4            4               9.37               9.01               8.65   \n",
       "\n",
       "   GustLocalDayAvg_4  GustLocalDayAvg_5  GustLocalDayAvg_6  MSLPLocalDayAvg_1  \\\n",
       "0               8.09               8.11               5.90          102201.83   \n",
       "1               8.50               8.58               6.25          102234.06   \n",
       "2               8.27               8.05               0.00          102230.35   \n",
       "3               8.48               8.16               6.30          102213.03   \n",
       "4               8.43               8.25               6.00          102229.53   \n",
       "\n",
       "   MSLPLocalDayAvg_2  MSLPLocalDayAvg_3  MSLPLocalDayAvg_4  MSLPLocalDayAvg_5  \\\n",
       "0          102146.62          101755.81          101428.21          101617.30   \n",
       "1          102167.03          101762.08          101431.50          101629.07   \n",
       "2          102165.75          101763.44          101439.95          101615.43   \n",
       "3          102157.90          101758.68          101429.61          101625.83   \n",
       "4          102164.91          101770.68          101446.43          101620.98   \n",
       "\n",
       "   MSLPLocalDayAvg_6  RelativeHumidityLocalDayAvg_1  \\\n",
       "0          101532.45                          67.64   \n",
       "1          101553.19                          72.75   \n",
       "2          101532.84                          69.86   \n",
       "3          101547.07                          71.02   \n",
       "4          101541.87                          70.35   \n",
       "\n",
       "   RelativeHumidityLocalDayAvg_2  RelativeHumidityLocalDayAvg_3  \\\n",
       "0                          66.56                          68.41   \n",
       "1                          69.21                          69.56   \n",
       "2                          66.95                          67.13   \n",
       "3                          69.21                          70.03   \n",
       "4                          67.81                          68.13   \n",
       "\n",
       "   RelativeHumidityLocalDayAvg_4  RelativeHumidityLocalDayAvg_5  \\\n",
       "0                          70.65                          61.86   \n",
       "1                          70.14                          59.82   \n",
       "2                          68.15                          59.89   \n",
       "3                          71.44                          62.10   \n",
       "4                          68.75                          59.33   \n",
       "\n",
       "   RelativeHumidityLocalDayAvg_6  UVIndexLocalDayAvg_1  UVIndexLocalDayAvg_2  \\\n",
       "0                          42.60                  0.40                  0.62   \n",
       "1                          36.65                  0.40                  0.63   \n",
       "2                          41.05                  0.42                  0.64   \n",
       "3                          38.90                  0.40                  0.62   \n",
       "4                          37.10                  0.41                  0.63   \n",
       "\n",
       "   UVIndexLocalDayAvg_3  UVIndexLocalDayAvg_4  UVIndexLocalDayAvg_5  \\\n",
       "0                  1.04                  1.54                  2.13   \n",
       "1                  1.04                  1.55                  2.14   \n",
       "2                  1.07                  1.58                  2.17   \n",
       "3                  1.04                  1.54                  2.14   \n",
       "4                  1.06                  1.56                  2.15   \n",
       "\n",
       "   UVIndexLocalDayAvg_6  VisibilityLocalDayAvg_1  VisibilityLocalDayAvg_2  \\\n",
       "0                  1.45                 12703.95                 12566.77   \n",
       "1                  1.60                 12317.72                 12307.27   \n",
       "2                  1.50                 12708.40                 12722.14   \n",
       "3                  1.50                 12500.75                 12391.16   \n",
       "4                  1.50                 12605.38                 12518.67   \n",
       "\n",
       "   VisibilityLocalDayAvg_3  VisibilityLocalDayAvg_4  VisibilityLocalDayAvg_5  \\\n",
       "0                 12205.02                 12427.89                 13459.72   \n",
       "1                 12143.72                 12397.98                 13268.26   \n",
       "2                 12670.05                 12872.93                 13692.44   \n",
       "3                 12075.28                 12384.46                 13293.40   \n",
       "4                 12333.94                 12669.56                 13506.27   \n",
       "\n",
       "   VisibilityLocalDayAvg_6  WindSpeedLocalDayAvg_1  WindSpeedLocalDayAvg_2  \\\n",
       "0                 16093.00                    2.80                    2.68   \n",
       "1                 16093.00                    3.81                    3.63   \n",
       "2                 16093.00                    2.97                    2.84   \n",
       "3                 16093.00                    3.61                    3.43   \n",
       "4                 16093.00                    3.79                    3.57   \n",
       "\n",
       "   WindSpeedLocalDayAvg_3  WindSpeedLocalDayAvg_4  WindSpeedLocalDayAvg_5  \\\n",
       "0                    3.10                    2.66                    2.34   \n",
       "1                    4.09                    3.53                    3.13   \n",
       "2                    3.23                    2.88                    2.62   \n",
       "3                    3.89                    3.33                    2.91   \n",
       "4                    4.05                    3.50                    3.06   \n",
       "\n",
       "   WindSpeedLocalDayAvg_6  lluvia_daytime_avg_1  lluvia_daytime_avg_2  \\\n",
       "0                    3.35                 40.80                 12.51   \n",
       "1                    3.85                 25.54                 11.31   \n",
       "2                    3.35                 20.74                  5.14   \n",
       "3                    3.65                 31.54                  8.74   \n",
       "4                    3.85                 22.80                  7.54   \n",
       "\n",
       "   lluvia_daytime_avg_3  lluvia_daytime_avg_4  lluvia_daytime_avg_5  \\\n",
       "0                 55.03                 45.26                 20.23   \n",
       "1                 42.86                 44.23                 23.66   \n",
       "2                 43.03                 38.91                 14.06   \n",
       "3                 44.74                 35.49                 16.97   \n",
       "4                 45.26                 37.37                 12.00   \n",
       "\n",
       "   lluvia_daytime_avg_6  lluvia_night_avg_1  lluvia_night_avg_2  \\\n",
       "0                  0.00               33.60                9.94   \n",
       "1                  0.00               16.63               10.11   \n",
       "2                  0.00               19.20                3.43   \n",
       "3                  0.00               25.89                8.23   \n",
       "4                  0.00               18.51                8.91   \n",
       "\n",
       "   lluvia_night_avg_3  lluvia_night_avg_4  lluvia_night_avg_5  \\\n",
       "0               41.66               54.51               11.83   \n",
       "1               35.83               51.94               24.51   \n",
       "2               31.20               46.11               17.66   \n",
       "3               38.06               43.03               16.11   \n",
       "4               37.54               43.54               23.83   \n",
       "\n",
       "   lluvia_night_avg_6  nieve_daytime_Avg_1  nieve_daytime_Avg_2  \\\n",
       "0                0.00                 0.02                 0.01   \n",
       "1                0.00                 0.06                 0.01   \n",
       "2                0.00                 0.01                 0.00   \n",
       "3                0.00                 0.06                 0.00   \n",
       "4                0.00                 0.03                 0.00   \n",
       "\n",
       "   nieve_daytime_Avg_3  nieve_daytime_Avg_4  nieve_daytime_Avg_5  \\\n",
       "0                 0.00                 0.00                 0.00   \n",
       "1                 0.00                 0.00                 0.00   \n",
       "2                 0.00                 0.00                 0.00   \n",
       "3                 0.00                 0.00                 0.00   \n",
       "4                 0.00                 0.00                 0.00   \n",
       "\n",
       "   nieve_daytime_Avg_6  nieve_night_Avg_1  nieve_night_Avg_2  \\\n",
       "0                 0.00               0.02               0.00   \n",
       "1                 0.00               0.03               0.00   \n",
       "2                 0.00               0.00               0.00   \n",
       "3                 0.00               0.02               0.00   \n",
       "4                 0.00               0.01               0.00   \n",
       "\n",
       "   nieve_night_Avg_3  nieve_night_Avg_4  nieve_night_Avg_5  nieve_night_Avg_6  \\\n",
       "0               0.00               0.00               0.00               0.00   \n",
       "1               0.00               0.00               0.00               0.00   \n",
       "2               0.00               0.00               0.00               0.00   \n",
       "3               0.00               0.00               0.00               0.00   \n",
       "4               0.00               0.00               0.00               0.00   \n",
       "\n",
       "   campaña  \n",
       "0       15  \n",
       "1       15  \n",
       "2       15  \n",
       "3       15  \n",
       "4       15  "
      ]
     },
     "execution_count": 100,
     "metadata": {},
     "output_type": "execute_result"
    }
   ],
   "source": [
    "eto = pd.read_csv(\"C:/Users/denis/OneDrive/Escritorio/Datathon/datathon-cajamar-malbecs/data/processed/eto_processed.csv\", index_col=0)\n",
    "eto.head()"
   ]
  },
  {
   "cell_type": "code",
   "execution_count": 101,
   "id": "cac4d4b2-d43b-446f-b602-d5586642991a",
   "metadata": {},
   "outputs": [],
   "source": [
    "eto.columns = [col.lower().replace('-','_') for col in eto.columns]"
   ]
  },
  {
   "cell_type": "code",
   "execution_count": 104,
   "id": "08df3120-d394-4277-80fe-291818d5dbaa",
   "metadata": {},
   "outputs": [],
   "source": [
    "df_join = pd.merge(df, eto, how='left', on=['id_estacion', 'campaña'])"
   ]
  },
  {
   "cell_type": "code",
   "execution_count": 108,
   "id": "8cf4ed60",
   "metadata": {},
   "outputs": [],
   "source": [
    "for col in df_join.columns:\n",
    "    df_join[col]  = df_join.groupby(['id_estacion'])[col].transform(lambda x: x.fillna(x.mean()))\n",
    "    df_join[col]  = df_join[col].transform(lambda x: x.fillna(x.mean()))"
   ]
  },
  {
   "cell_type": "code",
   "execution_count": 110,
   "id": "f14c15bd-a190-4465-9095-461d1294f511",
   "metadata": {},
   "outputs": [],
   "source": [
    "df_models = df_join[df_join.campaña < 22]\n",
    "\n",
    "target = 'produccion'\n",
    "\n",
    "X = df_models.loc[:, df_models.columns != target]\n",
    "y = df_models[target]\n",
    "\n",
    "X_train = X.iloc[:len(df_models[df_models['campaña']<21]),:]\n",
    "X_test = X.iloc[len(df_models[df_models['campaña']<21]):,:]\n",
    "y_train = y.iloc[:len(df_models[df_models['campaña']<21])]\n",
    "y_test = y.iloc[len(df_models[df_models['campaña']<21]):]"
   ]
  },
  {
   "cell_type": "code",
   "execution_count": 111,
   "id": "534fa97f-e918-479f-ab17-1a9ed094c17b",
   "metadata": {},
   "outputs": [
    {
     "name": "stdout",
     "output_type": "stream",
     "text": [
      "8880.850886612343\n",
      "Wall time: 1.63 s\n"
     ]
    }
   ],
   "source": [
    "%%time \n",
    "\n",
    "#Modelo\n",
    "xgb = XGBRegressor(random_state=99)\n",
    "\n",
    "#Entrenamiento\n",
    "xgb.fit(X_train, y_train)\n",
    "\n",
    "#Predicciones\n",
    "prediction = xgb.predict(X_test)\n",
    "\n",
    "#Resultados\n",
    "mse = mean_squared_error(y_test, prediction)\n",
    "print(np.sqrt(mse))"
   ]
  },
  {
   "cell_type": "code",
   "execution_count": 74,
   "id": "705b6226-3385-4003-bcba-4ac3e186c468",
   "metadata": {},
   "outputs": [
    {
     "data": {
      "image/png": "[encoded data removed]",
      "text/plain": [
       "<Figure size 360x720 with 1 Axes>"
      ]
     },
     "metadata": {
      "needs_background": "light"
     },
     "output_type": "display_data"
    }
   ],
   "source": [
    "plt.figure(figsize=(5,10))\n",
    "\n",
    "sorted_idx = xgb.feature_importances_.argsort()\n",
    "plt.barh(y=X.columns[sorted_idx],width=xgb.feature_importances_[sorted_idx])\n",
    "plt.xlabel(\"XGB Feature Importance\")\n",
    "plt.show()"
   ]
  },
  {
   "cell_type": "markdown",
   "id": "8e79cb94-e10e-4c93-a64f-c0dd40b1819d",
   "metadata": {},
   "source": [
    "### Con ETO anuales"
   ]
  },
  {
   "cell_type": "code",
   "execution_count": 112,
   "id": "b2ab95b8-fd01-4765-9c2b-44d55b381771",
   "metadata": {},
   "outputs": [],
   "source": [
    "gust = ['gustlocaldayavg_1', 'gustlocaldayavg_2', 'gustlocaldayavg_3',\n",
    "       'gustlocaldayavg_4', 'gustlocaldayavg_5', 'gustlocaldayavg_6']\n",
    "\n",
    "mslp = ['mslplocaldayavg_1', 'mslplocaldayavg_2', 'mslplocaldayavg_3',\n",
    "       'mslplocaldayavg_4', 'mslplocaldayavg_5', 'mslplocaldayavg_6']\n",
    "\n",
    "relative = ['relativehumiditylocaldayavg_1', 'relativehumiditylocaldayavg_2',\n",
    "       'relativehumiditylocaldayavg_3', 'relativehumiditylocaldayavg_4',\n",
    "       'relativehumiditylocaldayavg_5', 'relativehumiditylocaldayavg_6']\n",
    "\n",
    "uv = ['uvindexlocaldayavg_1', 'uvindexlocaldayavg_2', 'uvindexlocaldayavg_3',\n",
    "       'uvindexlocaldayavg_4', 'uvindexlocaldayavg_5', 'uvindexlocaldayavg_6']\n",
    "\n",
    "visibility = [ 'visibilitylocaldayavg_1', 'visibilitylocaldayavg_2',\n",
    "       'visibilitylocaldayavg_3', 'visibilitylocaldayavg_4',\n",
    "       'visibilitylocaldayavg_5', 'visibilitylocaldayavg_6']\n",
    "\n",
    "wind = ['windspeedlocaldayavg_1', 'windspeedlocaldayavg_2',\n",
    "       'windspeedlocaldayavg_3', 'windspeedlocaldayavg_4',\n",
    "       'windspeedlocaldayavg_5', 'windspeedlocaldayavg_6']\n",
    "\n",
    "lluvia_day = ['lluvia_daytime_avg_1', 'lluvia_daytime_avg_2', 'lluvia_daytime_avg_3',\n",
    "       'lluvia_daytime_avg_4', 'lluvia_daytime_avg_5', 'lluvia_daytime_avg_6']\n",
    "\n",
    "lluvia_night = ['lluvia_night_avg_1', 'lluvia_night_avg_2', 'lluvia_night_avg_3',\n",
    "       'lluvia_night_avg_4', 'lluvia_night_avg_5', 'lluvia_night_avg_6']\n",
    "\n",
    "nieve_day = ['nieve_daytime_avg_1', 'nieve_daytime_avg_2', 'nieve_daytime_avg_3',\n",
    "       'nieve_daytime_avg_4', 'nieve_daytime_avg_5', 'nieve_daytime_avg_6']\n",
    "\n",
    "nieve_night = ['nieve_night_avg_1', 'nieve_night_avg_2', 'nieve_night_avg_3',\n",
    "       'nieve_night_avg_4', 'nieve_night_avg_5', 'nieve_night_avg_6']\n"
   ]
  },
  {
   "cell_type": "code",
   "execution_count": 113,
   "id": "b0ee30cb-f80e-4ac6-9bcd-880ca6890085",
   "metadata": {},
   "outputs": [],
   "source": [
    "df_models2 = df_models.copy()"
   ]
  },
  {
   "cell_type": "code",
   "execution_count": 114,
   "id": "88c76c87-f74a-4f17-8afe-168b0dc8f329",
   "metadata": {},
   "outputs": [],
   "source": [
    "list_data = {'gust': gust, 'mslp': mslp,'relative': relative, 'uv': uv,'visibility': visibility,\n",
    "              'wind': wind,'lluvia_day': lluvia_day, 'lluvia_night': lluvia_night,'nieve_day': nieve_day, 'nieve_night': nieve_night}\n",
    "\n",
    "for name, data in list_data.items():\n",
    "    df_models2[name] = df_models2[data].sum(axis=1)\n",
    "    df_models2 = df_models2.drop(columns=data)"
   ]
  },
  {
   "cell_type": "code",
   "execution_count": 115,
   "id": "8528a604-32b1-4be2-af80-2edfc79fabc6",
   "metadata": {},
   "outputs": [
    {
     "data": {
      "text/html": [
       "<div>\n",
       "<style scoped>\n",
       "    .dataframe tbody tr th:only-of-type {\n",
       "        vertical-align: middle;\n",
       "    }\n",
       "\n",
       "    .dataframe tbody tr th {\n",
       "        vertical-align: top;\n",
       "    }\n",
       "\n",
       "    .dataframe thead th {\n",
       "        text-align: right;\n",
       "    }\n",
       "</style>\n",
       "<table border=\"1\" class=\"dataframe\">\n",
       "  <thead>\n",
       "    <tr style=\"text-align: right;\">\n",
       "      <th></th>\n",
       "      <th>campaña</th>\n",
       "      <th>id_finca</th>\n",
       "      <th>id_zona</th>\n",
       "      <th>id_estacion</th>\n",
       "      <th>variedad</th>\n",
       "      <th>modo</th>\n",
       "      <th>tipo</th>\n",
       "      <th>color</th>\n",
       "      <th>superficie</th>\n",
       "      <th>produccion</th>\n",
       "      <th>variedad_alta</th>\n",
       "      <th>altitud</th>\n",
       "      <th>altitud_alta</th>\n",
       "      <th>fincas_percentiles</th>\n",
       "      <th>zonas_percentiles</th>\n",
       "      <th>gust</th>\n",
       "      <th>mslp</th>\n",
       "      <th>relative</th>\n",
       "      <th>uv</th>\n",
       "      <th>visibility</th>\n",
       "      <th>wind</th>\n",
       "      <th>lluvia_day</th>\n",
       "      <th>lluvia_night</th>\n",
       "      <th>nieve_day</th>\n",
       "      <th>nieve_night</th>\n",
       "    </tr>\n",
       "  </thead>\n",
       "  <tbody>\n",
       "    <tr>\n",
       "      <th>0</th>\n",
       "      <td>14</td>\n",
       "      <td>76953</td>\n",
       "      <td>515</td>\n",
       "      <td>4</td>\n",
       "      <td>26</td>\n",
       "      <td>2</td>\n",
       "      <td>0</td>\n",
       "      <td>1</td>\n",
       "      <td>2.64</td>\n",
       "      <td>22215.00</td>\n",
       "      <td>1</td>\n",
       "      <td>660.00</td>\n",
       "      <td>0</td>\n",
       "      <td>3.00</td>\n",
       "      <td>3</td>\n",
       "      <td>50.67</td>\n",
       "      <td>610740.25</td>\n",
       "      <td>395.23</td>\n",
       "      <td>8.06</td>\n",
       "      <td>76771.68</td>\n",
       "      <td>18.82</td>\n",
       "      <td>143.94</td>\n",
       "      <td>142.14</td>\n",
       "      <td>0.04</td>\n",
       "      <td>0.02</td>\n",
       "    </tr>\n",
       "    <tr>\n",
       "      <th>1</th>\n",
       "      <td>14</td>\n",
       "      <td>84318</td>\n",
       "      <td>515</td>\n",
       "      <td>4</td>\n",
       "      <td>26</td>\n",
       "      <td>2</td>\n",
       "      <td>0</td>\n",
       "      <td>1</td>\n",
       "      <td>2.64</td>\n",
       "      <td>22215.00</td>\n",
       "      <td>1</td>\n",
       "      <td>660.00</td>\n",
       "      <td>0</td>\n",
       "      <td>3.00</td>\n",
       "      <td>3</td>\n",
       "      <td>50.67</td>\n",
       "      <td>610740.25</td>\n",
       "      <td>395.23</td>\n",
       "      <td>8.06</td>\n",
       "      <td>76771.68</td>\n",
       "      <td>18.82</td>\n",
       "      <td>143.94</td>\n",
       "      <td>142.14</td>\n",
       "      <td>0.04</td>\n",
       "      <td>0.02</td>\n",
       "    </tr>\n",
       "    <tr>\n",
       "      <th>2</th>\n",
       "      <td>14</td>\n",
       "      <td>85579</td>\n",
       "      <td>340</td>\n",
       "      <td>4</td>\n",
       "      <td>32</td>\n",
       "      <td>2</td>\n",
       "      <td>0</td>\n",
       "      <td>1</td>\n",
       "      <td>2.91</td>\n",
       "      <td>20978.00</td>\n",
       "      <td>1</td>\n",
       "      <td>520.00</td>\n",
       "      <td>1</td>\n",
       "      <td>3.00</td>\n",
       "      <td>3</td>\n",
       "      <td>50.67</td>\n",
       "      <td>610740.25</td>\n",
       "      <td>395.23</td>\n",
       "      <td>8.06</td>\n",
       "      <td>76771.68</td>\n",
       "      <td>18.82</td>\n",
       "      <td>143.94</td>\n",
       "      <td>142.14</td>\n",
       "      <td>0.04</td>\n",
       "      <td>0.02</td>\n",
       "    </tr>\n",
       "    <tr>\n",
       "      <th>3</th>\n",
       "      <td>14</td>\n",
       "      <td>69671</td>\n",
       "      <td>340</td>\n",
       "      <td>4</td>\n",
       "      <td>32</td>\n",
       "      <td>2</td>\n",
       "      <td>0</td>\n",
       "      <td>1</td>\n",
       "      <td>2.91</td>\n",
       "      <td>40722.00</td>\n",
       "      <td>1</td>\n",
       "      <td>520.00</td>\n",
       "      <td>1</td>\n",
       "      <td>3.00</td>\n",
       "      <td>3</td>\n",
       "      <td>50.67</td>\n",
       "      <td>610740.25</td>\n",
       "      <td>395.23</td>\n",
       "      <td>8.06</td>\n",
       "      <td>76771.68</td>\n",
       "      <td>18.82</td>\n",
       "      <td>143.94</td>\n",
       "      <td>142.14</td>\n",
       "      <td>0.04</td>\n",
       "      <td>0.02</td>\n",
       "    </tr>\n",
       "    <tr>\n",
       "      <th>4</th>\n",
       "      <td>14</td>\n",
       "      <td>14001</td>\n",
       "      <td>852</td>\n",
       "      <td>14</td>\n",
       "      <td>81</td>\n",
       "      <td>1</td>\n",
       "      <td>0</td>\n",
       "      <td>1</td>\n",
       "      <td>2.82</td>\n",
       "      <td>14126.00</td>\n",
       "      <td>0</td>\n",
       "      <td>658.75</td>\n",
       "      <td>0</td>\n",
       "      <td>3.00</td>\n",
       "      <td>1</td>\n",
       "      <td>51.73</td>\n",
       "      <td>610747.46</td>\n",
       "      <td>397.00</td>\n",
       "      <td>8.08</td>\n",
       "      <td>76252.42</td>\n",
       "      <td>20.40</td>\n",
       "      <td>142.44</td>\n",
       "      <td>139.81</td>\n",
       "      <td>0.06</td>\n",
       "      <td>0.03</td>\n",
       "    </tr>\n",
       "  </tbody>\n",
       "</table>\n",
       "</div>"
      ],
      "text/plain": [
       "   campaña  id_finca  id_zona  id_estacion  variedad  modo  tipo  color  \\\n",
       "0       14     76953      515            4        26     2     0      1   \n",
       "1       14     84318      515            4        26     2     0      1   \n",
       "2       14     85579      340            4        32     2     0      1   \n",
       "3       14     69671      340            4        32     2     0      1   \n",
       "4       14     14001      852           14        81     1     0      1   \n",
       "\n",
       "   superficie  produccion  variedad_alta  altitud  altitud_alta  \\\n",
       "0        2.64    22215.00              1   660.00             0   \n",
       "1        2.64    22215.00              1   660.00             0   \n",
       "2        2.91    20978.00              1   520.00             1   \n",
       "3        2.91    40722.00              1   520.00             1   \n",
       "4        2.82    14126.00              0   658.75             0   \n",
       "\n",
       "   fincas_percentiles  zonas_percentiles  gust      mslp  relative   uv  \\\n",
       "0                3.00                  3 50.67 610740.25    395.23 8.06   \n",
       "1                3.00                  3 50.67 610740.25    395.23 8.06   \n",
       "2                3.00                  3 50.67 610740.25    395.23 8.06   \n",
       "3                3.00                  3 50.67 610740.25    395.23 8.06   \n",
       "4                3.00                  1 51.73 610747.46    397.00 8.08   \n",
       "\n",
       "   visibility  wind  lluvia_day  lluvia_night  nieve_day  nieve_night  \n",
       "0    76771.68 18.82      143.94        142.14       0.04         0.02  \n",
       "1    76771.68 18.82      143.94        142.14       0.04         0.02  \n",
       "2    76771.68 18.82      143.94        142.14       0.04         0.02  \n",
       "3    76771.68 18.82      143.94        142.14       0.04         0.02  \n",
       "4    76252.42 20.40      142.44        139.81       0.06         0.03  "
      ]
     },
     "execution_count": 115,
     "metadata": {},
     "output_type": "execute_result"
    }
   ],
   "source": [
    "df_models2.head()"
   ]
  },
  {
   "cell_type": "code",
   "execution_count": 116,
   "id": "26c804bf-339e-42c4-88f2-6956f14ae637",
   "metadata": {},
   "outputs": [],
   "source": [
    "target = 'produccion'\n",
    "\n",
    "X = df_models2.loc[:, df_models2.columns != target]\n",
    "y = df_models2[target]\n",
    "\n",
    "X_train = X.iloc[:len(df_models2[df_models2['campaña']<21]),:]\n",
    "X_test = X.iloc[len(df_models2[df_models2['campaña']<21]):,:]\n",
    "y_train = y.iloc[:len(df_models2[df_models2['campaña']<21])]\n",
    "y_test = y.iloc[len(df_models2[df_models2['campaña']<21]):]"
   ]
  },
  {
   "cell_type": "code",
   "execution_count": 117,
   "id": "cf18109c-82c6-4488-97ff-0f658a2f4ca5",
   "metadata": {},
   "outputs": [
    {
     "name": "stdout",
     "output_type": "stream",
     "text": [
      "7095.202085589397\n",
      "Wall time: 1.01 s\n"
     ]
    }
   ],
   "source": [
    "%%time \n",
    "\n",
    "#Modelo\n",
    "xgb = XGBRegressor(random_state=99)\n",
    "\n",
    "#Entrenamiento\n",
    "xgb.fit(X_train, y_train)\n",
    "\n",
    "#Predicciones\n",
    "prediction = xgb.predict(X_test)\n",
    "\n",
    "#Resultados\n",
    "mse = mean_squared_error(y_test, prediction)\n",
    "print(np.sqrt(mse))"
   ]
  },
  {
   "cell_type": "code",
   "execution_count": 118,
   "id": "8bd92749-8cfd-424c-8f42-decf2c341001",
   "metadata": {},
   "outputs": [
    {
     "data": {
      "image/png": "[encoded data removed]",
      "text/plain": [
       "<Figure size 360x720 with 1 Axes>"
      ]
     },
     "metadata": {
      "needs_background": "light"
     },
     "output_type": "display_data"
    }
   ],
   "source": [
    "plt.figure(figsize=(5,10))\n",
    "\n",
    "sorted_idx = xgb.feature_importances_.argsort()\n",
    "plt.barh(y=X.columns[sorted_idx],width=xgb.feature_importances_[sorted_idx])\n",
    "plt.xlabel(\"XGB Feature Importance\")\n",
    "plt.show()"
   ]
  },
  {
   "attachments": {},
   "cell_type": "markdown",
   "id": "dc905377",
   "metadata": {},
   "source": [
    "## CatBoost"
   ]
  },
  {
   "cell_type": "code",
   "execution_count": null,
   "id": "87ceebd4",
   "metadata": {},
   "outputs": [],
   "source": []
  },
  {
   "cell_type": "code",
   "execution_count": null,
   "id": "156dcc4b",
   "metadata": {},
   "outputs": [],
   "source": []
  },
  {
   "cell_type": "code",
   "execution_count": null,
   "id": "dbe8cf93",
   "metadata": {},
   "outputs": [],
   "source": []
  },
  {
   "cell_type": "code",
   "execution_count": null,
   "id": "c7486aff",
   "metadata": {},
   "outputs": [],
   "source": []
  }
 ],
 "metadata": {
  "kernelspec": {
   "display_name": "base",
   "language": "python",
   "name": "python3"
  },
  "language_info": {
   "codemirror_mode": {
    "name": "ipython",
    "version": 3
   },
   "file_extension": ".py",
   "mimetype": "text/x-python",
   "name": "python",
   "nbconvert_exporter": "python",
   "pygments_lexer": "ipython3",
   "version": "3.8.8"
  },
  "vscode": {
   "interpreter": {
    "hash": "1f04826dcc96a008917c6ca87a3c8a3a31b12c4446b40a25ad8fed7744102fd3"
   }
  }
 },
 "nbformat": 4,
 "nbformat_minor": 5
}
