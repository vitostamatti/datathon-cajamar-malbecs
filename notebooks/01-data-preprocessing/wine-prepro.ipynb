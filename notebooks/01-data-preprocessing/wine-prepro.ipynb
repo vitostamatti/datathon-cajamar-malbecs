{
 "cells": [
  {
   "cell_type": "code",
   "execution_count": 1,
   "metadata": {},
   "outputs": [],
   "source": [
    "from malbecs.preprocess import wine"
   ]
  },
  {
   "cell_type": "code",
   "execution_count": 2,
   "metadata": {},
   "outputs": [],
   "source": [
    "path = '../../data/raw/UH_2023_TRAIN.txt'\n",
    "\n",
    "wine_data = wine.load_wine_dataset(path)"
   ]
  },
  {
   "cell_type": "code",
   "execution_count": 3,
   "metadata": {},
   "outputs": [
    {
     "data": {
      "text/plain": [
       "Index(['campana', 'id_finca', 'id_zona', 'id_estacion', 'altitud', 'variedad',\n",
       "       'modo', 'tipo', 'color', 'superficie', 'produccion'],\n",
       "      dtype='object')"
      ]
     },
     "execution_count": 3,
     "metadata": {},
     "output_type": "execute_result"
    }
   ],
   "source": [
    "wine_data = wine.norm_columns(wine_data)\n",
    "\n",
    "wine_data.columns"
   ]
  },
  {
   "cell_type": "code",
   "execution_count": 4,
   "metadata": {},
   "outputs": [
    {
     "data": {
      "text/html": [
       "<div>\n",
       "<style scoped>\n",
       "    .dataframe tbody tr th:only-of-type {\n",
       "        vertical-align: middle;\n",
       "    }\n",
       "\n",
       "    .dataframe tbody tr th {\n",
       "        vertical-align: top;\n",
       "    }\n",
       "\n",
       "    .dataframe thead th {\n",
       "        text-align: right;\n",
       "    }\n",
       "</style>\n",
       "<table border=\"1\" class=\"dataframe\">\n",
       "  <thead>\n",
       "    <tr style=\"text-align: right;\">\n",
       "      <th></th>\n",
       "      <th>campana</th>\n",
       "      <th>id_finca</th>\n",
       "      <th>id_zona</th>\n",
       "      <th>id_estacion</th>\n",
       "      <th>altitud</th>\n",
       "      <th>variedad</th>\n",
       "      <th>modo</th>\n",
       "      <th>tipo</th>\n",
       "      <th>color</th>\n",
       "      <th>superficie</th>\n",
       "      <th>produccion</th>\n",
       "    </tr>\n",
       "  </thead>\n",
       "  <tbody>\n",
       "    <tr>\n",
       "      <th>0</th>\n",
       "      <td>14</td>\n",
       "      <td>76953</td>\n",
       "      <td>515</td>\n",
       "      <td>4</td>\n",
       "      <td>660.0</td>\n",
       "      <td>26</td>\n",
       "      <td>2</td>\n",
       "      <td>0</td>\n",
       "      <td>1</td>\n",
       "      <td>0.0</td>\n",
       "      <td>22215.0</td>\n",
       "    </tr>\n",
       "    <tr>\n",
       "      <th>1</th>\n",
       "      <td>14</td>\n",
       "      <td>84318</td>\n",
       "      <td>515</td>\n",
       "      <td>4</td>\n",
       "      <td>660.0</td>\n",
       "      <td>26</td>\n",
       "      <td>2</td>\n",
       "      <td>0</td>\n",
       "      <td>1</td>\n",
       "      <td>0.0</td>\n",
       "      <td>22215.0</td>\n",
       "    </tr>\n",
       "    <tr>\n",
       "      <th>2</th>\n",
       "      <td>14</td>\n",
       "      <td>85579</td>\n",
       "      <td>340</td>\n",
       "      <td>4</td>\n",
       "      <td>520.0</td>\n",
       "      <td>32</td>\n",
       "      <td>2</td>\n",
       "      <td>0</td>\n",
       "      <td>1</td>\n",
       "      <td>0.0</td>\n",
       "      <td>20978.0</td>\n",
       "    </tr>\n",
       "    <tr>\n",
       "      <th>3</th>\n",
       "      <td>14</td>\n",
       "      <td>69671</td>\n",
       "      <td>340</td>\n",
       "      <td>4</td>\n",
       "      <td>520.0</td>\n",
       "      <td>32</td>\n",
       "      <td>2</td>\n",
       "      <td>0</td>\n",
       "      <td>1</td>\n",
       "      <td>0.0</td>\n",
       "      <td>40722.0</td>\n",
       "    </tr>\n",
       "    <tr>\n",
       "      <th>4</th>\n",
       "      <td>14</td>\n",
       "      <td>14001</td>\n",
       "      <td>852</td>\n",
       "      <td>14</td>\n",
       "      <td>0.0</td>\n",
       "      <td>81</td>\n",
       "      <td>1</td>\n",
       "      <td>0</td>\n",
       "      <td>1</td>\n",
       "      <td>0.0</td>\n",
       "      <td>14126.0</td>\n",
       "    </tr>\n",
       "  </tbody>\n",
       "</table>\n",
       "</div>"
      ],
      "text/plain": [
       "   campana  id_finca  id_zona  id_estacion  altitud  variedad  modo  tipo  \\\n",
       "0       14     76953      515            4    660.0        26     2     0   \n",
       "1       14     84318      515            4    660.0        26     2     0   \n",
       "2       14     85579      340            4    520.0        32     2     0   \n",
       "3       14     69671      340            4    520.0        32     2     0   \n",
       "4       14     14001      852           14      0.0        81     1     0   \n",
       "\n",
       "   color  superficie  produccion  \n",
       "0      1         0.0     22215.0  \n",
       "1      1         0.0     22215.0  \n",
       "2      1         0.0     20978.0  \n",
       "3      1         0.0     40722.0  \n",
       "4      1         0.0     14126.0  "
      ]
     },
     "execution_count": 4,
     "metadata": {},
     "output_type": "execute_result"
    }
   ],
   "source": [
    "wine_data = wine.process_altitud(wine_data)\n",
    "\n",
    "wine_data.head()"
   ]
  },
  {
   "cell_type": "code",
   "execution_count": 5,
   "metadata": {},
   "outputs": [
    {
     "data": {
      "text/plain": [
       "campana           0\n",
       "id_finca          0\n",
       "id_zona           0\n",
       "id_estacion       0\n",
       "altitud          54\n",
       "variedad          0\n",
       "modo              0\n",
       "tipo              0\n",
       "color             0\n",
       "superficie     6518\n",
       "produccion     1075\n",
       "dtype: int64"
      ]
     },
     "execution_count": 5,
     "metadata": {},
     "output_type": "execute_result"
    }
   ],
   "source": [
    "wine_data = wine.replace_zeros_with_na(wine_data, cols=['superficie','altitud'])\n",
    "\n",
    "wine_data.isnull().sum()"
   ]
  },
  {
   "cell_type": "code",
   "execution_count": 6,
   "metadata": {},
   "outputs": [
    {
     "data": {
      "text/plain": [
       "campana           0\n",
       "id_finca          0\n",
       "id_zona           0\n",
       "id_estacion       0\n",
       "altitud           0\n",
       "variedad          0\n",
       "modo              0\n",
       "tipo              0\n",
       "color             0\n",
       "superficie     1806\n",
       "produccion     1075\n",
       "dtype: int64"
      ]
     },
     "execution_count": 6,
     "metadata": {},
     "output_type": "execute_result"
    }
   ],
   "source": [
    "wine_data = wine.fillna_by_group(\n",
    "    wine_data, cols=['superficie'], \n",
    "    group=['id_finca','variedad','modo']\n",
    "    )\n",
    "\n",
    "wine_data = wine.fillna_by_group(\n",
    "    wine_data, \n",
    "    cols = ['altitud'], \n",
    "    group = ['id_estacion'])\n",
    "\n",
    "wine_data.isnull().sum()"
   ]
  },
  {
   "cell_type": "code",
   "execution_count": 7,
   "metadata": {},
   "outputs": [],
   "source": [
    "wine_data = wine.get_sup_tot_camp_finca(wine_data)\n",
    "wine_data = wine.get_sup_tot_finca(wine_data)\n",
    "wine_data = wine.get_n_var_finca_camp(wine_data)"
   ]
  },
  {
   "cell_type": "code",
   "execution_count": 8,
   "metadata": {},
   "outputs": [],
   "source": [
    "wine_data = wine.replace_zeros_with_na(\n",
    "    wine_data, \n",
    "    cols=['sup_tot_camp_finca','superficie_total']\n",
    ")"
   ]
  },
  {
   "cell_type": "code",
   "execution_count": 9,
   "metadata": {},
   "outputs": [
    {
     "data": {
      "text/plain": [
       "campana                  0\n",
       "id_finca                 0\n",
       "id_zona                  0\n",
       "id_estacion              0\n",
       "altitud                  0\n",
       "variedad                 0\n",
       "modo                     0\n",
       "tipo                     0\n",
       "color                    0\n",
       "superficie            1806\n",
       "produccion            1075\n",
       "sup_tot_camp_finca    1414\n",
       "superficie_total       949\n",
       "n_var_camp_finca         0\n",
       "dtype: int64"
      ]
     },
     "execution_count": 9,
     "metadata": {},
     "output_type": "execute_result"
    }
   ],
   "source": [
    "wine_data.isnull().sum()"
   ]
  },
  {
   "cell_type": "code",
   "execution_count": 10,
   "metadata": {},
   "outputs": [],
   "source": [
    "wine_data = wine.fillna_by_value(\n",
    "    wine_data, \n",
    "    cols=['superficie','sup_tot_camp_finca','superficie_total'],\n",
    "    value=-1\n",
    ")"
   ]
  },
  {
   "cell_type": "code",
   "execution_count": 11,
   "metadata": {},
   "outputs": [],
   "source": [
    "wine_data.to_csv('../../data/processed/wine_pro.csv', index=False)"
   ]
  },
  {
   "cell_type": "code",
   "execution_count": 13,
   "metadata": {},
   "outputs": [],
   "source": [
    "# wine.preproces_wine_data(path)"
   ]
  }
 ],
 "metadata": {
  "kernelspec": {
   "display_name": "venv",
   "language": "python",
   "name": "python3"
  },
  "language_info": {
   "codemirror_mode": {
    "name": "ipython",
    "version": 3
   },
   "file_extension": ".py",
   "mimetype": "text/x-python",
   "name": "python",
   "nbconvert_exporter": "python",
   "pygments_lexer": "ipython3",
   "version": "3.9.13"
  },
  "orig_nbformat": 4,
  "vscode": {
   "interpreter": {
    "hash": "e1435488552ae345076a9e86dc7e9faa2492579cab23903b704b1d630f2d034e"
   }
  }
 },
 "nbformat": 4,
 "nbformat_minor": 2
}
