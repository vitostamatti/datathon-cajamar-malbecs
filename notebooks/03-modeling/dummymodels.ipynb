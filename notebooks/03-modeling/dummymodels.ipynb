{
 "cells": [
  {
   "attachments": {
    "image.png": {
     "image/png": "[encoded data removed]"
    }
   },
   "cell_type": "markdown",
   "id": "0b942312",
   "metadata": {},
   "source": [
    "# <center> Cajamar UniversityHack 2023\n",
    "\n",
    "![image.png](attachment:image.png)\n",
    "    \n",
    "## Equipo: Malbecs\n",
    "## Fase: I\n",
    "## Centro: Universidad Complutense de Madrid\n",
    "### Miembros: Trosman Denis, Stammati Vito, Kumar Sumit."
   ]
  },
  {
   "cell_type": "markdown",
   "id": "ec229221",
   "metadata": {},
   "source": [
    "## <center> Reto Wine Prediction"
   ]
  },
  {
   "cell_type": "markdown",
   "id": "0794b2d4",
   "metadata": {},
   "source": [
    "## Importación de librerias"
   ]
  },
  {
   "cell_type": "code",
   "execution_count": 1,
   "id": "b186e0cd",
   "metadata": {},
   "outputs": [],
   "source": [
    "#EDA\n",
    "import pandas as pd\n",
    "pd.options.display.float_format = '{:.2f}'.format\n",
    "pd.set_option('display.max_colwidth', None)\n",
    "pd.set_option('display.max_columns', None)  \n",
    "\n",
    "import numpy as np\n",
    "import warnings\n",
    "warnings.filterwarnings('ignore')\n",
    "\n",
    "#Data viz\n",
    "import matplotlib.pyplot as plt\n",
    "import seaborn as sns\n",
    "import plotly.express as px\n",
    "color_pal = sns.color_palette()\n",
    "plt.style.use('fivethirtyeight')\n",
    "\n",
    "#Modelos\n",
    "import sklearn as sk\n",
    "\n",
    "#Resultados\n",
    "import shap"
   ]
  },
  {
   "cell_type": "markdown",
   "id": "e8b4ca5f",
   "metadata": {},
   "source": [
    "## Lectura de datos"
   ]
  },
  {
   "cell_type": "markdown",
   "id": "a8f1fc92",
   "metadata": {},
   "source": [
    "- CAMPAÑA: Año de la campaña.\n",
    "- ID_FINCA: Identificador de finca.\n",
    "- ID_ZONA: Identificador de una zona con una tipología de suelo común\n",
    "- ID_ESTACION: Identificador de estación meteorológica.\n",
    "- ALTITUD: Altitud media de la finca sobre el nivel del mar en metros.\n",
    "- VARIEDAD: Código de variedad de la uva que se cultiva en la finca.\n",
    "- MODO: Código del modo de cultivo.\n",
    "- TIPO: Tipo de cultivo dentro de la variedad.\n",
    "- COLOR: Identificador del color de la uva.\n",
    "- SUPERFICIE: Superficie en hectáreas que ocupa la finca.\n",
    "- PRODUCCION: Producción en kg. Obtenida en la campaña."
   ]
  },
  {
   "cell_type": "markdown",
   "id": "a19d46fe",
   "metadata": {},
   "source": [
    "UH_2023_TRAIN"
   ]
  },
  {
   "cell_type": "code",
   "execution_count": 2,
   "id": "df7e16ac",
   "metadata": {},
   "outputs": [],
   "source": [
    "df = pd.read_csv('C:/Users/denis/OneDrive/Escritorio/Datathon/datos/UH_2023_TRAIN.txt', sep= '|', header=0 )"
   ]
  },
  {
   "cell_type": "code",
   "execution_count": 3,
   "id": "9769e3c4",
   "metadata": {},
   "outputs": [
    {
     "data": {
      "text/html": [
       "<div>\n",
       "<style scoped>\n",
       "    .dataframe tbody tr th:only-of-type {\n",
       "        vertical-align: middle;\n",
       "    }\n",
       "\n",
       "    .dataframe tbody tr th {\n",
       "        vertical-align: top;\n",
       "    }\n",
       "\n",
       "    .dataframe thead th {\n",
       "        text-align: right;\n",
       "    }\n",
       "</style>\n",
       "<table border=\"1\" class=\"dataframe\">\n",
       "  <thead>\n",
       "    <tr style=\"text-align: right;\">\n",
       "      <th></th>\n",
       "      <th>CAMPAÑA</th>\n",
       "      <th>ID_FINCA</th>\n",
       "      <th>ID_ZONA</th>\n",
       "      <th>ID_ESTACION</th>\n",
       "      <th>ALTITUD</th>\n",
       "      <th>VARIEDAD</th>\n",
       "      <th>MODO</th>\n",
       "      <th>TIPO</th>\n",
       "      <th>COLOR</th>\n",
       "      <th>SUPERFICIE</th>\n",
       "      <th>PRODUCCION</th>\n",
       "    </tr>\n",
       "  </thead>\n",
       "  <tbody>\n",
       "    <tr>\n",
       "      <th>0</th>\n",
       "      <td>14</td>\n",
       "      <td>76953</td>\n",
       "      <td>515</td>\n",
       "      <td>4</td>\n",
       "      <td>660</td>\n",
       "      <td>26</td>\n",
       "      <td>2</td>\n",
       "      <td>0</td>\n",
       "      <td>1</td>\n",
       "      <td>0.00</td>\n",
       "      <td>22215.00</td>\n",
       "    </tr>\n",
       "    <tr>\n",
       "      <th>1</th>\n",
       "      <td>14</td>\n",
       "      <td>84318</td>\n",
       "      <td>515</td>\n",
       "      <td>4</td>\n",
       "      <td>660</td>\n",
       "      <td>26</td>\n",
       "      <td>2</td>\n",
       "      <td>0</td>\n",
       "      <td>1</td>\n",
       "      <td>0.00</td>\n",
       "      <td>22215.00</td>\n",
       "    </tr>\n",
       "    <tr>\n",
       "      <th>2</th>\n",
       "      <td>14</td>\n",
       "      <td>85579</td>\n",
       "      <td>340</td>\n",
       "      <td>4</td>\n",
       "      <td>520</td>\n",
       "      <td>32</td>\n",
       "      <td>2</td>\n",
       "      <td>0</td>\n",
       "      <td>1</td>\n",
       "      <td>0.00</td>\n",
       "      <td>20978.00</td>\n",
       "    </tr>\n",
       "    <tr>\n",
       "      <th>3</th>\n",
       "      <td>14</td>\n",
       "      <td>69671</td>\n",
       "      <td>340</td>\n",
       "      <td>4</td>\n",
       "      <td>520</td>\n",
       "      <td>32</td>\n",
       "      <td>2</td>\n",
       "      <td>0</td>\n",
       "      <td>1</td>\n",
       "      <td>0.00</td>\n",
       "      <td>40722.00</td>\n",
       "    </tr>\n",
       "    <tr>\n",
       "      <th>4</th>\n",
       "      <td>14</td>\n",
       "      <td>14001</td>\n",
       "      <td>852</td>\n",
       "      <td>14</td>\n",
       "      <td>NaN</td>\n",
       "      <td>81</td>\n",
       "      <td>1</td>\n",
       "      <td>0</td>\n",
       "      <td>1</td>\n",
       "      <td>0.00</td>\n",
       "      <td>14126.00</td>\n",
       "    </tr>\n",
       "  </tbody>\n",
       "</table>\n",
       "</div>"
      ],
      "text/plain": [
       "   CAMPAÑA  ID_FINCA  ID_ZONA  ID_ESTACION ALTITUD  VARIEDAD  MODO  TIPO  \\\n",
       "0       14     76953      515            4     660        26     2     0   \n",
       "1       14     84318      515            4     660        26     2     0   \n",
       "2       14     85579      340            4     520        32     2     0   \n",
       "3       14     69671      340            4     520        32     2     0   \n",
       "4       14     14001      852           14     NaN        81     1     0   \n",
       "\n",
       "   COLOR  SUPERFICIE  PRODUCCION  \n",
       "0      1        0.00    22215.00  \n",
       "1      1        0.00    22215.00  \n",
       "2      1        0.00    20978.00  \n",
       "3      1        0.00    40722.00  \n",
       "4      1        0.00    14126.00  "
      ]
     },
     "execution_count": 3,
     "metadata": {},
     "output_type": "execute_result"
    }
   ],
   "source": [
    "df.head()"
   ]
  },
  {
   "cell_type": "markdown",
   "id": "6622afaf",
   "metadata": {},
   "source": [
    "## Análisis exploratorio de datos"
   ]
  },
  {
   "cell_type": "markdown",
   "id": "b1cab72b",
   "metadata": {},
   "source": [
    "Observamos columnas y modificamos los nombres para que estén bajo buenas prácticas"
   ]
  },
  {
   "cell_type": "code",
   "execution_count": 4,
   "id": "fac81200-1dc5-4ea7-ac4f-f641c27717f2",
   "metadata": {},
   "outputs": [
    {
     "data": {
      "text/plain": [
       "Index(['CAMPAÑA', 'ID_FINCA', 'ID_ZONA', 'ID_ESTACION', 'ALTITUD', 'VARIEDAD',\n",
       "       'MODO', 'TIPO', 'COLOR', 'SUPERFICIE', 'PRODUCCION'],\n",
       "      dtype='object')"
      ]
     },
     "execution_count": 4,
     "metadata": {},
     "output_type": "execute_result"
    }
   ],
   "source": [
    "df.columns"
   ]
  },
  {
   "cell_type": "code",
   "execution_count": 5,
   "id": "afcbe8a7-4896-4b15-a5d6-ecc4d5e132b4",
   "metadata": {},
   "outputs": [],
   "source": [
    "df.columns = [col.lower().replace('-','_') for col in df.columns]"
   ]
  },
  {
   "cell_type": "markdown",
   "id": "62a31e26-4e96-41d6-8be9-6b3db168157b",
   "metadata": {},
   "source": [
    "**Relaciones entre variables id**"
   ]
  },
  {
   "cell_type": "markdown",
   "id": "251f99bd",
   "metadata": {},
   "source": [
    "Cada finca tiene una sola zona y una sola estacion"
   ]
  },
  {
   "cell_type": "code",
   "execution_count": 7,
   "id": "42795b35",
   "metadata": {},
   "outputs": [
    {
     "data": {
      "text/plain": [
       "1    1231\n",
       "Name: id_zona, dtype: int64"
      ]
     },
     "execution_count": 7,
     "metadata": {},
     "output_type": "execute_result"
    }
   ],
   "source": [
    "df.groupby(['id_finca'])['id_zona'].nunique().value_counts()"
   ]
  },
  {
   "cell_type": "code",
   "execution_count": 8,
   "id": "2fef7e8c",
   "metadata": {},
   "outputs": [
    {
     "data": {
      "text/plain": [
       "1    1231\n",
       "Name: id_estacion, dtype: int64"
      ]
     },
     "execution_count": 8,
     "metadata": {},
     "output_type": "execute_result"
    }
   ],
   "source": [
    "df.groupby(['id_finca'])['id_estacion'].nunique().value_counts()"
   ]
  },
  {
   "cell_type": "markdown",
   "id": "0de85360",
   "metadata": {},
   "source": [
    "Cada zona debe tener una estacion"
   ]
  },
  {
   "cell_type": "code",
   "execution_count": 9,
   "id": "26071a6b",
   "metadata": {},
   "outputs": [
    {
     "data": {
      "text/plain": [
       "1    100\n",
       "2     19\n",
       "3      6\n",
       "Name: id_estacion, dtype: int64"
      ]
     },
     "execution_count": 9,
     "metadata": {},
     "output_type": "execute_result"
    }
   ],
   "source": [
    "df.groupby(['id_zona'])['id_estacion'].nunique().value_counts()"
   ]
  },
  {
   "cell_type": "code",
   "execution_count": 10,
   "id": "60f0f2c1",
   "metadata": {},
   "outputs": [
    {
     "data": {
      "text/plain": [
       "variedad  tipo\n",
       "4         1         45\n",
       "8         0         35\n",
       "9         0        240\n",
       "10        0          5\n",
       "15        0        253\n",
       "          1          6\n",
       "17        0       2165\n",
       "          1          2\n",
       "23        0         74\n",
       "26        0        143\n",
       "          1          7\n",
       "32        0        974\n",
       "38        0          6\n",
       "          1          2\n",
       "40        0        401\n",
       "43        0         57\n",
       "48        0          4\n",
       "52        0        583\n",
       "          1         28\n",
       "55        0         18\n",
       "59        0       2755\n",
       "          1         15\n",
       "62        0         18\n",
       "65        0         39\n",
       "68        0        503\n",
       "71        0         16\n",
       "81        0        555\n",
       "          1         13\n",
       "84        0         54\n",
       "87        0        431\n",
       "92        0         62\n",
       "94        0         92\n",
       "Name: tipo, dtype: int64"
      ]
     },
     "execution_count": 10,
     "metadata": {},
     "output_type": "execute_result"
    }
   ],
   "source": [
    "df.groupby(['variedad'])['tipo'].value_counts()"
   ]
  },
  {
   "cell_type": "markdown",
   "id": "a0d4078a",
   "metadata": {},
   "source": [
    "**Características del dataset**"
   ]
  },
  {
   "cell_type": "code",
   "execution_count": 11,
   "id": "ae59a8b4",
   "metadata": {},
   "outputs": [
    {
     "name": "stdout",
     "output_type": "stream",
     "text": [
      "Número de filas: 9601, Número de columnas:11\n",
      "\n",
      "Cantidad de duplicados: 0\n",
      "\n",
      "-------- Tipos de columnas --------\n",
      "campaña          int64\n",
      "id_finca         int64\n",
      "id_zona          int64\n",
      "id_estacion      int64\n",
      "altitud         object\n",
      "variedad         int64\n",
      "modo             int64\n",
      "tipo             int64\n",
      "color            int64\n",
      "superficie     float64\n",
      "produccion     float64\n",
      "dtype: object\n",
      "\n",
      " -------- Cantidad de nulos --------\n"
     ]
    },
    {
     "data": {
      "text/plain": [
       "campaña           0\n",
       "id_finca          0\n",
       "id_zona           0\n",
       "id_estacion       0\n",
       "altitud          54\n",
       "variedad          0\n",
       "modo              0\n",
       "tipo              0\n",
       "color             0\n",
       "superficie        0\n",
       "produccion     1075\n",
       "dtype: int64"
      ]
     },
     "execution_count": 11,
     "metadata": {},
     "output_type": "execute_result"
    }
   ],
   "source": [
    "print(f'Número de filas: {df.shape[0]}, Número de columnas:{df.shape[1]}')\n",
    "print(f'\\nCantidad de duplicados: {df.duplicated().sum()}\\n')\n",
    "print('-------- Tipos de columnas --------')\n",
    "print(df.dtypes)\n",
    "print('\\n -------- Cantidad de nulos --------')\n",
    "df.isna().sum()"
   ]
  },
  {
   "cell_type": "code",
   "execution_count": 12,
   "id": "34a3ce45",
   "metadata": {},
   "outputs": [
    {
     "data": {
      "text/html": [
       "<div>\n",
       "<style scoped>\n",
       "    .dataframe tbody tr th:only-of-type {\n",
       "        vertical-align: middle;\n",
       "    }\n",
       "\n",
       "    .dataframe tbody tr th {\n",
       "        vertical-align: top;\n",
       "    }\n",
       "\n",
       "    .dataframe thead tr th {\n",
       "        text-align: left;\n",
       "    }\n",
       "\n",
       "    .dataframe thead tr:last-of-type th {\n",
       "        text-align: right;\n",
       "    }\n",
       "</style>\n",
       "<table border=\"1\" class=\"dataframe\">\n",
       "  <thead>\n",
       "    <tr>\n",
       "      <th></th>\n",
       "      <th></th>\n",
       "      <th></th>\n",
       "      <th></th>\n",
       "      <th>id_estacion</th>\n",
       "      <th>produccion</th>\n",
       "    </tr>\n",
       "    <tr>\n",
       "      <th></th>\n",
       "      <th></th>\n",
       "      <th></th>\n",
       "      <th></th>\n",
       "      <th>count</th>\n",
       "      <th>sum</th>\n",
       "    </tr>\n",
       "    <tr>\n",
       "      <th>campaña</th>\n",
       "      <th>id_estacion</th>\n",
       "      <th>id_zona</th>\n",
       "      <th>id_finca</th>\n",
       "      <th></th>\n",
       "      <th></th>\n",
       "    </tr>\n",
       "  </thead>\n",
       "  <tbody>\n",
       "    <tr>\n",
       "      <th rowspan=\"5\" valign=\"top\">14</th>\n",
       "      <th>0</th>\n",
       "      <th>672</th>\n",
       "      <th>22900</th>\n",
       "      <td>1</td>\n",
       "      <td>30860.00</td>\n",
       "    </tr>\n",
       "    <tr>\n",
       "      <th rowspan=\"4\" valign=\"top\">2</th>\n",
       "      <th>828</th>\n",
       "      <th>49672</th>\n",
       "      <td>1</td>\n",
       "      <td>4880.70</td>\n",
       "    </tr>\n",
       "    <tr>\n",
       "      <th rowspan=\"2\" valign=\"top\">964</th>\n",
       "      <th>35465</th>\n",
       "      <td>1</td>\n",
       "      <td>13557.50</td>\n",
       "    </tr>\n",
       "    <tr>\n",
       "      <th>37826</th>\n",
       "      <td>2</td>\n",
       "      <td>66891.30</td>\n",
       "    </tr>\n",
       "    <tr>\n",
       "      <th>973</th>\n",
       "      <th>19515</th>\n",
       "      <td>1</td>\n",
       "      <td>18980.50</td>\n",
       "    </tr>\n",
       "    <tr>\n",
       "      <th>...</th>\n",
       "      <th>...</th>\n",
       "      <th>...</th>\n",
       "      <th>...</th>\n",
       "      <td>...</td>\n",
       "      <td>...</td>\n",
       "    </tr>\n",
       "    <tr>\n",
       "      <th rowspan=\"5\" valign=\"top\">22</th>\n",
       "      <th rowspan=\"5\" valign=\"top\">19</th>\n",
       "      <th rowspan=\"5\" valign=\"top\">987</th>\n",
       "      <th>39040</th>\n",
       "      <td>1</td>\n",
       "      <td>0.00</td>\n",
       "    </tr>\n",
       "    <tr>\n",
       "      <th>64845</th>\n",
       "      <td>2</td>\n",
       "      <td>0.00</td>\n",
       "    </tr>\n",
       "    <tr>\n",
       "      <th>74410</th>\n",
       "      <td>1</td>\n",
       "      <td>0.00</td>\n",
       "    </tr>\n",
       "    <tr>\n",
       "      <th>76949</th>\n",
       "      <td>1</td>\n",
       "      <td>0.00</td>\n",
       "    </tr>\n",
       "    <tr>\n",
       "      <th>79903</th>\n",
       "      <td>1</td>\n",
       "      <td>0.00</td>\n",
       "    </tr>\n",
       "  </tbody>\n",
       "</table>\n",
       "<p>7482 rows × 2 columns</p>\n",
       "</div>"
      ],
      "text/plain": [
       "                                     id_estacion produccion\n",
       "                                           count        sum\n",
       "campaña id_estacion id_zona id_finca                       \n",
       "14      0           672     22900              1   30860.00\n",
       "        2           828     49672              1    4880.70\n",
       "                    964     35465              1   13557.50\n",
       "                            37826              2   66891.30\n",
       "                    973     19515              1   18980.50\n",
       "...                                          ...        ...\n",
       "22      19          987     39040              1       0.00\n",
       "                            64845              2       0.00\n",
       "                            74410              1       0.00\n",
       "                            76949              1       0.00\n",
       "                            79903              1       0.00\n",
       "\n",
       "[7482 rows x 2 columns]"
      ]
     },
     "execution_count": 12,
     "metadata": {},
     "output_type": "execute_result"
    }
   ],
   "source": [
    "df.groupby(['campaña','id_estacion','id_zona','id_finca']).agg({'id_estacion': ['count'], 'produccion': 'sum'})"
   ]
  },
  {
   "cell_type": "markdown",
   "id": "52c23b8d",
   "metadata": {},
   "source": [
    "Total producción por año asumiendo que no hay repetidos"
   ]
  },
  {
   "cell_type": "code",
   "execution_count": 13,
   "id": "c632d59e",
   "metadata": {},
   "outputs": [
    {
     "data": {
      "image/png": "[encoded data removed]",
      "text/plain": [
       "<Figure size 432x288 with 1 Axes>"
      ]
     },
     "metadata": {
      "needs_background": "light"
     },
     "output_type": "display_data"
    }
   ],
   "source": [
    "anuales = df.groupby(['campaña']).agg({'produccion': 'sum'})\n",
    "\n",
    "anuales['produccion'] = anuales.produccion/1000000\n",
    "\n",
    "anuales.plot(title='Producción anual (Millones de $)')\n",
    "plt.show()"
   ]
  },
  {
   "cell_type": "markdown",
   "id": "55225ac6",
   "metadata": {},
   "source": [
    "Vemos distribuciones y si hay valores mayoritarios"
   ]
  },
  {
   "cell_type": "code",
   "execution_count": 14,
   "id": "23a970fd",
   "metadata": {},
   "outputs": [],
   "source": [
    "def valores_unicos(df,columna):\n",
    "    data_frame = pd.DataFrame(df[columna].value_counts())\n",
    "    data_frame['share']=data_frame[columna]/sum(data_frame[columna])*100 \n",
    "    return data_frame\n",
    "\n",
    "#Funcion para mostrar DataFrames lado por lado\n",
    "#fuente: https://stackoverflow.com/questions/38783027/jupyter-notebook-display-two-pandas-tables-side-by-side\n",
    "\n",
    "from IPython.display import display_html\n",
    "from itertools import chain,cycle\n",
    "\n",
    "def display_side_by_side(*args,titles=cycle([''])):\n",
    "    html_str=''\n",
    "    for df,title in zip(args, chain(titles,cycle(['</br>'])) ):\n",
    "        html_str+='<th style=\"text-align:center\"><td style=\"vertical-align:top\">'\n",
    "        html_str+=f'<h2>{title}</h2>'\n",
    "        html_str+=df.to_html().replace('table','table style=\"display:inline\"')\n",
    "        html_str+='</td></th>'\n",
    "    display_html(html_str,raw=True)"
   ]
  },
  {
   "cell_type": "code",
   "execution_count": 15,
   "id": "807cc54c",
   "metadata": {},
   "outputs": [
    {
     "data": {
      "text/html": [
       "<th style=\"text-align:center\"><td style=\"vertical-align:top\"><h2>campaña</h2><table style=\"display:inline\" border=\"1\" class=\"dataframe\">\n",
       "  <thead>\n",
       "    <tr style=\"text-align: right;\">\n",
       "      <th></th>\n",
       "      <th>campaña</th>\n",
       "      <th>share</th>\n",
       "    </tr>\n",
       "  </thead>\n",
       "  <tbody>\n",
       "    <tr>\n",
       "      <th>14</th>\n",
       "      <td>1148</td>\n",
       "      <td>11.96</td>\n",
       "    </tr>\n",
       "    <tr>\n",
       "      <th>15</th>\n",
       "      <td>1116</td>\n",
       "      <td>11.62</td>\n",
       "    </tr>\n",
       "    <tr>\n",
       "      <th>16</th>\n",
       "      <td>1079</td>\n",
       "      <td>11.24</td>\n",
       "    </tr>\n",
       "    <tr>\n",
       "      <th>22</th>\n",
       "      <td>1075</td>\n",
       "      <td>11.20</td>\n",
       "    </tr>\n",
       "    <tr>\n",
       "      <th>18</th>\n",
       "      <td>1061</td>\n",
       "      <td>11.05</td>\n",
       "    </tr>\n",
       "  </tbody>\n",
       "</table style=\"display:inline\"></td></th>"
      ]
     },
     "metadata": {},
     "output_type": "display_data"
    },
    {
     "data": {
      "text/html": [
       "<th style=\"text-align:center\"><td style=\"vertical-align:top\"><h2>id_finca</h2><table style=\"display:inline\" border=\"1\" class=\"dataframe\">\n",
       "  <thead>\n",
       "    <tr style=\"text-align: right;\">\n",
       "      <th></th>\n",
       "      <th>id_finca</th>\n",
       "      <th>share</th>\n",
       "    </tr>\n",
       "  </thead>\n",
       "  <tbody>\n",
       "    <tr>\n",
       "      <th>4024</th>\n",
       "      <td>59</td>\n",
       "      <td>0.61</td>\n",
       "    </tr>\n",
       "    <tr>\n",
       "      <th>49636</th>\n",
       "      <td>54</td>\n",
       "      <td>0.56</td>\n",
       "    </tr>\n",
       "    <tr>\n",
       "      <th>48827</th>\n",
       "      <td>47</td>\n",
       "      <td>0.49</td>\n",
       "    </tr>\n",
       "    <tr>\n",
       "      <th>84174</th>\n",
       "      <td>46</td>\n",
       "      <td>0.48</td>\n",
       "    </tr>\n",
       "    <tr>\n",
       "      <th>61177</th>\n",
       "      <td>36</td>\n",
       "      <td>0.37</td>\n",
       "    </tr>\n",
       "  </tbody>\n",
       "</table style=\"display:inline\"></td></th>"
      ]
     },
     "metadata": {},
     "output_type": "display_data"
    },
    {
     "data": {
      "text/html": [
       "<th style=\"text-align:center\"><td style=\"vertical-align:top\"><h2>id_zona</h2><table style=\"display:inline\" border=\"1\" class=\"dataframe\">\n",
       "  <thead>\n",
       "    <tr style=\"text-align: right;\">\n",
       "      <th></th>\n",
       "      <th>id_zona</th>\n",
       "      <th>share</th>\n",
       "    </tr>\n",
       "  </thead>\n",
       "  <tbody>\n",
       "    <tr>\n",
       "      <th>441</th>\n",
       "      <td>703</td>\n",
       "      <td>7.32</td>\n",
       "    </tr>\n",
       "    <tr>\n",
       "      <th>272</th>\n",
       "      <td>419</td>\n",
       "      <td>4.36</td>\n",
       "    </tr>\n",
       "    <tr>\n",
       "      <th>134</th>\n",
       "      <td>406</td>\n",
       "      <td>4.23</td>\n",
       "    </tr>\n",
       "    <tr>\n",
       "      <th>464</th>\n",
       "      <td>378</td>\n",
       "      <td>3.94</td>\n",
       "    </tr>\n",
       "    <tr>\n",
       "      <th>510</th>\n",
       "      <td>283</td>\n",
       "      <td>2.95</td>\n",
       "    </tr>\n",
       "  </tbody>\n",
       "</table style=\"display:inline\"></td></th>"
      ]
     },
     "metadata": {},
     "output_type": "display_data"
    },
    {
     "data": {
      "text/html": [
       "<th style=\"text-align:center\"><td style=\"vertical-align:top\"><h2>id_estacion</h2><table style=\"display:inline\" border=\"1\" class=\"dataframe\">\n",
       "  <thead>\n",
       "    <tr style=\"text-align: right;\">\n",
       "      <th></th>\n",
       "      <th>id_estacion</th>\n",
       "      <th>share</th>\n",
       "    </tr>\n",
       "  </thead>\n",
       "  <tbody>\n",
       "    <tr>\n",
       "      <th>12</th>\n",
       "      <td>2060</td>\n",
       "      <td>21.46</td>\n",
       "    </tr>\n",
       "    <tr>\n",
       "      <th>5</th>\n",
       "      <td>1155</td>\n",
       "      <td>12.03</td>\n",
       "    </tr>\n",
       "    <tr>\n",
       "      <th>7</th>\n",
       "      <td>1113</td>\n",
       "      <td>11.59</td>\n",
       "    </tr>\n",
       "    <tr>\n",
       "      <th>16</th>\n",
       "      <td>1087</td>\n",
       "      <td>11.32</td>\n",
       "    </tr>\n",
       "    <tr>\n",
       "      <th>15</th>\n",
       "      <td>956</td>\n",
       "      <td>9.96</td>\n",
       "    </tr>\n",
       "  </tbody>\n",
       "</table style=\"display:inline\"></td></th>"
      ]
     },
     "metadata": {},
     "output_type": "display_data"
    },
    {
     "data": {
      "text/html": [
       "<th style=\"text-align:center\"><td style=\"vertical-align:top\"><h2>altitud</h2><table style=\"display:inline\" border=\"1\" class=\"dataframe\">\n",
       "  <thead>\n",
       "    <tr style=\"text-align: right;\">\n",
       "      <th></th>\n",
       "      <th>altitud</th>\n",
       "      <th>share</th>\n",
       "    </tr>\n",
       "  </thead>\n",
       "  <tbody>\n",
       "    <tr>\n",
       "      <th>455-470</th>\n",
       "      <td>703</td>\n",
       "      <td>7.36</td>\n",
       "    </tr>\n",
       "    <tr>\n",
       "      <th>650-660</th>\n",
       "      <td>680</td>\n",
       "      <td>7.12</td>\n",
       "    </tr>\n",
       "    <tr>\n",
       "      <th>455-465</th>\n",
       "      <td>431</td>\n",
       "      <td>4.51</td>\n",
       "    </tr>\n",
       "    <tr>\n",
       "      <th>630-640</th>\n",
       "      <td>430</td>\n",
       "      <td>4.50</td>\n",
       "    </tr>\n",
       "    <tr>\n",
       "      <th>600-670</th>\n",
       "      <td>419</td>\n",
       "      <td>4.39</td>\n",
       "    </tr>\n",
       "  </tbody>\n",
       "</table style=\"display:inline\"></td></th>"
      ]
     },
     "metadata": {},
     "output_type": "display_data"
    },
    {
     "data": {
      "text/html": [
       "<th style=\"text-align:center\"><td style=\"vertical-align:top\"><h2>variedad</h2><table style=\"display:inline\" border=\"1\" class=\"dataframe\">\n",
       "  <thead>\n",
       "    <tr style=\"text-align: right;\">\n",
       "      <th></th>\n",
       "      <th>variedad</th>\n",
       "      <th>share</th>\n",
       "    </tr>\n",
       "  </thead>\n",
       "  <tbody>\n",
       "    <tr>\n",
       "      <th>59</th>\n",
       "      <td>2770</td>\n",
       "      <td>28.85</td>\n",
       "    </tr>\n",
       "    <tr>\n",
       "      <th>17</th>\n",
       "      <td>2167</td>\n",
       "      <td>22.57</td>\n",
       "    </tr>\n",
       "    <tr>\n",
       "      <th>32</th>\n",
       "      <td>974</td>\n",
       "      <td>10.14</td>\n",
       "    </tr>\n",
       "    <tr>\n",
       "      <th>52</th>\n",
       "      <td>611</td>\n",
       "      <td>6.36</td>\n",
       "    </tr>\n",
       "    <tr>\n",
       "      <th>81</th>\n",
       "      <td>568</td>\n",
       "      <td>5.92</td>\n",
       "    </tr>\n",
       "  </tbody>\n",
       "</table style=\"display:inline\"></td></th>"
      ]
     },
     "metadata": {},
     "output_type": "display_data"
    },
    {
     "data": {
      "text/html": [
       "<th style=\"text-align:center\"><td style=\"vertical-align:top\"><h2>modo</h2><table style=\"display:inline\" border=\"1\" class=\"dataframe\">\n",
       "  <thead>\n",
       "    <tr style=\"text-align: right;\">\n",
       "      <th></th>\n",
       "      <th>modo</th>\n",
       "      <th>share</th>\n",
       "    </tr>\n",
       "  </thead>\n",
       "  <tbody>\n",
       "    <tr>\n",
       "      <th>2</th>\n",
       "      <td>4891</td>\n",
       "      <td>50.94</td>\n",
       "    </tr>\n",
       "    <tr>\n",
       "      <th>1</th>\n",
       "      <td>4710</td>\n",
       "      <td>49.06</td>\n",
       "    </tr>\n",
       "  </tbody>\n",
       "</table style=\"display:inline\"></td></th>"
      ]
     },
     "metadata": {},
     "output_type": "display_data"
    },
    {
     "data": {
      "text/html": [
       "<th style=\"text-align:center\"><td style=\"vertical-align:top\"><h2>tipo</h2><table style=\"display:inline\" border=\"1\" class=\"dataframe\">\n",
       "  <thead>\n",
       "    <tr style=\"text-align: right;\">\n",
       "      <th></th>\n",
       "      <th>tipo</th>\n",
       "      <th>share</th>\n",
       "    </tr>\n",
       "  </thead>\n",
       "  <tbody>\n",
       "    <tr>\n",
       "      <th>0</th>\n",
       "      <td>9483</td>\n",
       "      <td>98.77</td>\n",
       "    </tr>\n",
       "    <tr>\n",
       "      <th>1</th>\n",
       "      <td>118</td>\n",
       "      <td>1.23</td>\n",
       "    </tr>\n",
       "  </tbody>\n",
       "</table style=\"display:inline\"></td></th>"
      ]
     },
     "metadata": {},
     "output_type": "display_data"
    },
    {
     "data": {
      "text/html": [
       "<th style=\"text-align:center\"><td style=\"vertical-align:top\"><h2>color</h2><table style=\"display:inline\" border=\"1\" class=\"dataframe\">\n",
       "  <thead>\n",
       "    <tr style=\"text-align: right;\">\n",
       "      <th></th>\n",
       "      <th>color</th>\n",
       "      <th>share</th>\n",
       "    </tr>\n",
       "  </thead>\n",
       "  <tbody>\n",
       "    <tr>\n",
       "      <th>1</th>\n",
       "      <td>8097</td>\n",
       "      <td>84.33</td>\n",
       "    </tr>\n",
       "    <tr>\n",
       "      <th>0</th>\n",
       "      <td>1504</td>\n",
       "      <td>15.67</td>\n",
       "    </tr>\n",
       "  </tbody>\n",
       "</table style=\"display:inline\"></td></th>"
      ]
     },
     "metadata": {},
     "output_type": "display_data"
    },
    {
     "data": {
      "text/html": [
       "<th style=\"text-align:center\"><td style=\"vertical-align:top\"><h2>superficie</h2><table style=\"display:inline\" border=\"1\" class=\"dataframe\">\n",
       "  <thead>\n",
       "    <tr style=\"text-align: right;\">\n",
       "      <th></th>\n",
       "      <th>superficie</th>\n",
       "      <th>share</th>\n",
       "    </tr>\n",
       "  </thead>\n",
       "  <tbody>\n",
       "    <tr>\n",
       "      <th>0.00</th>\n",
       "      <td>6518</td>\n",
       "      <td>67.89</td>\n",
       "    </tr>\n",
       "    <tr>\n",
       "      <th>1.85</th>\n",
       "      <td>14</td>\n",
       "      <td>0.15</td>\n",
       "    </tr>\n",
       "    <tr>\n",
       "      <th>2.11</th>\n",
       "      <td>12</td>\n",
       "      <td>0.12</td>\n",
       "    </tr>\n",
       "    <tr>\n",
       "      <th>0.78</th>\n",
       "      <td>12</td>\n",
       "      <td>0.12</td>\n",
       "    </tr>\n",
       "    <tr>\n",
       "      <th>0.43</th>\n",
       "      <td>11</td>\n",
       "      <td>0.11</td>\n",
       "    </tr>\n",
       "  </tbody>\n",
       "</table style=\"display:inline\"></td></th>"
      ]
     },
     "metadata": {},
     "output_type": "display_data"
    },
    {
     "data": {
      "text/html": [
       "<th style=\"text-align:center\"><td style=\"vertical-align:top\"><h2>produccion</h2><table style=\"display:inline\" border=\"1\" class=\"dataframe\">\n",
       "  <thead>\n",
       "    <tr style=\"text-align: right;\">\n",
       "      <th></th>\n",
       "      <th>produccion</th>\n",
       "      <th>share</th>\n",
       "    </tr>\n",
       "  </thead>\n",
       "  <tbody>\n",
       "    <tr>\n",
       "      <th>2260.00</th>\n",
       "      <td>10</td>\n",
       "      <td>0.12</td>\n",
       "    </tr>\n",
       "    <tr>\n",
       "      <th>2950.00</th>\n",
       "      <td>10</td>\n",
       "      <td>0.12</td>\n",
       "    </tr>\n",
       "    <tr>\n",
       "      <th>3520.00</th>\n",
       "      <td>9</td>\n",
       "      <td>0.11</td>\n",
       "    </tr>\n",
       "    <tr>\n",
       "      <th>1970.00</th>\n",
       "      <td>9</td>\n",
       "      <td>0.11</td>\n",
       "    </tr>\n",
       "    <tr>\n",
       "      <th>2670.00</th>\n",
       "      <td>9</td>\n",
       "      <td>0.11</td>\n",
       "    </tr>\n",
       "  </tbody>\n",
       "</table style=\"display:inline\"></td></th>"
      ]
     },
     "metadata": {},
     "output_type": "display_data"
    }
   ],
   "source": [
    "for col in df.columns:\n",
    "    display_side_by_side(valores_unicos(df,col).head(),\n",
    "                         titles = [col])"
   ]
  },
  {
   "cell_type": "markdown",
   "id": "92f3d56d",
   "metadata": {},
   "source": [
    "**Distribuciones y descripción general**\n",
    "\n",
    "- Altidud transformar \n",
    "- ids, variedades, modo, tipo y color pasar a categoricas"
   ]
  },
  {
   "cell_type": "code",
   "execution_count": 16,
   "id": "9a4aef13",
   "metadata": {},
   "outputs": [
    {
     "data": {
      "text/html": [
       "<div>\n",
       "<style scoped>\n",
       "    .dataframe tbody tr th:only-of-type {\n",
       "        vertical-align: middle;\n",
       "    }\n",
       "\n",
       "    .dataframe tbody tr th {\n",
       "        vertical-align: top;\n",
       "    }\n",
       "\n",
       "    .dataframe thead th {\n",
       "        text-align: right;\n",
       "    }\n",
       "</style>\n",
       "<table border=\"1\" class=\"dataframe\">\n",
       "  <thead>\n",
       "    <tr style=\"text-align: right;\">\n",
       "      <th></th>\n",
       "      <th>campaña</th>\n",
       "      <th>id_finca</th>\n",
       "      <th>id_zona</th>\n",
       "      <th>id_estacion</th>\n",
       "      <th>variedad</th>\n",
       "      <th>modo</th>\n",
       "      <th>tipo</th>\n",
       "      <th>color</th>\n",
       "      <th>superficie</th>\n",
       "      <th>produccion</th>\n",
       "    </tr>\n",
       "  </thead>\n",
       "  <tbody>\n",
       "    <tr>\n",
       "      <th>count</th>\n",
       "      <td>9601.00</td>\n",
       "      <td>9601.00</td>\n",
       "      <td>9601.00</td>\n",
       "      <td>9601.00</td>\n",
       "      <td>9601.00</td>\n",
       "      <td>9601.00</td>\n",
       "      <td>9601.00</td>\n",
       "      <td>9601.00</td>\n",
       "      <td>9601.00</td>\n",
       "      <td>8526.00</td>\n",
       "    </tr>\n",
       "    <tr>\n",
       "      <th>mean</th>\n",
       "      <td>17.94</td>\n",
       "      <td>50818.24</td>\n",
       "      <td>498.50</td>\n",
       "      <td>12.16</td>\n",
       "      <td>45.49</td>\n",
       "      <td>1.51</td>\n",
       "      <td>0.01</td>\n",
       "      <td>0.84</td>\n",
       "      <td>0.70</td>\n",
       "      <td>9209.19</td>\n",
       "    </tr>\n",
       "    <tr>\n",
       "      <th>std</th>\n",
       "      <td>2.61</td>\n",
       "      <td>29016.57</td>\n",
       "      <td>261.43</td>\n",
       "      <td>4.76</td>\n",
       "      <td>23.81</td>\n",
       "      <td>0.50</td>\n",
       "      <td>0.11</td>\n",
       "      <td>0.36</td>\n",
       "      <td>1.79</td>\n",
       "      <td>13268.81</td>\n",
       "    </tr>\n",
       "    <tr>\n",
       "      <th>min</th>\n",
       "      <td>14.00</td>\n",
       "      <td>200.00</td>\n",
       "      <td>7.00</td>\n",
       "      <td>0.00</td>\n",
       "      <td>4.00</td>\n",
       "      <td>1.00</td>\n",
       "      <td>0.00</td>\n",
       "      <td>0.00</td>\n",
       "      <td>0.00</td>\n",
       "      <td>0.72</td>\n",
       "    </tr>\n",
       "    <tr>\n",
       "      <th>25%</th>\n",
       "      <td>16.00</td>\n",
       "      <td>25104.00</td>\n",
       "      <td>284.00</td>\n",
       "      <td>7.00</td>\n",
       "      <td>17.00</td>\n",
       "      <td>1.00</td>\n",
       "      <td>0.00</td>\n",
       "      <td>1.00</td>\n",
       "      <td>0.00</td>\n",
       "      <td>1940.00</td>\n",
       "    </tr>\n",
       "    <tr>\n",
       "      <th>50%</th>\n",
       "      <td>18.00</td>\n",
       "      <td>50946.00</td>\n",
       "      <td>464.00</td>\n",
       "      <td>12.00</td>\n",
       "      <td>52.00</td>\n",
       "      <td>2.00</td>\n",
       "      <td>0.00</td>\n",
       "      <td>1.00</td>\n",
       "      <td>0.00</td>\n",
       "      <td>4620.00</td>\n",
       "    </tr>\n",
       "    <tr>\n",
       "      <th>75%</th>\n",
       "      <td>20.00</td>\n",
       "      <td>76361.00</td>\n",
       "      <td>726.00</td>\n",
       "      <td>16.00</td>\n",
       "      <td>59.00</td>\n",
       "      <td>2.00</td>\n",
       "      <td>0.00</td>\n",
       "      <td>1.00</td>\n",
       "      <td>0.56</td>\n",
       "      <td>11137.50</td>\n",
       "    </tr>\n",
       "    <tr>\n",
       "      <th>max</th>\n",
       "      <td>22.00</td>\n",
       "      <td>99793.00</td>\n",
       "      <td>990.00</td>\n",
       "      <td>19.00</td>\n",
       "      <td>94.00</td>\n",
       "      <td>2.00</td>\n",
       "      <td>1.00</td>\n",
       "      <td>1.00</td>\n",
       "      <td>26.85</td>\n",
       "      <td>177520.00</td>\n",
       "    </tr>\n",
       "  </tbody>\n",
       "</table>\n",
       "</div>"
      ],
      "text/plain": [
       "       campaña  id_finca  id_zona  id_estacion  variedad    modo    tipo  \\\n",
       "count  9601.00   9601.00  9601.00      9601.00   9601.00 9601.00 9601.00   \n",
       "mean     17.94  50818.24   498.50        12.16     45.49    1.51    0.01   \n",
       "std       2.61  29016.57   261.43         4.76     23.81    0.50    0.11   \n",
       "min      14.00    200.00     7.00         0.00      4.00    1.00    0.00   \n",
       "25%      16.00  25104.00   284.00         7.00     17.00    1.00    0.00   \n",
       "50%      18.00  50946.00   464.00        12.00     52.00    2.00    0.00   \n",
       "75%      20.00  76361.00   726.00        16.00     59.00    2.00    0.00   \n",
       "max      22.00  99793.00   990.00        19.00     94.00    2.00    1.00   \n",
       "\n",
       "        color  superficie  produccion  \n",
       "count 9601.00     9601.00     8526.00  \n",
       "mean     0.84        0.70     9209.19  \n",
       "std      0.36        1.79    13268.81  \n",
       "min      0.00        0.00        0.72  \n",
       "25%      1.00        0.00     1940.00  \n",
       "50%      1.00        0.00     4620.00  \n",
       "75%      1.00        0.56    11137.50  \n",
       "max      1.00       26.85   177520.00  "
      ]
     },
     "execution_count": 16,
     "metadata": {},
     "output_type": "execute_result"
    }
   ],
   "source": [
    "#Númericas\n",
    "df.describe()"
   ]
  },
  {
   "cell_type": "code",
   "execution_count": 17,
   "id": "465c144f",
   "metadata": {},
   "outputs": [
    {
     "data": {
      "text/html": [
       "<div>\n",
       "<style scoped>\n",
       "    .dataframe tbody tr th:only-of-type {\n",
       "        vertical-align: middle;\n",
       "    }\n",
       "\n",
       "    .dataframe tbody tr th {\n",
       "        vertical-align: top;\n",
       "    }\n",
       "\n",
       "    .dataframe thead th {\n",
       "        text-align: right;\n",
       "    }\n",
       "</style>\n",
       "<table border=\"1\" class=\"dataframe\">\n",
       "  <thead>\n",
       "    <tr style=\"text-align: right;\">\n",
       "      <th></th>\n",
       "      <th>altitud</th>\n",
       "    </tr>\n",
       "  </thead>\n",
       "  <tbody>\n",
       "    <tr>\n",
       "      <th>count</th>\n",
       "      <td>9547</td>\n",
       "    </tr>\n",
       "    <tr>\n",
       "      <th>unique</th>\n",
       "      <td>84</td>\n",
       "    </tr>\n",
       "    <tr>\n",
       "      <th>top</th>\n",
       "      <td>455-470</td>\n",
       "    </tr>\n",
       "    <tr>\n",
       "      <th>freq</th>\n",
       "      <td>703</td>\n",
       "    </tr>\n",
       "  </tbody>\n",
       "</table>\n",
       "</div>"
      ],
      "text/plain": [
       "        altitud\n",
       "count      9547\n",
       "unique       84\n",
       "top     455-470\n",
       "freq        703"
      ]
     },
     "execution_count": 17,
     "metadata": {},
     "output_type": "execute_result"
    }
   ],
   "source": [
    "#Resto\n",
    "df.describe(include='O')"
   ]
  },
  {
   "cell_type": "markdown",
   "id": "5762466f-91c5-441f-993c-9042f266f82f",
   "metadata": {},
   "source": [
    "Transformación de altitud a numerica"
   ]
  },
  {
   "cell_type": "code",
   "execution_count": 18,
   "id": "9e23cf37-06c0-45f4-8c23-13ceff0bfb05",
   "metadata": {},
   "outputs": [],
   "source": [
    "def transform_altitud(alt):\n",
    "    if type(alt) is str:\n",
    "        alt_list = alt.split(\"-\")\n",
    "        alt_list = list(map(float, alt_list))\n",
    "        return np.mean(alt_list) \n",
    "    return alt"
   ]
  },
  {
   "cell_type": "code",
   "execution_count": 20,
   "id": "e0eedcd0-863e-4a59-8bca-322bfb8f7aae",
   "metadata": {},
   "outputs": [],
   "source": [
    "df['altitud'] = df['altitud'].apply(lambda alt: transform_altitud(alt))"
   ]
  },
  {
   "cell_type": "code",
   "execution_count": 23,
   "id": "4df3f4bd-a7e2-4ea0-94e7-2d7db247515c",
   "metadata": {},
   "outputs": [
    {
     "data": {
      "text/html": [
       "<div>\n",
       "<style scoped>\n",
       "    .dataframe tbody tr th:only-of-type {\n",
       "        vertical-align: middle;\n",
       "    }\n",
       "\n",
       "    .dataframe tbody tr th {\n",
       "        vertical-align: top;\n",
       "    }\n",
       "\n",
       "    .dataframe thead th {\n",
       "        text-align: right;\n",
       "    }\n",
       "</style>\n",
       "<table border=\"1\" class=\"dataframe\">\n",
       "  <thead>\n",
       "    <tr style=\"text-align: right;\">\n",
       "      <th></th>\n",
       "      <th>campaña</th>\n",
       "      <th>id_finca</th>\n",
       "      <th>id_zona</th>\n",
       "      <th>id_estacion</th>\n",
       "      <th>altitud</th>\n",
       "      <th>variedad</th>\n",
       "      <th>modo</th>\n",
       "      <th>tipo</th>\n",
       "      <th>color</th>\n",
       "      <th>superficie</th>\n",
       "      <th>produccion</th>\n",
       "    </tr>\n",
       "  </thead>\n",
       "  <tbody>\n",
       "    <tr>\n",
       "      <th>0</th>\n",
       "      <td>14</td>\n",
       "      <td>76953</td>\n",
       "      <td>515</td>\n",
       "      <td>4</td>\n",
       "      <td>660.00</td>\n",
       "      <td>26</td>\n",
       "      <td>2</td>\n",
       "      <td>0</td>\n",
       "      <td>1</td>\n",
       "      <td>0.00</td>\n",
       "      <td>22215.00</td>\n",
       "    </tr>\n",
       "    <tr>\n",
       "      <th>1</th>\n",
       "      <td>14</td>\n",
       "      <td>84318</td>\n",
       "      <td>515</td>\n",
       "      <td>4</td>\n",
       "      <td>660.00</td>\n",
       "      <td>26</td>\n",
       "      <td>2</td>\n",
       "      <td>0</td>\n",
       "      <td>1</td>\n",
       "      <td>0.00</td>\n",
       "      <td>22215.00</td>\n",
       "    </tr>\n",
       "    <tr>\n",
       "      <th>2</th>\n",
       "      <td>14</td>\n",
       "      <td>85579</td>\n",
       "      <td>340</td>\n",
       "      <td>4</td>\n",
       "      <td>520.00</td>\n",
       "      <td>32</td>\n",
       "      <td>2</td>\n",
       "      <td>0</td>\n",
       "      <td>1</td>\n",
       "      <td>0.00</td>\n",
       "      <td>20978.00</td>\n",
       "    </tr>\n",
       "    <tr>\n",
       "      <th>3</th>\n",
       "      <td>14</td>\n",
       "      <td>69671</td>\n",
       "      <td>340</td>\n",
       "      <td>4</td>\n",
       "      <td>520.00</td>\n",
       "      <td>32</td>\n",
       "      <td>2</td>\n",
       "      <td>0</td>\n",
       "      <td>1</td>\n",
       "      <td>0.00</td>\n",
       "      <td>40722.00</td>\n",
       "    </tr>\n",
       "    <tr>\n",
       "      <th>4</th>\n",
       "      <td>14</td>\n",
       "      <td>14001</td>\n",
       "      <td>852</td>\n",
       "      <td>14</td>\n",
       "      <td>NaN</td>\n",
       "      <td>81</td>\n",
       "      <td>1</td>\n",
       "      <td>0</td>\n",
       "      <td>1</td>\n",
       "      <td>0.00</td>\n",
       "      <td>14126.00</td>\n",
       "    </tr>\n",
       "  </tbody>\n",
       "</table>\n",
       "</div>"
      ],
      "text/plain": [
       "   campaña  id_finca  id_zona  id_estacion  altitud  variedad  modo  tipo  \\\n",
       "0       14     76953      515            4   660.00        26     2     0   \n",
       "1       14     84318      515            4   660.00        26     2     0   \n",
       "2       14     85579      340            4   520.00        32     2     0   \n",
       "3       14     69671      340            4   520.00        32     2     0   \n",
       "4       14     14001      852           14      NaN        81     1     0   \n",
       "\n",
       "   color  superficie  produccion  \n",
       "0      1        0.00    22215.00  \n",
       "1      1        0.00    22215.00  \n",
       "2      1        0.00    20978.00  \n",
       "3      1        0.00    40722.00  \n",
       "4      1        0.00    14126.00  "
      ]
     },
     "execution_count": 23,
     "metadata": {},
     "output_type": "execute_result"
    }
   ],
   "source": [
    "df.head()"
   ]
  },
  {
   "cell_type": "code",
   "execution_count": 24,
   "id": "94839b35",
   "metadata": {},
   "outputs": [
    {
     "data": {
      "text/plain": [
       "campaña           9\n",
       "id_finca       1231\n",
       "id_zona         125\n",
       "id_estacion      20\n",
       "altitud          57\n",
       "variedad         25\n",
       "modo              2\n",
       "tipo              2\n",
       "color             2\n",
       "superficie     1212\n",
       "produccion     6287\n",
       "dtype: int64"
      ]
     },
     "execution_count": 24,
     "metadata": {},
     "output_type": "execute_result"
    }
   ],
   "source": [
    "df.nunique(axis=0)"
   ]
  },
  {
   "cell_type": "code",
   "execution_count": null,
   "id": "39005a3f",
   "metadata": {},
   "outputs": [],
   "source": [
    "# df['prod_x_sup'] = [y/x if x > 0 else 0 for x,y in zip(df.superficie,df.produccion)]"
   ]
  },
  {
   "cell_type": "markdown",
   "id": "6ce1fe57-37f9-4346-8bdf-c1ba6df39f25",
   "metadata": {},
   "source": [
    "Desvío estandar"
   ]
  },
  {
   "cell_type": "code",
   "execution_count": 25,
   "id": "dcfb36d9",
   "metadata": {},
   "outputs": [
    {
     "data": {
      "text/html": [
       "<div>\n",
       "<style scoped>\n",
       "    .dataframe tbody tr th:only-of-type {\n",
       "        vertical-align: middle;\n",
       "    }\n",
       "\n",
       "    .dataframe tbody tr th {\n",
       "        vertical-align: top;\n",
       "    }\n",
       "\n",
       "    .dataframe thead th {\n",
       "        text-align: right;\n",
       "    }\n",
       "</style>\n",
       "<table border=\"1\" class=\"dataframe\">\n",
       "  <thead>\n",
       "    <tr style=\"text-align: right;\">\n",
       "      <th></th>\n",
       "      <th>id_finca</th>\n",
       "      <th>produccion</th>\n",
       "    </tr>\n",
       "    <tr>\n",
       "      <th>id_finca</th>\n",
       "      <th></th>\n",
       "      <th></th>\n",
       "    </tr>\n",
       "  </thead>\n",
       "  <tbody>\n",
       "    <tr>\n",
       "      <th>84804</th>\n",
       "      <td>19</td>\n",
       "      <td>56908.84</td>\n",
       "    </tr>\n",
       "    <tr>\n",
       "      <th>49636</th>\n",
       "      <td>54</td>\n",
       "      <td>50006.77</td>\n",
       "    </tr>\n",
       "    <tr>\n",
       "      <th>16864</th>\n",
       "      <td>12</td>\n",
       "      <td>35455.92</td>\n",
       "    </tr>\n",
       "    <tr>\n",
       "      <th>76459</th>\n",
       "      <td>24</td>\n",
       "      <td>33635.69</td>\n",
       "    </tr>\n",
       "    <tr>\n",
       "      <th>86582</th>\n",
       "      <td>19</td>\n",
       "      <td>32710.19</td>\n",
       "    </tr>\n",
       "    <tr>\n",
       "      <th>...</th>\n",
       "      <td>...</td>\n",
       "      <td>...</td>\n",
       "    </tr>\n",
       "    <tr>\n",
       "      <th>98731</th>\n",
       "      <td>1</td>\n",
       "      <td>NaN</td>\n",
       "    </tr>\n",
       "    <tr>\n",
       "      <th>98808</th>\n",
       "      <td>1</td>\n",
       "      <td>NaN</td>\n",
       "    </tr>\n",
       "    <tr>\n",
       "      <th>98825</th>\n",
       "      <td>2</td>\n",
       "      <td>NaN</td>\n",
       "    </tr>\n",
       "    <tr>\n",
       "      <th>99033</th>\n",
       "      <td>1</td>\n",
       "      <td>NaN</td>\n",
       "    </tr>\n",
       "    <tr>\n",
       "      <th>99793</th>\n",
       "      <td>2</td>\n",
       "      <td>NaN</td>\n",
       "    </tr>\n",
       "  </tbody>\n",
       "</table>\n",
       "<p>1231 rows × 2 columns</p>\n",
       "</div>"
      ],
      "text/plain": [
       "          id_finca  produccion\n",
       "id_finca                      \n",
       "84804           19    56908.84\n",
       "49636           54    50006.77\n",
       "16864           12    35455.92\n",
       "76459           24    33635.69\n",
       "86582           19    32710.19\n",
       "...            ...         ...\n",
       "98731            1         NaN\n",
       "98808            1         NaN\n",
       "98825            2         NaN\n",
       "99033            1         NaN\n",
       "99793            2         NaN\n",
       "\n",
       "[1231 rows x 2 columns]"
      ]
     },
     "execution_count": 25,
     "metadata": {},
     "output_type": "execute_result"
    }
   ],
   "source": [
    "(df.groupby(['id_finca']).\n",
    " agg({'id_finca': ['count'], 'produccion': 'std'}).\n",
    " droplevel(1,axis=1).\n",
    " sort_values('produccion',ascending=False))"
   ]
  },
  {
   "cell_type": "markdown",
   "id": "2edd0ab7-6691-407f-8d09-137ebe82e9b9",
   "metadata": {},
   "source": [
    "Cantidad de estaciones por año"
   ]
  },
  {
   "cell_type": "code",
   "execution_count": 27,
   "id": "23011fba",
   "metadata": {
    "scrolled": true,
    "tags": []
   },
   "outputs": [
    {
     "data": {
      "image/png": "[encoded data removed]",
      "text/plain": [
       "<Figure size 1440x1080 with 1 Axes>"
      ]
     },
     "metadata": {},
     "output_type": "display_data"
    }
   ],
   "source": [
    "sns.set(rc = {'figure.figsize':(20,15)})\n",
    "sns.countplot(data=df, x='id_estacion',hue='campaña')\n",
    "plt.show()"
   ]
  },
  {
   "cell_type": "markdown",
   "id": "83862565",
   "metadata": {},
   "source": [
    "### Data a predecir"
   ]
  },
  {
   "cell_type": "code",
   "execution_count": null,
   "id": "2480915a",
   "metadata": {},
   "outputs": [],
   "source": [
    "test = df[df.campaña==22]\n",
    "print(f'Dimensiones test {test.shape}')\n",
    "print(f'Cantidad de nulos produccion: {test.produccion.isna().sum()}')"
   ]
  },
  {
   "cell_type": "code",
   "execution_count": null,
   "id": "7774ff71",
   "metadata": {},
   "outputs": [],
   "source": [
    "test.head(10)"
   ]
  },
  {
   "cell_type": "code",
   "execution_count": null,
   "id": "8fd81660",
   "metadata": {},
   "outputs": [],
   "source": [
    "test = test.sort_values(['campaña','id_finca','id_zona','id_estacion','variedad'])"
   ]
  },
  {
   "cell_type": "code",
   "execution_count": null,
   "id": "43b11231",
   "metadata": {},
   "outputs": [],
   "source": [
    "print(f'Cantida de duplicados por totalidad de filas: {test.duplicated().sum()}')\n",
    "print(f\"Cantida de duplicados por ids: {test.duplicated(subset=['campaña','id_finca','id_zona','id_estacion']).sum()}\")\n",
    "print(f\"Cantida de duplicados por ids + variedad: {test.duplicated(subset=['campaña','id_finca','id_zona','id_estacion','variedad']).sum()}\")\n",
    "print(f\"Cantida de duplicados por ids + variedad + modo: {test.duplicated(subset=['campaña','id_finca','id_zona','id_estacion','variedad','modo']).sum()}\")"
   ]
  },
  {
   "cell_type": "markdown",
   "id": "c8955818-1300-4e3f-ad7c-ecf737502f5d",
   "metadata": {},
   "source": [
    "### Preparacion para modelo"
   ]
  },
  {
   "cell_type": "markdown",
   "id": "7972fab1-4007-4562-8521-6377152c9e14",
   "metadata": {},
   "source": [
    "**FillNAs**"
   ]
  },
  {
   "cell_type": "code",
   "execution_count": 28,
   "id": "38fb67c5-42e5-47e2-bee8-5217b6642504",
   "metadata": {},
   "outputs": [
    {
     "data": {
      "text/plain": [
       "campaña           0\n",
       "id_finca          0\n",
       "id_zona           0\n",
       "id_estacion       0\n",
       "altitud          54\n",
       "variedad          0\n",
       "modo              0\n",
       "tipo              0\n",
       "color             0\n",
       "superficie        0\n",
       "produccion     1075\n",
       "dtype: int64"
      ]
     },
     "execution_count": 28,
     "metadata": {},
     "output_type": "execute_result"
    }
   ],
   "source": [
    "df.isna().sum()"
   ]
  },
  {
   "cell_type": "code",
   "execution_count": 29,
   "id": "d83d0e3b-826d-41b4-8e08-aecb2de3edaa",
   "metadata": {},
   "outputs": [],
   "source": [
    "df['superficie'] = df['superficie'].replace(0, np.nan)"
   ]
  },
  {
   "cell_type": "code",
   "execution_count": 30,
   "id": "a6dadfb8-e1a0-44d8-9540-14f92eb9898d",
   "metadata": {},
   "outputs": [
    {
     "data": {
      "text/plain": [
       "6518"
      ]
     },
     "execution_count": 30,
     "metadata": {},
     "output_type": "execute_result"
    }
   ],
   "source": [
    "df['superficie'].isna().sum()"
   ]
  },
  {
   "cell_type": "markdown",
   "id": "94b3d633-d86f-40af-8675-670c4e94e963",
   "metadata": {},
   "source": [
    "Filleamos NA segun la media por estacion"
   ]
  },
  {
   "cell_type": "code",
   "execution_count": 32,
   "id": "9c8cb52d-0419-4c0c-a171-47448118390b",
   "metadata": {},
   "outputs": [],
   "source": [
    "for col in ['superficie','altitud']:\n",
    "    df[col]  = df.groupby(['id_estacion'])[col].transform(lambda x: x.fillna(x.mean()))"
   ]
  },
  {
   "cell_type": "code",
   "execution_count": 34,
   "id": "a032f17f-6455-452b-b316-08406b9474ec",
   "metadata": {},
   "outputs": [
    {
     "data": {
      "text/plain": [
       "campaña           0\n",
       "id_finca          0\n",
       "id_zona           0\n",
       "id_estacion       0\n",
       "altitud           0\n",
       "variedad          0\n",
       "modo              0\n",
       "tipo              0\n",
       "color             0\n",
       "superficie       14\n",
       "produccion     1075\n",
       "dtype: int64"
      ]
     },
     "execution_count": 34,
     "metadata": {},
     "output_type": "execute_result"
    }
   ],
   "source": [
    "df.isna().sum() #Tenemos NAs en superficie, puede darse porque no encontró la estación para calcularle la mean. Imputamos de nuevo"
   ]
  },
  {
   "cell_type": "code",
   "execution_count": 36,
   "id": "5a8f3d32-0885-4276-bf42-9383f87f106c",
   "metadata": {},
   "outputs": [],
   "source": [
    "df['superficie']  = df['superficie'].fillna(df['superficie'].mean())"
   ]
  },
  {
   "cell_type": "code",
   "execution_count": 37,
   "id": "a5736e08-e5af-44a8-acbe-2c23d78754eb",
   "metadata": {},
   "outputs": [
    {
     "data": {
      "text/plain": [
       "0"
      ]
     },
     "execution_count": 37,
     "metadata": {},
     "output_type": "execute_result"
    }
   ],
   "source": [
    "df['superficie'].isna().sum()"
   ]
  },
  {
   "cell_type": "markdown",
   "id": "1acff5c8-a0f3-4b87-8d88-824916c00c28",
   "metadata": {},
   "source": [
    "**Encoder para las categoricas**"
   ]
  },
  {
   "cell_type": "code",
   "execution_count": 38,
   "id": "323c5743-b129-49cf-89c7-52ff0308c6a4",
   "metadata": {},
   "outputs": [],
   "source": [
    "cat_cols = ['id_finca', 'id_zona', 'id_estacion','variedad','modo','tipo','color']"
   ]
  },
  {
   "cell_type": "code",
   "execution_count": 42,
   "id": "2a900286-7529-4a61-a416-ec7772789e4a",
   "metadata": {},
   "outputs": [
    {
     "data": {
      "text/html": [
       "<div>\n",
       "<style scoped>\n",
       "    .dataframe tbody tr th:only-of-type {\n",
       "        vertical-align: middle;\n",
       "    }\n",
       "\n",
       "    .dataframe tbody tr th {\n",
       "        vertical-align: top;\n",
       "    }\n",
       "\n",
       "    .dataframe thead th {\n",
       "        text-align: right;\n",
       "    }\n",
       "</style>\n",
       "<table border=\"1\" class=\"dataframe\">\n",
       "  <thead>\n",
       "    <tr style=\"text-align: right;\">\n",
       "      <th></th>\n",
       "      <th>campaña</th>\n",
       "      <th>id_finca</th>\n",
       "      <th>id_zona</th>\n",
       "      <th>id_estacion</th>\n",
       "      <th>altitud</th>\n",
       "      <th>variedad</th>\n",
       "      <th>modo</th>\n",
       "      <th>tipo</th>\n",
       "      <th>color</th>\n",
       "      <th>superficie</th>\n",
       "      <th>produccion</th>\n",
       "    </tr>\n",
       "  </thead>\n",
       "  <tbody>\n",
       "    <tr>\n",
       "      <th>0</th>\n",
       "      <td>14</td>\n",
       "      <td>936</td>\n",
       "      <td>68</td>\n",
       "      <td>4</td>\n",
       "      <td>660.00</td>\n",
       "      <td>7</td>\n",
       "      <td>1</td>\n",
       "      <td>0</td>\n",
       "      <td>1</td>\n",
       "      <td>2.15</td>\n",
       "      <td>22215.00</td>\n",
       "    </tr>\n",
       "    <tr>\n",
       "      <th>1</th>\n",
       "      <td>14</td>\n",
       "      <td>1021</td>\n",
       "      <td>68</td>\n",
       "      <td>4</td>\n",
       "      <td>660.00</td>\n",
       "      <td>7</td>\n",
       "      <td>1</td>\n",
       "      <td>0</td>\n",
       "      <td>1</td>\n",
       "      <td>2.15</td>\n",
       "      <td>22215.00</td>\n",
       "    </tr>\n",
       "    <tr>\n",
       "      <th>2</th>\n",
       "      <td>14</td>\n",
       "      <td>1042</td>\n",
       "      <td>40</td>\n",
       "      <td>4</td>\n",
       "      <td>520.00</td>\n",
       "      <td>8</td>\n",
       "      <td>1</td>\n",
       "      <td>0</td>\n",
       "      <td>1</td>\n",
       "      <td>2.15</td>\n",
       "      <td>20978.00</td>\n",
       "    </tr>\n",
       "    <tr>\n",
       "      <th>3</th>\n",
       "      <td>14</td>\n",
       "      <td>838</td>\n",
       "      <td>40</td>\n",
       "      <td>4</td>\n",
       "      <td>520.00</td>\n",
       "      <td>8</td>\n",
       "      <td>1</td>\n",
       "      <td>0</td>\n",
       "      <td>1</td>\n",
       "      <td>2.15</td>\n",
       "      <td>40722.00</td>\n",
       "    </tr>\n",
       "    <tr>\n",
       "      <th>4</th>\n",
       "      <td>14</td>\n",
       "      <td>175</td>\n",
       "      <td>108</td>\n",
       "      <td>14</td>\n",
       "      <td>659.10</td>\n",
       "      <td>20</td>\n",
       "      <td>0</td>\n",
       "      <td>0</td>\n",
       "      <td>1</td>\n",
       "      <td>3.51</td>\n",
       "      <td>14126.00</td>\n",
       "    </tr>\n",
       "  </tbody>\n",
       "</table>\n",
       "</div>"
      ],
      "text/plain": [
       "   campaña  id_finca  id_zona  id_estacion  altitud  variedad  modo  tipo  \\\n",
       "0       14       936       68            4   660.00         7     1     0   \n",
       "1       14      1021       68            4   660.00         7     1     0   \n",
       "2       14      1042       40            4   520.00         8     1     0   \n",
       "3       14       838       40            4   520.00         8     1     0   \n",
       "4       14       175      108           14   659.10        20     0     0   \n",
       "\n",
       "   color  superficie  produccion  \n",
       "0      1        2.15    22215.00  \n",
       "1      1        2.15    22215.00  \n",
       "2      1        2.15    20978.00  \n",
       "3      1        2.15    40722.00  \n",
       "4      1        3.51    14126.00  "
      ]
     },
     "execution_count": 42,
     "metadata": {},
     "output_type": "execute_result"
    }
   ],
   "source": [
    "from sklearn.preprocessing import LabelEncoder\n",
    "\n",
    "label_encoder = LabelEncoder()\n",
    "\n",
    "for var in cat_cols:\n",
    "    df[var] = label_encoder.fit_transform(df[var])\n",
    "\n",
    "df.head()"
   ]
  },
  {
   "cell_type": "markdown",
   "id": "01c8c69f-e5c9-4d60-b97f-118f01bfd62d",
   "metadata": {},
   "source": [
    "**Númericas**"
   ]
  },
  {
   "cell_type": "code",
   "execution_count": 44,
   "id": "a764edeb-f50c-4a91-a0f5-4a6f07070b93",
   "metadata": {},
   "outputs": [],
   "source": [
    "cont_vars = ['superficie', 'produccion', 'altitud']"
   ]
  },
  {
   "cell_type": "code",
   "execution_count": 46,
   "id": "d5e8b999-1ad0-405b-b333-d4bb67a5399c",
   "metadata": {},
   "outputs": [
    {
     "data": {
      "image/png": "[encoded data removed]",
      "text/plain": [
       "<Figure size 1440x360 with 3 Axes>"
      ]
     },
     "metadata": {},
     "output_type": "display_data"
    }
   ],
   "source": [
    "fig, axes = plt.subplots(ncols=3, figsize=(20, 5))\n",
    "sns.boxplot(x=df[df['superficie']>0]['superficie'], ax=axes[0])\n",
    "sns.boxplot(x=df['produccion'], ax=axes[1])\n",
    "sns.boxplot(x=df['altitud'], ax=axes[2])\n",
    "plt.show()"
   ]
  },
  {
   "cell_type": "markdown",
   "id": "e2f4294b",
   "metadata": {},
   "source": [
    "## Modelo dummy"
   ]
  },
  {
   "cell_type": "code",
   "execution_count": 47,
   "id": "402f701c",
   "metadata": {},
   "outputs": [],
   "source": [
    "train_df = df[df.campaña<22]"
   ]
  },
  {
   "cell_type": "code",
   "execution_count": 48,
   "id": "6a51d7b8",
   "metadata": {},
   "outputs": [
    {
     "data": {
      "text/plain": [
       "(8526, 11)"
      ]
     },
     "execution_count": 48,
     "metadata": {},
     "output_type": "execute_result"
    }
   ],
   "source": [
    "train_df.shape"
   ]
  },
  {
   "cell_type": "code",
   "execution_count": 50,
   "id": "e2e36513-0e5d-4a67-ac60-87f379ba707e",
   "metadata": {},
   "outputs": [
    {
     "data": {
      "text/html": [
       "<div>\n",
       "<style scoped>\n",
       "    .dataframe tbody tr th:only-of-type {\n",
       "        vertical-align: middle;\n",
       "    }\n",
       "\n",
       "    .dataframe tbody tr th {\n",
       "        vertical-align: top;\n",
       "    }\n",
       "\n",
       "    .dataframe thead th {\n",
       "        text-align: right;\n",
       "    }\n",
       "</style>\n",
       "<table border=\"1\" class=\"dataframe\">\n",
       "  <thead>\n",
       "    <tr style=\"text-align: right;\">\n",
       "      <th></th>\n",
       "      <th>campaña</th>\n",
       "      <th>id_finca</th>\n",
       "      <th>id_zona</th>\n",
       "      <th>id_estacion</th>\n",
       "      <th>altitud</th>\n",
       "      <th>variedad</th>\n",
       "      <th>modo</th>\n",
       "      <th>tipo</th>\n",
       "      <th>color</th>\n",
       "      <th>superficie</th>\n",
       "      <th>produccion</th>\n",
       "    </tr>\n",
       "  </thead>\n",
       "  <tbody>\n",
       "    <tr>\n",
       "      <th>0</th>\n",
       "      <td>14</td>\n",
       "      <td>936</td>\n",
       "      <td>68</td>\n",
       "      <td>4</td>\n",
       "      <td>660.00</td>\n",
       "      <td>7</td>\n",
       "      <td>1</td>\n",
       "      <td>0</td>\n",
       "      <td>1</td>\n",
       "      <td>2.15</td>\n",
       "      <td>22215.00</td>\n",
       "    </tr>\n",
       "    <tr>\n",
       "      <th>1</th>\n",
       "      <td>14</td>\n",
       "      <td>1021</td>\n",
       "      <td>68</td>\n",
       "      <td>4</td>\n",
       "      <td>660.00</td>\n",
       "      <td>7</td>\n",
       "      <td>1</td>\n",
       "      <td>0</td>\n",
       "      <td>1</td>\n",
       "      <td>2.15</td>\n",
       "      <td>22215.00</td>\n",
       "    </tr>\n",
       "    <tr>\n",
       "      <th>2</th>\n",
       "      <td>14</td>\n",
       "      <td>1042</td>\n",
       "      <td>40</td>\n",
       "      <td>4</td>\n",
       "      <td>520.00</td>\n",
       "      <td>8</td>\n",
       "      <td>1</td>\n",
       "      <td>0</td>\n",
       "      <td>1</td>\n",
       "      <td>2.15</td>\n",
       "      <td>20978.00</td>\n",
       "    </tr>\n",
       "    <tr>\n",
       "      <th>3</th>\n",
       "      <td>14</td>\n",
       "      <td>838</td>\n",
       "      <td>40</td>\n",
       "      <td>4</td>\n",
       "      <td>520.00</td>\n",
       "      <td>8</td>\n",
       "      <td>1</td>\n",
       "      <td>0</td>\n",
       "      <td>1</td>\n",
       "      <td>2.15</td>\n",
       "      <td>40722.00</td>\n",
       "    </tr>\n",
       "    <tr>\n",
       "      <th>4</th>\n",
       "      <td>14</td>\n",
       "      <td>175</td>\n",
       "      <td>108</td>\n",
       "      <td>14</td>\n",
       "      <td>659.10</td>\n",
       "      <td>20</td>\n",
       "      <td>0</td>\n",
       "      <td>0</td>\n",
       "      <td>1</td>\n",
       "      <td>3.51</td>\n",
       "      <td>14126.00</td>\n",
       "    </tr>\n",
       "  </tbody>\n",
       "</table>\n",
       "</div>"
      ],
      "text/plain": [
       "   campaña  id_finca  id_zona  id_estacion  altitud  variedad  modo  tipo  \\\n",
       "0       14       936       68            4   660.00         7     1     0   \n",
       "1       14      1021       68            4   660.00         7     1     0   \n",
       "2       14      1042       40            4   520.00         8     1     0   \n",
       "3       14       838       40            4   520.00         8     1     0   \n",
       "4       14       175      108           14   659.10        20     0     0   \n",
       "\n",
       "   color  superficie  produccion  \n",
       "0      1        2.15    22215.00  \n",
       "1      1        2.15    22215.00  \n",
       "2      1        2.15    20978.00  \n",
       "3      1        2.15    40722.00  \n",
       "4      1        3.51    14126.00  "
      ]
     },
     "execution_count": 50,
     "metadata": {},
     "output_type": "execute_result"
    }
   ],
   "source": [
    "train_df.head()"
   ]
  },
  {
   "cell_type": "code",
   "execution_count": 51,
   "id": "bb5e696a-dbf8-49e9-ba4c-9e94911cbbd1",
   "metadata": {},
   "outputs": [
    {
     "data": {
      "text/plain": [
       "campaña        0\n",
       "id_finca       0\n",
       "id_zona        0\n",
       "id_estacion    0\n",
       "altitud        0\n",
       "variedad       0\n",
       "modo           0\n",
       "tipo           0\n",
       "color          0\n",
       "superficie     0\n",
       "produccion     0\n",
       "dtype: int64"
      ]
     },
     "execution_count": 51,
     "metadata": {},
     "output_type": "execute_result"
    }
   ],
   "source": [
    "train_df.isna().sum()"
   ]
  },
  {
   "cell_type": "code",
   "execution_count": 52,
   "id": "38d651dc",
   "metadata": {},
   "outputs": [],
   "source": [
    "from sklearn.ensemble import RandomForestRegressor\n",
    "from sklearn.model_selection import KFold, ShuffleSplit, LeaveOneOut, StratifiedKFold\n",
    "from sklearn.model_selection import cross_val_score, cross_val_predict"
   ]
  },
  {
   "cell_type": "code",
   "execution_count": 53,
   "id": "fcda0eeb",
   "metadata": {},
   "outputs": [],
   "source": [
    "#Split\n",
    "\n",
    "import sklearn as sk\n",
    "from sklearn.model_selection import train_test_split\n",
    "\n",
    "target = 'produccion'\n",
    "\n",
    "X = train_df.loc[:, train_df.columns != target]\n",
    "y = train_df[target]\n",
    "\n",
    "X_train, X_test, y_train, y_test = train_test_split(X,y,test_size=0.2,random_state=99)"
   ]
  },
  {
   "cell_type": "code",
   "execution_count": 54,
   "id": "03643929",
   "metadata": {},
   "outputs": [],
   "source": [
    "model = RandomForestRegressor()\n",
    "\n",
    "kfold = KFold(n_splits=10,shuffle=True,random_state=99)\n",
    "\n",
    "result = cross_val_score(estimator=model,\n",
    "                         X=X,\n",
    "                         y=y,\n",
    "                         cv=kfold,\n",
    "                         scoring = 'neg_mean_squared_error')"
   ]
  },
  {
   "cell_type": "code",
   "execution_count": 55,
   "id": "c06cd4f3",
   "metadata": {},
   "outputs": [
    {
     "data": {
      "text/plain": [
       "6303.830111334528"
      ]
     },
     "execution_count": 55,
     "metadata": {},
     "output_type": "execute_result"
    }
   ],
   "source": [
    "np.mean(np.sqrt(np.abs(result)))"
   ]
  },
  {
   "cell_type": "markdown",
   "id": "17e46da6-4f8e-4004-b792-df1d91c53ce1",
   "metadata": {},
   "source": [
    "Feature importances"
   ]
  },
  {
   "cell_type": "code",
   "execution_count": 56,
   "id": "e79ee053-1c49-4d56-ad60-778913a6f70c",
   "metadata": {},
   "outputs": [
    {
     "data": {
      "text/html": [
       "<style>#sk-container-id-1 {color: black;background-color: white;}#sk-container-id-1 pre{padding: 0;}#sk-container-id-1 div.sk-toggleable {background-color: white;}#sk-container-id-1 label.sk-toggleable__label {cursor: pointer;display: block;width: 100%;margin-bottom: 0;padding: 0.3em;box-sizing: border-box;text-align: center;}#sk-container-id-1 label.sk-toggleable__label-arrow:before {content: \"▸\";float: left;margin-right: 0.25em;color: #696969;}#sk-container-id-1 label.sk-toggleable__label-arrow:hover:before {color: black;}#sk-container-id-1 div.sk-estimator:hover label.sk-toggleable__label-arrow:before {color: black;}#sk-container-id-1 div.sk-toggleable__content {max-height: 0;max-width: 0;overflow: hidden;text-align: left;background-color: #f0f8ff;}#sk-container-id-1 div.sk-toggleable__content pre {margin: 0.2em;color: black;border-radius: 0.25em;background-color: #f0f8ff;}#sk-container-id-1 input.sk-toggleable__control:checked~div.sk-toggleable__content {max-height: 200px;max-width: 100%;overflow: auto;}#sk-container-id-1 input.sk-toggleable__control:checked~label.sk-toggleable__label-arrow:before {content: \"▾\";}#sk-container-id-1 div.sk-estimator input.sk-toggleable__control:checked~label.sk-toggleable__label {background-color: #d4ebff;}#sk-container-id-1 div.sk-label input.sk-toggleable__control:checked~label.sk-toggleable__label {background-color: #d4ebff;}#sk-container-id-1 input.sk-hidden--visually {border: 0;clip: rect(1px 1px 1px 1px);clip: rect(1px, 1px, 1px, 1px);height: 1px;margin: -1px;overflow: hidden;padding: 0;position: absolute;width: 1px;}#sk-container-id-1 div.sk-estimator {font-family: monospace;background-color: #f0f8ff;border: 1px dotted black;border-radius: 0.25em;box-sizing: border-box;margin-bottom: 0.5em;}#sk-container-id-1 div.sk-estimator:hover {background-color: #d4ebff;}#sk-container-id-1 div.sk-parallel-item::after {content: \"\";width: 100%;border-bottom: 1px solid gray;flex-grow: 1;}#sk-container-id-1 div.sk-label:hover label.sk-toggleable__label {background-color: #d4ebff;}#sk-container-id-1 div.sk-serial::before {content: \"\";position: absolute;border-left: 1px solid gray;box-sizing: border-box;top: 0;bottom: 0;left: 50%;z-index: 0;}#sk-container-id-1 div.sk-serial {display: flex;flex-direction: column;align-items: center;background-color: white;padding-right: 0.2em;padding-left: 0.2em;position: relative;}#sk-container-id-1 div.sk-item {position: relative;z-index: 1;}#sk-container-id-1 div.sk-parallel {display: flex;align-items: stretch;justify-content: center;background-color: white;position: relative;}#sk-container-id-1 div.sk-item::before, #sk-container-id-1 div.sk-parallel-item::before {content: \"\";position: absolute;border-left: 1px solid gray;box-sizing: border-box;top: 0;bottom: 0;left: 50%;z-index: -1;}#sk-container-id-1 div.sk-parallel-item {display: flex;flex-direction: column;z-index: 1;position: relative;background-color: white;}#sk-container-id-1 div.sk-parallel-item:first-child::after {align-self: flex-end;width: 50%;}#sk-container-id-1 div.sk-parallel-item:last-child::after {align-self: flex-start;width: 50%;}#sk-container-id-1 div.sk-parallel-item:only-child::after {width: 0;}#sk-container-id-1 div.sk-dashed-wrapped {border: 1px dashed gray;margin: 0 0.4em 0.5em 0.4em;box-sizing: border-box;padding-bottom: 0.4em;background-color: white;}#sk-container-id-1 div.sk-label label {font-family: monospace;font-weight: bold;display: inline-block;line-height: 1.2em;}#sk-container-id-1 div.sk-label-container {text-align: center;}#sk-container-id-1 div.sk-container {/* jupyter's `normalize.less` sets `[hidden] { display: none; }` but bootstrap.min.css set `[hidden] { display: none !important; }` so we also need the `!important` here to be able to override the default hidden behavior on the sphinx rendered scikit-learn.org. See: https://github.com/scikit-learn/scikit-learn/issues/21755 */display: inline-block !important;position: relative;}#sk-container-id-1 div.sk-text-repr-fallback {display: none;}</style><div id=\"sk-container-id-1\" class=\"sk-top-container\"><div class=\"sk-text-repr-fallback\"><pre>RandomForestRegressor(random_state=99)</pre><b>In a Jupyter environment, please rerun this cell to show the HTML representation or trust the notebook. <br />On GitHub, the HTML representation is unable to render, please try loading this page with nbviewer.org.</b></div><div class=\"sk-container\" hidden><div class=\"sk-item\"><div class=\"sk-estimator sk-toggleable\"><input class=\"sk-toggleable__control sk-hidden--visually\" id=\"sk-estimator-id-1\" type=\"checkbox\" checked><label for=\"sk-estimator-id-1\" class=\"sk-toggleable__label sk-toggleable__label-arrow\">RandomForestRegressor</label><div class=\"sk-toggleable__content\"><pre>RandomForestRegressor(random_state=99)</pre></div></div></div></div></div>"
      ],
      "text/plain": [
       "RandomForestRegressor(random_state=99)"
      ]
     },
     "execution_count": 56,
     "metadata": {},
     "output_type": "execute_result"
    }
   ],
   "source": [
    "X_train, X_test, y_train, y_test = train_test_split(X,y,test_size=0.2,random_state=99)\n",
    "\n",
    "rf = RandomForestRegressor(random_state=99)\n",
    "\n",
    "rf.fit(X_train, y_train)"
   ]
  },
  {
   "cell_type": "code",
   "execution_count": 78,
   "id": "59cf19a6-6178-44a4-a9ad-f3ff994841bc",
   "metadata": {},
   "outputs": [
    {
     "data": {
      "image/png": "[encoded data removed]",
      "text/plain": [
       "<Figure size 360x720 with 1 Axes>"
      ]
     },
     "metadata": {},
     "output_type": "display_data"
    }
   ],
   "source": [
    "plt.figure(figsize=(5,10))\n",
    "\n",
    "sorted_idx = rf.feature_importances_.argsort()\n",
    "plt.barh(y=X.columns[sorted_idx],width=rf.feature_importances_[sorted_idx])\n",
    "plt.xlabel(\"Random Forest Feature Importance\")\n",
    "plt.show()"
   ]
  },
  {
   "cell_type": "code",
   "execution_count": 77,
   "id": "5c04eebf-b9e7-4c95-a46b-c1a01bd395eb",
   "metadata": {},
   "outputs": [
    {
     "name": "stdout",
     "output_type": "stream",
     "text": [
      "6409.976720641327\n"
     ]
    }
   ],
   "source": [
    "from sklearn.metrics import mean_squared_error\n",
    "\n",
    "# Predict on test data\n",
    "\n",
    "prediction = rf.predict(X_test)\n",
    "# Compute mean squared error\n",
    "mse = mean_squared_error(y_test, prediction)\n",
    "# Print results\n",
    "print(np.sqrt(mse))"
   ]
  },
  {
   "cell_type": "markdown",
   "id": "3f34bf2b",
   "metadata": {},
   "source": [
    "### Modelo 2"
   ]
  },
  {
   "cell_type": "markdown",
   "id": "d27621b6",
   "metadata": {},
   "source": [
    "- Volar 'id_finca', 'id_zona', y nos quedamos con estacion nomas para joinear.\n",
    "- \"Tipo\" y 'color' estan muy desbalanceada, volar si no suma al modelo."
   ]
  },
  {
   "cell_type": "code",
   "execution_count": 83,
   "id": "438ed242",
   "metadata": {},
   "outputs": [
    {
     "name": "stdout",
     "output_type": "stream",
     "text": [
      "0    9483\n",
      "1     118\n",
      "Name: tipo, dtype: int64\n",
      "1    8097\n",
      "0    1504\n",
      "Name: color, dtype: int64\n",
      "1    4891\n",
      "0    4710\n",
      "Name: modo, dtype: int64\n"
     ]
    }
   ],
   "source": [
    "for col in ['tipo','color','modo']:\n",
    "    print(df[col].value_counts())"
   ]
  },
  {
   "cell_type": "code",
   "execution_count": 79,
   "id": "1124600a-3652-4f65-a858-451836eb9278",
   "metadata": {},
   "outputs": [
    {
     "data": {
      "text/plain": [
       "<seaborn.axisgrid.FacetGrid at 0x1a4400f5e50>"
      ]
     },
     "execution_count": 79,
     "metadata": {},
     "output_type": "execute_result"
    },
    {
     "data": {
      "image/png": "[encoded data removed]",
      "text/plain": [
       "<Figure size 405.725x360 with 1 Axes>"
      ]
     },
     "metadata": {},
     "output_type": "display_data"
    }
   ],
   "source": [
    "sns.displot(data=df,x='produccion',hue='modo')"
   ]
  },
  {
   "cell_type": "code",
   "execution_count": 71,
   "id": "565c7972",
   "metadata": {},
   "outputs": [
    {
     "data": {
      "text/plain": [
       "<seaborn.axisgrid.FacetGrid at 0x1a42dfadf70>"
      ]
     },
     "execution_count": 71,
     "metadata": {},
     "output_type": "execute_result"
    },
    {
     "data": {
      "image/png": "[encoded data removed]",
      "text/plain": [
       "<Figure size 405.725x360 with 1 Axes>"
      ]
     },
     "metadata": {},
     "output_type": "display_data"
    },
    {
     "data": {
      "image/png": "[encoded data removed]",
      "text/plain": [
       "<Figure size 405.725x360 with 1 Axes>"
      ]
     },
     "metadata": {},
     "output_type": "display_data"
    }
   ],
   "source": [
    "sns.displot(data=df,x='produccion',hue='color')\n",
    "sns.displot(data=df,x='produccion',hue='tipo')"
   ]
  },
  {
   "cell_type": "code",
   "execution_count": 88,
   "id": "636a1734",
   "metadata": {},
   "outputs": [],
   "source": [
    "df2 = df.drop(columns=['id_finca','tipo','color'])"
   ]
  },
  {
   "cell_type": "code",
   "execution_count": 89,
   "id": "7e8d5c75",
   "metadata": {},
   "outputs": [
    {
     "name": "stdout",
     "output_type": "stream",
     "text": [
      "10401.889955475714\n"
     ]
    }
   ],
   "source": [
    "train_df = df2[df2.campaña<22]\n",
    "\n",
    "target = 'produccion'\n",
    "\n",
    "X = train_df.loc[:, train_df.columns != target]\n",
    "y = train_df[target]\n",
    "\n",
    "X_train, X_test, y_train, y_test = train_test_split(X,y,test_size=0.2,random_state=99)\n",
    "\n",
    "rf = RandomForestRegressor(random_state=99)\n",
    "\n",
    "rf.fit(X_train, y_train)\n",
    "\n",
    "prediction = rf.predict(X_test)\n",
    "# Compute mean squared error\n",
    "mse = mean_squared_error(y_test, prediction)\n",
    "# Print results\n",
    "print(np.sqrt(mse))"
   ]
  },
  {
   "cell_type": "code",
   "execution_count": 90,
   "id": "21eda6f0",
   "metadata": {},
   "outputs": [
    {
     "data": {
      "image/png": "[encoded data removed]",
      "text/plain": [
       "<Figure size 360x720 with 1 Axes>"
      ]
     },
     "metadata": {},
     "output_type": "display_data"
    }
   ],
   "source": [
    "plt.figure(figsize=(5,10))\n",
    "\n",
    "sorted_idx = rf.feature_importances_.argsort()\n",
    "plt.barh(y=X.columns[sorted_idx],width=rf.feature_importances_[sorted_idx])\n",
    "plt.xlabel(\"Random Forest Feature Importance\")\n",
    "plt.show()"
   ]
  },
  {
   "cell_type": "markdown",
   "id": "d2a00e6c-15fc-4663-adf8-c82255a2fa19",
   "metadata": {},
   "source": [
    "### Modelo 3 "
   ]
  },
  {
   "cell_type": "markdown",
   "id": "cdf5aa38-ff2f-4fcc-bf24-e0d19b4ef821",
   "metadata": {},
   "source": [
    "- Join con ETO\n",
    "- Volver a poner finca y/o zona"
   ]
  },
  {
   "cell_type": "code",
   "execution_count": 106,
   "id": "670991cd-f46f-4456-8136-2da49cd79204",
   "metadata": {},
   "outputs": [],
   "source": [
    "eto = pd.read_csv(\"C:/Users/denis/OneDrive/Escritorio/Datathon/datathon-cajamar-malbecs/data/processed/eto_processed.csv\", index_col=0)"
   ]
  },
  {
   "cell_type": "code",
   "execution_count": 107,
   "id": "10e71ab9-9646-4876-b422-9831aad42a5c",
   "metadata": {},
   "outputs": [
    {
     "data": {
      "text/html": [
       "<div>\n",
       "<style scoped>\n",
       "    .dataframe tbody tr th:only-of-type {\n",
       "        vertical-align: middle;\n",
       "    }\n",
       "\n",
       "    .dataframe tbody tr th {\n",
       "        vertical-align: top;\n",
       "    }\n",
       "\n",
       "    .dataframe thead th {\n",
       "        text-align: right;\n",
       "    }\n",
       "</style>\n",
       "<table border=\"1\" class=\"dataframe\">\n",
       "  <thead>\n",
       "    <tr style=\"text-align: right;\">\n",
       "      <th></th>\n",
       "      <th>ID_ESTACION</th>\n",
       "      <th>GustLocalDayAvg_1</th>\n",
       "      <th>GustLocalDayAvg_2</th>\n",
       "      <th>GustLocalDayAvg_3</th>\n",
       "      <th>GustLocalDayAvg_4</th>\n",
       "      <th>GustLocalDayAvg_5</th>\n",
       "      <th>GustLocalDayAvg_6</th>\n",
       "      <th>MSLPLocalDayAvg_1</th>\n",
       "      <th>MSLPLocalDayAvg_2</th>\n",
       "      <th>MSLPLocalDayAvg_3</th>\n",
       "      <th>MSLPLocalDayAvg_4</th>\n",
       "      <th>MSLPLocalDayAvg_5</th>\n",
       "      <th>MSLPLocalDayAvg_6</th>\n",
       "      <th>RelativeHumidityLocalDayAvg_1</th>\n",
       "      <th>RelativeHumidityLocalDayAvg_2</th>\n",
       "      <th>RelativeHumidityLocalDayAvg_3</th>\n",
       "      <th>RelativeHumidityLocalDayAvg_4</th>\n",
       "      <th>RelativeHumidityLocalDayAvg_5</th>\n",
       "      <th>RelativeHumidityLocalDayAvg_6</th>\n",
       "      <th>UVIndexLocalDayAvg_1</th>\n",
       "      <th>UVIndexLocalDayAvg_2</th>\n",
       "      <th>UVIndexLocalDayAvg_3</th>\n",
       "      <th>UVIndexLocalDayAvg_4</th>\n",
       "      <th>UVIndexLocalDayAvg_5</th>\n",
       "      <th>UVIndexLocalDayAvg_6</th>\n",
       "      <th>VisibilityLocalDayAvg_1</th>\n",
       "      <th>VisibilityLocalDayAvg_2</th>\n",
       "      <th>VisibilityLocalDayAvg_3</th>\n",
       "      <th>VisibilityLocalDayAvg_4</th>\n",
       "      <th>VisibilityLocalDayAvg_5</th>\n",
       "      <th>VisibilityLocalDayAvg_6</th>\n",
       "      <th>WindSpeedLocalDayAvg_1</th>\n",
       "      <th>WindSpeedLocalDayAvg_2</th>\n",
       "      <th>WindSpeedLocalDayAvg_3</th>\n",
       "      <th>WindSpeedLocalDayAvg_4</th>\n",
       "      <th>WindSpeedLocalDayAvg_5</th>\n",
       "      <th>WindSpeedLocalDayAvg_6</th>\n",
       "      <th>lluvia_daytime_avg_1</th>\n",
       "      <th>lluvia_daytime_avg_2</th>\n",
       "      <th>lluvia_daytime_avg_3</th>\n",
       "      <th>lluvia_daytime_avg_4</th>\n",
       "      <th>lluvia_daytime_avg_5</th>\n",
       "      <th>lluvia_daytime_avg_6</th>\n",
       "      <th>lluvia_night_avg_1</th>\n",
       "      <th>lluvia_night_avg_2</th>\n",
       "      <th>lluvia_night_avg_3</th>\n",
       "      <th>lluvia_night_avg_4</th>\n",
       "      <th>lluvia_night_avg_5</th>\n",
       "      <th>lluvia_night_avg_6</th>\n",
       "      <th>nieve_daytime_Avg_1</th>\n",
       "      <th>nieve_daytime_Avg_2</th>\n",
       "      <th>nieve_daytime_Avg_3</th>\n",
       "      <th>nieve_daytime_Avg_4</th>\n",
       "      <th>nieve_daytime_Avg_5</th>\n",
       "      <th>nieve_daytime_Avg_6</th>\n",
       "      <th>nieve_night_Avg_1</th>\n",
       "      <th>nieve_night_Avg_2</th>\n",
       "      <th>nieve_night_Avg_3</th>\n",
       "      <th>nieve_night_Avg_4</th>\n",
       "      <th>nieve_night_Avg_5</th>\n",
       "      <th>nieve_night_Avg_6</th>\n",
       "      <th>campaña</th>\n",
       "    </tr>\n",
       "  </thead>\n",
       "  <tbody>\n",
       "    <tr>\n",
       "      <th>0</th>\n",
       "      <td>0</td>\n",
       "      <td>8.73</td>\n",
       "      <td>8.81</td>\n",
       "      <td>8.41</td>\n",
       "      <td>8.09</td>\n",
       "      <td>8.11</td>\n",
       "      <td>5.90</td>\n",
       "      <td>102201.83</td>\n",
       "      <td>102146.62</td>\n",
       "      <td>101755.81</td>\n",
       "      <td>101428.21</td>\n",
       "      <td>101617.30</td>\n",
       "      <td>101532.45</td>\n",
       "      <td>67.64</td>\n",
       "      <td>66.56</td>\n",
       "      <td>68.41</td>\n",
       "      <td>70.65</td>\n",
       "      <td>61.86</td>\n",
       "      <td>42.60</td>\n",
       "      <td>0.40</td>\n",
       "      <td>0.62</td>\n",
       "      <td>1.04</td>\n",
       "      <td>1.54</td>\n",
       "      <td>2.13</td>\n",
       "      <td>1.45</td>\n",
       "      <td>12703.95</td>\n",
       "      <td>12566.77</td>\n",
       "      <td>12205.02</td>\n",
       "      <td>12427.89</td>\n",
       "      <td>13459.72</td>\n",
       "      <td>16093.00</td>\n",
       "      <td>2.80</td>\n",
       "      <td>2.68</td>\n",
       "      <td>3.10</td>\n",
       "      <td>2.66</td>\n",
       "      <td>2.34</td>\n",
       "      <td>3.35</td>\n",
       "      <td>40.80</td>\n",
       "      <td>12.51</td>\n",
       "      <td>55.03</td>\n",
       "      <td>45.26</td>\n",
       "      <td>20.23</td>\n",
       "      <td>0.00</td>\n",
       "      <td>33.60</td>\n",
       "      <td>9.94</td>\n",
       "      <td>41.66</td>\n",
       "      <td>54.51</td>\n",
       "      <td>11.83</td>\n",
       "      <td>0.00</td>\n",
       "      <td>0.02</td>\n",
       "      <td>0.01</td>\n",
       "      <td>0.00</td>\n",
       "      <td>0.00</td>\n",
       "      <td>0.00</td>\n",
       "      <td>0.00</td>\n",
       "      <td>0.02</td>\n",
       "      <td>0.00</td>\n",
       "      <td>0.00</td>\n",
       "      <td>0.00</td>\n",
       "      <td>0.00</td>\n",
       "      <td>0.00</td>\n",
       "      <td>15</td>\n",
       "    </tr>\n",
       "    <tr>\n",
       "      <th>1</th>\n",
       "      <td>1</td>\n",
       "      <td>9.46</td>\n",
       "      <td>8.96</td>\n",
       "      <td>8.78</td>\n",
       "      <td>8.50</td>\n",
       "      <td>8.58</td>\n",
       "      <td>6.25</td>\n",
       "      <td>102234.06</td>\n",
       "      <td>102167.03</td>\n",
       "      <td>101762.08</td>\n",
       "      <td>101431.50</td>\n",
       "      <td>101629.07</td>\n",
       "      <td>101553.19</td>\n",
       "      <td>72.75</td>\n",
       "      <td>69.21</td>\n",
       "      <td>69.56</td>\n",
       "      <td>70.14</td>\n",
       "      <td>59.82</td>\n",
       "      <td>36.65</td>\n",
       "      <td>0.40</td>\n",
       "      <td>0.63</td>\n",
       "      <td>1.04</td>\n",
       "      <td>1.55</td>\n",
       "      <td>2.14</td>\n",
       "      <td>1.60</td>\n",
       "      <td>12317.72</td>\n",
       "      <td>12307.27</td>\n",
       "      <td>12143.72</td>\n",
       "      <td>12397.98</td>\n",
       "      <td>13268.26</td>\n",
       "      <td>16093.00</td>\n",
       "      <td>3.81</td>\n",
       "      <td>3.63</td>\n",
       "      <td>4.09</td>\n",
       "      <td>3.53</td>\n",
       "      <td>3.13</td>\n",
       "      <td>3.85</td>\n",
       "      <td>25.54</td>\n",
       "      <td>11.31</td>\n",
       "      <td>42.86</td>\n",
       "      <td>44.23</td>\n",
       "      <td>23.66</td>\n",
       "      <td>0.00</td>\n",
       "      <td>16.63</td>\n",
       "      <td>10.11</td>\n",
       "      <td>35.83</td>\n",
       "      <td>51.94</td>\n",
       "      <td>24.51</td>\n",
       "      <td>0.00</td>\n",
       "      <td>0.06</td>\n",
       "      <td>0.01</td>\n",
       "      <td>0.00</td>\n",
       "      <td>0.00</td>\n",
       "      <td>0.00</td>\n",
       "      <td>0.00</td>\n",
       "      <td>0.03</td>\n",
       "      <td>0.00</td>\n",
       "      <td>0.00</td>\n",
       "      <td>0.00</td>\n",
       "      <td>0.00</td>\n",
       "      <td>0.00</td>\n",
       "      <td>15</td>\n",
       "    </tr>\n",
       "    <tr>\n",
       "      <th>2</th>\n",
       "      <td>2</td>\n",
       "      <td>9.01</td>\n",
       "      <td>8.94</td>\n",
       "      <td>8.49</td>\n",
       "      <td>8.27</td>\n",
       "      <td>8.05</td>\n",
       "      <td>0.00</td>\n",
       "      <td>102230.35</td>\n",
       "      <td>102165.75</td>\n",
       "      <td>101763.44</td>\n",
       "      <td>101439.95</td>\n",
       "      <td>101615.43</td>\n",
       "      <td>101532.84</td>\n",
       "      <td>69.86</td>\n",
       "      <td>66.95</td>\n",
       "      <td>67.13</td>\n",
       "      <td>68.15</td>\n",
       "      <td>59.89</td>\n",
       "      <td>41.05</td>\n",
       "      <td>0.42</td>\n",
       "      <td>0.64</td>\n",
       "      <td>1.07</td>\n",
       "      <td>1.58</td>\n",
       "      <td>2.17</td>\n",
       "      <td>1.50</td>\n",
       "      <td>12708.40</td>\n",
       "      <td>12722.14</td>\n",
       "      <td>12670.05</td>\n",
       "      <td>12872.93</td>\n",
       "      <td>13692.44</td>\n",
       "      <td>16093.00</td>\n",
       "      <td>2.97</td>\n",
       "      <td>2.84</td>\n",
       "      <td>3.23</td>\n",
       "      <td>2.88</td>\n",
       "      <td>2.62</td>\n",
       "      <td>3.35</td>\n",
       "      <td>20.74</td>\n",
       "      <td>5.14</td>\n",
       "      <td>43.03</td>\n",
       "      <td>38.91</td>\n",
       "      <td>14.06</td>\n",
       "      <td>0.00</td>\n",
       "      <td>19.20</td>\n",
       "      <td>3.43</td>\n",
       "      <td>31.20</td>\n",
       "      <td>46.11</td>\n",
       "      <td>17.66</td>\n",
       "      <td>0.00</td>\n",
       "      <td>0.01</td>\n",
       "      <td>0.00</td>\n",
       "      <td>0.00</td>\n",
       "      <td>0.00</td>\n",
       "      <td>0.00</td>\n",
       "      <td>0.00</td>\n",
       "      <td>0.00</td>\n",
       "      <td>0.00</td>\n",
       "      <td>0.00</td>\n",
       "      <td>0.00</td>\n",
       "      <td>0.00</td>\n",
       "      <td>0.00</td>\n",
       "      <td>15</td>\n",
       "    </tr>\n",
       "    <tr>\n",
       "      <th>3</th>\n",
       "      <td>3</td>\n",
       "      <td>9.29</td>\n",
       "      <td>9.06</td>\n",
       "      <td>8.66</td>\n",
       "      <td>8.48</td>\n",
       "      <td>8.16</td>\n",
       "      <td>6.30</td>\n",
       "      <td>102213.03</td>\n",
       "      <td>102157.90</td>\n",
       "      <td>101758.68</td>\n",
       "      <td>101429.61</td>\n",
       "      <td>101625.83</td>\n",
       "      <td>101547.07</td>\n",
       "      <td>71.02</td>\n",
       "      <td>69.21</td>\n",
       "      <td>70.03</td>\n",
       "      <td>71.44</td>\n",
       "      <td>62.10</td>\n",
       "      <td>38.90</td>\n",
       "      <td>0.40</td>\n",
       "      <td>0.62</td>\n",
       "      <td>1.04</td>\n",
       "      <td>1.54</td>\n",
       "      <td>2.14</td>\n",
       "      <td>1.50</td>\n",
       "      <td>12500.75</td>\n",
       "      <td>12391.16</td>\n",
       "      <td>12075.28</td>\n",
       "      <td>12384.46</td>\n",
       "      <td>13293.40</td>\n",
       "      <td>16093.00</td>\n",
       "      <td>3.61</td>\n",
       "      <td>3.43</td>\n",
       "      <td>3.89</td>\n",
       "      <td>3.33</td>\n",
       "      <td>2.91</td>\n",
       "      <td>3.65</td>\n",
       "      <td>31.54</td>\n",
       "      <td>8.74</td>\n",
       "      <td>44.74</td>\n",
       "      <td>35.49</td>\n",
       "      <td>16.97</td>\n",
       "      <td>0.00</td>\n",
       "      <td>25.89</td>\n",
       "      <td>8.23</td>\n",
       "      <td>38.06</td>\n",
       "      <td>43.03</td>\n",
       "      <td>16.11</td>\n",
       "      <td>0.00</td>\n",
       "      <td>0.06</td>\n",
       "      <td>0.00</td>\n",
       "      <td>0.00</td>\n",
       "      <td>0.00</td>\n",
       "      <td>0.00</td>\n",
       "      <td>0.00</td>\n",
       "      <td>0.02</td>\n",
       "      <td>0.00</td>\n",
       "      <td>0.00</td>\n",
       "      <td>0.00</td>\n",
       "      <td>0.00</td>\n",
       "      <td>0.00</td>\n",
       "      <td>15</td>\n",
       "    </tr>\n",
       "    <tr>\n",
       "      <th>4</th>\n",
       "      <td>4</td>\n",
       "      <td>9.37</td>\n",
       "      <td>9.01</td>\n",
       "      <td>8.65</td>\n",
       "      <td>8.43</td>\n",
       "      <td>8.25</td>\n",
       "      <td>6.00</td>\n",
       "      <td>102229.53</td>\n",
       "      <td>102164.91</td>\n",
       "      <td>101770.68</td>\n",
       "      <td>101446.43</td>\n",
       "      <td>101620.98</td>\n",
       "      <td>101541.87</td>\n",
       "      <td>70.35</td>\n",
       "      <td>67.81</td>\n",
       "      <td>68.13</td>\n",
       "      <td>68.75</td>\n",
       "      <td>59.33</td>\n",
       "      <td>37.10</td>\n",
       "      <td>0.41</td>\n",
       "      <td>0.63</td>\n",
       "      <td>1.06</td>\n",
       "      <td>1.56</td>\n",
       "      <td>2.15</td>\n",
       "      <td>1.50</td>\n",
       "      <td>12605.38</td>\n",
       "      <td>12518.67</td>\n",
       "      <td>12333.94</td>\n",
       "      <td>12669.56</td>\n",
       "      <td>13506.27</td>\n",
       "      <td>16093.00</td>\n",
       "      <td>3.79</td>\n",
       "      <td>3.57</td>\n",
       "      <td>4.05</td>\n",
       "      <td>3.50</td>\n",
       "      <td>3.06</td>\n",
       "      <td>3.85</td>\n",
       "      <td>22.80</td>\n",
       "      <td>7.54</td>\n",
       "      <td>45.26</td>\n",
       "      <td>37.37</td>\n",
       "      <td>12.00</td>\n",
       "      <td>0.00</td>\n",
       "      <td>18.51</td>\n",
       "      <td>8.91</td>\n",
       "      <td>37.54</td>\n",
       "      <td>43.54</td>\n",
       "      <td>23.83</td>\n",
       "      <td>0.00</td>\n",
       "      <td>0.03</td>\n",
       "      <td>0.00</td>\n",
       "      <td>0.00</td>\n",
       "      <td>0.00</td>\n",
       "      <td>0.00</td>\n",
       "      <td>0.00</td>\n",
       "      <td>0.01</td>\n",
       "      <td>0.00</td>\n",
       "      <td>0.00</td>\n",
       "      <td>0.00</td>\n",
       "      <td>0.00</td>\n",
       "      <td>0.00</td>\n",
       "      <td>15</td>\n",
       "    </tr>\n",
       "  </tbody>\n",
       "</table>\n",
       "</div>"
      ],
      "text/plain": [
       "   ID_ESTACION  GustLocalDayAvg_1  GustLocalDayAvg_2  GustLocalDayAvg_3  \\\n",
       "0            0               8.73               8.81               8.41   \n",
       "1            1               9.46               8.96               8.78   \n",
       "2            2               9.01               8.94               8.49   \n",
       "3            3               9.29               9.06               8.66   \n",
       "4            4               9.37               9.01               8.65   \n",
       "\n",
       "   GustLocalDayAvg_4  GustLocalDayAvg_5  GustLocalDayAvg_6  MSLPLocalDayAvg_1  \\\n",
       "0               8.09               8.11               5.90          102201.83   \n",
       "1               8.50               8.58               6.25          102234.06   \n",
       "2               8.27               8.05               0.00          102230.35   \n",
       "3               8.48               8.16               6.30          102213.03   \n",
       "4               8.43               8.25               6.00          102229.53   \n",
       "\n",
       "   MSLPLocalDayAvg_2  MSLPLocalDayAvg_3  MSLPLocalDayAvg_4  MSLPLocalDayAvg_5  \\\n",
       "0          102146.62          101755.81          101428.21          101617.30   \n",
       "1          102167.03          101762.08          101431.50          101629.07   \n",
       "2          102165.75          101763.44          101439.95          101615.43   \n",
       "3          102157.90          101758.68          101429.61          101625.83   \n",
       "4          102164.91          101770.68          101446.43          101620.98   \n",
       "\n",
       "   MSLPLocalDayAvg_6  RelativeHumidityLocalDayAvg_1  \\\n",
       "0          101532.45                          67.64   \n",
       "1          101553.19                          72.75   \n",
       "2          101532.84                          69.86   \n",
       "3          101547.07                          71.02   \n",
       "4          101541.87                          70.35   \n",
       "\n",
       "   RelativeHumidityLocalDayAvg_2  RelativeHumidityLocalDayAvg_3  \\\n",
       "0                          66.56                          68.41   \n",
       "1                          69.21                          69.56   \n",
       "2                          66.95                          67.13   \n",
       "3                          69.21                          70.03   \n",
       "4                          67.81                          68.13   \n",
       "\n",
       "   RelativeHumidityLocalDayAvg_4  RelativeHumidityLocalDayAvg_5  \\\n",
       "0                          70.65                          61.86   \n",
       "1                          70.14                          59.82   \n",
       "2                          68.15                          59.89   \n",
       "3                          71.44                          62.10   \n",
       "4                          68.75                          59.33   \n",
       "\n",
       "   RelativeHumidityLocalDayAvg_6  UVIndexLocalDayAvg_1  UVIndexLocalDayAvg_2  \\\n",
       "0                          42.60                  0.40                  0.62   \n",
       "1                          36.65                  0.40                  0.63   \n",
       "2                          41.05                  0.42                  0.64   \n",
       "3                          38.90                  0.40                  0.62   \n",
       "4                          37.10                  0.41                  0.63   \n",
       "\n",
       "   UVIndexLocalDayAvg_3  UVIndexLocalDayAvg_4  UVIndexLocalDayAvg_5  \\\n",
       "0                  1.04                  1.54                  2.13   \n",
       "1                  1.04                  1.55                  2.14   \n",
       "2                  1.07                  1.58                  2.17   \n",
       "3                  1.04                  1.54                  2.14   \n",
       "4                  1.06                  1.56                  2.15   \n",
       "\n",
       "   UVIndexLocalDayAvg_6  VisibilityLocalDayAvg_1  VisibilityLocalDayAvg_2  \\\n",
       "0                  1.45                 12703.95                 12566.77   \n",
       "1                  1.60                 12317.72                 12307.27   \n",
       "2                  1.50                 12708.40                 12722.14   \n",
       "3                  1.50                 12500.75                 12391.16   \n",
       "4                  1.50                 12605.38                 12518.67   \n",
       "\n",
       "   VisibilityLocalDayAvg_3  VisibilityLocalDayAvg_4  VisibilityLocalDayAvg_5  \\\n",
       "0                 12205.02                 12427.89                 13459.72   \n",
       "1                 12143.72                 12397.98                 13268.26   \n",
       "2                 12670.05                 12872.93                 13692.44   \n",
       "3                 12075.28                 12384.46                 13293.40   \n",
       "4                 12333.94                 12669.56                 13506.27   \n",
       "\n",
       "   VisibilityLocalDayAvg_6  WindSpeedLocalDayAvg_1  WindSpeedLocalDayAvg_2  \\\n",
       "0                 16093.00                    2.80                    2.68   \n",
       "1                 16093.00                    3.81                    3.63   \n",
       "2                 16093.00                    2.97                    2.84   \n",
       "3                 16093.00                    3.61                    3.43   \n",
       "4                 16093.00                    3.79                    3.57   \n",
       "\n",
       "   WindSpeedLocalDayAvg_3  WindSpeedLocalDayAvg_4  WindSpeedLocalDayAvg_5  \\\n",
       "0                    3.10                    2.66                    2.34   \n",
       "1                    4.09                    3.53                    3.13   \n",
       "2                    3.23                    2.88                    2.62   \n",
       "3                    3.89                    3.33                    2.91   \n",
       "4                    4.05                    3.50                    3.06   \n",
       "\n",
       "   WindSpeedLocalDayAvg_6  lluvia_daytime_avg_1  lluvia_daytime_avg_2  \\\n",
       "0                    3.35                 40.80                 12.51   \n",
       "1                    3.85                 25.54                 11.31   \n",
       "2                    3.35                 20.74                  5.14   \n",
       "3                    3.65                 31.54                  8.74   \n",
       "4                    3.85                 22.80                  7.54   \n",
       "\n",
       "   lluvia_daytime_avg_3  lluvia_daytime_avg_4  lluvia_daytime_avg_5  \\\n",
       "0                 55.03                 45.26                 20.23   \n",
       "1                 42.86                 44.23                 23.66   \n",
       "2                 43.03                 38.91                 14.06   \n",
       "3                 44.74                 35.49                 16.97   \n",
       "4                 45.26                 37.37                 12.00   \n",
       "\n",
       "   lluvia_daytime_avg_6  lluvia_night_avg_1  lluvia_night_avg_2  \\\n",
       "0                  0.00               33.60                9.94   \n",
       "1                  0.00               16.63               10.11   \n",
       "2                  0.00               19.20                3.43   \n",
       "3                  0.00               25.89                8.23   \n",
       "4                  0.00               18.51                8.91   \n",
       "\n",
       "   lluvia_night_avg_3  lluvia_night_avg_4  lluvia_night_avg_5  \\\n",
       "0               41.66               54.51               11.83   \n",
       "1               35.83               51.94               24.51   \n",
       "2               31.20               46.11               17.66   \n",
       "3               38.06               43.03               16.11   \n",
       "4               37.54               43.54               23.83   \n",
       "\n",
       "   lluvia_night_avg_6  nieve_daytime_Avg_1  nieve_daytime_Avg_2  \\\n",
       "0                0.00                 0.02                 0.01   \n",
       "1                0.00                 0.06                 0.01   \n",
       "2                0.00                 0.01                 0.00   \n",
       "3                0.00                 0.06                 0.00   \n",
       "4                0.00                 0.03                 0.00   \n",
       "\n",
       "   nieve_daytime_Avg_3  nieve_daytime_Avg_4  nieve_daytime_Avg_5  \\\n",
       "0                 0.00                 0.00                 0.00   \n",
       "1                 0.00                 0.00                 0.00   \n",
       "2                 0.00                 0.00                 0.00   \n",
       "3                 0.00                 0.00                 0.00   \n",
       "4                 0.00                 0.00                 0.00   \n",
       "\n",
       "   nieve_daytime_Avg_6  nieve_night_Avg_1  nieve_night_Avg_2  \\\n",
       "0                 0.00               0.02               0.00   \n",
       "1                 0.00               0.03               0.00   \n",
       "2                 0.00               0.00               0.00   \n",
       "3                 0.00               0.02               0.00   \n",
       "4                 0.00               0.01               0.00   \n",
       "\n",
       "   nieve_night_Avg_3  nieve_night_Avg_4  nieve_night_Avg_5  nieve_night_Avg_6  \\\n",
       "0               0.00               0.00               0.00               0.00   \n",
       "1               0.00               0.00               0.00               0.00   \n",
       "2               0.00               0.00               0.00               0.00   \n",
       "3               0.00               0.00               0.00               0.00   \n",
       "4               0.00               0.00               0.00               0.00   \n",
       "\n",
       "   campaña  \n",
       "0       15  \n",
       "1       15  \n",
       "2       15  \n",
       "3       15  \n",
       "4       15  "
      ]
     },
     "execution_count": 107,
     "metadata": {},
     "output_type": "execute_result"
    }
   ],
   "source": [
    "eto.head()"
   ]
  },
  {
   "cell_type": "code",
   "execution_count": 108,
   "id": "b4bff694-1357-4b1b-9484-5d620c933762",
   "metadata": {},
   "outputs": [],
   "source": [
    "eto.columns = [col.lower().replace('-','_') for col in eto.columns]"
   ]
  },
  {
   "cell_type": "code",
   "execution_count": 109,
   "id": "1305ffa0-2912-46b0-831d-f43eaff39b04",
   "metadata": {},
   "outputs": [
    {
     "data": {
      "text/plain": [
       "(160, 62)"
      ]
     },
     "execution_count": 109,
     "metadata": {},
     "output_type": "execute_result"
    }
   ],
   "source": [
    "eto.shape"
   ]
  },
  {
   "cell_type": "code",
   "execution_count": 110,
   "id": "e201bbc7-a055-4e3d-acde-903c6f124af0",
   "metadata": {},
   "outputs": [
    {
     "data": {
      "text/plain": [
       "0        2\n",
       "1        2\n",
       "2       45\n",
       "3      249\n",
       "4        4\n",
       "5     1155\n",
       "6       46\n",
       "7     1113\n",
       "8       93\n",
       "9      182\n",
       "10     252\n",
       "11      15\n",
       "12    2060\n",
       "13      16\n",
       "14     606\n",
       "15     956\n",
       "16    1087\n",
       "17       8\n",
       "18     773\n",
       "19     937\n",
       "Name: id_estacion, dtype: int64"
      ]
     },
     "execution_count": 110,
     "metadata": {},
     "output_type": "execute_result"
    }
   ],
   "source": [
    "df.id_estacion.value_counts().sort_index()"
   ]
  },
  {
   "cell_type": "code",
   "execution_count": 111,
   "id": "36d49489-7639-453f-a624-5f0e8261a240",
   "metadata": {},
   "outputs": [
    {
     "data": {
      "text/plain": [
       "0     8\n",
       "1     8\n",
       "2     8\n",
       "3     8\n",
       "4     8\n",
       "5     8\n",
       "6     8\n",
       "7     8\n",
       "8     8\n",
       "9     8\n",
       "10    8\n",
       "11    8\n",
       "12    8\n",
       "13    8\n",
       "14    8\n",
       "15    8\n",
       "16    8\n",
       "17    8\n",
       "18    8\n",
       "19    8\n",
       "Name: id_estacion, dtype: int64"
      ]
     },
     "execution_count": 111,
     "metadata": {},
     "output_type": "execute_result"
    }
   ],
   "source": [
    "eto.id_estacion.value_counts().sort_index()"
   ]
  },
  {
   "cell_type": "code",
   "execution_count": 113,
   "id": "923653f1-c8fc-4544-a19a-b5b191ec7d7d",
   "metadata": {},
   "outputs": [],
   "source": [
    "df_join = pd.merge(df, eto, on=['id_estacion', 'campaña'])"
   ]
  },
  {
   "cell_type": "code",
   "execution_count": 116,
   "id": "85c4694b-1676-4267-b691-3cc19d602f6d",
   "metadata": {},
   "outputs": [
    {
     "name": "stdout",
     "output_type": "stream",
     "text": [
      "8612.57328331649\n"
     ]
    }
   ],
   "source": [
    "train_df = df_join[df_join.campaña<22]\n",
    "\n",
    "target = 'produccion'\n",
    "\n",
    "X = train_df.loc[:, train_df.columns != target]\n",
    "y = train_df[target]\n",
    "\n",
    "X_train, X_test, y_train, y_test = train_test_split(X,y,test_size=0.2,random_state=99)\n",
    "\n",
    "rf = RandomForestRegressor(random_state=99)\n",
    "\n",
    "rf.fit(X_train, y_train)\n",
    "\n",
    "prediction = rf.predict(X_test)\n",
    "# Compute mean squared error\n",
    "mse = mean_squared_error(y_test, prediction)\n",
    "# Print results\n",
    "print(np.sqrt(mse))"
   ]
  },
  {
   "cell_type": "code",
   "execution_count": 117,
   "id": "40f8d915-0db5-474b-9db8-b92832881395",
   "metadata": {},
   "outputs": [
    {
     "data": {
      "image/png": "[encoded data removed]",
      "text/plain": [
       "<Figure size 360x720 with 1 Axes>"
      ]
     },
     "metadata": {},
     "output_type": "display_data"
    }
   ],
   "source": [
    "plt.figure(figsize=(5,10))\n",
    "\n",
    "sorted_idx = rf.feature_importances_.argsort()\n",
    "plt.barh(y=X.columns[sorted_idx],width=rf.feature_importances_[sorted_idx])\n",
    "plt.xlabel(\"Random Forest Feature Importance\")\n",
    "plt.show()"
   ]
  }
 ],
 "metadata": {
  "kernelspec": {
   "display_name": "Python 3",
   "language": "python",
   "name": "python3"
  },
  "language_info": {
   "codemirror_mode": {
    "name": "ipython",
    "version": 3
   },
   "file_extension": ".py",
   "mimetype": "text/x-python",
   "name": "python",
   "nbconvert_exporter": "python",
   "pygments_lexer": "ipython3",
   "version": "3.8.8"
  }
 },
 "nbformat": 4,
 "nbformat_minor": 5
}
