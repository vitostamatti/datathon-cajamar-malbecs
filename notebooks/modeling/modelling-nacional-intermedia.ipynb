{
 "cells": [
  {
   "attachments": {},
   "cell_type": "markdown",
   "metadata": {},
   "source": [
    "## Importamos librerias"
   ]
  },
  {
   "cell_type": "code",
   "execution_count": 3,
   "metadata": {},
   "outputs": [],
   "source": [
    "import pandas as pd\n",
    "import numpy as np\n",
    "import matplotlib.pyplot as plt\n",
    "from malbecs.modeling import train as tr\n",
    "\n",
    "\n",
    "import warnings\n",
    "warnings.filterwarnings('ignore')\n",
    "\n",
    "wine_path = \"../../data/final/wine_final.csv\"\n",
    "eto_path = \"../../data/final/eto_final.csv\"\n",
    "meteo_path = \"../../data/final/meteo_final.csv\"\n",
    "\n",
    "def show_feat_imps(feat_imp, feat_names):\n",
    "    pd.DataFrame(\n",
    "        feat_imp,\n",
    "        index=feat_names,\n",
    "        columns=[\"feat_imp\"]\n",
    "    ).sort_values(\"feat_imp\")[-50:].plot(kind='barh', figsize=(6, 15))\n"
   ]
  },
  {
   "cell_type": "markdown",
   "metadata": {},
   "source": [
    "## Cargamos datos preprocesados"
   ]
  },
  {
   "cell_type": "code",
   "execution_count": 4,
   "metadata": {},
   "outputs": [],
   "source": [
    "\n",
    "data = tr.load_final_data(\n",
    "    wine_path=wine_path,\n",
    "    eto_path=eto_path,\n",
    "    meteo_path=meteo_path\n",
    ")\n",
    "\n",
    "with open(\"../../data/final/meteo_features.txt\", \"r\", encoding=\"utf-8\") as f:\n",
    "    meteo_cols = f.read().split(\"\\n\")\n",
    "\n",
    "with open(\"../../data/final/eto_features.txt\", \"r\") as f:\n",
    "    eto_cols = f.read().split(\"\\n\")\n",
    "\n",
    "with open(\"../../data/final/wine_features.txt\", \"r\") as f:\n",
    "    wine_cols = f.read().split(\"\\n\")\n"
   ]
  },
  {
   "attachments": {},
   "cell_type": "markdown",
   "metadata": {},
   "source": [
    "Dejamos funcion para split y CV"
   ]
  },
  {
   "cell_type": "code",
   "execution_count": 5,
   "metadata": {},
   "outputs": [],
   "source": [
    "data_train = tr.filter_camp(data.copy(), min_camp=15, max_camp=21)\n",
    "\n",
    "data_final = tr.filter_camp(data, min_camp=22, max_camp=22)\n",
    "\n",
    "train, test = tr.train_test_split(data_train, test_camp=21)\n",
    "\n",
    "X, y = tr.xy_split(data_train)\n",
    "\n",
    "cat_cols = [\n",
    "    'id_finca',\n",
    "    'id_zona',\n",
    "    'id_estacion',\n",
    "    'variedad',\n",
    "    \"modo\",\n",
    "    \"tipo\",\n",
    "    \"color\",\n",
    "    \"prod_shift1_gt_shift2\",\n",
    "    \"sup_is_nan\",\n",
    "]\n",
    "num_cols = [col for col in X.columns if col not in cat_cols]\n",
    "\n",
    "X[cat_cols] = X[cat_cols].astype('category')\n",
    "\n",
    "X_train, y_train = tr.xy_split(train)\n",
    "X_test, y_test = tr.xy_split(test)\n",
    "X_final, y_final = tr.xy_split(data_final)\n",
    "\n",
    "train_idxs, test_idxs = tr.CampKFold.get_train_test(\n",
    "    X['campaña'], from_camp=19, to_camp=21\n",
    ")\n",
    "\n",
    "cv = tr.CampKFold(train_idxs, test_idxs)\n"
   ]
  },
  {
   "cell_type": "markdown",
   "metadata": {},
   "source": [
    "\n",
    "## Modelos con fases climaticas \n",
    "\n",
    "Fases climaticas: https://utielrequena.org/la-brotacion-la-vendimia-las-fases-del-ciclo-la-vid/"
   ]
  },
  {
   "attachments": {},
   "cell_type": "markdown",
   "metadata": {},
   "source": [
    "Leemos datos de eto"
   ]
  },
  {
   "cell_type": "code",
   "execution_count": 7,
   "metadata": {},
   "outputs": [],
   "source": [
    "from malbecs.preprocess import eto as eto_pr\n",
    "from malbecs.feateng import eto as eto_fe\n",
    "\n",
    "raw_eto_path = '../../data/raw/DATOS_ETO.TXT'\n",
    "\n",
    "eto_data = eto_pr.load_eto_dataset(raw_eto_path)"
   ]
  },
  {
   "cell_type": "code",
   "execution_count": 8,
   "metadata": {},
   "outputs": [],
   "source": [
    "avg_cols = [\n",
    "    'DewpointLocalDayAvg',\n",
    "    'EvapotranspirationLocalDayAvg',\n",
    "    'FeelsLikeLocalDayAvg',\n",
    "    'GlobalHorizontalIrradianceLocalDayAvg',\n",
    "    'GustLocalDayAvg',\n",
    "    'MSLPLocalDayAvg',\n",
    "    'PrecipAmountLocalDayAvg',\n",
    "    'RelativeHumidityLocalDayAvg',\n",
    "    'SnowAmountLocalDayAvg',\n",
    "    'TemperatureLocalDayAvg',\n",
    "    'UVIndexLocalDayAvg',\n",
    "    'VisibilityLocalDayAvg',\n",
    "    'WindSpeedLocalDayAvg'\n",
    "]\n",
    "\n",
    "max_cols = [\n",
    "    'DewpointLocalDayMax',\n",
    "    'EvapotranspirationLocalDayMax',\n",
    "    'FeelsLikeLocalDayMax',\n",
    "    'GlobalHorizontalIrradianceLocalDayMax',\n",
    "    'GustLocalDayMax',\n",
    "    'MSLPLocalDayMax',\n",
    "    'PrecipAmountLocalDayMax',\n",
    "    'RelativeHumidityLocalDayMax',\n",
    "    'SnowAmountLocalDayMax',\n",
    "    'TemperatureLocalDayMax',\n",
    "    'UVIndexLocalDayMax',\n",
    "    'VisibilityLocalDayMax',\n",
    "    'WindSpeedLocalDayMax',\n",
    "]\n",
    "\n",
    "min_cols = [\n",
    "    'DewpointLocalDayMin',\n",
    "    'FeelsLikeLocalDayMin',\n",
    "    'GustLocalDayMin',\n",
    "    'MSLPLocalDayMin',\n",
    "    'RelativeHumidityLocalDayMin',\n",
    "    'TemperatureLocalDayMin',\n",
    "    'VisibilityLocalDayMin',\n",
    "    'WindSpeedLocalDayMin'\n",
    "]\n",
    "\n",
    "cols_sum = [\n",
    "        'PrecipAmountLocalDayAvg',\n",
    "        'SnowAmountLocalDayAvg'\n",
    "]\n",
    "\n",
    "cols_mean = avg_cols + \\\n",
    "    max_cols + min_cols + \\\n",
    "        ['TemperatureLocalAfternoonAvg','TemperatureLocalOvernightAvg']"
   ]
  },
  {
   "cell_type": "code",
   "execution_count": 9,
   "metadata": {},
   "outputs": [],
   "source": [
    "eto_data = eto_pr.add_year_and_month(eto_data)\n",
    "eto_data = eto_pr.get_monthly_data(\n",
    "    eto_data, cols_mean,\n",
    "    cols_sum\n",
    ")"
   ]
  },
  {
   "attachments": {},
   "cell_type": "markdown",
   "metadata": {},
   "source": [
    "eto v2 para modelo, con columnas que nos interesan nada mas"
   ]
  },
  {
   "cell_type": "code",
   "execution_count": 10,
   "metadata": {},
   "outputs": [],
   "source": [
    "eto_v2 = eto_data[['ID_ESTACION','year','month','SumTotalSnowAmountLocalDay','SumTotalPrecipAmountLocalDay']]"
   ]
  },
  {
   "attachments": {},
   "cell_type": "markdown",
   "metadata": {},
   "source": [
    "Creamos fases de la viña, agrupamos y ajustamos"
   ]
  },
  {
   "cell_type": "code",
   "execution_count": 11,
   "metadata": {},
   "outputs": [],
   "source": [
    "eto_v2['fase']= ['reposo' if x in [12,1,2] \n",
    "                 else 'brotacion' if x == 3 \n",
    "                 else 'foliacion' if x in [4,5]\n",
    "                 else 'floracion' if x == 6\n",
    "                 else 'envero' for x in eto_v2.month]"
   ]
  },
  {
   "cell_type": "code",
   "execution_count": 12,
   "metadata": {},
   "outputs": [],
   "source": [
    "eto_fases = eto_v2.groupby(['ID_ESTACION','year','fase']).agg({'SumTotalPrecipAmountLocalDay':'sum'} )"
   ]
  },
  {
   "cell_type": "code",
   "execution_count": 13,
   "metadata": {},
   "outputs": [],
   "source": [
    "eto_fases = eto_fases.unstack().droplevel(0, axis=1).reset_index()"
   ]
  },
  {
   "cell_type": "code",
   "execution_count": 14,
   "metadata": {},
   "outputs": [],
   "source": [
    "eto_fases.columns = ['id_estacion', 'campaña', 'brotacion', 'envero', 'floracion', 'foliacion','reposo']"
   ]
  },
  {
   "attachments": {},
   "cell_type": "markdown",
   "metadata": {},
   "source": [
    "Preparamos para join y modelos"
   ]
  },
  {
   "cell_type": "code",
   "execution_count": 15,
   "metadata": {},
   "outputs": [],
   "source": [
    "eto_fases['campaña'] = eto_fases.campaña % 2000"
   ]
  },
  {
   "cell_type": "code",
   "execution_count": 16,
   "metadata": {},
   "outputs": [],
   "source": [
    "eto_fases=eto_fases.fillna(0)"
   ]
  },
  {
   "cell_type": "markdown",
   "metadata": {},
   "source": [
    "Flag existencia o no"
   ]
  },
  {
   "cell_type": "code",
   "execution_count": 17,
   "metadata": {},
   "outputs": [
    {
     "data": {
      "text/plain": [
       "1    7642\n",
       "0    1959\n",
       "Name: exists_flag, dtype: int64"
      ]
     },
     "execution_count": 17,
     "metadata": {},
     "output_type": "execute_result"
    }
   ],
   "source": [
    "df_check = data.copy()\n",
    "\n",
    "df_check['concat'] = df_check.id_finca.astype(str) +  '-' +df_check.variedad.astype(str) +  '-'+ df_check.modo.astype(str) +  '-' +df_check.tipo.astype(str)\n",
    "\n",
    "exists_list = []\n",
    "\n",
    "for year in [14,15,16,17,18,19,20,21,22]:\n",
    "    df_year = df_check[df_check.campaña==year]\n",
    "    df_lower = df_check[df_check.campaña<year]\n",
    "    codigos = list(df_lower.concat.unique())\n",
    "    exists = [1 if x in codigos else 0 for x in df_year.concat]\n",
    "    exists_list.append(exists)\n",
    "\n",
    "data['exists_flag'] = [item for sublist in exists_list for item in sublist]\n",
    "\n",
    "data['exists_flag'].value_counts()"
   ]
  },
  {
   "attachments": {},
   "cell_type": "markdown",
   "metadata": {},
   "source": [
    "Joineamos"
   ]
  },
  {
   "cell_type": "code",
   "execution_count": 18,
   "metadata": {},
   "outputs": [],
   "source": [
    "data_eto = data.merge(eto_fases, how= 'left', on = ['campaña','id_estacion'])"
   ]
  },
  {
   "attachments": {},
   "cell_type": "markdown",
   "metadata": {},
   "source": [
    "Sacamos 2022"
   ]
  },
  {
   "cell_type": "code",
   "execution_count": 19,
   "metadata": {},
   "outputs": [
    {
     "data": {
      "text/html": [
       "<div>\n",
       "<style scoped>\n",
       "    .dataframe tbody tr th:only-of-type {\n",
       "        vertical-align: middle;\n",
       "    }\n",
       "\n",
       "    .dataframe tbody tr th {\n",
       "        vertical-align: top;\n",
       "    }\n",
       "\n",
       "    .dataframe thead th {\n",
       "        text-align: right;\n",
       "    }\n",
       "</style>\n",
       "<table border=\"1\" class=\"dataframe\">\n",
       "  <thead>\n",
       "    <tr style=\"text-align: right;\">\n",
       "      <th></th>\n",
       "      <th>campaña</th>\n",
       "      <th>id_finca</th>\n",
       "      <th>id_zona</th>\n",
       "      <th>id_estacion</th>\n",
       "      <th>altitud</th>\n",
       "      <th>variedad</th>\n",
       "      <th>modo</th>\n",
       "      <th>tipo</th>\n",
       "      <th>color</th>\n",
       "      <th>superficie</th>\n",
       "      <th>...</th>\n",
       "      <th>MeanLightHours_month_3</th>\n",
       "      <th>MeanLightHours_month_4</th>\n",
       "      <th>MeanLightHours_month_5</th>\n",
       "      <th>MeanLightHours_month_6</th>\n",
       "      <th>exists_flag</th>\n",
       "      <th>brotacion</th>\n",
       "      <th>envero</th>\n",
       "      <th>floracion</th>\n",
       "      <th>foliacion</th>\n",
       "      <th>reposo</th>\n",
       "    </tr>\n",
       "  </thead>\n",
       "  <tbody>\n",
       "    <tr>\n",
       "      <th>1148</th>\n",
       "      <td>15</td>\n",
       "      <td>48626</td>\n",
       "      <td>302</td>\n",
       "      <td>13</td>\n",
       "      <td>600.0</td>\n",
       "      <td>32</td>\n",
       "      <td>2</td>\n",
       "      <td>0</td>\n",
       "      <td>1</td>\n",
       "      <td>3.750300</td>\n",
       "      <td>...</td>\n",
       "      <td>8.751152</td>\n",
       "      <td>9.804762</td>\n",
       "      <td>10.884793</td>\n",
       "      <td>6.500000</td>\n",
       "      <td>0</td>\n",
       "      <td>0.0</td>\n",
       "      <td>436.8</td>\n",
       "      <td>0.0</td>\n",
       "      <td>0.0</td>\n",
       "      <td>0.0</td>\n",
       "    </tr>\n",
       "    <tr>\n",
       "      <th>1149</th>\n",
       "      <td>15</td>\n",
       "      <td>47921</td>\n",
       "      <td>302</td>\n",
       "      <td>13</td>\n",
       "      <td>600.0</td>\n",
       "      <td>32</td>\n",
       "      <td>2</td>\n",
       "      <td>0</td>\n",
       "      <td>1</td>\n",
       "      <td>7.373500</td>\n",
       "      <td>...</td>\n",
       "      <td>8.751152</td>\n",
       "      <td>9.804762</td>\n",
       "      <td>10.884793</td>\n",
       "      <td>6.500000</td>\n",
       "      <td>0</td>\n",
       "      <td>0.0</td>\n",
       "      <td>436.8</td>\n",
       "      <td>0.0</td>\n",
       "      <td>0.0</td>\n",
       "      <td>0.0</td>\n",
       "    </tr>\n",
       "    <tr>\n",
       "      <th>1150</th>\n",
       "      <td>15</td>\n",
       "      <td>4024</td>\n",
       "      <td>919</td>\n",
       "      <td>14</td>\n",
       "      <td>655.0</td>\n",
       "      <td>32</td>\n",
       "      <td>2</td>\n",
       "      <td>0</td>\n",
       "      <td>1</td>\n",
       "      <td>14.583333</td>\n",
       "      <td>...</td>\n",
       "      <td>8.728111</td>\n",
       "      <td>9.780952</td>\n",
       "      <td>10.889401</td>\n",
       "      <td>6.500000</td>\n",
       "      <td>1</td>\n",
       "      <td>0.0</td>\n",
       "      <td>410.4</td>\n",
       "      <td>0.0</td>\n",
       "      <td>0.0</td>\n",
       "      <td>0.0</td>\n",
       "    </tr>\n",
       "    <tr>\n",
       "      <th>1151</th>\n",
       "      <td>15</td>\n",
       "      <td>4024</td>\n",
       "      <td>919</td>\n",
       "      <td>14</td>\n",
       "      <td>655.0</td>\n",
       "      <td>17</td>\n",
       "      <td>2</td>\n",
       "      <td>0</td>\n",
       "      <td>1</td>\n",
       "      <td>2.287235</td>\n",
       "      <td>...</td>\n",
       "      <td>8.728111</td>\n",
       "      <td>9.780952</td>\n",
       "      <td>10.889401</td>\n",
       "      <td>6.500000</td>\n",
       "      <td>1</td>\n",
       "      <td>0.0</td>\n",
       "      <td>410.4</td>\n",
       "      <td>0.0</td>\n",
       "      <td>0.0</td>\n",
       "      <td>0.0</td>\n",
       "    </tr>\n",
       "    <tr>\n",
       "      <th>1152</th>\n",
       "      <td>15</td>\n",
       "      <td>4024</td>\n",
       "      <td>919</td>\n",
       "      <td>14</td>\n",
       "      <td>655.0</td>\n",
       "      <td>59</td>\n",
       "      <td>2</td>\n",
       "      <td>0</td>\n",
       "      <td>1</td>\n",
       "      <td>1.122000</td>\n",
       "      <td>...</td>\n",
       "      <td>8.728111</td>\n",
       "      <td>9.780952</td>\n",
       "      <td>10.889401</td>\n",
       "      <td>6.500000</td>\n",
       "      <td>1</td>\n",
       "      <td>0.0</td>\n",
       "      <td>410.4</td>\n",
       "      <td>0.0</td>\n",
       "      <td>0.0</td>\n",
       "      <td>0.0</td>\n",
       "    </tr>\n",
       "    <tr>\n",
       "      <th>...</th>\n",
       "      <td>...</td>\n",
       "      <td>...</td>\n",
       "      <td>...</td>\n",
       "      <td>...</td>\n",
       "      <td>...</td>\n",
       "      <td>...</td>\n",
       "      <td>...</td>\n",
       "      <td>...</td>\n",
       "      <td>...</td>\n",
       "      <td>...</td>\n",
       "      <td>...</td>\n",
       "      <td>...</td>\n",
       "      <td>...</td>\n",
       "      <td>...</td>\n",
       "      <td>...</td>\n",
       "      <td>...</td>\n",
       "      <td>...</td>\n",
       "      <td>...</td>\n",
       "      <td>...</td>\n",
       "      <td>...</td>\n",
       "      <td>...</td>\n",
       "    </tr>\n",
       "    <tr>\n",
       "      <th>8521</th>\n",
       "      <td>21</td>\n",
       "      <td>69608</td>\n",
       "      <td>585</td>\n",
       "      <td>15</td>\n",
       "      <td>575.0</td>\n",
       "      <td>92</td>\n",
       "      <td>1</td>\n",
       "      <td>0</td>\n",
       "      <td>0</td>\n",
       "      <td>0.396900</td>\n",
       "      <td>...</td>\n",
       "      <td>8.677419</td>\n",
       "      <td>9.666667</td>\n",
       "      <td>10.935484</td>\n",
       "      <td>11.700000</td>\n",
       "      <td>1</td>\n",
       "      <td>19.2</td>\n",
       "      <td>96.0</td>\n",
       "      <td>28.8</td>\n",
       "      <td>98.4</td>\n",
       "      <td>40.8</td>\n",
       "    </tr>\n",
       "    <tr>\n",
       "      <th>8522</th>\n",
       "      <td>21</td>\n",
       "      <td>93510</td>\n",
       "      <td>123</td>\n",
       "      <td>19</td>\n",
       "      <td>515.0</td>\n",
       "      <td>92</td>\n",
       "      <td>1</td>\n",
       "      <td>0</td>\n",
       "      <td>0</td>\n",
       "      <td>0.080000</td>\n",
       "      <td>...</td>\n",
       "      <td>8.677419</td>\n",
       "      <td>9.666667</td>\n",
       "      <td>10.935484</td>\n",
       "      <td>11.733333</td>\n",
       "      <td>1</td>\n",
       "      <td>16.8</td>\n",
       "      <td>117.6</td>\n",
       "      <td>28.8</td>\n",
       "      <td>98.4</td>\n",
       "      <td>43.2</td>\n",
       "    </tr>\n",
       "    <tr>\n",
       "      <th>8523</th>\n",
       "      <td>21</td>\n",
       "      <td>34407</td>\n",
       "      <td>123</td>\n",
       "      <td>19</td>\n",
       "      <td>515.0</td>\n",
       "      <td>92</td>\n",
       "      <td>1</td>\n",
       "      <td>0</td>\n",
       "      <td>0</td>\n",
       "      <td>0.690000</td>\n",
       "      <td>...</td>\n",
       "      <td>8.677419</td>\n",
       "      <td>9.666667</td>\n",
       "      <td>10.935484</td>\n",
       "      <td>11.733333</td>\n",
       "      <td>1</td>\n",
       "      <td>16.8</td>\n",
       "      <td>117.6</td>\n",
       "      <td>28.8</td>\n",
       "      <td>98.4</td>\n",
       "      <td>43.2</td>\n",
       "    </tr>\n",
       "    <tr>\n",
       "      <th>8524</th>\n",
       "      <td>21</td>\n",
       "      <td>52413</td>\n",
       "      <td>123</td>\n",
       "      <td>19</td>\n",
       "      <td>515.0</td>\n",
       "      <td>92</td>\n",
       "      <td>1</td>\n",
       "      <td>0</td>\n",
       "      <td>0</td>\n",
       "      <td>1.524700</td>\n",
       "      <td>...</td>\n",
       "      <td>8.677419</td>\n",
       "      <td>9.666667</td>\n",
       "      <td>10.935484</td>\n",
       "      <td>11.733333</td>\n",
       "      <td>1</td>\n",
       "      <td>16.8</td>\n",
       "      <td>117.6</td>\n",
       "      <td>28.8</td>\n",
       "      <td>98.4</td>\n",
       "      <td>43.2</td>\n",
       "    </tr>\n",
       "    <tr>\n",
       "      <th>8525</th>\n",
       "      <td>21</td>\n",
       "      <td>17977</td>\n",
       "      <td>389</td>\n",
       "      <td>9</td>\n",
       "      <td>470.0</td>\n",
       "      <td>92</td>\n",
       "      <td>1</td>\n",
       "      <td>0</td>\n",
       "      <td>0</td>\n",
       "      <td>1.354600</td>\n",
       "      <td>...</td>\n",
       "      <td>8.677419</td>\n",
       "      <td>9.700000</td>\n",
       "      <td>10.903226</td>\n",
       "      <td>11.733333</td>\n",
       "      <td>1</td>\n",
       "      <td>24.0</td>\n",
       "      <td>110.4</td>\n",
       "      <td>21.6</td>\n",
       "      <td>115.2</td>\n",
       "      <td>43.2</td>\n",
       "    </tr>\n",
       "  </tbody>\n",
       "</table>\n",
       "<p>7378 rows × 325 columns</p>\n",
       "</div>"
      ],
      "text/plain": [
       "      campaña  id_finca  id_zona  id_estacion  altitud  variedad  modo  tipo  \\\n",
       "1148       15     48626      302           13    600.0        32     2     0   \n",
       "1149       15     47921      302           13    600.0        32     2     0   \n",
       "1150       15      4024      919           14    655.0        32     2     0   \n",
       "1151       15      4024      919           14    655.0        17     2     0   \n",
       "1152       15      4024      919           14    655.0        59     2     0   \n",
       "...       ...       ...      ...          ...      ...       ...   ...   ...   \n",
       "8521       21     69608      585           15    575.0        92     1     0   \n",
       "8522       21     93510      123           19    515.0        92     1     0   \n",
       "8523       21     34407      123           19    515.0        92     1     0   \n",
       "8524       21     52413      123           19    515.0        92     1     0   \n",
       "8525       21     17977      389            9    470.0        92     1     0   \n",
       "\n",
       "      color  superficie  ...  MeanLightHours_month_3  MeanLightHours_month_4  \\\n",
       "1148      1    3.750300  ...                8.751152                9.804762   \n",
       "1149      1    7.373500  ...                8.751152                9.804762   \n",
       "1150      1   14.583333  ...                8.728111                9.780952   \n",
       "1151      1    2.287235  ...                8.728111                9.780952   \n",
       "1152      1    1.122000  ...                8.728111                9.780952   \n",
       "...     ...         ...  ...                     ...                     ...   \n",
       "8521      0    0.396900  ...                8.677419                9.666667   \n",
       "8522      0    0.080000  ...                8.677419                9.666667   \n",
       "8523      0    0.690000  ...                8.677419                9.666667   \n",
       "8524      0    1.524700  ...                8.677419                9.666667   \n",
       "8525      0    1.354600  ...                8.677419                9.700000   \n",
       "\n",
       "      MeanLightHours_month_5  MeanLightHours_month_6  exists_flag  brotacion  \\\n",
       "1148               10.884793                6.500000            0        0.0   \n",
       "1149               10.884793                6.500000            0        0.0   \n",
       "1150               10.889401                6.500000            1        0.0   \n",
       "1151               10.889401                6.500000            1        0.0   \n",
       "1152               10.889401                6.500000            1        0.0   \n",
       "...                      ...                     ...          ...        ...   \n",
       "8521               10.935484               11.700000            1       19.2   \n",
       "8522               10.935484               11.733333            1       16.8   \n",
       "8523               10.935484               11.733333            1       16.8   \n",
       "8524               10.935484               11.733333            1       16.8   \n",
       "8525               10.903226               11.733333            1       24.0   \n",
       "\n",
       "      envero  floracion  foliacion  reposo  \n",
       "1148   436.8        0.0        0.0     0.0  \n",
       "1149   436.8        0.0        0.0     0.0  \n",
       "1150   410.4        0.0        0.0     0.0  \n",
       "1151   410.4        0.0        0.0     0.0  \n",
       "1152   410.4        0.0        0.0     0.0  \n",
       "...      ...        ...        ...     ...  \n",
       "8521    96.0       28.8       98.4    40.8  \n",
       "8522   117.6       28.8       98.4    43.2  \n",
       "8523   117.6       28.8       98.4    43.2  \n",
       "8524   117.6       28.8       98.4    43.2  \n",
       "8525   110.4       21.6      115.2    43.2  \n",
       "\n",
       "[7378 rows x 325 columns]"
      ]
     },
     "execution_count": 19,
     "metadata": {},
     "output_type": "execute_result"
    }
   ],
   "source": [
    "data_train_eto = tr.filter_camp(data_eto.copy(), min_camp=15, max_camp=21)\n",
    "data_train_eto"
   ]
  },
  {
   "attachments": {},
   "cell_type": "markdown",
   "metadata": {},
   "source": [
    "Modelado"
   ]
  },
  {
   "cell_type": "code",
   "execution_count": 20,
   "metadata": {},
   "outputs": [],
   "source": [
    "import numpy as np\n",
    "from sklearn.metrics import mean_squared_error, make_scorer\n",
    "from sklearn.compose import make_column_transformer\n",
    "from sklearn.ensemble import RandomForestRegressor\n",
    "from sklearn.pipeline import make_pipeline\n",
    "from sklearn.preprocessing import KBinsDiscretizer, OrdinalEncoder, StandardScaler, LabelEncoder\n",
    "import pickle as pkl\n",
    "from typing import List\n",
    "import malbecs.modeling.transformers as mt\n",
    "\n",
    "def rmse_score(y_true, y_pred):\n",
    "    return np.sqrt(mean_squared_error(y_true, y_pred))\n",
    "\n",
    "seed = 42"
   ]
  },
  {
   "cell_type": "code",
   "execution_count": 21,
   "metadata": {},
   "outputs": [],
   "source": [
    "X_train = data_train_eto[data_train_eto.campaña<21].drop(columns='produccion')\n",
    "X_test = data_train_eto[data_train_eto.campaña==21].drop(columns='produccion')\n",
    "y_train = data_train_eto[data_train_eto.campaña<21]['produccion']\n",
    "y_test = data_train_eto[data_train_eto.campaña==21]['produccion']\n",
    "\n",
    "fases = ['brotacion', 'envero', 'floracion', 'foliacion','reposo']\n",
    "\n",
    "def get_base_model_v3():\n",
    "\n",
    "    model_num_cols = [\n",
    "        'campaña',\n",
    "        'superficie',\n",
    "        'prod_shift_max',\n",
    "        'prod_shift_change',\n",
    "        'prod_shift_avg',\n",
    "        'prod_he_var_zone_mean_hist_total',\n",
    "        'prod_he_var_zone_std_hist_total',\n",
    "        'prod_he_zone_mean_total',\n",
    "    ]\n",
    "\n",
    "    m = make_pipeline(\n",
    "        make_column_transformer(\n",
    "\n",
    "            (mt.TargetEncoder(), ['id_finca']),\n",
    "\n",
    "            (mt.TargetEncoder(), ['id_zona']),\n",
    "\n",
    "            (OrdinalEncoder(handle_unknown='use_encoded_value',\n",
    "             unknown_value=-1), ['id_estacion']),\n",
    "\n",
    "            (mt.BaseNEncoder(), ['variedad']),\n",
    "\n",
    "            (OrdinalEncoder(handle_unknown='use_encoded_value',\n",
    "             unknown_value=-1), ['modo']),\n",
    "\n",
    "            (KBinsDiscretizer(n_bins=2), ['altitud']),\n",
    "\n",
    "            (StandardScaler(), model_num_cols),\n",
    "\n",
    "\n",
    "            #ACA ESTA LO NUEVO: fases, flag de existencia pasada, flags de shifts nulos\n",
    "            (StandardScaler(), fases), \n",
    "            (StandardScaler(), ['exists_flag']),\n",
    "            \n",
    "            remainder='drop'\n",
    "        ),\n",
    "        RandomForestRegressor(\n",
    "            random_state=seed,\n",
    "            n_estimators=200,\n",
    "            min_samples_leaf=4,\n",
    "            n_jobs=-1,\n",
    "            max_features='sqrt',\n",
    "            max_samples=0.8\n",
    "        )\n",
    "    )\n",
    "    return m"
   ]
  },
  {
   "cell_type": "code",
   "execution_count": 22,
   "metadata": {},
   "outputs": [
    {
     "name": "stdout",
     "output_type": "stream",
     "text": [
      "Warning: No categorical columns found. Calling 'transform' will only return input data.\n",
      "Warning: No categorical columns found. Calling 'transform' will only return input data.\n",
      "Warning: No categorical columns found. Calling 'transform' will only return input data.\n",
      "RMSE Train: 4482.983046305897, RMSE Test: 5338.064254366573\n"
     ]
    }
   ],
   "source": [
    "m = get_base_model_v3()\n",
    "m.fit(X_train,y_train)\n",
    "\n",
    "preds_test = m.predict(X_test)\n",
    "preds_train = m.predict(X_train)\n",
    "\n",
    "print(f'RMSE Train: {rmse_score(preds_train,y_train)}, RMSE Test: {rmse_score(preds_test,y_test)}')"
   ]
  },
  {
   "cell_type": "code",
   "execution_count": 23,
   "metadata": {},
   "outputs": [
    {
     "data": {
      "image/png": "[encoded data removed]",
      "text/plain": [
       "<Figure size 432x1080 with 1 Axes>"
      ]
     },
     "metadata": {
      "needs_background": "light"
     },
     "output_type": "display_data"
    }
   ],
   "source": [
    "show_feat_imps(\n",
    "    m[-1].feature_importances_,\n",
    "    m[:-1].get_feature_names_out(),\n",
    ")\n",
    "\n",
    "plt.title('Importancia de variables sumando a precipitaciones según fases climaticas')\n",
    "plt.show()\n"
   ]
  },
  {
   "cell_type": "markdown",
   "metadata": {},
   "source": [
    "### Comparar vs original"
   ]
  },
  {
   "cell_type": "code",
   "execution_count": 24,
   "metadata": {},
   "outputs": [],
   "source": [
    "#Originales\n",
    "\n",
    "df_preds = pd.read_csv('../../data/final/Malbecs.txt',sep='|',header=None)\n",
    "preds_originales = df_preds[6]"
   ]
  },
  {
   "cell_type": "code",
   "execution_count": 25,
   "metadata": {},
   "outputs": [],
   "source": [
    "data_final_eto = data_eto[data_eto.campaña==22]"
   ]
  },
  {
   "cell_type": "code",
   "execution_count": 26,
   "metadata": {},
   "outputs": [],
   "source": [
    "x_test_v3 = data_final_eto.drop(columns=['produccion'])"
   ]
  },
  {
   "cell_type": "code",
   "execution_count": 27,
   "metadata": {},
   "outputs": [],
   "source": [
    "X_eto = data_eto[(data_eto.campaña<22)&(data_eto.campaña>14) ].drop(columns='produccion')\n",
    "y_eto = data_eto[(data_eto.campaña<22)&(data_eto.campaña>14) ]['produccion']"
   ]
  },
  {
   "attachments": {},
   "cell_type": "markdown",
   "metadata": {},
   "source": [
    "Ajustamos modelo para 2022"
   ]
  },
  {
   "cell_type": "code",
   "execution_count": 28,
   "metadata": {},
   "outputs": [
    {
     "name": "stdout",
     "output_type": "stream",
     "text": [
      "Warning: No categorical columns found. Calling 'transform' will only return input data.\n",
      "Warning: No categorical columns found. Calling 'transform' will only return input data.\n",
      "Warning: No categorical columns found. Calling 'transform' will only return input data.\n"
     ]
    }
   ],
   "source": [
    "m_nuevo = get_base_model_v3()\n",
    "m_nuevo.fit(X_eto,y_eto)\n",
    "preds_nuevas = m_nuevo.predict(x_test_v3)"
   ]
  },
  {
   "attachments": {},
   "cell_type": "markdown",
   "metadata": {},
   "source": [
    "Sorteamos y ploteamos"
   ]
  },
  {
   "cell_type": "code",
   "execution_count": 30,
   "metadata": {},
   "outputs": [
    {
     "data": {
      "image/png": "[encoded data removed]",
      "text/plain": [
       "<Figure size 720x720 with 1 Axes>"
      ]
     },
     "metadata": {
      "needs_background": "light"
     },
     "output_type": "display_data"
    }
   ],
   "source": [
    "preds_final_v2 = data_final_eto[['id_finca', 'variedad','modo','tipo','color','superficie']].copy()\n",
    "preds_final_v2['produccion'] = preds_nuevas\n",
    "preds_final_v2 = preds_final_v2.sort_values(['id_finca', 'variedad','modo','tipo','color','superficie'], ascending=True)\n",
    "\n",
    "plt.figure(figsize=(10,10))\n",
    "plt.scatter(preds_originales, preds_final_v2['produccion'], alpha=0.5)\n",
    "plt.plot( [0,120000],[0,120000] )\n",
    "plt.xlabel('Originales')\n",
    "plt.ylabel('Nuevas')\n",
    "plt.title('Prediccion Local vs Intento Fases')\n",
    "plt.show()"
   ]
  },
  {
   "attachments": {},
   "cell_type": "markdown",
   "metadata": {},
   "source": [
    "Guardamos"
   ]
  },
  {
   "cell_type": "code",
   "execution_count": 31,
   "metadata": {},
   "outputs": [],
   "source": [
    "preds_final_v2.to_csv('../../data/final/UH2023_Universidad Complutense de Madrid (UCM)_Malbecs_3.txt', sep=\"|\", header=None, index=False)"
   ]
  },
  {
   "cell_type": "markdown",
   "metadata": {},
   "source": [
    "## Modelo original sin cambiar mucho "
   ]
  },
  {
   "cell_type": "code",
   "execution_count": 34,
   "metadata": {},
   "outputs": [],
   "source": [
    "data_train = tr.filter_camp(data.copy(), min_camp=15, max_camp=21)\n",
    "\n",
    "data_final = tr.filter_camp(data, min_camp=22, max_camp=22)\n",
    "\n",
    "train, test = tr.train_test_split(data_train, test_camp=21)\n",
    "\n",
    "X, y = tr.xy_split(data_train)\n",
    "\n",
    "cat_cols = [\n",
    "    'id_finca',\n",
    "    'id_zona',\n",
    "    'id_estacion',\n",
    "    'variedad',\n",
    "    \"modo\",\n",
    "    \"tipo\",\n",
    "    \"color\",\n",
    "    \"prod_shift1_gt_shift2\",\n",
    "    \"sup_is_nan\",\n",
    "]\n",
    "num_cols = [col for col in X.columns if col not in cat_cols]\n",
    "\n",
    "X[cat_cols] = X[cat_cols].astype('category')\n",
    "\n",
    "X_train, y_train = tr.xy_split(train)\n",
    "X_test, y_test = tr.xy_split(test)\n",
    "X_final, y_final = tr.xy_split(data_final)\n",
    "\n",
    "train_idxs, test_idxs = tr.CampKFold.get_train_test(\n",
    "    X['campaña'], from_camp=19, to_camp=21\n",
    ")\n",
    "\n",
    "cv = tr.CampKFold(train_idxs, test_idxs)\n"
   ]
  },
  {
   "cell_type": "code",
   "execution_count": 35,
   "metadata": {},
   "outputs": [],
   "source": [
    "n_fincas = X['id_finca'].nunique()\n",
    "top_fincas = X.id_finca.value_counts()[:int(0.8*n_fincas)].index.values.tolist()\n",
    "X['id_finca_top'] = X['id_finca'].apply(lambda x: x if x in top_fincas else -1)\n",
    "\n",
    "n_zonas = X['id_zona'].nunique()\n",
    "top_zonas = X['id_zona'].value_counts()[:int(0.8*n_zonas)].index.values.tolist()\n",
    "X['id_zona_top'] = X['id_zona'].apply(lambda x: x if x in top_zonas else -1)\n",
    "\n",
    "n_var = X['variedad'].nunique()\n",
    "top_variedad= X['variedad'].value_counts()[:int(0.8*n_var)].index.values.tolist()\n",
    "X['variedad_top'] = X['variedad'].apply(\n",
    "    lambda x: x if x in top_variedad else -1)\n"
   ]
  },
  {
   "cell_type": "code",
   "execution_count": 36,
   "metadata": {},
   "outputs": [],
   "source": [
    "percip_cols = [c for c in eto_cols if \"Precip\" in c]\n",
    "snow_cols = [c for c in eto_cols if \"Snow\" in c]"
   ]
  },
  {
   "cell_type": "code",
   "execution_count": 37,
   "metadata": {},
   "outputs": [],
   "source": [
    "from sklearn.linear_model import LinearRegression, Lasso, Ridge, ElasticNet, HuberRegressor\n",
    "from sklearn.preprocessing import RobustScaler, StandardScaler\n",
    "from sklearn.compose import make_column_transformer\n",
    "from sklearn.ensemble import RandomForestRegressor\n",
    "from sklearn.pipeline import make_pipeline\n",
    "from sklearn.preprocessing import KBinsDiscretizer, OrdinalEncoder, StandardScaler\n",
    "import pickle as pkl\n",
    "from typing import List\n",
    "import malbecs.modeling.transformers as mt\n",
    "from sklearn.decomposition import PCA\n",
    "\n",
    "seed = 42\n",
    "\n",
    "def get_base_model_v2():\n",
    "\n",
    "    model_num_cols = [\n",
    "        'superficie',\n",
    "        'prod_shift_max',\n",
    "        'prod_shift_change',\n",
    "        'prod_shift_avg',\n",
    "    ]\n",
    "\n",
    "    m = make_pipeline(\n",
    "        make_column_transformer(\n",
    "\n",
    "            (mt.BaseNEncoder(), ['id_finca']),\n",
    "\n",
    "            (mt.TargetEncoder(), ['id_zona']),\n",
    "\n",
    "            (OrdinalEncoder(handle_unknown='use_encoded_value',\n",
    "             unknown_value=-1), ['id_estacion']),\n",
    "\n",
    "            (mt.BaseNEncoder(), ['variedad']),\n",
    "\n",
    "            (OrdinalEncoder(handle_unknown='use_encoded_value',\n",
    "             unknown_value=-1), ['modo']),\n",
    "\n",
    "            (KBinsDiscretizer(n_bins=2), ['altitud']),\n",
    "\n",
    "            (StandardScaler(), model_num_cols),\n",
    "\n",
    "            (make_pipeline(StandardScaler(),PCA(n_components=2, random_state=seed)),[c for c in percip_cols if 'Sum' in c]),\n",
    "            \n",
    "            (StandardScaler(),[c for c in snow_cols if 'Sum' in c and (\"1\" in c or \"2\" in c)]),\n",
    "\n",
    "            remainder='drop'\n",
    "        ),\n",
    "        RandomForestRegressor(\n",
    "            random_state=seed,\n",
    "            n_estimators=200,\n",
    "            min_samples_leaf=4,\n",
    "            n_jobs=-1,\n",
    "            max_features='sqrt',\n",
    "            max_samples=0.8\n",
    "        )\n",
    "    )\n",
    "    return m\n"
   ]
  },
  {
   "cell_type": "code",
   "execution_count": 39,
   "metadata": {},
   "outputs": [
    {
     "name": "stdout",
     "output_type": "stream",
     "text": [
      "train:  [-4727.2469563  -4541.35514995 -4601.38580505]\n",
      "test:  [-4867.83389351 -6638.79785759 -5433.38564627]\n",
      "Train Mean RMSE: -4623.329303766485\n",
      "Test Mean RMSE: -5646.672465790679\n"
     ]
    }
   ],
   "source": [
    "from sklearn.model_selection import cross_validate\n",
    "import numpy as np\n",
    "\n",
    "m_nuevo = get_base_model_v2()\n",
    "res = cross_validate(\n",
    "    estimator=m_nuevo,\n",
    "    X=X,\n",
    "    y=y,\n",
    "    cv=cv,\n",
    "    n_jobs=-1,\n",
    "    scoring=tr.rmse_scorer,\n",
    "    return_train_score=True,\n",
    "    return_estimator=True,\n",
    "    fit_params={\n",
    "        # \"randomforestregressor__sample_weight\": sample_weight\n",
    "        # \"stackingregressor__sample_weight\": sample_weight\n",
    "    }\n",
    ")\n",
    "\n",
    "\n",
    "print(\"train: \", res['train_score'])\n",
    "print(\"test: \", res['test_score'])\n",
    "print(f\"Train Mean RMSE: {np.mean(res.get('train_score'))}\")\n",
    "print(f\"Test Mean RMSE: {np.mean(res.get('test_score'))}\")"
   ]
  },
  {
   "attachments": {},
   "cell_type": "markdown",
   "metadata": {},
   "source": [
    "Ajustamos para 2022"
   ]
  },
  {
   "cell_type": "code",
   "execution_count": 41,
   "metadata": {},
   "outputs": [],
   "source": [
    "x_test_v2 = data_final.drop(columns=['produccion'])"
   ]
  },
  {
   "cell_type": "code",
   "execution_count": 43,
   "metadata": {},
   "outputs": [],
   "source": [
    "m_nuevo = get_base_model_v2()\n",
    "m_nuevo.fit(X,y)\n",
    "preds_nuevas = m_nuevo.predict(x_test_v2)"
   ]
  },
  {
   "cell_type": "code",
   "execution_count": 45,
   "metadata": {},
   "outputs": [],
   "source": [
    "preds_final_v2 = data_final[['id_finca', 'variedad','modo','tipo','color','superficie']].copy()\n",
    "preds_final_v2['produccion'] = preds_nuevas\n",
    "preds_final_v2 = preds_final_v2.sort_values(['id_finca', 'variedad','modo','tipo','color','superficie'], ascending=True)"
   ]
  },
  {
   "cell_type": "code",
   "execution_count": 46,
   "metadata": {},
   "outputs": [
    {
     "data": {
      "image/png": "[encoded data removed]",
      "text/plain": [
       "<Figure size 720x720 with 1 Axes>"
      ]
     },
     "metadata": {
      "needs_background": "light"
     },
     "output_type": "display_data"
    }
   ],
   "source": [
    "plt.figure(figsize=(10,10))\n",
    "plt.scatter(preds_originales, preds_final_v2['produccion'], alpha=0.5)\n",
    "plt.plot( [0,120000],[0,120000] )\n",
    "plt.xlabel('Originales')\n",
    "plt.ylabel('Nuevas')\n",
    "plt.title('Prediccion Local vs Intento Original + temp')\n",
    "plt.show()"
   ]
  },
  {
   "cell_type": "code",
   "execution_count": null,
   "metadata": {},
   "outputs": [],
   "source": [
    "# preds_final_v2.to_csv('../../data/final/UH2023_Universidad Complutense de Madrid (UCM)_Malbecs_1.txt', sep=\"|\", header=None, index=False)"
   ]
  }
 ],
 "metadata": {
  "kernelspec": {
   "display_name": "base",
   "language": "python",
   "name": "python3"
  },
  "language_info": {
   "codemirror_mode": {
    "name": "ipython",
    "version": 3
   },
   "file_extension": ".py",
   "mimetype": "text/x-python",
   "name": "python",
   "nbconvert_exporter": "python",
   "pygments_lexer": "ipython3",
   "version": "3.8.8"
  },
  "orig_nbformat": 4
 },
 "nbformat": 4,
 "nbformat_minor": 2
}
