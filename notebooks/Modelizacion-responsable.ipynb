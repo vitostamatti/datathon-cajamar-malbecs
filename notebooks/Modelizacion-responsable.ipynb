{
 "cells": [
  {
   "attachments": {},
   "cell_type": "markdown",
   "metadata": {},
   "source": [
    "# Modelización Responsable\n",
    "\n",
    "En este notebook enseñamos los resultados de los cuatro pilares que explicaran el 30% de la puntuación:\n",
    "\n",
    "- Explicabilidad \n",
    "- Transparencia\n",
    "- Justicia\n",
    "- Sostenibilidad ambiental"
   ]
  },
  {
   "attachments": {},
   "cell_type": "markdown",
   "metadata": {},
   "source": [
    "## Explicabilidad\n",
    "\n",
    "Para  una  mejor  adopción  de  la  IA  los  modelos  deber  ser  explicables,  debemos \n",
    "evitar hablar de modelos de  caja blanca / negra. \n",
    "\n",
    "En el desarrollo de  todo modelo \n",
    "debe tenerse en cuenta la explicabilidad desde el diseño, un modelo explicable se \n",
    "integra en la gestión de  forma más rápida que  uno que  no lo es, incluso modelos \n",
    "no  explicables  pueden  llegar  a  no  utilizarse  nunca  aun  teniendo  una  muy  buena \n",
    "precisión.\n",
    "\n",
    "Nuestro mejor modelo fue creado utilizando el algoritmo **Random Forest**. Creemos que este algoritmo tiene una alta capacidad de predicción como tambien de explicabilidad. Nos pareció un buen punto medio entre modelos simples como regresiones lineales y redes neuronales, donde la explicabilidad es menor.\n",
    "\n",
    "A partir de librerias como **Shap**, podemos visualizar la explicabilidad a partir de gráficos interesantes."
   ]
  },
  {
   "attachments": {},
   "cell_type": "markdown",
   "metadata": {},
   "source": [
    "### Importancia de variables\n",
    "\n",
    "EXPLICAR COMO SE CALCULA Y CUALES SON LAS MAS IMPORTNATES"
   ]
  },
  {
   "attachments": {},
   "cell_type": "markdown",
   "metadata": {},
   "source": [
    "### xxx"
   ]
  },
  {
   "cell_type": "code",
   "execution_count": null,
   "metadata": {},
   "outputs": [],
   "source": []
  },
  {
   "cell_type": "code",
   "execution_count": null,
   "metadata": {},
   "outputs": [],
   "source": []
  },
  {
   "attachments": {},
   "cell_type": "markdown",
   "metadata": {},
   "source": [
    "## Transparencia\n",
    "\n",
    "Memoria del modelo\n",
    "\n",
    "- Instrucciones de uso \n",
    "- Tratamientos sobre los datasets de datos \n",
    "- Elección de la muestra de entrenamiento y validación \n",
    "- Argumento de la tipología del modelo a desarrollar \n",
    "- Criterios aplicados para la selección del ganador \n",
    "- Visualización y explicación de los resultado"
   ]
  },
  {
   "cell_type": "code",
   "execution_count": null,
   "metadata": {},
   "outputs": [],
   "source": []
  },
  {
   "cell_type": "code",
   "execution_count": null,
   "metadata": {},
   "outputs": [],
   "source": []
  },
  {
   "cell_type": "code",
   "execution_count": null,
   "metadata": {},
   "outputs": [],
   "source": []
  },
  {
   "attachments": {},
   "cell_type": "markdown",
   "metadata": {},
   "source": [
    "## Justicia\n",
    "\n",
    "La IA debe usarse de forma justa, por lo que debe de velar por la equidad y evitar \n",
    "sesgos de  cualquier tipo. En el  desarrollo de  cualquier modelo, y desde el diseño, \n",
    "debe revisarse que la muestra es lo suficientemente representativa y que no existe \n",
    "ningún sesgo (ni en los datos utilizados en el entrenamiento ni en el \n",
    "comportamiento del propio modelo).\n",
    "\n",
    "Para esto, corroboraremos  la  suficiente  diversidad  de  la \n",
    "muestra, así como la inexistencia de sesgos.\n",
    "\n",
    "Es de ayuda la libreria **AI Fairness** PONER UN LINK.\n",
    "\n",
    "PARA ESTO CREO QUE PODEMOS MOSTRAR LAS DISTRIBUCIONES DE TRAIN Y TEST, PARA LAS TODAS LAS VARIABLES"
   ]
  },
  {
   "cell_type": "code",
   "execution_count": 1,
   "metadata": {},
   "outputs": [
    {
     "name": "stdout",
     "output_type": "stream",
     "text": [
      "Collecting aif360\n",
      "  Downloading aif360-0.5.0-py3-none-any.whl (214 kB)\n",
      "Requirement already satisfied: scikit-learn>=1.0 in c:\\users\\denis\\anaconda3\\lib\\site-packages (from aif360) (1.2.1)\n",
      "Requirement already satisfied: scipy>=1.2.0 in c:\\users\\denis\\anaconda3\\lib\\site-packages (from aif360) (1.6.2)\n",
      "Requirement already satisfied: matplotlib in c:\\users\\denis\\anaconda3\\lib\\site-packages (from aif360) (3.6.3)\n",
      "Requirement already satisfied: pandas>=0.24.0 in c:\\users\\denis\\anaconda3\\lib\\site-packages (from aif360) (1.2.4)\n",
      "Requirement already satisfied: numpy>=1.16 in c:\\users\\denis\\anaconda3\\lib\\site-packages (from aif360) (1.20.1)\n",
      "Requirement already satisfied: python-dateutil>=2.7.3 in c:\\users\\denis\\anaconda3\\lib\\site-packages (from pandas>=0.24.0->aif360) (2.8.1)\n",
      "Requirement already satisfied: pytz>=2017.3 in c:\\users\\denis\\anaconda3\\lib\\site-packages (from pandas>=0.24.0->aif360) (2021.1)\n",
      "Requirement already satisfied: six>=1.5 in c:\\users\\denis\\anaconda3\\lib\\site-packages (from python-dateutil>=2.7.3->pandas>=0.24.0->aif360) (1.15.0)\n",
      "Requirement already satisfied: threadpoolctl>=2.0.0 in c:\\users\\denis\\anaconda3\\lib\\site-packages (from scikit-learn>=1.0->aif360) (2.1.0)\n",
      "Requirement already satisfied: joblib>=1.1.1 in c:\\users\\denis\\anaconda3\\lib\\site-packages (from scikit-learn>=1.0->aif360) (1.2.0)\n",
      "Requirement already satisfied: packaging>=20.0 in c:\\users\\denis\\anaconda3\\lib\\site-packages (from matplotlib->aif360) (23.0)\n",
      "Requirement already satisfied: pillow>=6.2.0 in c:\\users\\denis\\anaconda3\\lib\\site-packages (from matplotlib->aif360) (8.2.0)\n",
      "Requirement already satisfied: pyparsing>=2.2.1 in c:\\users\\denis\\anaconda3\\lib\\site-packages (from matplotlib->aif360) (2.4.7)\n",
      "Requirement already satisfied: fonttools>=4.22.0 in c:\\users\\denis\\anaconda3\\lib\\site-packages (from matplotlib->aif360) (4.38.0)\n",
      "Requirement already satisfied: kiwisolver>=1.0.1 in c:\\users\\denis\\anaconda3\\lib\\site-packages (from matplotlib->aif360) (1.3.1)\n",
      "Requirement already satisfied: contourpy>=1.0.1 in c:\\users\\denis\\anaconda3\\lib\\site-packages (from matplotlib->aif360) (1.0.7)\n",
      "Requirement already satisfied: cycler>=0.10 in c:\\users\\denis\\anaconda3\\lib\\site-packages (from matplotlib->aif360) (0.10.0)\n",
      "Installing collected packages: aif360\n",
      "Successfully installed aif360-0.5.0\n"
     ]
    }
   ],
   "source": [
    "!pip install aif360"
   ]
  },
  {
   "attachments": {},
   "cell_type": "markdown",
   "metadata": {},
   "source": [
    "## Sostenibilidad Ambiental\n",
    "\n",
    "El desarrollo de los modelos de IA debe velar por la sostenibilidad y ser \n",
    "respetuosos con el medioambiente, por lo que se deberá asegurar la optimización \n",
    "computacional que garantice un menor consumo energético.\n",
    "\n",
    "El Pipeline final de modelización corre en tan solo PONER VELOCIDAD y SI TENEMOS INFO DE RAM ETC FALOPA.\n",
    "\n",
    "Este, comparado a otros intentos como Support Vector Machines o Redes Neuronales, resulta eficiente en terminos de sostenibilidad y optimización computacional."
   ]
  },
  {
   "cell_type": "code",
   "execution_count": null,
   "metadata": {},
   "outputs": [],
   "source": []
  }
 ],
 "metadata": {
  "kernelspec": {
   "display_name": "base",
   "language": "python",
   "name": "python3"
  },
  "language_info": {
   "codemirror_mode": {
    "name": "ipython",
    "version": 3
   },
   "file_extension": ".py",
   "mimetype": "text/x-python",
   "name": "python",
   "nbconvert_exporter": "python",
   "pygments_lexer": "ipython3",
   "version": "3.8.8"
  },
  "orig_nbformat": 4
 },
 "nbformat": 4,
 "nbformat_minor": 2
}
