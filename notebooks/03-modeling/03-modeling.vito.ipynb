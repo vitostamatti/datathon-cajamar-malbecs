{
 "cells": [
  {
   "cell_type": "code",
   "execution_count": 27,
   "metadata": {},
   "outputs": [],
   "source": [
    "# imports\n",
    "import seaborn as sns\n",
    "import matplotlib.pyplot as plt\n",
    "import numpy as np\n",
    "import pandas as pd\n",
    "\n",
    "import xgboost as xgb\n",
    "import catboost as cb\n",
    "import category_encoders as ce\n",
    "\n",
    "from sklearn.preprocessing import KBinsDiscretizer, MinMaxScaler, SplineTransformer, LabelEncoder\n",
    "from sklearn.decomposition import PCA, KernelPCA\n",
    "\n",
    "from sklearn.pipeline import make_pipeline\n",
    "\n",
    "from sklearn.preprocessing import OneHotEncoder, OrdinalEncoder, StandardScaler\n",
    "from sklearn.compose import make_column_transformer, make_column_selector\n",
    "from sklearn.preprocessing import PowerTransformer\n",
    "\n",
    "from sklearn.model_selection import (\n",
    "    cross_validate, GridSearchCV\n",
    ")\n",
    "\n",
    "from sklearn.ensemble import RandomForestRegressor\n",
    "\n",
    "from malbecs.modeling import train as tr\n",
    "from malbecs.modeling.transformers import QuantileFeatureEncoder, ThresholdFeatureEncoder\n",
    "\n",
    "seed = 42\n",
    "\n",
    "final_wine_path = \"../../data/final/wine_final.csv\"\n",
    "final_eto_path = \"../../data/final/eto_final.csv\"\n",
    "final_meteo_path = \"../../data/final/meteo_final.csv\"\n",
    "\n",
    "\n",
    "with open(\"../../data/final/meteo_features.txt\", \"r\") as f:\n",
    "    meteo_cols = f.read().split(\"\\n\")\n",
    "\n",
    "with open(\"../../data/final/eto_features.txt\", \"r\") as f:\n",
    "    eto_cols = f.read().split(\"\\n\")\n",
    "\n",
    "with open(\"../../data/final/wine_features.txt\", \"r\", encoding='utf-8') as f:\n",
    "    wine_cols = f.read().split(\"\\n\")\n",
    "\n"
   ]
  },
  {
   "cell_type": "code",
   "execution_count": 2,
   "metadata": {},
   "outputs": [],
   "source": [
    "#load all data\n",
    "data = tr.load_final_data(\n",
    "    wine_path=final_wine_path,\n",
    "    eto_path=final_eto_path,\n",
    "    meteo_path=final_meteo_path\n",
    ")"
   ]
  },
  {
   "cell_type": "code",
   "execution_count": 3,
   "metadata": {},
   "outputs": [],
   "source": [
    "percip_cols = [c for c in eto_cols if \"Precip\" in c]\n",
    "snow_cols = [c for c in eto_cols if \"Snow\" in c]\n",
    "temp_day_cols = [c for c in eto_cols if \"TemperatureLocalDay\" in c]\n",
    "temp_cols = [c for c in eto_cols if \"TemperatureLocalAfter\" in c or \"TemperatureLocalOvern\" in c]\n",
    "evotrans_cols = [c for c in eto_cols if \"Evapotranspiration\" in c]\n",
    "feelslike_cols = [c for c in eto_cols if \"FeelsLikeLoca\" in c]\n",
    "irrad_cols = [c for c in eto_cols if \"Irradiance\" in c]\n",
    "gust_cols = [c for c in eto_cols if \"Gust\" in c]\n",
    "wind_cols = [c for c in eto_cols if \"Wind\" in c]\n",
    "dewpoint_cols = [c for c in eto_cols if \"Dewpoint\" in c]\n",
    "mslp_cols = [c for c in eto_cols if \"MSLP\" in c]\n",
    "humid_cols = [c for c in eto_cols if \"Humidity\" in c]\n",
    "uvindex_cols = [c for c in eto_cols if \"UVIndex\" in c]\n",
    "visib_cols = [c for c in eto_cols if \"Visibility\" in c]"
   ]
  },
  {
   "cell_type": "code",
   "execution_count": 85,
   "metadata": {},
   "outputs": [],
   "source": [
    "# data prep\n",
    "from sklearn.model_selection import train_test_split\n",
    "\n",
    "data_train = tr.filter_camp(data.copy(), min_camp=14, max_camp=21)\n",
    "\n",
    "data_final = tr.filter_camp(data, min_camp=22, max_camp=22)\n",
    "\n",
    "train, test = tr.train_test_split(data_train, test_camp=21)\n",
    "\n",
    "X, y = tr.xy_split(data_train)\n",
    "\n",
    "cat_cols = [\n",
    "    'id_finca', \n",
    "    'id_zona',\n",
    "    'id_estacion', \n",
    "    'variedad',\n",
    "    \"modo\", \n",
    "    \"tipo\",\n",
    "    \"color\", \n",
    "    \"prod_shift1_gt_shift2\"\n",
    "]\n",
    "\n",
    "num_cols = [col for col in X.columns if col not in cat_cols]\n",
    "\n",
    "X[cat_cols] = X[cat_cols].astype('category')\n",
    "\n",
    "X_train, y_train = tr.xy_split(train)\n",
    "X_train, X_val, y_train, y_val = train_test_split(X_train, y_train, test_size=0.1)\n",
    "X_test, y_test = tr.xy_split(test)\n",
    "X_final, y_final = tr.xy_split(data_final)\n",
    "\n",
    "\n",
    "train_idxs, test_idxs = tr.CampKFold.get_train_test(\n",
    "    X['campaña'], from_camp=19, to_camp=21\n",
    ")\n",
    "\n",
    "cv = tr.CampKFold(train_idxs, test_idxs)\n"
   ]
  },
  {
   "cell_type": "code",
   "execution_count": 151,
   "metadata": {},
   "outputs": [
    {
     "data": {
      "text/plain": [
       "['campaña',\n",
       " 'altitud',\n",
       " 'superficie',\n",
       " 'sup_tot_camp_finca',\n",
       " 'superficie_total',\n",
       " 'n_var_camp_finca',\n",
       " 'prod_shift1',\n",
       " 'prod_shift2',\n",
       " 'sup_shift1',\n",
       " 'sup_shift2',\n",
       " 'prod_shift_max',\n",
       " 'prod_shift_change',\n",
       " 'prod_shift_avg',\n",
       " 'prod_est_mean_change',\n",
       " 'prod_he_shift1',\n",
       " 'prod_he_shift2',\n",
       " 'prod_he_shift_change',\n",
       " 'prod_he_shift_avg',\n",
       " 'prod_he_var_zone_mean_hist',\n",
       " 'prod_he_var_zone_std_hist',\n",
       " 'prod_he_var_mean_hist',\n",
       " 'prod_he_var_std_hist',\n",
       " 'prod_var_shift_1',\n",
       " 'prod_var_shift_2',\n",
       " 'prod_he_zone_mean',\n",
       " 'prod_he_zone_std',\n",
       " 'prod_he_var_mean',\n",
       " 'prod_he_var_std',\n",
       " 'prod_finca_shift_1',\n",
       " 'prod_finca_shift_2']"
      ]
     },
     "execution_count": 151,
     "metadata": {},
     "output_type": "execute_result"
    }
   ],
   "source": [
    "# train:  [-4839.59020898 -4583.98664151 -4539.58061505]\n",
    "# test:  [-4891.16800002 -6766.39861346 -5488.25400758]\n",
    "\n",
    "# train:  [-4797.8376427  -4615.87205413 -4612.09477475]\n",
    "# test:  [-5134.12302483 -6856.37323236 -5392.33773521]\n",
    "wine_num_cols"
   ]
  },
  {
   "cell_type": "code",
   "execution_count": 313,
   "metadata": {},
   "outputs": [],
   "source": [
    "# random forest\n",
    "\n",
    "def build_model():\n",
    "#     model_num_cols = [\n",
    "#         'superficie',\n",
    "#         'prod_shift_max',\n",
    "#         'prod_shift_change',\n",
    "#         'prod_shift_avg',\n",
    "#         'prod_est_mean_change',\n",
    "#     ]\n",
    "\n",
    "    model_num_cols = [\n",
    "        'superficie',\n",
    "#         'sup_tot_camp_finca',\n",
    "#         'superficie_total',\n",
    "        'n_var_camp_finca',\n",
    "#         'prod_shift1',\n",
    "#         'prod_shift2',\n",
    "#         'sup_shift1',\n",
    "#         'sup_shift2',\n",
    "        'prod_shift_max',\n",
    "        'prod_shift_change',\n",
    "        'prod_shift_avg',\n",
    "        'prod_est_mean_change',\n",
    "#         'prod_he_shift1',\n",
    "#         'prod_he_shift2',\n",
    "        'prod_he_shift_change',\n",
    "        'prod_he_shift_avg',\n",
    "        'prod_he_var_zone_mean_hist',\n",
    "        'prod_he_var_zone_std_hist',\n",
    "        'prod_he_var_mean_hist',\n",
    "        'prod_he_var_std_hist',\n",
    "        'prod_var_shift_1',\n",
    "        'prod_var_shift_2',\n",
    "#         'prod_he_zone_mean',\n",
    "#         'prod_he_zone_std',\n",
    "#         'prod_he_var_mean',\n",
    "#         'prod_he_var_std',\n",
    "        'prod_finca_shift_1',\n",
    "        'prod_finca_shift_2'\n",
    "    ]\n",
    "\n",
    "    model_cat_cols = [\n",
    "        'id_finca',\n",
    "        'id_zona',\n",
    "        \"id_estacion\",\n",
    "        'variedad',\n",
    "        \"modo\",\n",
    "#         \"tipo\",\n",
    "        \"color\",\n",
    "        \"prod_shift1_gt_shift2\"\n",
    "    ]\n",
    "    m = make_pipeline( \n",
    "        make_column_transformer(\n",
    "            (OrdinalEncoder(handle_unknown='use_encoded_value',unknown_value=-1), model_cat_cols),\n",
    "\n",
    "            (ce.CatBoostEncoder(),['variedad']),\n",
    "            (ce.CatBoostEncoder(),['id_zona']),\n",
    "#             (ce.TargetEncoder(),['variedad']),\n",
    "#             (ce.CatBoostEncoder(),['id_finca']),\n",
    "#             (ce.CatBoostEncoder(),['id_estacion']),\n",
    "#             (ce.BaseNEncoder(),['variedad']),\n",
    "#             (QuantileFeatureEncoder(col=\"id_finca\"), ['id_finca']),\n",
    "#             (QuantileFeatureEncoder(col=\"id_zona\"), ['id_zona']),\n",
    "#             (ThresholdFeatureEncoder(col='altitud'), ['altitud']),\n",
    "#             (ThresholdFeatureEncoder(col='variedad'), ['variedad']),\n",
    "            (KBinsDiscretizer(n_bins=3), ['altitud']),\n",
    "            (MinMaxScaler(), model_num_cols),\n",
    "            remainder='drop'\n",
    "        ),\n",
    "        RandomForestRegressor(\n",
    "            random_state=seed,\n",
    "            n_estimators=200,\n",
    "            min_samples_leaf=3,\n",
    "            n_jobs=-1,\n",
    "            max_features='sqrt',\n",
    "        )\n",
    "    )\n",
    "    return m\n"
   ]
  },
  {
   "cell_type": "code",
   "execution_count": 314,
   "metadata": {},
   "outputs": [
    {
     "name": "stdout",
     "output_type": "stream",
     "text": [
      "train:  [-5032.38790032 -4744.90068968 -4687.82439914]\n",
      "test:  [-4995.66356888 -6873.7082435  -5505.05512512]\n"
     ]
    }
   ],
   "source": [
    "res = cross_validate(\n",
    "    estimator=build_model(),\n",
    "    X=X,\n",
    "    y=y,\n",
    "    cv=cv,\n",
    "    n_jobs=-1,\n",
    "    scoring=tr.rmse_scorer,\n",
    "    return_train_score=True,\n",
    "    return_estimator=True\n",
    ")\n",
    "\n",
    "print(\"train: \",res['train_score'])\n",
    "print(\"test: \",res['test_score'])"
   ]
  },
  {
   "cell_type": "code",
   "execution_count": 315,
   "metadata": {},
   "outputs": [
    {
     "name": "stdout",
     "output_type": "stream",
     "text": [
      "Fitting 3 folds for each of 9 candidates, totalling 27 fits\n",
      "{'randomforestregressor__max_features': 'sqrt', 'randomforestregressor__min_samples_leaf': 5, 'randomforestregressor__n_estimators': 180}\n",
      "-5703.650224652448\n"
     ]
    }
   ],
   "source": [
    "param_grid = {\n",
    "    'randomforestregressor__max_features': ['sqrt'],\n",
    "    'randomforestregressor__n_estimators': [180,200,220],\n",
    "    'randomforestregressor__min_samples_leaf': [3,4,5],\n",
    "}\n",
    "\n",
    "gsm = GridSearchCV(\n",
    "    estimator=build_model(),\n",
    "    param_grid=param_grid,\n",
    "    cv=cv,\n",
    "    verbose=1,\n",
    "    scoring=tr.rmse_scorer\n",
    ")\n",
    "\n",
    "gsm.fit(X,y)\n",
    "\n",
    "print(gsm.best_params_)\n",
    "print(gsm.best_score_)"
   ]
  },
  {
   "cell_type": "code",
   "execution_count": 316,
   "metadata": {},
   "outputs": [
    {
     "name": "stdout",
     "output_type": "stream",
     "text": [
      "train:  [-5623.8236937  -5340.78104248 -5288.80133018]\n",
      "test:  [-4864.52406682 -6795.43907779 -5450.98752935]\n"
     ]
    }
   ],
   "source": [
    "m = build_model()\n",
    "m.set_params(**gsm.best_params_)\n",
    "res = cross_validate(\n",
    "    estimator=m,\n",
    "    X=X,\n",
    "    y=y,\n",
    "    cv=cv,\n",
    "    n_jobs=-1,\n",
    "    scoring=tr.rmse_scorer,\n",
    "    return_train_score=True,\n",
    "    return_estimator=True\n",
    ")\n",
    "\n",
    "print(\"train: \",res['train_score'])\n",
    "print(\"test: \",res['test_score'])"
   ]
  },
  {
   "cell_type": "code",
   "execution_count": 291,
   "metadata": {},
   "outputs": [],
   "source": [
    "models = []\n",
    "for i in range(10):\n",
    "    m = build_model()\n",
    "    m.set_params(**gsm.best_params_, randomforestregressor__random_state=seed*(1+i))\n",
    "    m.fit(X, y)\n",
    "    models.append(m)\n",
    "  "
   ]
  },
  {
   "cell_type": "code",
   "execution_count": 292,
   "metadata": {},
   "outputs": [],
   "source": [
    "preds_final = []\n",
    "for model in models:\n",
    "    preds_final.append(model.predict(X_final))\n",
    "\n",
    "std_preds_final = np.std(preds_final,0)\n",
    "preds_final = np.mean(preds_final,0)\n"
   ]
  },
  {
   "cell_type": "code",
   "execution_count": 293,
   "metadata": {},
   "outputs": [
    {
     "data": {
      "image/png": "[encoded data removed]",
      "text/plain": [
       "<Figure size 640x480 with 1 Axes>"
      ]
     },
     "metadata": {},
     "output_type": "display_data"
    }
   ],
   "source": [
    "import matplotlib.pyplot \n",
    "\n",
    "plt.hist(std_preds_final)\n",
    "plt.show()"
   ]
  },
  {
   "cell_type": "code",
   "execution_count": 294,
   "metadata": {},
   "outputs": [],
   "source": [
    "# plt.hist(preds_final)\n",
    "# plt.show()"
   ]
  },
  {
   "cell_type": "code",
   "execution_count": 295,
   "metadata": {},
   "outputs": [],
   "source": [
    "preds_denis = pd.read_csv(\n",
    "    '../../data/final/UH2023_Universidad Complutense de Madrid (UCM)_Malbecs_1.txt', \n",
    "    sep=\"|\", \n",
    "    header=None\n",
    ")\n",
    "\n",
    "preds_final = data_final[\n",
    "    ['id_finca', 'variedad','modo','tipo','color','superficie']\n",
    "].copy()\n",
    "\n",
    "preds_final['produccion'] = y_pred_final\n",
    "\n",
    "preds_final = preds_final.sort_values(\n",
    "    ['id_finca', 'variedad','modo','tipo','color','superficie'], \n",
    "    ascending=True\n",
    ")"
   ]
  },
  {
   "cell_type": "code",
   "execution_count": 296,
   "metadata": {},
   "outputs": [
    {
     "data": {
      "image/png": "[encoded data removed]",
      "text/plain": [
       "<Figure size 1000x1000 with 1 Axes>"
      ]
     },
     "metadata": {},
     "output_type": "display_data"
    }
   ],
   "source": [
    "plt.figure(figsize=(10, 10))\n",
    "plt.scatter(x=preds_final.iloc[:,-1],\n",
    "            y=preds_denis.iloc[:, -1], alpha=0.5)\n",
    "plt.plot([0, 120000], [0, 120000])\n",
    "plt.xlabel('nuevo')\n",
    "plt.ylabel('viejo')\n",
    "plt.show()"
   ]
  },
  {
   "cell_type": "code",
   "execution_count": null,
   "metadata": {},
   "outputs": [],
   "source": []
  },
  {
   "cell_type": "code",
   "execution_count": null,
   "metadata": {},
   "outputs": [],
   "source": []
  },
  {
   "cell_type": "code",
   "execution_count": null,
   "metadata": {},
   "outputs": [],
   "source": []
  },
  {
   "cell_type": "code",
   "execution_count": null,
   "metadata": {},
   "outputs": [],
   "source": []
  },
  {
   "cell_type": "code",
   "execution_count": null,
   "metadata": {},
   "outputs": [],
   "source": []
  },
  {
   "cell_type": "code",
   "execution_count": null,
   "metadata": {},
   "outputs": [],
   "source": [
    "# random forest\n",
    "\n",
    "def build_model():\n",
    "    model_num_cols = [\n",
    "#         \"campaña\",\n",
    "        'superficie',\n",
    "#         'prod_he_var_zone_mean_hist',\n",
    "#         'prod_he_var_zone_std_hist',\n",
    "#         'prod_he_var_mean_hist',\n",
    "#         'prod_he_var_std_hist',\n",
    "\n",
    "        'prod_shift_max',\n",
    "        'prod_shift_change',\n",
    "        'prod_shift_avg',\n",
    "        'prod_est_mean_change',\n",
    "#         'n_var_camp_finca'\n",
    "    ]\n",
    "\n",
    "    model_cat_cols = [\n",
    "        'id_finca',\n",
    "        'id_zona',\n",
    "        \"id_estacion\",\n",
    "        'variedad',\n",
    "        \"modo\",\n",
    "#         \"tipo\",\n",
    "        \"color\",\n",
    "        \"prod_shift1_gt_shift2\"\n",
    "    ]\n",
    "    m = make_pipeline( \n",
    "        make_column_transformer(\n",
    "            (OrdinalEncoder(handle_unknown='use_encoded_value',unknown_value=-1), model_cat_cols),\n",
    "\n",
    "            (ce.CatBoostEncoder(),['variedad']),\n",
    "            (ce.CatBoostEncoder(),['id_zona']),\n",
    "#             (ce.TargetEncoder(),['variedad']),\n",
    "#             (ce.CatBoostEncoder(),['id_finca']),\n",
    "#             (ce.CatBoostEncoder(),['id_estacion']),\n",
    "#             (ce.BaseNEncoder(),['variedad']),\n",
    "#             (QuantileFeatureEncoder(col=\"id_finca\"), ['id_finca']),\n",
    "#             (QuantileFeatureEncoder(col=\"id_zona\"), ['id_zona']),\n",
    "#             (ThresholdFeatureEncoder(col='altitud'), ['altitud']),\n",
    "#             (ThresholdFeatureEncoder(col='variedad'), ['variedad']),\n",
    "            (KBinsDiscretizer(n_bins=3), ['altitud']),\n",
    "            (MinMaxScaler(), model_num_cols),\n",
    "            remainder='drop'\n",
    "        ),\n",
    "        RandomForestRegressor(\n",
    "            random_state=seed,\n",
    "            n_estimators=200,\n",
    "            min_samples_leaf=3,\n",
    "            n_jobs=-1,\n",
    "            max_features='sqrt',\n",
    "        )\n",
    "    )\n",
    "    return m\n"
   ]
  }
 ],
 "metadata": {
  "kernelspec": {
   "display_name": "cajamar",
   "language": "python",
   "name": "cajamar"
  },
  "language_info": {
   "codemirror_mode": {
    "name": "ipython",
    "version": 3
   },
   "file_extension": ".py",
   "mimetype": "text/x-python",
   "name": "python",
   "nbconvert_exporter": "python",
   "pygments_lexer": "ipython3",
   "version": "3.9.13"
  }
 },
 "nbformat": 4,
 "nbformat_minor": 2
}
