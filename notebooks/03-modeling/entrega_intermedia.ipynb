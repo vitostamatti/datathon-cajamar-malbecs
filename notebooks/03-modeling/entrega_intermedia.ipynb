{
 "cells": [
  {
   "cell_type": "markdown",
   "id": "8390e2a7-5a11-441c-8ea4-212f613dbbda",
   "metadata": {},
   "source": [
    "## Importamos librerias"
   ]
  },
  {
   "cell_type": "code",
   "execution_count": 1,
   "id": "b0491179-862a-438a-991f-d234ce408da2",
   "metadata": {},
   "outputs": [],
   "source": [
    "#EDA\n",
    "import pandas as pd\n",
    "pd.options.display.float_format = '{:.2f}'.format\n",
    "pd.set_option('display.max_colwidth', None)\n",
    "pd.set_option('display.max_columns', None)  \n",
    "\n",
    "import numpy as np\n",
    "import warnings\n",
    "warnings.filterwarnings('ignore')\n",
    "\n",
    "#Data viz\n",
    "import matplotlib.pyplot as plt\n",
    "import seaborn as sns\n",
    "import plotly.express as px\n",
    "color_pal = sns.color_palette()\n",
    "plt.style.use('fivethirtyeight')\n",
    "\n",
    "#Modelos\n",
    "import sklearn as sk\n",
    "from sklearn.preprocessing import LabelEncoder\n",
    "from sklearn.ensemble import RandomForestRegressor\n",
    "from sklearn.model_selection import ShuffleSplit, LeaveOneOut, StratifiedKFold\n",
    "from sklearn.model_selection import cross_val_score, cross_val_predict\n",
    "from sklearn.model_selection import train_test_split\n",
    "\n",
    "from sklearn.preprocessing import PowerTransformer\n",
    "from sklearn.compose import ColumnTransformer\n",
    "from sklearn.preprocessing import OneHotEncoder, LabelEncoder, OrdinalEncoder, StandardScaler\n",
    "from sklearn.impute import KNNImputer\n",
    "from sklearn.pipeline import make_pipeline\n",
    "from sklearn.metrics import mean_squared_error\n",
    "from sklearn.decomposition import PCA\n",
    "import category_encoders as ce\n",
    "from sklearn.preprocessing  import KBinsDiscretizer, MinMaxScaler, SplineTransformer\n",
    "from catboost import CatBoostRegressor\n",
    "\n",
    "from xgboost import XGBRegressor\n",
    "\n",
    "#Resultados\n",
    "import shap"
   ]
  },
  {
   "cell_type": "code",
   "execution_count": 2,
   "id": "0d8d2043-c6d8-41d4-95de-148c61cfffe1",
   "metadata": {},
   "outputs": [],
   "source": [
    "def rmse_score(y_true, y_pred):\n",
    "    return np.sqrt(mean_squared_error(y_true, y_pred))"
   ]
  },
  {
   "cell_type": "markdown",
   "id": "4ff6c0ea-b799-440c-8c60-68a3d2643f64",
   "metadata": {},
   "source": [
    "- CAMPAÑA: Año de la campaña.\n",
    "- ID_FINCA: Identificador de finca.\n",
    "- ID_ZONA: Identificador de una zona con una tipología de suelo común\n",
    "- ID_ESTACION: Identificador de estación meteorológica.\n",
    "- ALTITUD: Altitud media de la finca sobre el nivel del mar en metros.\n",
    "- VARIEDAD: Código de variedad de la uva que se cultiva en la finca.\n",
    "- MODO: Código del modo de cultivo.\n",
    "- TIPO: Tipo de cultivo dentro de la variedad.\n",
    "- COLOR: Identificador del color de la uva.\n",
    "- SUPERFICIE: Superficie en hectáreas que ocupa la finca.\n",
    "- PRODUCCION: Producción en kg. Obtenida en la campaña."
   ]
  },
  {
   "cell_type": "markdown",
   "id": "3f3bc0cd-259d-4dd7-bb28-f5bccec2f087",
   "metadata": {},
   "source": [
    "## Lectura de datos"
   ]
  },
  {
   "cell_type": "code",
   "execution_count": 3,
   "id": "c29ee273-b392-409c-aa03-88b34938c1a7",
   "metadata": {},
   "outputs": [],
   "source": [
    "df = pd.read_csv('C:/Users/denis/OneDrive/Escritorio/Datathon/datos/UH_2023_TRAIN.txt', sep= '|', header=0 )"
   ]
  },
  {
   "cell_type": "code",
   "execution_count": 4,
   "id": "696c2ae7-7d3b-45db-b8d1-f5dac40957ff",
   "metadata": {},
   "outputs": [],
   "source": [
    "df.columns = [col.lower().replace('-','_') for col in df.columns]"
   ]
  },
  {
   "cell_type": "markdown",
   "id": "c09e2fd5-05dd-4360-bea0-3a5a53f5fa57",
   "metadata": {},
   "source": [
    "## Transformaciones"
   ]
  },
  {
   "cell_type": "markdown",
   "id": "08f71cca-4e5d-47b3-83ff-67bafb9db754",
   "metadata": {},
   "source": [
    "**Altitud**"
   ]
  },
  {
   "cell_type": "code",
   "execution_count": 5,
   "id": "8fafb75c-a4b7-490a-8e36-6818b2ab001a",
   "metadata": {},
   "outputs": [],
   "source": [
    "def transform_altitud(alt):\n",
    "    if type(alt) is str:\n",
    "        alt_list = alt.split(\"-\")\n",
    "        alt_list = list(map(float, alt_list))\n",
    "        return np.mean(alt_list) \n",
    "    return alt"
   ]
  },
  {
   "cell_type": "code",
   "execution_count": 6,
   "id": "f3327e36-d034-49b4-ab03-0938158f4485",
   "metadata": {},
   "outputs": [],
   "source": [
    "df['altitud'] = df['altitud'].apply(lambda alt: transform_altitud(alt))"
   ]
  },
  {
   "cell_type": "markdown",
   "id": "591082ad-d911-4456-b676-822467d55d86",
   "metadata": {},
   "source": [
    "### Agrupacion de valores\n",
    "\n",
    "Recategorizar aquellas columnas con muchos valores.\n",
    "\n",
    "- Variedad\n",
    "- Finca\n",
    "- Altitud\n",
    "- Zona\n",
    "\n",
    "Hacerlo para **train**"
   ]
  },
  {
   "cell_type": "markdown",
   "id": "caccae01-7021-4d0e-86c8-0b9d995dfbae",
   "metadata": {},
   "source": [
    "Separamos parte del dataset que utilizamos para imputaciones y nuevas features\n",
    "\n",
    "- 2022 lo usamos para imputar, pero a la hora del modelo lo sacamos porque no tiene el Target\n",
    "- Para los modelos usamos 2021 como Test, entonces lo sacamos ahora para las transformaciones para no hacer leakage -> Transf df\n",
    "- Luego podemos hacer backtesting con 2020, tomando 2021."
   ]
  },
  {
   "cell_type": "markdown",
   "id": "e821f86f-bc63-44e5-aa81-b35727b187ef",
   "metadata": {},
   "source": [
    "### Funciones para crear variables produccoin sin 21"
   ]
  },
  {
   "cell_type": "code",
   "execution_count": 7,
   "id": "c7cc9705-98eb-40c1-8ff0-1afddc051943",
   "metadata": {},
   "outputs": [],
   "source": [
    "def df_for_fe(data):\n",
    "    transf = data[data.campaña != 21]\n",
    "    return transf"
   ]
  },
  {
   "cell_type": "code",
   "execution_count": 8,
   "id": "9c22a5b0-b86d-44c3-b2ec-19a86d61ab3c",
   "metadata": {},
   "outputs": [],
   "source": [
    "def above_mean_col(data,col):\n",
    "    df = df_for_fe(data)\n",
    "    above_mean = pd.DataFrame(df.groupby(col)['produccion'].mean() > df.produccion.mean())\n",
    "    above_mean = list(above_mean[above_mean['produccion']].index)\n",
    "    data[f'{col}_above_mean'] = [1 if x in above_mean else 0 for x in data[col]]\n",
    "    return data"
   ]
  },
  {
   "cell_type": "code",
   "execution_count": 9,
   "id": "863854bb-7816-4b33-9c68-2c083403a15e",
   "metadata": {},
   "outputs": [],
   "source": [
    "def quantiles_col(data,col):\n",
    "    df = df_for_fe(data)\n",
    "    quantiles_df = pd.DataFrame(df.groupby(col)['produccion'].mean()).reset_index()\n",
    "    Q1 = quantiles_df.produccion.quantile(0.25)\n",
    "    Q2 = quantiles_df.produccion.quantile(0.5)\n",
    "    Q3 = quantiles_df.produccion.quantile(0.75)\n",
    "    \n",
    "    quantiles_df[f'{col}_percentiles'] = [0 if x < Q1 else 1 if x < Q2 else 2 if x < Q3 else 3 for x in quantiles_df.produccion]\n",
    "\n",
    "    data = data.merge(quantiles_df[[col,f'{col}_percentiles']], how='left', on = col) #Joineamos con el df transformado\n",
    "    \n",
    "    return data"
   ]
  },
  {
   "cell_type": "code",
   "execution_count": 10,
   "id": "af3fc8ea-3019-4bf6-ae7b-2dc414cd5fd2",
   "metadata": {},
   "outputs": [],
   "source": [
    "df['altitud'] = df.groupby('id_estacion')['altitud'].transform(lambda x: x.fillna(x.mean()))\n",
    "\n",
    "for col in ['altitud','variedad']:\n",
    "    df=above_mean_col(df,col)\n",
    "    \n",
    "for col in ['id_finca','id_zona']:\n",
    "    df=quantiles_col(df,col)"
   ]
  },
  {
   "cell_type": "markdown",
   "id": "b8da5a75-7878-4dc4-ae08-90a74a9bf4b2",
   "metadata": {},
   "source": [
    "### Imputar NAs para superficie\n",
    "\n",
    "- No usamos 2021 pues leakage, pero si usamos 2022. Al final si"
   ]
  },
  {
   "cell_type": "code",
   "execution_count": 11,
   "id": "2e25b79a-4d25-49c4-bcb9-9c391a1cb984",
   "metadata": {},
   "outputs": [],
   "source": [
    "df['superficie'] = df['superficie'].replace(0, np.nan)"
   ]
  },
  {
   "cell_type": "markdown",
   "id": "a1a24d6c-fbdc-4835-91bf-0a6b21432c4c",
   "metadata": {},
   "source": [
    "Vamos cubriendo los NAs segun por menor a mayor jerarquia"
   ]
  },
  {
   "cell_type": "code",
   "execution_count": 12,
   "id": "496436b6-39d0-4489-8958-5212a3326179",
   "metadata": {},
   "outputs": [
    {
     "data": {
      "text/plain": [
       "0"
      ]
     },
     "execution_count": 12,
     "metadata": {},
     "output_type": "execute_result"
    }
   ],
   "source": [
    "df['superficie'] = df.groupby(['id_finca','variedad','modo'])['superficie'].transform(lambda x: x.fillna(x.mean()))\n",
    "df['superficie'] = df.groupby(['id_zona','variedad','modo'])['superficie'].transform(lambda x: x.fillna(x.mean()))\n",
    "df['superficie'] = df.groupby(['id_estacion','variedad','modo'])['superficie'].transform(lambda x: x.fillna(x.mean()))\n",
    "df['superficie'] = df.groupby(['variedad','modo'])['superficie'].transform(lambda x: x.fillna(x.mean()))\n",
    "df['superficie'] = df.groupby(['variedad'])['superficie'].transform(lambda x: x.fillna(x.mean()))\n",
    "\n",
    "df.superficie.isna().sum()"
   ]
  },
  {
   "cell_type": "markdown",
   "id": "ed1e5147-691d-494c-bb84-2cfae52a4395",
   "metadata": {},
   "source": [
    "Nos quedan 4 NAs en fincas_percentiles, hacemos fillna promedio, calculando este ultimo sin 21"
   ]
  },
  {
   "cell_type": "code",
   "execution_count": 13,
   "id": "e91e57de-3da9-4352-9c91-9e30cb51c668",
   "metadata": {},
   "outputs": [],
   "source": [
    "df['id_finca_percentiles'] = df.id_finca_percentiles.fillna(df_for_fe(df).id_finca_percentiles.mean())"
   ]
  },
  {
   "cell_type": "markdown",
   "id": "a4924374-0d48-47f3-ae7e-a13f11754822",
   "metadata": {},
   "source": [
    "# Modelos"
   ]
  },
  {
   "cell_type": "code",
   "execution_count": 14,
   "id": "96aff143-92a2-4a75-aa72-9e536d33a7d0",
   "metadata": {},
   "outputs": [],
   "source": [
    "df_models = df[df.campaña < 22]\n",
    "df_shift = df_models.copy()"
   ]
  },
  {
   "cell_type": "code",
   "execution_count": 15,
   "id": "960539c6-9754-49d6-aab7-55a19675c48a",
   "metadata": {},
   "outputs": [],
   "source": [
    "df_shift['prod_shift1'] = df_shift.groupby(['id_finca','variedad','modo'])['produccion'].shift()\n",
    "df_shift['prod_shift2'] = df_shift.groupby(['id_finca','variedad','modo'])['prod_shift1'].shift()"
   ]
  },
  {
   "cell_type": "code",
   "execution_count": 16,
   "id": "c35a191b-b103-4913-8977-234c9cc4478b",
   "metadata": {},
   "outputs": [],
   "source": [
    "df_shift['prod_shift1'] = df_shift['prod_shift1'].fillna(-1)\n",
    "df_shift['prod_shift2'] = df_shift['prod_shift2'].fillna(-1)\n",
    "\n",
    "df_shift['var_prod_shift'] = [1 if x>y else 0 for x,y in zip(df_shift.prod_shift1, df_shift.prod_shift2)] \n",
    "\n",
    "df_shift['shifts_avg']=[(x+y)/2 if y!=-1 else x for x,y in zip(df_shift.prod_shift1,df_shift.prod_shift2)]\n",
    "df_shift['shifts_max']=[x if x>y else y for x,y in zip(df_shift.prod_shift1,df_shift.prod_shift2)]\n",
    "\n",
    "df_shift.drop(columns=['prod_shift1','prod_shift2'],inplace=True)"
   ]
  },
  {
   "cell_type": "code",
   "execution_count": 17,
   "id": "2522dcc5-e000-461d-b974-72c14152fc12",
   "metadata": {},
   "outputs": [],
   "source": [
    "estaciones = pd.DataFrame(df_shift.groupby(['campaña','id_estacion']).agg(var_prod_est=('var_prod_shift', 'mean'))).reset_index()\n",
    "df_shift = df_shift.merge(estaciones, how='left', on=['campaña','id_estacion'])"
   ]
  },
  {
   "cell_type": "code",
   "execution_count": 18,
   "id": "1acd857e-ad93-48b1-84de-c0bde6e37bfb",
   "metadata": {},
   "outputs": [],
   "source": [
    "cat_cols = [\n",
    "    'id_finca','id_zona',\n",
    "    'id_estacion','variedad',\n",
    "    \"modo\",\"tipo\",\"color\"\n",
    "]\n",
    "\n",
    "target = 'produccion'\n",
    "\n",
    "X = df_shift.loc[:, df_shift.columns != target]\n",
    "y = df_shift[target]\n",
    "\n",
    "X[cat_cols] = X[cat_cols].astype(\"category\")\n",
    "\n",
    "X_train = X.iloc[:len(df_shift[df_shift['campaña']<21]),:]\n",
    "X_test = X.iloc[len(df_shift[df_shift['campaña']<21]):,:]\n",
    "y_train = y.iloc[:len(df_shift[df_shift['campaña']<21])]\n",
    "y_test = y.iloc[len(df_shift[df_shift['campaña']<21]):]"
   ]
  },
  {
   "cell_type": "markdown",
   "id": "f795aa40-9656-444a-baa8-515a33736a60",
   "metadata": {},
   "source": [
    "Modelo 1"
   ]
  },
  {
   "cell_type": "code",
   "execution_count": 23,
   "id": "d8337871-39ed-4406-81e5-7d22848cb771",
   "metadata": {},
   "outputs": [
    {
     "name": "stdout",
     "output_type": "stream",
     "text": [
      "Wall time: 5.96 s\n"
     ]
    },
    {
     "data": {
      "text/plain": [
       "5451.055561486305"
      ]
     },
     "execution_count": 23,
     "metadata": {},
     "output_type": "execute_result"
    }
   ],
   "source": [
    "%%time \n",
    "\n",
    "\n",
    "# sample_weight = X_train['campaña'].apply(lambda x: 0.5 if x == 19 else 1).values\n",
    "#Modelo\n",
    "rf = RandomForestRegressor(random_state=99)\n",
    "\n",
    "#Entrenamiento\n",
    "# rf.fit(X_train, y_train, sample_weight=sample_weight)\n",
    "rf.fit(X_train, y_train)\n",
    "\n",
    "#Predicciones\n",
    "prediction = rf.predict(X_test)\n",
    "\n",
    "#Resultados\n",
    "rmse_score(y_test, prediction)"
   ]
  },
  {
   "cell_type": "markdown",
   "id": "b86e5914-4d2e-4be7-85d2-be818b01275a",
   "metadata": {},
   "source": [
    "Modelo 2"
   ]
  },
  {
   "cell_type": "code",
   "execution_count": 19,
   "id": "e41e73c0-b08e-42f2-8694-f45c64385cf2",
   "metadata": {},
   "outputs": [
    {
     "name": "stdout",
     "output_type": "stream",
     "text": [
      "RMSE train: 4464.244832027151, RMSE test: 5441.857832683388\n"
     ]
    }
   ],
   "source": [
    "ids = ['campaña', 'id_finca', 'id_zona', 'id_estacion','variedad']\n",
    "    \n",
    "binarias =   ['modo', 'tipo', 'color']\n",
    "\n",
    "discret = ['altitud']\n",
    "\n",
    "rest_cols = ['superficie', 'id_finca_percentiles','id_zona_percentiles']\n",
    "\n",
    "ctransformer = ColumnTransformer([\n",
    "   ('kbins', KBinsDiscretizer() , discret),\n",
    "#     ('multi', OneHotEncoder(), binarias),\n",
    "#      ('PCA', PCA(n_components=2), extra_weather),\n",
    "   ('scaler', MinMaxScaler(), rest_cols)],\n",
    "    remainder='passthrough')\n",
    "\n",
    "model = RandomForestRegressor(random_state=99\n",
    "                              ,n_estimators=200\n",
    "                               ,min_samples_leaf = 3\n",
    "                               ,n_jobs = -1\n",
    "                               ,max_features= 'sqrt'\n",
    "#                                ,min_samples_split = 1\n",
    "                               ,max_depth = 100\n",
    "#                               ,criterion = 'friedman_mse'\n",
    "                             )\n",
    "\n",
    "pipeline = make_pipeline(ctransformer,model)\n",
    "\n",
    "pipeline.fit(X_train,y_train)\n",
    "\n",
    "preds_train = pipeline.predict(X_train)\n",
    "preds_test = pipeline.predict(X_test)\n",
    "\n",
    "print(f'RMSE train: {rmse_score(y_train,preds_train)}, RMSE test: {rmse_score(y_test,preds_test)}')"
   ]
  },
  {
   "cell_type": "markdown",
   "id": "4745b928-04d1-4dbf-bac1-8099c72afbf9",
   "metadata": {},
   "source": [
    "# Predicciones"
   ]
  },
  {
   "cell_type": "markdown",
   "id": "521e7ab7-12c6-4a1e-8f2e-dd446724b953",
   "metadata": {},
   "source": [
    "Creamos features para 2022"
   ]
  },
  {
   "cell_type": "code",
   "execution_count": 20,
   "id": "e519a26a-80e3-41d6-869f-b313a563974d",
   "metadata": {},
   "outputs": [],
   "source": [
    "df_shift = df.copy()\n",
    "df_shift['prod_shift1'] = df_shift.groupby(['id_finca','variedad','modo'])['produccion'].shift()\n",
    "df_shift['prod_shift2'] = df_shift.groupby(['id_finca','variedad','modo'])['prod_shift1'].shift()"
   ]
  },
  {
   "cell_type": "code",
   "execution_count": 21,
   "id": "0c653613-1546-444b-9495-71eb016917dc",
   "metadata": {},
   "outputs": [],
   "source": [
    "df_shift['prod_shift1'] = df_shift['prod_shift1'].fillna(-1)\n",
    "df_shift['prod_shift2'] = df_shift['prod_shift2'].fillna(-1)\n",
    "\n",
    "df_shift['var_prod_shift'] = [1 if x>y else 0 for x,y in zip(df_shift.prod_shift1, df_shift.prod_shift2)] \n",
    "\n",
    "df_shift['shifts_avg']=[(x+y)/2 if y!=-1 else x for x,y in zip(df_shift.prod_shift1,df_shift.prod_shift2)]\n",
    "df_shift['shifts_max']=[x if x>y else y for x,y in zip(df_shift.prod_shift1,df_shift.prod_shift2)]\n",
    "\n",
    "df_shift.drop(columns=['prod_shift1','prod_shift2'],inplace=True)"
   ]
  },
  {
   "cell_type": "code",
   "execution_count": 22,
   "id": "14533be5-e41a-41d5-b37c-371a279f70b8",
   "metadata": {},
   "outputs": [],
   "source": [
    "estaciones = pd.DataFrame(df_shift.groupby(['campaña','id_estacion']).agg(var_prod_est=('var_prod_shift', 'mean'))).reset_index()\n",
    "df_shift = df_shift.merge(estaciones, how='left', on=['campaña','id_estacion'])"
   ]
  },
  {
   "cell_type": "code",
   "execution_count": 23,
   "id": "6b5cf0c2-9fee-423c-9a57-bc026c40588c",
   "metadata": {},
   "outputs": [],
   "source": [
    "data_22 = df_shift[df_shift.campaña==22]"
   ]
  },
  {
   "cell_type": "code",
   "execution_count": 24,
   "id": "953e6bb9-508f-458f-9bd1-be09a56566db",
   "metadata": {},
   "outputs": [],
   "source": [
    "cat_cols = [\n",
    "    'id_finca','id_zona',\n",
    "    'id_estacion','variedad',\n",
    "    \"modo\",\"tipo\",\"color\"\n",
    "]\n",
    "\n",
    "target = 'produccion'\n",
    "\n",
    "X = df_shift.loc[:, df_shift.columns != target]\n",
    "y = df_shift[target]\n",
    "\n",
    "X[cat_cols] = X[cat_cols].astype(\"category\")\n",
    "\n",
    "X_train = X.iloc[:len(df_shift[df_shift['campaña']<22]),:]\n",
    "X_test = X.iloc[len(df_shift[df_shift['campaña']<22]):,:]\n",
    "y_train = y.iloc[:len(df_shift[df_shift['campaña']<22])]\n",
    "y_test = y.iloc[len(df_shift[df_shift['campaña']<22]):]"
   ]
  },
  {
   "cell_type": "markdown",
   "id": "4a88533a-0c11-458a-a23b-5005cfcd2c0a",
   "metadata": {},
   "source": [
    "Guardamos las predicciones que salen del modelo viejo"
   ]
  },
  {
   "cell_type": "code",
   "execution_count": 25,
   "id": "b8334a87-3c7e-4126-874c-bb42cf4b1206",
   "metadata": {},
   "outputs": [
    {
     "data": {
      "text/plain": [
       "1075"
      ]
     },
     "execution_count": 25,
     "metadata": {},
     "output_type": "execute_result"
    }
   ],
   "source": [
    "preds_viejo = pipeline.predict(X_test)\n",
    "len(preds_viejo)"
   ]
  },
  {
   "cell_type": "code",
   "execution_count": 26,
   "id": "dd9c339f-a05a-47c0-b4cc-4045393109ec",
   "metadata": {},
   "outputs": [
    {
     "data": {
      "text/plain": [
       "1075"
      ]
     },
     "execution_count": 26,
     "metadata": {},
     "output_type": "execute_result"
    }
   ],
   "source": [
    "len(X_test)"
   ]
  },
  {
   "cell_type": "markdown",
   "id": "b506053e-df56-4558-bc20-2e108cdc33b5",
   "metadata": {},
   "source": [
    "Modelo reentrenado"
   ]
  },
  {
   "cell_type": "code",
   "execution_count": 27,
   "id": "148b73e5-91cd-4fc1-9fdd-9e4a3d87e4e6",
   "metadata": {},
   "outputs": [
    {
     "data": {
      "text/html": [
       "<style>#sk-container-id-1 {color: black;background-color: white;}#sk-container-id-1 pre{padding: 0;}#sk-container-id-1 div.sk-toggleable {background-color: white;}#sk-container-id-1 label.sk-toggleable__label {cursor: pointer;display: block;width: 100%;margin-bottom: 0;padding: 0.3em;box-sizing: border-box;text-align: center;}#sk-container-id-1 label.sk-toggleable__label-arrow:before {content: \"▸\";float: left;margin-right: 0.25em;color: #696969;}#sk-container-id-1 label.sk-toggleable__label-arrow:hover:before {color: black;}#sk-container-id-1 div.sk-estimator:hover label.sk-toggleable__label-arrow:before {color: black;}#sk-container-id-1 div.sk-toggleable__content {max-height: 0;max-width: 0;overflow: hidden;text-align: left;background-color: #f0f8ff;}#sk-container-id-1 div.sk-toggleable__content pre {margin: 0.2em;color: black;border-radius: 0.25em;background-color: #f0f8ff;}#sk-container-id-1 input.sk-toggleable__control:checked~div.sk-toggleable__content {max-height: 200px;max-width: 100%;overflow: auto;}#sk-container-id-1 input.sk-toggleable__control:checked~label.sk-toggleable__label-arrow:before {content: \"▾\";}#sk-container-id-1 div.sk-estimator input.sk-toggleable__control:checked~label.sk-toggleable__label {background-color: #d4ebff;}#sk-container-id-1 div.sk-label input.sk-toggleable__control:checked~label.sk-toggleable__label {background-color: #d4ebff;}#sk-container-id-1 input.sk-hidden--visually {border: 0;clip: rect(1px 1px 1px 1px);clip: rect(1px, 1px, 1px, 1px);height: 1px;margin: -1px;overflow: hidden;padding: 0;position: absolute;width: 1px;}#sk-container-id-1 div.sk-estimator {font-family: monospace;background-color: #f0f8ff;border: 1px dotted black;border-radius: 0.25em;box-sizing: border-box;margin-bottom: 0.5em;}#sk-container-id-1 div.sk-estimator:hover {background-color: #d4ebff;}#sk-container-id-1 div.sk-parallel-item::after {content: \"\";width: 100%;border-bottom: 1px solid gray;flex-grow: 1;}#sk-container-id-1 div.sk-label:hover label.sk-toggleable__label {background-color: #d4ebff;}#sk-container-id-1 div.sk-serial::before {content: \"\";position: absolute;border-left: 1px solid gray;box-sizing: border-box;top: 0;bottom: 0;left: 50%;z-index: 0;}#sk-container-id-1 div.sk-serial {display: flex;flex-direction: column;align-items: center;background-color: white;padding-right: 0.2em;padding-left: 0.2em;position: relative;}#sk-container-id-1 div.sk-item {position: relative;z-index: 1;}#sk-container-id-1 div.sk-parallel {display: flex;align-items: stretch;justify-content: center;background-color: white;position: relative;}#sk-container-id-1 div.sk-item::before, #sk-container-id-1 div.sk-parallel-item::before {content: \"\";position: absolute;border-left: 1px solid gray;box-sizing: border-box;top: 0;bottom: 0;left: 50%;z-index: -1;}#sk-container-id-1 div.sk-parallel-item {display: flex;flex-direction: column;z-index: 1;position: relative;background-color: white;}#sk-container-id-1 div.sk-parallel-item:first-child::after {align-self: flex-end;width: 50%;}#sk-container-id-1 div.sk-parallel-item:last-child::after {align-self: flex-start;width: 50%;}#sk-container-id-1 div.sk-parallel-item:only-child::after {width: 0;}#sk-container-id-1 div.sk-dashed-wrapped {border: 1px dashed gray;margin: 0 0.4em 0.5em 0.4em;box-sizing: border-box;padding-bottom: 0.4em;background-color: white;}#sk-container-id-1 div.sk-label label {font-family: monospace;font-weight: bold;display: inline-block;line-height: 1.2em;}#sk-container-id-1 div.sk-label-container {text-align: center;}#sk-container-id-1 div.sk-container {/* jupyter's `normalize.less` sets `[hidden] { display: none; }` but bootstrap.min.css set `[hidden] { display: none !important; }` so we also need the `!important` here to be able to override the default hidden behavior on the sphinx rendered scikit-learn.org. See: https://github.com/scikit-learn/scikit-learn/issues/21755 */display: inline-block !important;position: relative;}#sk-container-id-1 div.sk-text-repr-fallback {display: none;}</style><div id=\"sk-container-id-1\" class=\"sk-top-container\"><div class=\"sk-text-repr-fallback\"><pre>Pipeline(steps=[(&#x27;columntransformer&#x27;,\n",
       "                 ColumnTransformer(remainder=&#x27;passthrough&#x27;,\n",
       "                                   transformers=[(&#x27;kbins&#x27;, KBinsDiscretizer(),\n",
       "                                                  [&#x27;altitud&#x27;]),\n",
       "                                                 (&#x27;scaler&#x27;, MinMaxScaler(),\n",
       "                                                  [&#x27;superficie&#x27;,\n",
       "                                                   &#x27;id_finca_percentiles&#x27;,\n",
       "                                                   &#x27;id_zona_percentiles&#x27;])])),\n",
       "                (&#x27;randomforestregressor&#x27;,\n",
       "                 RandomForestRegressor(max_depth=100, max_features=&#x27;sqrt&#x27;,\n",
       "                                       min_samples_leaf=3, n_estimators=200,\n",
       "                                       n_jobs=-1, random_state=99))])</pre><b>In a Jupyter environment, please rerun this cell to show the HTML representation or trust the notebook. <br />On GitHub, the HTML representation is unable to render, please try loading this page with nbviewer.org.</b></div><div class=\"sk-container\" hidden><div class=\"sk-item sk-dashed-wrapped\"><div class=\"sk-label-container\"><div class=\"sk-label sk-toggleable\"><input class=\"sk-toggleable__control sk-hidden--visually\" id=\"sk-estimator-id-1\" type=\"checkbox\" ><label for=\"sk-estimator-id-1\" class=\"sk-toggleable__label sk-toggleable__label-arrow\">Pipeline</label><div class=\"sk-toggleable__content\"><pre>Pipeline(steps=[(&#x27;columntransformer&#x27;,\n",
       "                 ColumnTransformer(remainder=&#x27;passthrough&#x27;,\n",
       "                                   transformers=[(&#x27;kbins&#x27;, KBinsDiscretizer(),\n",
       "                                                  [&#x27;altitud&#x27;]),\n",
       "                                                 (&#x27;scaler&#x27;, MinMaxScaler(),\n",
       "                                                  [&#x27;superficie&#x27;,\n",
       "                                                   &#x27;id_finca_percentiles&#x27;,\n",
       "                                                   &#x27;id_zona_percentiles&#x27;])])),\n",
       "                (&#x27;randomforestregressor&#x27;,\n",
       "                 RandomForestRegressor(max_depth=100, max_features=&#x27;sqrt&#x27;,\n",
       "                                       min_samples_leaf=3, n_estimators=200,\n",
       "                                       n_jobs=-1, random_state=99))])</pre></div></div></div><div class=\"sk-serial\"><div class=\"sk-item sk-dashed-wrapped\"><div class=\"sk-label-container\"><div class=\"sk-label sk-toggleable\"><input class=\"sk-toggleable__control sk-hidden--visually\" id=\"sk-estimator-id-2\" type=\"checkbox\" ><label for=\"sk-estimator-id-2\" class=\"sk-toggleable__label sk-toggleable__label-arrow\">columntransformer: ColumnTransformer</label><div class=\"sk-toggleable__content\"><pre>ColumnTransformer(remainder=&#x27;passthrough&#x27;,\n",
       "                  transformers=[(&#x27;kbins&#x27;, KBinsDiscretizer(), [&#x27;altitud&#x27;]),\n",
       "                                (&#x27;scaler&#x27;, MinMaxScaler(),\n",
       "                                 [&#x27;superficie&#x27;, &#x27;id_finca_percentiles&#x27;,\n",
       "                                  &#x27;id_zona_percentiles&#x27;])])</pre></div></div></div><div class=\"sk-parallel\"><div class=\"sk-parallel-item\"><div class=\"sk-item\"><div class=\"sk-label-container\"><div class=\"sk-label sk-toggleable\"><input class=\"sk-toggleable__control sk-hidden--visually\" id=\"sk-estimator-id-3\" type=\"checkbox\" ><label for=\"sk-estimator-id-3\" class=\"sk-toggleable__label sk-toggleable__label-arrow\">kbins</label><div class=\"sk-toggleable__content\"><pre>[&#x27;altitud&#x27;]</pre></div></div></div><div class=\"sk-serial\"><div class=\"sk-item\"><div class=\"sk-estimator sk-toggleable\"><input class=\"sk-toggleable__control sk-hidden--visually\" id=\"sk-estimator-id-4\" type=\"checkbox\" ><label for=\"sk-estimator-id-4\" class=\"sk-toggleable__label sk-toggleable__label-arrow\">KBinsDiscretizer</label><div class=\"sk-toggleable__content\"><pre>KBinsDiscretizer()</pre></div></div></div></div></div></div><div class=\"sk-parallel-item\"><div class=\"sk-item\"><div class=\"sk-label-container\"><div class=\"sk-label sk-toggleable\"><input class=\"sk-toggleable__control sk-hidden--visually\" id=\"sk-estimator-id-5\" type=\"checkbox\" ><label for=\"sk-estimator-id-5\" class=\"sk-toggleable__label sk-toggleable__label-arrow\">scaler</label><div class=\"sk-toggleable__content\"><pre>[&#x27;superficie&#x27;, &#x27;id_finca_percentiles&#x27;, &#x27;id_zona_percentiles&#x27;]</pre></div></div></div><div class=\"sk-serial\"><div class=\"sk-item\"><div class=\"sk-estimator sk-toggleable\"><input class=\"sk-toggleable__control sk-hidden--visually\" id=\"sk-estimator-id-6\" type=\"checkbox\" ><label for=\"sk-estimator-id-6\" class=\"sk-toggleable__label sk-toggleable__label-arrow\">MinMaxScaler</label><div class=\"sk-toggleable__content\"><pre>MinMaxScaler()</pre></div></div></div></div></div></div><div class=\"sk-parallel-item\"><div class=\"sk-item\"><div class=\"sk-label-container\"><div class=\"sk-label sk-toggleable\"><input class=\"sk-toggleable__control sk-hidden--visually\" id=\"sk-estimator-id-7\" type=\"checkbox\" ><label for=\"sk-estimator-id-7\" class=\"sk-toggleable__label sk-toggleable__label-arrow\">remainder</label><div class=\"sk-toggleable__content\"><pre>[&#x27;campaña&#x27;, &#x27;id_finca&#x27;, &#x27;id_zona&#x27;, &#x27;id_estacion&#x27;, &#x27;variedad&#x27;, &#x27;modo&#x27;, &#x27;tipo&#x27;, &#x27;color&#x27;, &#x27;altitud_above_mean&#x27;, &#x27;variedad_above_mean&#x27;, &#x27;var_prod_shift&#x27;, &#x27;shifts_avg&#x27;, &#x27;shifts_max&#x27;, &#x27;var_prod_est&#x27;]</pre></div></div></div><div class=\"sk-serial\"><div class=\"sk-item\"><div class=\"sk-estimator sk-toggleable\"><input class=\"sk-toggleable__control sk-hidden--visually\" id=\"sk-estimator-id-8\" type=\"checkbox\" ><label for=\"sk-estimator-id-8\" class=\"sk-toggleable__label sk-toggleable__label-arrow\">passthrough</label><div class=\"sk-toggleable__content\"><pre>passthrough</pre></div></div></div></div></div></div></div></div><div class=\"sk-item\"><div class=\"sk-estimator sk-toggleable\"><input class=\"sk-toggleable__control sk-hidden--visually\" id=\"sk-estimator-id-9\" type=\"checkbox\" ><label for=\"sk-estimator-id-9\" class=\"sk-toggleable__label sk-toggleable__label-arrow\">RandomForestRegressor</label><div class=\"sk-toggleable__content\"><pre>RandomForestRegressor(max_depth=100, max_features=&#x27;sqrt&#x27;, min_samples_leaf=3,\n",
       "                      n_estimators=200, n_jobs=-1, random_state=99)</pre></div></div></div></div></div></div></div>"
      ],
      "text/plain": [
       "Pipeline(steps=[('columntransformer',\n",
       "                 ColumnTransformer(remainder='passthrough',\n",
       "                                   transformers=[('kbins', KBinsDiscretizer(),\n",
       "                                                  ['altitud']),\n",
       "                                                 ('scaler', MinMaxScaler(),\n",
       "                                                  ['superficie',\n",
       "                                                   'id_finca_percentiles',\n",
       "                                                   'id_zona_percentiles'])])),\n",
       "                ('randomforestregressor',\n",
       "                 RandomForestRegressor(max_depth=100, max_features='sqrt',\n",
       "                                       min_samples_leaf=3, n_estimators=200,\n",
       "                                       n_jobs=-1, random_state=99))])"
      ]
     },
     "execution_count": 27,
     "metadata": {},
     "output_type": "execute_result"
    }
   ],
   "source": [
    "ids = ['campaña', 'id_finca', 'id_zona', 'id_estacion','variedad']\n",
    "    \n",
    "binarias =   ['modo', 'tipo', 'color']\n",
    "\n",
    "discret = ['altitud']\n",
    "\n",
    "rest_cols = ['superficie', 'id_finca_percentiles','id_zona_percentiles']\n",
    "\n",
    "ctransformer = ColumnTransformer([\n",
    "   ('kbins', KBinsDiscretizer() , discret),\n",
    "#     ('multi', OneHotEncoder(), binarias),\n",
    "#      ('PCA', PCA(n_components=2), extra_weather),\n",
    "   ('scaler', MinMaxScaler(), rest_cols)],\n",
    "    remainder='passthrough')\n",
    "\n",
    "model = RandomForestRegressor(random_state=99\n",
    "                              ,n_estimators=200\n",
    "                               ,min_samples_leaf = 3\n",
    "                               ,n_jobs = -1\n",
    "                               ,max_features= 'sqrt'\n",
    "#                                ,min_samples_split = 1\n",
    "                               ,max_depth = 100\n",
    "#                               ,criterion = 'friedman_mse'\n",
    "                             )\n",
    "\n",
    "pipeline = make_pipeline(ctransformer,model)\n",
    "\n",
    "pipeline.fit(X_train,y_train)"
   ]
  },
  {
   "cell_type": "code",
   "execution_count": 28,
   "id": "f3621fd1-5f29-4c5f-9f2a-201af7ad4e98",
   "metadata": {},
   "outputs": [],
   "source": [
    "predicciones_envio = pipeline.predict(X_test)"
   ]
  },
  {
   "cell_type": "code",
   "execution_count": 29,
   "id": "954a39e3-dea4-4556-b8f3-54ea9781fc41",
   "metadata": {},
   "outputs": [
    {
     "data": {
      "text/plain": [
       "(1075,)"
      ]
     },
     "execution_count": 29,
     "metadata": {},
     "output_type": "execute_result"
    }
   ],
   "source": [
    "predicciones_envio.shape"
   ]
  },
  {
   "cell_type": "code",
   "execution_count": 30,
   "id": "eac7709e-8596-42ba-98ee-31ceb7edf8dd",
   "metadata": {},
   "outputs": [
    {
     "data": {
      "text/plain": [
       "(1075,)"
      ]
     },
     "execution_count": 30,
     "metadata": {},
     "output_type": "execute_result"
    }
   ],
   "source": [
    "preds_viejo.shape"
   ]
  },
  {
   "cell_type": "code",
   "execution_count": 31,
   "id": "8d22f0ab-9de4-469d-9a75-a29287495f86",
   "metadata": {},
   "outputs": [],
   "source": [
    "predicciones = pd.DataFrame(zip(predicciones_envio,preds_viejo))"
   ]
  },
  {
   "cell_type": "code",
   "execution_count": 32,
   "id": "dc0817d2-42ac-4247-993b-9c38ed758b14",
   "metadata": {},
   "outputs": [],
   "source": [
    "predicciones.columns = ['modelo_nuevo','modelo_viejo']"
   ]
  },
  {
   "cell_type": "code",
   "execution_count": 33,
   "id": "34c897aa-3632-493d-b2f7-497a9e3a3997",
   "metadata": {},
   "outputs": [],
   "source": [
    "predicciones['dif'] = abs(predicciones['modelo_viejo'] - predicciones['modelo_nuevo'])"
   ]
  },
  {
   "cell_type": "code",
   "execution_count": 34,
   "id": "24edbe76-ae1c-4dd3-81b9-fc18f1562b0c",
   "metadata": {},
   "outputs": [
    {
     "data": {
      "text/html": [
       "<div>\n",
       "<style scoped>\n",
       "    .dataframe tbody tr th:only-of-type {\n",
       "        vertical-align: middle;\n",
       "    }\n",
       "\n",
       "    .dataframe tbody tr th {\n",
       "        vertical-align: top;\n",
       "    }\n",
       "\n",
       "    .dataframe thead th {\n",
       "        text-align: right;\n",
       "    }\n",
       "</style>\n",
       "<table border=\"1\" class=\"dataframe\">\n",
       "  <thead>\n",
       "    <tr style=\"text-align: right;\">\n",
       "      <th></th>\n",
       "      <th>modelo_nuevo</th>\n",
       "      <th>modelo_viejo</th>\n",
       "      <th>dif</th>\n",
       "    </tr>\n",
       "  </thead>\n",
       "  <tbody>\n",
       "    <tr>\n",
       "      <th>count</th>\n",
       "      <td>1075.00</td>\n",
       "      <td>1075.00</td>\n",
       "      <td>1075.00</td>\n",
       "    </tr>\n",
       "    <tr>\n",
       "      <th>mean</th>\n",
       "      <td>10152.07</td>\n",
       "      <td>10058.38</td>\n",
       "      <td>685.30</td>\n",
       "    </tr>\n",
       "    <tr>\n",
       "      <th>std</th>\n",
       "      <td>12552.67</td>\n",
       "      <td>12102.18</td>\n",
       "      <td>909.66</td>\n",
       "    </tr>\n",
       "    <tr>\n",
       "      <th>min</th>\n",
       "      <td>168.27</td>\n",
       "      <td>184.29</td>\n",
       "      <td>0.00</td>\n",
       "    </tr>\n",
       "    <tr>\n",
       "      <th>25%</th>\n",
       "      <td>2853.67</td>\n",
       "      <td>2938.80</td>\n",
       "      <td>124.04</td>\n",
       "    </tr>\n",
       "    <tr>\n",
       "      <th>50%</th>\n",
       "      <td>5981.18</td>\n",
       "      <td>6358.59</td>\n",
       "      <td>343.57</td>\n",
       "    </tr>\n",
       "    <tr>\n",
       "      <th>75%</th>\n",
       "      <td>12232.74</td>\n",
       "      <td>12100.22</td>\n",
       "      <td>883.41</td>\n",
       "    </tr>\n",
       "    <tr>\n",
       "      <th>max</th>\n",
       "      <td>113854.45</td>\n",
       "      <td>112014.27</td>\n",
       "      <td>9248.84</td>\n",
       "    </tr>\n",
       "  </tbody>\n",
       "</table>\n",
       "</div>"
      ],
      "text/plain": [
       "       modelo_nuevo  modelo_viejo     dif\n",
       "count       1075.00       1075.00 1075.00\n",
       "mean       10152.07      10058.38  685.30\n",
       "std        12552.67      12102.18  909.66\n",
       "min          168.27        184.29    0.00\n",
       "25%         2853.67       2938.80  124.04\n",
       "50%         5981.18       6358.59  343.57\n",
       "75%        12232.74      12100.22  883.41\n",
       "max       113854.45     112014.27 9248.84"
      ]
     },
     "execution_count": 34,
     "metadata": {},
     "output_type": "execute_result"
    }
   ],
   "source": [
    "predicciones.describe()"
   ]
  },
  {
   "cell_type": "code",
   "execution_count": 38,
   "id": "955be9cd-3c2d-4e8d-af9b-3c7c44cc383b",
   "metadata": {},
   "outputs": [],
   "source": [
    "df_2 = df.copy()"
   ]
  },
  {
   "cell_type": "code",
   "execution_count": 46,
   "id": "fa246522-62f4-4136-8777-9fded5cc587a",
   "metadata": {},
   "outputs": [],
   "source": [
    "df_2.loc[df_2['produccion'].isna(),'produccion'] = predicciones.modelo_nuevo.values"
   ]
  },
  {
   "cell_type": "code",
   "execution_count": 47,
   "id": "3c2a2b70-e9d1-4125-9ba5-7878781edd86",
   "metadata": {},
   "outputs": [
    {
     "data": {
      "text/html": [
       "<div>\n",
       "<style scoped>\n",
       "    .dataframe tbody tr th:only-of-type {\n",
       "        vertical-align: middle;\n",
       "    }\n",
       "\n",
       "    .dataframe tbody tr th {\n",
       "        vertical-align: top;\n",
       "    }\n",
       "\n",
       "    .dataframe thead th {\n",
       "        text-align: right;\n",
       "    }\n",
       "</style>\n",
       "<table border=\"1\" class=\"dataframe\">\n",
       "  <thead>\n",
       "    <tr style=\"text-align: right;\">\n",
       "      <th></th>\n",
       "      <th>campaña</th>\n",
       "      <th>id_finca</th>\n",
       "      <th>id_zona</th>\n",
       "      <th>id_estacion</th>\n",
       "      <th>altitud</th>\n",
       "      <th>variedad</th>\n",
       "      <th>modo</th>\n",
       "      <th>tipo</th>\n",
       "      <th>color</th>\n",
       "      <th>superficie</th>\n",
       "      <th>produccion</th>\n",
       "      <th>altitud_above_mean</th>\n",
       "      <th>variedad_above_mean</th>\n",
       "      <th>id_finca_percentiles</th>\n",
       "      <th>id_zona_percentiles</th>\n",
       "    </tr>\n",
       "  </thead>\n",
       "  <tbody>\n",
       "    <tr>\n",
       "      <th>0</th>\n",
       "      <td>14</td>\n",
       "      <td>76953</td>\n",
       "      <td>515</td>\n",
       "      <td>4</td>\n",
       "      <td>660.00</td>\n",
       "      <td>26</td>\n",
       "      <td>2</td>\n",
       "      <td>0</td>\n",
       "      <td>1</td>\n",
       "      <td>2.64</td>\n",
       "      <td>22215.00</td>\n",
       "      <td>0</td>\n",
       "      <td>1</td>\n",
       "      <td>3.00</td>\n",
       "      <td>3</td>\n",
       "    </tr>\n",
       "    <tr>\n",
       "      <th>1</th>\n",
       "      <td>14</td>\n",
       "      <td>84318</td>\n",
       "      <td>515</td>\n",
       "      <td>4</td>\n",
       "      <td>660.00</td>\n",
       "      <td>26</td>\n",
       "      <td>2</td>\n",
       "      <td>0</td>\n",
       "      <td>1</td>\n",
       "      <td>2.64</td>\n",
       "      <td>22215.00</td>\n",
       "      <td>0</td>\n",
       "      <td>1</td>\n",
       "      <td>3.00</td>\n",
       "      <td>3</td>\n",
       "    </tr>\n",
       "    <tr>\n",
       "      <th>2</th>\n",
       "      <td>14</td>\n",
       "      <td>85579</td>\n",
       "      <td>340</td>\n",
       "      <td>4</td>\n",
       "      <td>520.00</td>\n",
       "      <td>32</td>\n",
       "      <td>2</td>\n",
       "      <td>0</td>\n",
       "      <td>1</td>\n",
       "      <td>2.91</td>\n",
       "      <td>20978.00</td>\n",
       "      <td>1</td>\n",
       "      <td>1</td>\n",
       "      <td>3.00</td>\n",
       "      <td>3</td>\n",
       "    </tr>\n",
       "    <tr>\n",
       "      <th>3</th>\n",
       "      <td>14</td>\n",
       "      <td>69671</td>\n",
       "      <td>340</td>\n",
       "      <td>4</td>\n",
       "      <td>520.00</td>\n",
       "      <td>32</td>\n",
       "      <td>2</td>\n",
       "      <td>0</td>\n",
       "      <td>1</td>\n",
       "      <td>2.91</td>\n",
       "      <td>40722.00</td>\n",
       "      <td>1</td>\n",
       "      <td>1</td>\n",
       "      <td>3.00</td>\n",
       "      <td>3</td>\n",
       "    </tr>\n",
       "    <tr>\n",
       "      <th>4</th>\n",
       "      <td>14</td>\n",
       "      <td>14001</td>\n",
       "      <td>852</td>\n",
       "      <td>14</td>\n",
       "      <td>659.10</td>\n",
       "      <td>81</td>\n",
       "      <td>1</td>\n",
       "      <td>0</td>\n",
       "      <td>1</td>\n",
       "      <td>2.82</td>\n",
       "      <td>14126.00</td>\n",
       "      <td>1</td>\n",
       "      <td>0</td>\n",
       "      <td>3.00</td>\n",
       "      <td>1</td>\n",
       "    </tr>\n",
       "    <tr>\n",
       "      <th>...</th>\n",
       "      <td>...</td>\n",
       "      <td>...</td>\n",
       "      <td>...</td>\n",
       "      <td>...</td>\n",
       "      <td>...</td>\n",
       "      <td>...</td>\n",
       "      <td>...</td>\n",
       "      <td>...</td>\n",
       "      <td>...</td>\n",
       "      <td>...</td>\n",
       "      <td>...</td>\n",
       "      <td>...</td>\n",
       "      <td>...</td>\n",
       "      <td>...</td>\n",
       "      <td>...</td>\n",
       "    </tr>\n",
       "    <tr>\n",
       "      <th>9596</th>\n",
       "      <td>22</td>\n",
       "      <td>37461</td>\n",
       "      <td>239</td>\n",
       "      <td>6</td>\n",
       "      <td>700.00</td>\n",
       "      <td>52</td>\n",
       "      <td>2</td>\n",
       "      <td>0</td>\n",
       "      <td>1</td>\n",
       "      <td>3.68</td>\n",
       "      <td>28163.12</td>\n",
       "      <td>1</td>\n",
       "      <td>1</td>\n",
       "      <td>3.00</td>\n",
       "      <td>3</td>\n",
       "    </tr>\n",
       "    <tr>\n",
       "      <th>9597</th>\n",
       "      <td>22</td>\n",
       "      <td>58769</td>\n",
       "      <td>239</td>\n",
       "      <td>6</td>\n",
       "      <td>700.00</td>\n",
       "      <td>32</td>\n",
       "      <td>2</td>\n",
       "      <td>0</td>\n",
       "      <td>1</td>\n",
       "      <td>4.25</td>\n",
       "      <td>38248.20</td>\n",
       "      <td>1</td>\n",
       "      <td>1</td>\n",
       "      <td>3.00</td>\n",
       "      <td>3</td>\n",
       "    </tr>\n",
       "    <tr>\n",
       "      <th>9598</th>\n",
       "      <td>22</td>\n",
       "      <td>58769</td>\n",
       "      <td>239</td>\n",
       "      <td>6</td>\n",
       "      <td>700.00</td>\n",
       "      <td>59</td>\n",
       "      <td>2</td>\n",
       "      <td>0</td>\n",
       "      <td>1</td>\n",
       "      <td>4.07</td>\n",
       "      <td>40492.94</td>\n",
       "      <td>1</td>\n",
       "      <td>0</td>\n",
       "      <td>3.00</td>\n",
       "      <td>3</td>\n",
       "    </tr>\n",
       "    <tr>\n",
       "      <th>9599</th>\n",
       "      <td>22</td>\n",
       "      <td>88928</td>\n",
       "      <td>239</td>\n",
       "      <td>6</td>\n",
       "      <td>700.00</td>\n",
       "      <td>40</td>\n",
       "      <td>2</td>\n",
       "      <td>0</td>\n",
       "      <td>1</td>\n",
       "      <td>4.57</td>\n",
       "      <td>43581.16</td>\n",
       "      <td>1</td>\n",
       "      <td>1</td>\n",
       "      <td>3.00</td>\n",
       "      <td>3</td>\n",
       "    </tr>\n",
       "    <tr>\n",
       "      <th>9600</th>\n",
       "      <td>22</td>\n",
       "      <td>88928</td>\n",
       "      <td>239</td>\n",
       "      <td>6</td>\n",
       "      <td>700.00</td>\n",
       "      <td>52</td>\n",
       "      <td>2</td>\n",
       "      <td>0</td>\n",
       "      <td>1</td>\n",
       "      <td>1.61</td>\n",
       "      <td>13573.02</td>\n",
       "      <td>1</td>\n",
       "      <td>1</td>\n",
       "      <td>3.00</td>\n",
       "      <td>3</td>\n",
       "    </tr>\n",
       "  </tbody>\n",
       "</table>\n",
       "<p>9601 rows × 15 columns</p>\n",
       "</div>"
      ],
      "text/plain": [
       "      campaña  id_finca  id_zona  id_estacion  altitud  variedad  modo  tipo  \\\n",
       "0          14     76953      515            4   660.00        26     2     0   \n",
       "1          14     84318      515            4   660.00        26     2     0   \n",
       "2          14     85579      340            4   520.00        32     2     0   \n",
       "3          14     69671      340            4   520.00        32     2     0   \n",
       "4          14     14001      852           14   659.10        81     1     0   \n",
       "...       ...       ...      ...          ...      ...       ...   ...   ...   \n",
       "9596       22     37461      239            6   700.00        52     2     0   \n",
       "9597       22     58769      239            6   700.00        32     2     0   \n",
       "9598       22     58769      239            6   700.00        59     2     0   \n",
       "9599       22     88928      239            6   700.00        40     2     0   \n",
       "9600       22     88928      239            6   700.00        52     2     0   \n",
       "\n",
       "      color  superficie  produccion  altitud_above_mean  variedad_above_mean  \\\n",
       "0         1        2.64    22215.00                   0                    1   \n",
       "1         1        2.64    22215.00                   0                    1   \n",
       "2         1        2.91    20978.00                   1                    1   \n",
       "3         1        2.91    40722.00                   1                    1   \n",
       "4         1        2.82    14126.00                   1                    0   \n",
       "...     ...         ...         ...                 ...                  ...   \n",
       "9596      1        3.68    28163.12                   1                    1   \n",
       "9597      1        4.25    38248.20                   1                    1   \n",
       "9598      1        4.07    40492.94                   1                    0   \n",
       "9599      1        4.57    43581.16                   1                    1   \n",
       "9600      1        1.61    13573.02                   1                    1   \n",
       "\n",
       "      id_finca_percentiles  id_zona_percentiles  \n",
       "0                     3.00                    3  \n",
       "1                     3.00                    3  \n",
       "2                     3.00                    3  \n",
       "3                     3.00                    3  \n",
       "4                     3.00                    1  \n",
       "...                    ...                  ...  \n",
       "9596                  3.00                    3  \n",
       "9597                  3.00                    3  \n",
       "9598                  3.00                    3  \n",
       "9599                  3.00                    3  \n",
       "9600                  3.00                    3  \n",
       "\n",
       "[9601 rows x 15 columns]"
      ]
     },
     "execution_count": 47,
     "metadata": {},
     "output_type": "execute_result"
    }
   ],
   "source": [
    "df_2"
   ]
  },
  {
   "cell_type": "markdown",
   "id": "7d0bbe9b-d036-482d-9ecb-3687e6c81499",
   "metadata": {},
   "source": [
    "El nuevo eleva un poco los valores de las prediccoines"
   ]
  },
  {
   "cell_type": "code",
   "execution_count": 35,
   "id": "e197580d-d8c9-421b-802b-028ab2c8dd6a",
   "metadata": {},
   "outputs": [
    {
     "data": {
      "image/png": "[encoded data removed]",
      "text/plain": [
       "<Figure size 720x720 with 1 Axes>"
      ]
     },
     "metadata": {
      "needs_background": "light"
     },
     "output_type": "display_data"
    }
   ],
   "source": [
    "plt.figure(figsize=(10,10))\n",
    "plt.scatter(x=predicciones.modelo_nuevo, y=predicciones.modelo_viejo , alpha=0.5)\n",
    "plt.plot( [0,120000],[0,120000] )\n",
    "plt.xlabel('nuevo')\n",
    "plt.ylabel('viejo')\n",
    "plt.show()"
   ]
  },
  {
   "cell_type": "markdown",
   "id": "820c4413-d6ac-444e-bdec-f9df24ceee22",
   "metadata": {},
   "source": [
    "Agarramos predicciones del modelo que entrena tambien con 2021, pues no hay mucha diferencia y debe ser mejor"
   ]
  },
  {
   "cell_type": "code",
   "execution_count": 65,
   "id": "c0abe013-a4f1-442d-b7f8-b18ef8fc04b6",
   "metadata": {},
   "outputs": [],
   "source": [
    "X_test['produccion'] = predicciones_envio"
   ]
  },
  {
   "cell_type": "code",
   "execution_count": 66,
   "id": "3d8e64b4-bfc5-4ec0-80e5-60ccc5f5c46b",
   "metadata": {},
   "outputs": [],
   "source": [
    "entrega_1 = X_test.copy()"
   ]
  },
  {
   "cell_type": "code",
   "execution_count": 67,
   "id": "13db287c-e925-4149-80eb-4dfd931240a8",
   "metadata": {},
   "outputs": [],
   "source": [
    "entrega_1 = entrega_1[['id_finca', 'variedad', 'modo', 'tipo','color','superficie','produccion']]"
   ]
  },
  {
   "cell_type": "code",
   "execution_count": 68,
   "id": "8fb69dbd-e8c0-434c-98a0-23391fb1388c",
   "metadata": {},
   "outputs": [],
   "source": [
    "entrega_1.columns = [x.upper() for x in entrega_1.columns]"
   ]
  },
  {
   "cell_type": "code",
   "execution_count": 69,
   "id": "0b1ea251-81ec-4bc4-8067-f2d892105e2b",
   "metadata": {},
   "outputs": [],
   "source": [
    "entrega_1 = entrega_1.sort_values(['ID_FINCA', 'VARIEDAD', 'MODO', 'TIPO', 'COLOR', 'SUPERFICIE'],ascending=True)"
   ]
  },
  {
   "cell_type": "code",
   "execution_count": 70,
   "id": "f10302e7-5ec0-4271-8042-43ba9c9858ae",
   "metadata": {},
   "outputs": [],
   "source": [
    "entrega_1['SUPERFICIE'] = round(entrega_1['SUPERFICIE'],2)"
   ]
  },
  {
   "cell_type": "code",
   "execution_count": 71,
   "id": "9600a23e-a7ad-4a08-bc23-b8fdf74d7523",
   "metadata": {},
   "outputs": [],
   "source": [
    "entrega_1['PRODUCCION'] = round(entrega_1['PRODUCCION'],2)"
   ]
  },
  {
   "cell_type": "code",
   "execution_count": 74,
   "id": "0eca77f5-9da3-4e18-b579-d91c25ac74ea",
   "metadata": {},
   "outputs": [
    {
     "data": {
      "text/html": [
       "<div>\n",
       "<style scoped>\n",
       "    .dataframe tbody tr th:only-of-type {\n",
       "        vertical-align: middle;\n",
       "    }\n",
       "\n",
       "    .dataframe tbody tr th {\n",
       "        vertical-align: top;\n",
       "    }\n",
       "\n",
       "    .dataframe thead th {\n",
       "        text-align: right;\n",
       "    }\n",
       "</style>\n",
       "<table border=\"1\" class=\"dataframe\">\n",
       "  <thead>\n",
       "    <tr style=\"text-align: right;\">\n",
       "      <th></th>\n",
       "      <th>ID_FINCA</th>\n",
       "      <th>VARIEDAD</th>\n",
       "      <th>MODO</th>\n",
       "      <th>TIPO</th>\n",
       "      <th>COLOR</th>\n",
       "      <th>SUPERFICIE</th>\n",
       "      <th>PRODUCCION</th>\n",
       "    </tr>\n",
       "  </thead>\n",
       "  <tbody>\n",
       "    <tr>\n",
       "      <th>9240</th>\n",
       "      <td>439</td>\n",
       "      <td>9</td>\n",
       "      <td>2</td>\n",
       "      <td>0</td>\n",
       "      <td>0</td>\n",
       "      <td>1.08</td>\n",
       "      <td>2990.17</td>\n",
       "    </tr>\n",
       "    <tr>\n",
       "      <th>9231</th>\n",
       "      <td>447</td>\n",
       "      <td>40</td>\n",
       "      <td>2</td>\n",
       "      <td>0</td>\n",
       "      <td>1</td>\n",
       "      <td>0.47</td>\n",
       "      <td>2495.21</td>\n",
       "    </tr>\n",
       "    <tr>\n",
       "      <th>8788</th>\n",
       "      <td>523</td>\n",
       "      <td>32</td>\n",
       "      <td>2</td>\n",
       "      <td>0</td>\n",
       "      <td>1</td>\n",
       "      <td>0.65</td>\n",
       "      <td>1973.98</td>\n",
       "    </tr>\n",
       "    <tr>\n",
       "      <th>9581</th>\n",
       "      <td>702</td>\n",
       "      <td>59</td>\n",
       "      <td>2</td>\n",
       "      <td>0</td>\n",
       "      <td>1</td>\n",
       "      <td>1.13</td>\n",
       "      <td>7712.20</td>\n",
       "    </tr>\n",
       "    <tr>\n",
       "      <th>8746</th>\n",
       "      <td>797</td>\n",
       "      <td>59</td>\n",
       "      <td>1</td>\n",
       "      <td>0</td>\n",
       "      <td>1</td>\n",
       "      <td>7.51</td>\n",
       "      <td>14395.19</td>\n",
       "    </tr>\n",
       "    <tr>\n",
       "      <th>...</th>\n",
       "      <td>...</td>\n",
       "      <td>...</td>\n",
       "      <td>...</td>\n",
       "      <td>...</td>\n",
       "      <td>...</td>\n",
       "      <td>...</td>\n",
       "      <td>...</td>\n",
       "    </tr>\n",
       "    <tr>\n",
       "      <th>9549</th>\n",
       "      <td>99282</td>\n",
       "      <td>59</td>\n",
       "      <td>2</td>\n",
       "      <td>0</td>\n",
       "      <td>1</td>\n",
       "      <td>1.62</td>\n",
       "      <td>7808.52</td>\n",
       "    </tr>\n",
       "    <tr>\n",
       "      <th>9310</th>\n",
       "      <td>99377</td>\n",
       "      <td>52</td>\n",
       "      <td>2</td>\n",
       "      <td>0</td>\n",
       "      <td>1</td>\n",
       "      <td>0.65</td>\n",
       "      <td>2131.12</td>\n",
       "    </tr>\n",
       "    <tr>\n",
       "      <th>8655</th>\n",
       "      <td>99693</td>\n",
       "      <td>81</td>\n",
       "      <td>1</td>\n",
       "      <td>0</td>\n",
       "      <td>1</td>\n",
       "      <td>6.34</td>\n",
       "      <td>32654.14</td>\n",
       "    </tr>\n",
       "    <tr>\n",
       "      <th>8540</th>\n",
       "      <td>99793</td>\n",
       "      <td>52</td>\n",
       "      <td>2</td>\n",
       "      <td>0</td>\n",
       "      <td>1</td>\n",
       "      <td>0.13</td>\n",
       "      <td>8350.46</td>\n",
       "    </tr>\n",
       "    <tr>\n",
       "      <th>8539</th>\n",
       "      <td>99793</td>\n",
       "      <td>87</td>\n",
       "      <td>2</td>\n",
       "      <td>0</td>\n",
       "      <td>0</td>\n",
       "      <td>0.02</td>\n",
       "      <td>7343.45</td>\n",
       "    </tr>\n",
       "  </tbody>\n",
       "</table>\n",
       "<p>1075 rows × 7 columns</p>\n",
       "</div>"
      ],
      "text/plain": [
       "     ID_FINCA VARIEDAD MODO TIPO COLOR  SUPERFICIE  PRODUCCION\n",
       "9240      439        9    2    0     0        1.08     2990.17\n",
       "9231      447       40    2    0     1        0.47     2495.21\n",
       "8788      523       32    2    0     1        0.65     1973.98\n",
       "9581      702       59    2    0     1        1.13     7712.20\n",
       "8746      797       59    1    0     1        7.51    14395.19\n",
       "...       ...      ...  ...  ...   ...         ...         ...\n",
       "9549    99282       59    2    0     1        1.62     7808.52\n",
       "9310    99377       52    2    0     1        0.65     2131.12\n",
       "8655    99693       81    1    0     1        6.34    32654.14\n",
       "8540    99793       52    2    0     1        0.13     8350.46\n",
       "8539    99793       87    2    0     0        0.02     7343.45\n",
       "\n",
       "[1075 rows x 7 columns]"
      ]
     },
     "execution_count": 74,
     "metadata": {},
     "output_type": "execute_result"
    }
   ],
   "source": [
    "entrega_1"
   ]
  },
  {
   "cell_type": "code",
   "execution_count": 127,
   "id": "50ef4636-9b93-4db5-a415-52d03693e87f",
   "metadata": {},
   "outputs": [],
   "source": [
    "entrega_1.to_csv(\"UH2023_Universidad Complutense de Madrid (UCM)_Malbecs_1.txt\", header=None, index=None, sep='|', mode='w')"
   ]
  }
 ],
 "metadata": {
  "kernelspec": {
   "display_name": "Python 3",
   "language": "python",
   "name": "python3"
  },
  "language_info": {
   "codemirror_mode": {
    "name": "ipython",
    "version": 3
   },
   "file_extension": ".py",
   "mimetype": "text/x-python",
   "name": "python",
   "nbconvert_exporter": "python",
   "pygments_lexer": "ipython3",
   "version": "3.8.8"
  }
 },
 "nbformat": 4,
 "nbformat_minor": 5
}
