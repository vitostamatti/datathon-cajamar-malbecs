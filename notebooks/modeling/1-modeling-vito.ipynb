{
 "cells": [
  {
   "attachments": {},
   "cell_type": "markdown",
   "metadata": {},
   "source": [
    "Variables:\n",
    "\n",
    "- flag superficie imputada\n",
    "- "
   ]
  },
  {
   "cell_type": "code",
   "execution_count": 16,
   "metadata": {},
   "outputs": [],
   "source": [
    "import pandas as pd\n",
    "import numpy as np\n",
    "import matplotlib.pyplot as plt\n",
    "from malbecs.modeling import train as tr\n",
    "\n",
    "wine_path = \"../../data/final/wine_final.csv\"\n",
    "eto_path = \"../../data/final/eto_final.csv\"\n",
    "meteo_path = \"../../data/final/meteo_final.csv\"\n",
    "\n",
    "def show_feat_imps(feat_imp, feat_names):\n",
    "    pd.DataFrame(\n",
    "        feat_imp,\n",
    "        index=feat_names,\n",
    "        columns=[\"feat_imp\"]\n",
    "    ).sort_values(\"feat_imp\")[-50:].plot(kind='barh', figsize=(6, 15))\n"
   ]
  },
  {
   "cell_type": "code",
   "execution_count": 17,
   "metadata": {},
   "outputs": [],
   "source": [
    "\n",
    "data = tr.load_final_data(\n",
    "    wine_path=wine_path,\n",
    "    eto_path=eto_path,\n",
    "    meteo_path=meteo_path\n",
    ")\n",
    "\n",
    "with open(\"../../data/final/meteo_features.txt\", \"r\", encoding=\"utf-8\") as f:\n",
    "    meteo_cols = f.read().split(\"\\n\")\n",
    "\n",
    "with open(\"../../data/final/eto_features.txt\", \"r\") as f:\n",
    "    eto_cols = f.read().split(\"\\n\")\n",
    "\n",
    "with open(\"../../data/final/wine_features.txt\", \"r\") as f:\n",
    "    wine_cols = f.read().split(\"\\n\")\n"
   ]
  },
  {
   "cell_type": "code",
   "execution_count": 18,
   "metadata": {},
   "outputs": [],
   "source": [
    "# [c for c in wine_cols if \"_he\" in c]"
   ]
  },
  {
   "cell_type": "code",
   "execution_count": 19,
   "metadata": {},
   "outputs": [],
   "source": [
    "data_train = tr.filter_camp(data.copy(), min_camp=15, max_camp=21)\n",
    "\n",
    "data_final = tr.filter_camp(data, min_camp=22, max_camp=22)\n",
    "\n",
    "train, test = tr.train_test_split(data_train, test_camp=21)\n",
    "\n",
    "X, y = tr.xy_split(data_train)\n",
    "\n",
    "cat_cols = [\n",
    "    'id_finca',\n",
    "    'id_zona',\n",
    "    'id_estacion',\n",
    "    'variedad',\n",
    "    \"modo\",\n",
    "    \"tipo\",\n",
    "    \"color\",\n",
    "    \"prod_shift1_gt_shift2\",\n",
    "    \"sup_is_nan\",\n",
    "]\n",
    "num_cols = [col for col in X.columns if col not in cat_cols]\n",
    "\n",
    "X[cat_cols] = X[cat_cols].astype('category')\n",
    "\n",
    "X_train, y_train = tr.xy_split(train)\n",
    "X_test, y_test = tr.xy_split(test)\n",
    "X_final, y_final = tr.xy_split(data_final)\n",
    "\n",
    "train_idxs, test_idxs = tr.CampKFold.get_train_test(\n",
    "    X['campaña'], from_camp=19, to_camp=21\n",
    ")\n",
    "\n",
    "cv = tr.CampKFold(train_idxs, test_idxs)\n"
   ]
  },
  {
   "cell_type": "code",
   "execution_count": 20,
   "metadata": {},
   "outputs": [],
   "source": [
    "from sklearn.preprocessing import StandardScaler\n",
    "from sklearn.compose import make_column_transformer\n",
    "from sklearn.ensemble import RandomForestRegressor\n",
    "from sklearn.pipeline import make_pipeline\n",
    "from sklearn.preprocessing import KBinsDiscretizer, OrdinalEncoder, StandardScaler\n",
    "import pickle as pkl\n",
    "from typing import List\n",
    "import malbecs.modeling.transformers as mt\n",
    "\n",
    "seed = 42\n",
    "\n",
    "def get_base_model():\n",
    "\n",
    "    model_num_cols = [\n",
    "        'superficie',\n",
    "        'prod_shift_max',\n",
    "        'prod_shift_change',\n",
    "        'prod_shift_avg',\n",
    "    ]\n",
    "\n",
    "    m = make_pipeline(\n",
    "        make_column_transformer(\n",
    "\n",
    "            (mt.BaseNEncoder(), ['id_finca']),\n",
    "\n",
    "            (mt.TargetEncoder(), ['id_zona']),\n",
    "\n",
    "            (OrdinalEncoder(handle_unknown='use_encoded_value',\n",
    "             unknown_value=-1), ['id_estacion']),\n",
    "\n",
    "            (mt.BaseNEncoder(), ['variedad']),\n",
    "\n",
    "            (OrdinalEncoder(handle_unknown='use_encoded_value',\n",
    "             unknown_value=-1), ['modo']),\n",
    "\n",
    "            (KBinsDiscretizer(n_bins=2), ['altitud']),\n",
    "\n",
    "            (StandardScaler(), model_num_cols),\n",
    "\n",
    "            remainder='drop'\n",
    "        ),\n",
    "        RandomForestRegressor(\n",
    "            random_state=seed,\n",
    "            n_estimators=200,\n",
    "            min_samples_leaf=4,\n",
    "            n_jobs=-1,\n",
    "            max_features='sqrt',\n",
    "            max_samples=0.8\n",
    "        )\n",
    "    )\n",
    "    return m\n"
   ]
  },
  {
   "cell_type": "code",
   "execution_count": 21,
   "metadata": {},
   "outputs": [],
   "source": [
    "m = get_base_model()"
   ]
  },
  {
   "cell_type": "code",
   "execution_count": 22,
   "metadata": {},
   "outputs": [
    {
     "name": "stdout",
     "output_type": "stream",
     "text": [
      "train:  [-4950.42915184 -4769.7101927  -4818.80517865]\n",
      "test:  [-4867.31956362 -6767.87298344 -5430.5269726 ]\n",
      "Train Mean RMSE: -4846.314841064502\n",
      "Test Mean RMSE: -5688.573173223823\n"
     ]
    }
   ],
   "source": [
    "from sklearn.model_selection import cross_validate\n",
    "import numpy as np\n",
    "\n",
    "res = cross_validate(\n",
    "    estimator=m,\n",
    "    X=X,\n",
    "    y=y,\n",
    "    cv=cv,\n",
    "    n_jobs=-1,\n",
    "    scoring=tr.rmse_scorer,\n",
    "    return_train_score=True,\n",
    "    return_estimator=True\n",
    ")\n",
    "\n",
    "\n",
    "print(\"train: \", res['train_score'])\n",
    "print(\"test: \", res['test_score'])\n",
    "print(f\"Train Mean RMSE: {np.mean(res.get('train_score'))}\")\n",
    "print(f\"Test Mean RMSE: {np.mean(res.get('test_score'))}\")"
   ]
  },
  {
   "cell_type": "code",
   "execution_count": 23,
   "metadata": {},
   "outputs": [],
   "source": [
    "percip_cols = [c for c in eto_cols if \"Precip\" in c]\n",
    "snow_cols = [c for c in eto_cols if \"Snow\" in c]\n",
    "temp_day_cols = [c for c in eto_cols if \"TemperatureLocalDay\" in c]\n",
    "temp_cols = [\n",
    "    c for c in eto_cols \n",
    "    if \"TemperatureLocalAfter\" in c or \"TemperatureLocalOvern\" in c\n",
    "]\n",
    "evotrans_cols = [c for c in eto_cols if \"Evapotranspiration\" in c]\n",
    "feelslike_cols = [c for c in eto_cols if \"FeelsLikeLoca\" in c]\n",
    "irrad_cols = [c for c in eto_cols if \"Irradiance\" in c]\n",
    "gust_cols = [c for c in eto_cols if \"Gust\" in c]\n",
    "wind_cols = [c for c in eto_cols if \"Wind\" in c]\n",
    "dewpoint_cols = [c for c in eto_cols if \"Dewpoint\" in c]\n",
    "mslp_cols = [c for c in eto_cols if \"MSLP\" in c]\n",
    "humid_cols = [c for c in eto_cols if \"Humidity\" in c]\n",
    "uvindex_cols = [c for c in eto_cols if \"UVIndex\" in c]\n",
    "visib_cols = [c for c in eto_cols if \"Visibility\" in c]"
   ]
  },
  {
   "cell_type": "code",
   "execution_count": 24,
   "metadata": {},
   "outputs": [],
   "source": [
    "tempuo = [c for c in eto_cols if (\"Temp\" in c) and (\"StdM\" in c )]\n",
    "precipuo = [c for c in eto_cols if (\"Precip\" in c) and (\"StdM\" in c )]\n",
    "snowpuo = [c for c in eto_cols if (\"Snow\" in c) and (\"StdM\" in c )]\n",
    "winduo = [c for c in eto_cols if (\"Wind\" in c) and (\"StdM\" in c )]\n",
    "gustuo = [c for c in eto_cols if (\"Gust\" in c) and (\"StdM\" in c)]"
   ]
  },
  {
   "attachments": {},
   "cell_type": "markdown",
   "metadata": {},
   "source": [
    "# Under Over Features"
   ]
  },
  {
   "cell_type": "code",
   "execution_count": 25,
   "metadata": {},
   "outputs": [],
   "source": [
    "from sklearn.decomposition import PCA\n",
    "\n",
    "\n",
    "def get_preprocesing():\n",
    "\n",
    "    model_num_cols = [\n",
    "        # 'altitud',\n",
    "        'campaña',\n",
    "        'superficie',\n",
    "        # 'sup_shift1',\n",
    "        # 'prod_shift1',\n",
    "        # 'prod_shift2',\n",
    "        'prod_shift_max',\n",
    "        'prod_shift_change',\n",
    "        'prod_shift_avg',\n",
    "        # 'prod_he_shift1_total',\n",
    "        # 'prod_he_shift2_total',\n",
    "        # 'prod_he_shift_change_total',\n",
    "        # 'prod_he_shift_avg_total',\n",
    "        'prod_he_var_zone_mean_hist_total',\n",
    "        'prod_he_var_zone_std_hist_total',\n",
    "        # 'prod_he_var_mean_hist_total',\n",
    "        # 'prod_he_var_std_hist_total',\n",
    "        'prod_he_var_modo_zona_mean_shift1_total',\n",
    "        \"prod_he_var_modo_zona_change_total\"\n",
    "        # 'prod_he_zone_std_total',\n",
    "        # 'prod_he_var_mean_total',\n",
    "        # 'prod_he_var_std_total'\n",
    "    ]\n",
    "\n",
    "    return make_column_transformer(\n",
    "\n",
    "        (OrdinalEncoder(handle_unknown='use_encoded_value',unknown_value=-1), ['sup_is_nan']),\n",
    "\n",
    "        # (mt.BaseNEncoder(), ['id_finca']),\n",
    "        # (mt.TargetEncoder(), ['id_finca']),\n",
    "        # (mt.QuantileFeatureEncoder(col='id_finca'), ['id_finca']),\n",
    "        # (OrdinalEncoder(handle_unknown='use_encoded_value', unknown_value=-1), ['id_finca']),\n",
    "        # (OrdinalEncoder(handle_unknown='use_encoded_value',unknown_value=-1), ['id_finca_top']),\n",
    "         \n",
    "        # (mt.TargetEncoder(), ['id_zona']),\n",
    "        (OrdinalEncoder(handle_unknown='use_encoded_value',unknown_value=-1), ['id_zona']),\n",
    "\n",
    "        # (OrdinalEncoder(handle_unknown='use_encoded_value',unknown_value=-1), ['id_estacion']),\n",
    "\n",
    "        # (mt.BaseNEncoder(), ['variedad']), \n",
    "        (OrdinalEncoder(handle_unknown='use_encoded_value',unknown_value=-1), ['variedad']),\n",
    "        # (mt.QuantileFeatureEncoder(qs=np.linspace(0.1, 0.9, 9).tolist(), col='variedad'), ['variedad']),\n",
    "\n",
    "        (OrdinalEncoder(handle_unknown='use_encoded_value',unknown_value=-1), ['modo']),\n",
    "\n",
    "        # (KBinsDiscretizer(n_bins=3, encode='ordinal'), ['altitud']),\n",
    "        # (KBinsDiscretizer(n_bins=5, encode='ordinal'), ['prod_shift2']),\n",
    "\n",
    "        (StandardScaler(), model_num_cols),\n",
    "        \n",
    "        # (StandardScaler(),temp_cols),\n",
    "\n",
    "        (make_pipeline(StandardScaler(),PCA(n_components=3, random_state=seed)), temp_cols),\n",
    "        \n",
    "        # (KBinsDiscretizer(n_bins=2), [c for c in temp_day_cols if \"Avg\" in c]),\n",
    "\n",
    "        # (StandardScaler(), [c for c in temp_day_cols if \"Avg\" in c]),\n",
    "        # (make_pipeline(StandardScaler(),PCA(n_components=2, random_state=seed)), [c for c in temp_day_cols if \"Avg\" in c]),\n",
    "\n",
    "        # (StandardScaler(),[c for c in meteo_cols if \"avg_daytime\" in c]),\n",
    "        # (make_pipeline(StandardScaler(), PCA(n_components=2, random_state=seed)), [\n",
    "        #  c for c in meteo_cols if \"avg_daytime\" in c]),\n",
    "        \n",
    "        \n",
    "        # (StandardScaler(),precipuo),\n",
    "        # (StandardScaler(),tempuo),\n",
    "        # (StandardScaler(),winduo),\n",
    "        # (StandardScaler(),gustuo),\n",
    "        # (StandardScaler(),[c for c in snowpuo if \"Month1\" in c or \"Month2\" in c or \"Month3\" in c])\n",
    "\n",
    "        (StandardScaler(),[c for c in precipuo if \"2Std\" in c]),\n",
    "        # (StandardScaler(),[c for c in winduo if \"2Std\" in c]),\n",
    "        # (StandardScaler(),[c for c in tempuo if \"2Std\" in c]),\n",
    "        # (StandardScaler(),[c for c in gustuo if \"2Std\" in c]),\n",
    "        # (StandardScaler(),[c for c in snowpuo if \"Month1\" in c or \"Month2\" in c or \"Month3\" in c]),\n",
    "\n",
    "        (make_pipeline(StandardScaler(),PCA(n_components=2, random_state=seed)),\n",
    "             [c for c in percip_cols if 'Sum' in c]\n",
    "        ),\n",
    "\n",
    "        # (StandardScaler(),[c for c in snow_cols if 'Sum' in c and (\"1\" in c or \"2\" in c)]),\n",
    "        \n",
    "        # (StandardScaler(), [c for c in gust_cols if 'Max' in c ]),\n",
    "\n",
    "        # (make_pipeline(StandardScaler(),PCA(n_components=2, random_state=seed)), [c for c in gust_cols if 'Max' in c ]),\n",
    "\n",
    "        # (StandardScaler(),[c for c in humid_cols if \"Avg\" in c]),\n",
    "        # (make_pipeline(StandardScaler(),PCA(n_components=2, random_state=seed)), [c for c in humid_cols if \"Avg\" in c]),\n",
    "        # (make_pipeline(StandardScaler(),PCA(n_components=3, random_state=seed)), uvindex_cols),\n",
    "        # (make_pipeline(StandardScaler(),PCA(n_components=3, random_state=seed)), dewpoint_cols),\n",
    "        # (make_pipeline(StandardScaler(),PCA(n_components=2, random_state=seed)), wind_cols),\n",
    "\n",
    "\n",
    "        remainder='drop'\n",
    "    )\n"
   ]
  },
  {
   "cell_type": "code",
   "execution_count": 26,
   "metadata": {},
   "outputs": [],
   "source": [
    "from sklearn.ensemble import StackingRegressor, VotingRegressor\n",
    "\n",
    "prep = get_preprocesing()\n",
    "# model = LinearRegression()\n",
    "# model = Lasso(random_state=seed)\n",
    "# model = Ridge(random_state=seed)\n",
    "# model = ElasticNet(random_state=seed)\n",
    "\n",
    "model = RandomForestRegressor(\n",
    "    random_state=seed,\n",
    "    n_estimators=400,\n",
    "    min_samples_leaf=4,\n",
    "    # max_depth=8,\n",
    "    n_jobs=-1,\n",
    "    max_features=0.20,\n",
    "    max_samples=0.8\n",
    "    # random_state=seed,\n",
    "    # n_estimators=400,\n",
    "    # n_jobs=-1,\n",
    "    # max_features=1.0,\n",
    "    # max_samples=1.0\n",
    ")\n",
    "\n",
    "m = make_pipeline(\n",
    "    prep,\n",
    "    model\n",
    ")\n",
    "\n"
   ]
  },
  {
   "cell_type": "code",
   "execution_count": 27,
   "metadata": {},
   "outputs": [
    {
     "name": "stdout",
     "output_type": "stream",
     "text": [
      "train:  [-4806.66560427 -4532.06326068 -4575.46702604]\n",
      "test:  [-4866.36799055 -6705.91673524 -5327.22816224]\n",
      "Train Mean RMSE: -4638.065296996015\n",
      "Test Mean RMSE: -5633.17096267967\n"
     ]
    }
   ],
   "source": [
    "res = cross_validate(\n",
    "    estimator=m,\n",
    "    X=X,\n",
    "    y=y,\n",
    "    cv=cv,\n",
    "    n_jobs=-1,\n",
    "    scoring=tr.rmse_scorer,\n",
    "    return_train_score=True,\n",
    "    return_estimator=True,\n",
    "    fit_params={\n",
    "        # \"randomforestregressor__sample_weight\": sample_weight\n",
    "        # \"stackingregressor__sample_weight\": sample_weight\n",
    "    }\n",
    ")\n",
    "\n",
    "print(\"train: \", res['train_score'])\n",
    "print(\"test: \", res['test_score'])\n",
    "print(f\"Train Mean RMSE: {np.mean(res.get('train_score'))}\")\n",
    "print(f\"Test Mean RMSE: {np.mean(res.get('test_score'))}\")\n",
    "\n",
    "\n",
    "# base\n",
    "# train:  [-4950.42915184 - 4769.7101927 - 4818.80517865]\n",
    "# test:  [-4867.31956362 - 6767.87298344 - 5430.5269726]\n",
    "# Train Mean RMSE: -4846.314841064502\n",
    "# Test Mean RMSE: -5688.573173223823\n"
   ]
  },
  {
   "cell_type": "code",
   "execution_count": 259,
   "metadata": {},
   "outputs": [],
   "source": [
    "# X['prod_he_shift_change_total']"
   ]
  },
  {
   "cell_type": "code",
   "execution_count": null,
   "metadata": {},
   "outputs": [],
   "source": []
  },
  {
   "cell_type": "code",
   "execution_count": null,
   "metadata": {},
   "outputs": [],
   "source": []
  },
  {
   "attachments": {},
   "cell_type": "markdown",
   "metadata": {},
   "source": [
    "#### Modelo nuevo - PCAs temp + nuevas producciones segun otras variables"
   ]
  },
  {
   "cell_type": "code",
   "execution_count": 76,
   "metadata": {},
   "outputs": [],
   "source": [
    "from sklearn.decomposition import PCA\n",
    "\n",
    "\n",
    "def get_preprocesing():\n",
    "\n",
    "    model_num_cols = [\n",
    "        # 'altitud',\n",
    "        'campaña',\n",
    "        'superficie',\n",
    "        # 'sup_shift1',\n",
    "        # 'prod_shift1',\n",
    "        # 'prod_shift2',\n",
    "        'prod_shift_max',\n",
    "        'prod_shift_change',\n",
    "        'prod_shift_avg',\n",
    "        # 'prod_he_shift1_total',\n",
    "        # 'prod_he_shift2_total',\n",
    "        # 'prod_he_shift_change_total',\n",
    "        # 'prod_he_shift_avg_total',\n",
    "        'prod_he_var_zone_mean_hist_total',\n",
    "        'prod_he_var_zone_std_hist_total',\n",
    "        # 'prod_he_var_mean_hist_total',\n",
    "        # 'prod_he_var_std_hist_total',\n",
    "        'prod_he_zone_mean_total',\n",
    "        # 'prod_he_zone_std_total',\n",
    "        # 'prod_he_var_mean_total',\n",
    "        # 'prod_he_var_std_total'\n",
    "    ]\n",
    "\n",
    "    return make_column_transformer(\n",
    "\n",
    "        (OrdinalEncoder(handle_unknown='use_encoded_value',unknown_value=-1), ['sup_is_nan']),\n",
    "\n",
    "        # (mt.BaseNEncoder(), ['id_finca']),\n",
    "        # (mt.TargetEncoder(), ['id_finca']),\n",
    "        # (mt.QuantileFeatureEncoder(col='id_finca'), ['id_finca']),\n",
    "        (OrdinalEncoder(handle_unknown='use_encoded_value', unknown_value=-1), ['id_finca']),\n",
    "        # (OrdinalEncoder(handle_unknown='use_encoded_value',unknown_value=-1), ['id_finca_top']),\n",
    "         \n",
    "        (mt.TargetEncoder(), ['id_zona']),\n",
    "        (OrdinalEncoder(handle_unknown='use_encoded_value',unknown_value=-1), ['id_zona']),\n",
    "\n",
    "        # (OrdinalEncoder(handle_unknown='use_encoded_value',unknown_value=-1), ['id_estacion']),\n",
    "\n",
    "        # (mt.BaseNEncoder(), ['variedad']), \n",
    "        (OrdinalEncoder(handle_unknown='use_encoded_value',unknown_value=-1), ['variedad']),\n",
    "        # (mt.QuantileFeatureEncoder(qs=np.linspace(0.1, 0.9, 9).tolist(), col='variedad'), ['variedad']),\n",
    "\n",
    "        (OrdinalEncoder(handle_unknown='use_encoded_value',unknown_value=-1), ['modo']),\n",
    "\n",
    "        # (KBinsDiscretizer(n_bins=3, encode='ordinal'), ['altitud']),\n",
    "        # (KBinsDiscretizer(n_bins=5, encode='ordinal'), ['prod_shift2']),\n",
    "\n",
    "        (StandardScaler(), model_num_cols),\n",
    "        \n",
    "        # (StandardScaler(),temp_cols),\n",
    "\n",
    "        # (make_pipeline(StandardScaler(),PCA(n_components=2, random_state=seed)), temp_cols),\n",
    "        \n",
    "        # (KBinsDiscretizer(n_bins=2), [c for c in temp_day_cols if \"Avg\" in c]),\n",
    "\n",
    "        # (StandardScaler(), [c for c in temp_day_cols if \"Avg\" in c]),\n",
    "        # (make_pipeline(StandardScaler(),PCA(n_components=3, random_state=seed)), [c for c in temp_day_cols if \"Avg\" in c]),\n",
    "\n",
    "        # (StandardScaler(),[c for c in meteo_cols if \"avg_daytime\" in c]),\n",
    "        # (make_pipeline(StandardScaler(), PCA(n_components=2, random_state=seed)), [\n",
    "        #  c for c in meteo_cols if \"avg_daytime\" in c]),\n",
    "        \n",
    "\n",
    "        # (StandardScaler(),[c for c in percip_cols if 'Sum' in c]),\n",
    "\n",
    "        \n",
    "        (make_pipeline(StandardScaler(),PCA(n_components=2, random_state=seed)),\n",
    "             [c for c in percip_cols if 'Sum' in c]\n",
    "        ),\n",
    "\n",
    "        \n",
    "        (StandardScaler(),[c for c in snow_cols if 'Sum' in c and (\"1\" in c or \"2\" in c)]),\n",
    "        \n",
    "        # (StandardScaler(), [c for c in gust_cols if 'Max' in c ]),\n",
    "\n",
    "        (make_pipeline(StandardScaler(),PCA(n_components=2, random_state=seed)), [c for c in gust_cols if 'Max' in c ]),\n",
    "\n",
    "        # (StandardScaler(),[c for c in humid_cols if \"Avg\" in c]),\n",
    "        # (make_pipeline(StandardScaler(),PCA(n_components=2, random_state=seed)), [c for c in humid_cols if \"Avg\" in c]),\n",
    "        # (make_pipeline(StandardScaler(),PCA(n_components=3, random_state=seed)), uvindex_cols),\n",
    "        # (make_pipeline(StandardScaler(),PCA(n_components=3, random_state=seed)), dewpoint_cols),\n",
    "        # (make_pipeline(StandardScaler(),PCA(n_components=2, random_state=seed)), wind_cols),\n",
    "\n",
    "\n",
    "        remainder='drop'\n",
    "    )\n"
   ]
  },
  {
   "cell_type": "code",
   "execution_count": 77,
   "metadata": {},
   "outputs": [],
   "source": [
    "from sklearn.ensemble import StackingRegressor, VotingRegressor\n",
    "\n",
    "prep = get_preprocesing()\n",
    "# model = LinearRegression()\n",
    "# model = Lasso(random_state=seed)\n",
    "# model = Ridge(random_state=seed)\n",
    "# model = ElasticNet(random_state=seed)\n",
    "\n",
    "model = RandomForestRegressor(\n",
    "    random_state=seed,\n",
    "    n_estimators=500,\n",
    "    min_samples_leaf=4,\n",
    "    # max_depth=8,\n",
    "    n_jobs=-1,\n",
    "    max_features=0.20,\n",
    "    max_samples=0.8\n",
    "    # random_state=seed,\n",
    "    # n_estimators=400,\n",
    "    # n_jobs=-1,\n",
    "    # max_features=1.0,\n",
    "    # max_samples=1.0\n",
    ")\n",
    "\n",
    "\n",
    "# model = StackingRegressor(\n",
    "#     estimators=[(\n",
    "#         f\"rf_{i}\",\n",
    "#         RandomForestRegressor(\n",
    "#             random_state=seed+i,\n",
    "#             n_estimators=[300,200,200,80][i],\n",
    "#             min_samples_leaf=[3,4,4,5][i],\n",
    "#             n_jobs=-1,\n",
    "#             max_features=['sqrt', 'sqrt', 'sqrt',0.5][i],\n",
    "#             max_samples=0.8\n",
    "#         ) \n",
    "#     ) for i in range(4)],\n",
    "#     final_estimator = make_pipeline(StandardScaler(),Ridge()),\n",
    "# )\n",
    "\n",
    "# model = VotingRegressor(\n",
    "#     estimators=[(\n",
    "#         f\"rf_{i}\",\n",
    "#         RandomForestRegressor(\n",
    "#             random_state=seed+i,\n",
    "#             n_estimators=500,\n",
    "#             min_samples_leaf=4,\n",
    "#             n_jobs=-1,\n",
    "#             max_features=0.2,\n",
    "#             max_samples=0.8\n",
    "#         )\n",
    "#     ) for i in range(5)],\n",
    "#     # final_estimator=make_pipeline(StandardScaler(), LinearRegression()),\n",
    "# )\n",
    "\n",
    "m = make_pipeline(\n",
    "    prep,\n",
    "    model\n",
    ")\n",
    "\n",
    "# sample_weight = X['campaña'].apply(lambda x: 0.5 if x == 20 else 1).values\n",
    "\n",
    "# sample_weight = X['campaña'].apply(lambda x: x/22)\n",
    "\n",
    "# sample_weight = X['campaña'].apply(lambda x: 1)\n",
    "\n",
    "# sample_weight = X['campaña'].apply(lambda x: 0.2 if x <= 19 else 1)\n"
   ]
  },
  {
   "cell_type": "code",
   "execution_count": 78,
   "metadata": {},
   "outputs": [
    {
     "name": "stdout",
     "output_type": "stream",
     "text": [
      "train:  [-4634.98885712 -4404.44860405 -4461.27941723]\n",
      "test:  [-4761.95495808 -6678.08234653 -5354.3150231 ]\n",
      "Train Mean RMSE: -4500.238959466138\n",
      "Test Mean RMSE: -5598.117442571248\n"
     ]
    }
   ],
   "source": [
    "res = cross_validate(\n",
    "    estimator=m,\n",
    "    X=X,\n",
    "    y=y,\n",
    "    cv=cv,\n",
    "    n_jobs=-1,\n",
    "    scoring=tr.rmse_scorer,\n",
    "    return_train_score=True,\n",
    "    return_estimator=True,\n",
    "    fit_params={\n",
    "        # \"randomforestregressor__sample_weight\": sample_weight\n",
    "        # \"stackingregressor__sample_weight\": sample_weight\n",
    "    }\n",
    ")\n",
    "\n",
    "\n",
    "print(\"train: \", res['train_score'])\n",
    "print(\"test: \", res['test_score'])\n",
    "print(f\"Train Mean RMSE: {np.mean(res.get('train_score'))}\")\n",
    "print(f\"Test Mean RMSE: {np.mean(res.get('test_score'))}\")"
   ]
  },
  {
   "cell_type": "code",
   "execution_count": 79,
   "metadata": {},
   "outputs": [
    {
     "data": {
      "image/png": "[encoded data removed]",
      "text/plain": [
       "<Figure size 432x1080 with 1 Axes>"
      ]
     },
     "metadata": {
      "needs_background": "light"
     },
     "output_type": "display_data"
    }
   ],
   "source": [
    "m.fit(X,y)\n",
    "show_feat_imps(\n",
    "    m[-1].feature_importances_,\n",
    "    m[:-1].get_feature_names_out(),\n",
    ")\n"
   ]
  },
  {
   "attachments": {},
   "cell_type": "markdown",
   "metadata": {},
   "source": [
    "#### Comparar predicciones modelo nuevo vs original"
   ]
  },
  {
   "cell_type": "code",
   "execution_count": 80,
   "metadata": {},
   "outputs": [],
   "source": [
    "#Originales\n",
    "\n",
    "df_preds = pd.read_csv('../../data/final/Malbecs.txt',sep='|',header=None)\n",
    "preds_originales = df_preds[6]"
   ]
  },
  {
   "cell_type": "code",
   "execution_count": 81,
   "metadata": {},
   "outputs": [],
   "source": [
    "x_test_v2 = data_final.drop(columns=['produccion'])"
   ]
  },
  {
   "cell_type": "code",
   "execution_count": 82,
   "metadata": {},
   "outputs": [],
   "source": [
    "preds_nuevas = m.predict(x_test_v2)"
   ]
  },
  {
   "cell_type": "code",
   "execution_count": 85,
   "metadata": {},
   "outputs": [],
   "source": [
    "preds_final_2 = data_final[['id_finca', 'variedad','modo','tipo','color','superficie']].copy()\n",
    "preds_final_2['produccion'] = preds_nuevas\n",
    "preds_final_2 = preds_final_2.sort_values(['id_finca', 'variedad','modo','tipo','color','superficie'], ascending=True)"
   ]
  },
  {
   "cell_type": "code",
   "execution_count": 86,
   "metadata": {},
   "outputs": [
    {
     "data": {
      "image/png": "[encoded data removed]",
      "text/plain": [
       "<Figure size 720x720 with 1 Axes>"
      ]
     },
     "metadata": {
      "needs_background": "light"
     },
     "output_type": "display_data"
    }
   ],
   "source": [
    "plt.figure(figsize=(10,10))\n",
    "plt.scatter(preds_originales, preds_final_2['produccion'], alpha=0.5)\n",
    "plt.plot( [0,120000],[0,120000] )\n",
    "plt.xlabel('Originales')\n",
    "plt.ylabel('Nuevas')\n",
    "plt.title('Prediccion Local vs Intento Nacional')\n",
    "plt.show()"
   ]
  },
  {
   "cell_type": "code",
   "execution_count": 87,
   "metadata": {},
   "outputs": [],
   "source": [
    "preds_final_2.to_csv('../../data/final/UH2023_Universidad Complutense de Madrid (UCM)_Malbecs_2.txt', sep=\"|\", header=None, index=False)"
   ]
  },
  {
   "attachments": {},
   "cell_type": "markdown",
   "metadata": {},
   "source": [
    "#### Comparar predicciones modelo original + clima vs original"
   ]
  },
  {
   "cell_type": "code",
   "execution_count": 38,
   "metadata": {},
   "outputs": [],
   "source": [
    "#Originales\n",
    "\n",
    "df_preds = pd.read_csv('../../data/final/Malbecs.txt',sep='|',header=None)\n",
    "preds_originales = df_preds[6]"
   ]
  },
  {
   "cell_type": "code",
   "execution_count": 60,
   "metadata": {},
   "outputs": [],
   "source": [
    "from sklearn.linear_model import LinearRegression, Lasso, Ridge, ElasticNet, HuberRegressor\n",
    "from sklearn.preprocessing import RobustScaler, StandardScaler\n",
    "from sklearn.compose import make_column_transformer\n",
    "from sklearn.ensemble import RandomForestRegressor\n",
    "from sklearn.pipeline import make_pipeline\n",
    "from sklearn.preprocessing import KBinsDiscretizer, OrdinalEncoder, StandardScaler\n",
    "import pickle as pkl\n",
    "from typing import List\n",
    "import malbecs.modeling.transformers as mt\n",
    "\n",
    "seed = 42\n",
    "\n",
    "def get_base_model_v2():\n",
    "\n",
    "    model_num_cols = [\n",
    "        'superficie',\n",
    "        'prod_shift_max',\n",
    "        'prod_shift_change',\n",
    "        'prod_shift_avg',\n",
    "    ]\n",
    "\n",
    "    m = make_pipeline(\n",
    "        make_column_transformer(\n",
    "\n",
    "            (mt.BaseNEncoder(), ['id_finca']),\n",
    "\n",
    "            (mt.TargetEncoder(), ['id_zona']),\n",
    "\n",
    "            (OrdinalEncoder(handle_unknown='use_encoded_value',\n",
    "             unknown_value=-1), ['id_estacion']),\n",
    "\n",
    "            (mt.BaseNEncoder(), ['variedad']),\n",
    "\n",
    "            (OrdinalEncoder(handle_unknown='use_encoded_value',\n",
    "             unknown_value=-1), ['modo']),\n",
    "\n",
    "            (KBinsDiscretizer(n_bins=2), ['altitud']),\n",
    "\n",
    "            (StandardScaler(), model_num_cols),\n",
    "\n",
    "            (make_pipeline(StandardScaler(),PCA(n_components=2, random_state=seed)),[c for c in percip_cols if 'Sum' in c]),\n",
    "            \n",
    "            (StandardScaler(),[c for c in snow_cols if 'Sum' in c and (\"1\" in c or \"2\" in c)]),\n",
    "\n",
    "            #(make_pipeline(StandardScaler(),PCA(n_components=2, random_state=seed)), [c for c in gust_cols if 'Max' in c ]),\n",
    "\n",
    "            remainder='drop'\n",
    "        ),\n",
    "        RandomForestRegressor(\n",
    "            random_state=seed,\n",
    "            n_estimators=200,\n",
    "            min_samples_leaf=4,\n",
    "            n_jobs=-1,\n",
    "            max_features='sqrt',\n",
    "            max_samples=0.8\n",
    "        )\n",
    "    )\n",
    "    return m\n"
   ]
  },
  {
   "cell_type": "code",
   "execution_count": 61,
   "metadata": {},
   "outputs": [
    {
     "name": "stdout",
     "output_type": "stream",
     "text": [
      "train:  [-4727.2469563  -4541.35514995 -4601.38580505]\n",
      "test:  [-4867.83389351 -6638.79785759 -5433.38564627]\n",
      "Train Mean RMSE: -4623.329303766486\n",
      "Test Mean RMSE: -5646.672465790679\n"
     ]
    }
   ],
   "source": [
    "m_nuevo = get_base_model_v2()\n",
    "res = cross_validate(\n",
    "    estimator=m_nuevo,\n",
    "    X=X,\n",
    "    y=y,\n",
    "    cv=cv,\n",
    "    n_jobs=-1,\n",
    "    scoring=tr.rmse_scorer,\n",
    "    return_train_score=True,\n",
    "    return_estimator=True,\n",
    "    fit_params={\n",
    "        # \"randomforestregressor__sample_weight\": sample_weight\n",
    "        # \"stackingregressor__sample_weight\": sample_weight\n",
    "    }\n",
    ")\n",
    "\n",
    "\n",
    "print(\"train: \", res['train_score'])\n",
    "print(\"test: \", res['test_score'])\n",
    "print(f\"Train Mean RMSE: {np.mean(res.get('train_score'))}\")\n",
    "print(f\"Test Mean RMSE: {np.mean(res.get('test_score'))}\")"
   ]
  },
  {
   "cell_type": "code",
   "execution_count": 62,
   "metadata": {},
   "outputs": [],
   "source": [
    "m_nuevo = get_base_model_v2()\n",
    "m_nuevo.fit(X,y)\n",
    "preds_nuevas = m_nuevo.predict(x_test_v2)"
   ]
  },
  {
   "cell_type": "code",
   "execution_count": 63,
   "metadata": {},
   "outputs": [
    {
     "data": {
      "image/png": "[encoded data removed]",
      "text/plain": [
       "<Figure size 432x1080 with 1 Axes>"
      ]
     },
     "metadata": {
      "needs_background": "light"
     },
     "output_type": "display_data"
    }
   ],
   "source": [
    "show_feat_imps(\n",
    "    m_nuevo[-1].feature_importances_,\n",
    "    m_nuevo[:-1].get_feature_names_out(),\n",
    ")\n"
   ]
  },
  {
   "cell_type": "code",
   "execution_count": 66,
   "metadata": {},
   "outputs": [],
   "source": [
    "preds_final_v2 = data_final[['id_finca', 'variedad','modo','tipo','color','superficie']].copy()\n",
    "preds_final_v2['produccion'] = preds_nuevas\n",
    "preds_final_v2 = preds_final_v2.sort_values(['id_finca', 'variedad','modo','tipo','color','superficie'], ascending=True)"
   ]
  },
  {
   "cell_type": "code",
   "execution_count": 68,
   "metadata": {},
   "outputs": [
    {
     "data": {
      "image/png": "[encoded data removed]",
      "text/plain": [
       "<Figure size 720x720 with 1 Axes>"
      ]
     },
     "metadata": {
      "needs_background": "light"
     },
     "output_type": "display_data"
    }
   ],
   "source": [
    "plt.figure(figsize=(10,10))\n",
    "plt.scatter(preds_originales, preds_final_v2['produccion'], alpha=0.5)\n",
    "plt.plot( [0,120000],[0,120000] )\n",
    "plt.xlabel('Originales')\n",
    "plt.ylabel('Nuevas')\n",
    "plt.title('Prediccion Local vs Intento Original + temp')\n",
    "plt.show()"
   ]
  },
  {
   "cell_type": "code",
   "execution_count": 67,
   "metadata": {},
   "outputs": [
    {
     "data": {
      "text/html": [
       "<div>\n",
       "<style scoped>\n",
       "    .dataframe tbody tr th:only-of-type {\n",
       "        vertical-align: middle;\n",
       "    }\n",
       "\n",
       "    .dataframe tbody tr th {\n",
       "        vertical-align: top;\n",
       "    }\n",
       "\n",
       "    .dataframe thead th {\n",
       "        text-align: right;\n",
       "    }\n",
       "</style>\n",
       "<table border=\"1\" class=\"dataframe\">\n",
       "  <thead>\n",
       "    <tr style=\"text-align: right;\">\n",
       "      <th></th>\n",
       "      <th>id_finca</th>\n",
       "      <th>variedad</th>\n",
       "      <th>modo</th>\n",
       "      <th>tipo</th>\n",
       "      <th>color</th>\n",
       "      <th>superficie</th>\n",
       "      <th>produccion</th>\n",
       "    </tr>\n",
       "  </thead>\n",
       "  <tbody>\n",
       "    <tr>\n",
       "      <th>9498</th>\n",
       "      <td>439</td>\n",
       "      <td>9</td>\n",
       "      <td>2</td>\n",
       "      <td>0</td>\n",
       "      <td>0</td>\n",
       "      <td>1.0800</td>\n",
       "      <td>3847.994307</td>\n",
       "    </tr>\n",
       "    <tr>\n",
       "      <th>8923</th>\n",
       "      <td>447</td>\n",
       "      <td>40</td>\n",
       "      <td>2</td>\n",
       "      <td>0</td>\n",
       "      <td>1</td>\n",
       "      <td>0.4694</td>\n",
       "      <td>2647.855934</td>\n",
       "    </tr>\n",
       "    <tr>\n",
       "      <th>8602</th>\n",
       "      <td>523</td>\n",
       "      <td>32</td>\n",
       "      <td>2</td>\n",
       "      <td>0</td>\n",
       "      <td>1</td>\n",
       "      <td>0.6478</td>\n",
       "      <td>2093.686110</td>\n",
       "    </tr>\n",
       "    <tr>\n",
       "      <th>9242</th>\n",
       "      <td>702</td>\n",
       "      <td>59</td>\n",
       "      <td>2</td>\n",
       "      <td>0</td>\n",
       "      <td>1</td>\n",
       "      <td>1.1331</td>\n",
       "      <td>8143.693395</td>\n",
       "    </tr>\n",
       "    <tr>\n",
       "      <th>8750</th>\n",
       "      <td>797</td>\n",
       "      <td>59</td>\n",
       "      <td>1</td>\n",
       "      <td>0</td>\n",
       "      <td>1</td>\n",
       "      <td>7.5143</td>\n",
       "      <td>12131.850378</td>\n",
       "    </tr>\n",
       "    <tr>\n",
       "      <th>...</th>\n",
       "      <td>...</td>\n",
       "      <td>...</td>\n",
       "      <td>...</td>\n",
       "      <td>...</td>\n",
       "      <td>...</td>\n",
       "      <td>...</td>\n",
       "      <td>...</td>\n",
       "    </tr>\n",
       "    <tr>\n",
       "      <th>9236</th>\n",
       "      <td>99282</td>\n",
       "      <td>59</td>\n",
       "      <td>2</td>\n",
       "      <td>0</td>\n",
       "      <td>1</td>\n",
       "      <td>1.6244</td>\n",
       "      <td>7611.700026</td>\n",
       "    </tr>\n",
       "    <tr>\n",
       "      <th>9117</th>\n",
       "      <td>99377</td>\n",
       "      <td>52</td>\n",
       "      <td>2</td>\n",
       "      <td>0</td>\n",
       "      <td>1</td>\n",
       "      <td>0.6500</td>\n",
       "      <td>2458.847053</td>\n",
       "    </tr>\n",
       "    <tr>\n",
       "      <th>9320</th>\n",
       "      <td>99693</td>\n",
       "      <td>81</td>\n",
       "      <td>1</td>\n",
       "      <td>0</td>\n",
       "      <td>1</td>\n",
       "      <td>6.3397</td>\n",
       "      <td>28641.610416</td>\n",
       "    </tr>\n",
       "    <tr>\n",
       "      <th>9036</th>\n",
       "      <td>99793</td>\n",
       "      <td>52</td>\n",
       "      <td>2</td>\n",
       "      <td>0</td>\n",
       "      <td>1</td>\n",
       "      <td>0.1326</td>\n",
       "      <td>4068.094352</td>\n",
       "    </tr>\n",
       "    <tr>\n",
       "      <th>9035</th>\n",
       "      <td>99793</td>\n",
       "      <td>87</td>\n",
       "      <td>2</td>\n",
       "      <td>0</td>\n",
       "      <td>0</td>\n",
       "      <td>0.0189</td>\n",
       "      <td>4515.375757</td>\n",
       "    </tr>\n",
       "  </tbody>\n",
       "</table>\n",
       "<p>1075 rows × 7 columns</p>\n",
       "</div>"
      ],
      "text/plain": [
       "      id_finca  variedad  modo  tipo  color  superficie    produccion\n",
       "9498       439         9     2     0      0      1.0800   3847.994307\n",
       "8923       447        40     2     0      1      0.4694   2647.855934\n",
       "8602       523        32     2     0      1      0.6478   2093.686110\n",
       "9242       702        59     2     0      1      1.1331   8143.693395\n",
       "8750       797        59     1     0      1      7.5143  12131.850378\n",
       "...        ...       ...   ...   ...    ...         ...           ...\n",
       "9236     99282        59     2     0      1      1.6244   7611.700026\n",
       "9117     99377        52     2     0      1      0.6500   2458.847053\n",
       "9320     99693        81     1     0      1      6.3397  28641.610416\n",
       "9036     99793        52     2     0      1      0.1326   4068.094352\n",
       "9035     99793        87     2     0      0      0.0189   4515.375757\n",
       "\n",
       "[1075 rows x 7 columns]"
      ]
     },
     "execution_count": 67,
     "metadata": {},
     "output_type": "execute_result"
    }
   ],
   "source": [
    "preds_final_v2"
   ]
  },
  {
   "cell_type": "code",
   "execution_count": 72,
   "metadata": {},
   "outputs": [],
   "source": [
    "preds_final_v2.to_csv('../../data/final/UH2023_Universidad Complutense de Madrid (UCM)_Malbecs_1.txt', sep=\"|\", header=None, index=False)"
   ]
  },
  {
   "attachments": {},
   "cell_type": "markdown",
   "metadata": {},
   "source": [
    "## Resto pruebas"
   ]
  },
  {
   "cell_type": "code",
   "execution_count": 1093,
   "metadata": {},
   "outputs": [
    {
     "name": "stdout",
     "output_type": "stream",
     "text": [
      "Fitting 3 folds for each of 15 candidates, totalling 45 fits\n",
      "{'randomforestregressor__max_features': 0.2, 'randomforestregressor__n_estimators': 200}\n",
      "-5582.862128800595\n"
     ]
    }
   ],
   "source": [
    "from numpy import linspace\n",
    "from sklearn.model_selection import GridSearchCV\n",
    "\n",
    "param_grid = {\n",
    "    'randomforestregressor__max_features': [0.18,0.2,0.22],\n",
    "    # 'randomforestregressor__max_depth': [4, 5, 6, 8],\n",
    "    # 'randomforestregressor__max_samples': [0.8], \n",
    "    # 'randomforestregressor__min_samples_leaf':[3,4],\n",
    "    'randomforestregressor__n_estimators': [180,200,300,400,500],\n",
    "    # 'randomforestregressor__ccp_alpha': [0,0.01,0.02],\n",
    "}\n",
    "# param_grid = \n",
    "#     'lasso__alpha':linspace(150,160,10)\n",
    "# }\n",
    "# param_grid = {\n",
    "#     'ridge__alpha': linspace(860, 870, 10)\n",
    "# }\n",
    "# param_grid = {\n",
    "#     'elasticnet__alpha': linspace(0.1,1, 10),\n",
    "#     'elasticnet__l1_ratio': [0.6,0.7,0.8]\n",
    "# }\n",
    "\n",
    "gsm = GridSearchCV(\n",
    "    m,\n",
    "    param_grid=param_grid,\n",
    "    cv=cv,\n",
    "    verbose=1,\n",
    "    scoring=tr.rmse_scorer\n",
    ")\n",
    "\n",
    "gsm.fit(\n",
    "    X, \n",
    "    y, \n",
    "    # randomforestregressor__sample_weight=sample_weight\n",
    "    )\n",
    "\n",
    "print(gsm.best_params_)\n",
    "print(gsm.best_score_)\n"
   ]
  },
  {
   "cell_type": "code",
   "execution_count": 1073,
   "metadata": {},
   "outputs": [
    {
     "name": "stdout",
     "output_type": "stream",
     "text": [
      "{'randomforestregressor__max_features': 0.2, 'randomforestregressor__n_estimators': 200}\n",
      "-5582.862128800595\n"
     ]
    }
   ],
   "source": [
    "print(gsm.best_params_)\n",
    "print(gsm.best_score_)"
   ]
  },
  {
   "cell_type": "code",
   "execution_count": 1094,
   "metadata": {},
   "outputs": [
    {
     "name": "stdout",
     "output_type": "stream",
     "text": [
      "train:  [-4640.87405913 -4411.70027673 -4457.60633498]\n",
      "test:  [-4744.64558641 -6684.14068564 -5319.80011435]\n",
      "Train Mean RMSE: -4503.393556947637\n",
      "Test Mean RMSE: -5582.862128800595\n"
     ]
    }
   ],
   "source": [
    "# m = gsm.best_estimator_\n",
    "# y_pred = m.fit(X_train, y_train).predict(X_test)\n",
    "# score_model(X_test, y_test, y_pred, sup_norm=False)\n",
    "\n",
    "res = cross_validate(\n",
    "    estimator=gsm.best_estimator_,\n",
    "    X=X,\n",
    "    y=y,\n",
    "    cv=cv,\n",
    "    n_jobs=-1,\n",
    "    scoring=tr.rmse_scorer,\n",
    "    return_train_score=True,\n",
    "    return_estimator=True,\n",
    "    # fit_params={\n",
    "    #     \"randomforestregressor__sample_weight\": sample_weight\n",
    "    # }\n",
    ")\n",
    "\n",
    "print(\"train: \", res['train_score'])\n",
    "print(\"test: \", res['test_score'])\n",
    "print(f\"Train Mean RMSE: {np.mean(res.get('train_score'))}\")\n",
    "print(f\"Test Mean RMSE: {np.mean(res.get('test_score'))}\")\n"
   ]
  },
  {
   "cell_type": "code",
   "execution_count": null,
   "metadata": {},
   "outputs": [],
   "source": []
  }
 ],
 "metadata": {
  "kernelspec": {
   "display_name": "venv",
   "language": "python",
   "name": "python3"
  },
  "language_info": {
   "codemirror_mode": {
    "name": "ipython",
    "version": 3
   },
   "file_extension": ".py",
   "mimetype": "text/x-python",
   "name": "python",
   "nbconvert_exporter": "python",
   "pygments_lexer": "ipython3",
   "version": "3.9.13"
  },
  "orig_nbformat": 4
 },
 "nbformat": 4,
 "nbformat_minor": 2
}
