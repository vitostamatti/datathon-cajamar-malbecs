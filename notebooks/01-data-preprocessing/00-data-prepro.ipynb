{
 "cells": [
  {
   "attachments": {},
   "cell_type": "markdown",
   "metadata": {},
   "source": [
    "## <center> Reto Wine Prediction - Data Preprocessing"
   ]
  },
  {
   "cell_type": "code",
   "execution_count": 3,
   "metadata": {},
   "outputs": [],
   "source": [
    "# !pip install -e ../../src/ "
   ]
  },
  {
   "cell_type": "code",
   "execution_count": 1,
   "metadata": {},
   "outputs": [],
   "source": [
    "from malbecs import preprocess"
   ]
  },
  {
   "cell_type": "code",
   "execution_count": 3,
   "metadata": {},
   "outputs": [],
   "source": [
    "cols_ids = ['ID_ESTACION','year','month']\n",
    "\n",
    "cols_sum = [\n",
    "    'PrecipAmountLocalDaytimeAvg','PrecipAmountLocalNighttimeAvg',\n",
    "    'SnowAmountLocalDaytimeAvg','SnowAmountLocalNighttimeAvg'\n",
    "]\n",
    "\n",
    "cols_mean = [\n",
    "    'GustLocalDayAvg', 'MSLPLocalDayAvg', 'RelativeHumidityLocalDayAvg',\n",
    "    'UVIndexLocalDayAvg', 'VisibilityLocalDayAvg', 'WindSpeedLocalDayAvg',\n",
    "    'TemperatureLocalAfternoonAvg','TemperatureLocalOvernightAvg'\n",
    "]\n",
    "\n",
    "eto_prepro_config = preprocess.eto.ETOPreprocessConfig(\n",
    "    path = '../../data/raw/DATOS_ETO.TXT',\n",
    "    cols_ids = cols_ids,\n",
    "    cols_sum = cols_sum,\n",
    "    cols_mean = cols_mean\n",
    ")"
   ]
  },
  {
   "cell_type": "code",
   "execution_count": 5,
   "metadata": {},
   "outputs": [],
   "source": [
    "eto = preprocess.eto.load_eto_dataset(eto_prepro_config.path)\n",
    "\n",
    "eto = preprocess.eto.add_year_and_month(eto)\n",
    "\n",
    "df_month = preprocess.eto.get_monthly_datat(eto, cols_mean, cols_sum, cols_ids)\n",
    "\n",
    "df_month = preprocess.eto.filter_relevant_months(df_month)\n",
    "\n",
    "df_month = preprocess.eto.fillna_by_group(df_month)\n",
    "\n",
    "df_month = preprocess.eto.fillna_by_value(df_month)\n",
    "\n",
    "df_pivot = preprocess.eto.pivot_monthly_data(df_month)\n",
    "\n",
    "df_pivot = preprocess.eto.fillna_by_group(df_pivot, cols=df_pivot.columns, group=['ID_ESTACION'])"
   ]
  },
  {
   "cell_type": "code",
   "execution_count": 7,
   "metadata": {},
   "outputs": [
    {
     "data": {
      "text/html": [
       "<div>\n",
       "<style scoped>\n",
       "    .dataframe tbody tr th:only-of-type {\n",
       "        vertical-align: middle;\n",
       "    }\n",
       "\n",
       "    .dataframe tbody tr th {\n",
       "        vertical-align: top;\n",
       "    }\n",
       "\n",
       "    .dataframe thead th {\n",
       "        text-align: right;\n",
       "    }\n",
       "</style>\n",
       "<table border=\"1\" class=\"dataframe\">\n",
       "  <thead>\n",
       "    <tr style=\"text-align: right;\">\n",
       "      <th></th>\n",
       "      <th>year</th>\n",
       "      <th>ID_ESTACION</th>\n",
       "      <th>GustLocalDayAvgMonth1</th>\n",
       "      <th>GustLocalDayAvgMonth2</th>\n",
       "      <th>GustLocalDayAvgMonth3</th>\n",
       "      <th>GustLocalDayAvgMonth4</th>\n",
       "      <th>GustLocalDayAvgMonth5</th>\n",
       "      <th>GustLocalDayAvgMonth6</th>\n",
       "      <th>MSLPLocalDayAvgMonth1</th>\n",
       "      <th>MSLPLocalDayAvgMonth2</th>\n",
       "      <th>...</th>\n",
       "      <th>TotalSnowAmountLocalDaytimeMonth3</th>\n",
       "      <th>TotalSnowAmountLocalDaytimeMonth4</th>\n",
       "      <th>TotalSnowAmountLocalDaytimeMonth5</th>\n",
       "      <th>TotalSnowAmountLocalDaytimeMonth6</th>\n",
       "      <th>TotalSnowAmountLocalNighttimeMonth1</th>\n",
       "      <th>TotalSnowAmountLocalNighttimeMonth2</th>\n",
       "      <th>TotalSnowAmountLocalNighttimeMonth3</th>\n",
       "      <th>TotalSnowAmountLocalNighttimeMonth4</th>\n",
       "      <th>TotalSnowAmountLocalNighttimeMonth5</th>\n",
       "      <th>TotalSnowAmountLocalNighttimeMonth6</th>\n",
       "    </tr>\n",
       "  </thead>\n",
       "  <tbody>\n",
       "    <tr>\n",
       "      <th>0</th>\n",
       "      <td>2015</td>\n",
       "      <td>0</td>\n",
       "      <td>8.734144</td>\n",
       "      <td>8.812870</td>\n",
       "      <td>8.413796</td>\n",
       "      <td>8.085149</td>\n",
       "      <td>8.106905</td>\n",
       "      <td>5.90</td>\n",
       "      <td>102201.825806</td>\n",
       "      <td>102146.615764</td>\n",
       "      <td>...</td>\n",
       "      <td>0.0</td>\n",
       "      <td>0.0</td>\n",
       "      <td>0.0</td>\n",
       "      <td>0.0</td>\n",
       "      <td>0.017143</td>\n",
       "      <td>0.001714</td>\n",
       "      <td>0.0</td>\n",
       "      <td>0.000000</td>\n",
       "      <td>0.0</td>\n",
       "      <td>0.0</td>\n",
       "    </tr>\n",
       "    <tr>\n",
       "      <th>1</th>\n",
       "      <td>2015</td>\n",
       "      <td>1</td>\n",
       "      <td>9.463468</td>\n",
       "      <td>8.959330</td>\n",
       "      <td>8.781306</td>\n",
       "      <td>8.496610</td>\n",
       "      <td>8.575500</td>\n",
       "      <td>6.25</td>\n",
       "      <td>102234.058065</td>\n",
       "      <td>102167.031527</td>\n",
       "      <td>...</td>\n",
       "      <td>0.0</td>\n",
       "      <td>0.0</td>\n",
       "      <td>0.0</td>\n",
       "      <td>0.0</td>\n",
       "      <td>0.025714</td>\n",
       "      <td>0.003429</td>\n",
       "      <td>0.0</td>\n",
       "      <td>0.003429</td>\n",
       "      <td>0.0</td>\n",
       "      <td>0.0</td>\n",
       "    </tr>\n",
       "    <tr>\n",
       "      <th>2</th>\n",
       "      <td>2015</td>\n",
       "      <td>2</td>\n",
       "      <td>9.012953</td>\n",
       "      <td>8.943690</td>\n",
       "      <td>8.489353</td>\n",
       "      <td>8.272118</td>\n",
       "      <td>8.052494</td>\n",
       "      <td>0.00</td>\n",
       "      <td>102230.348387</td>\n",
       "      <td>102165.751379</td>\n",
       "      <td>...</td>\n",
       "      <td>0.0</td>\n",
       "      <td>0.0</td>\n",
       "      <td>0.0</td>\n",
       "      <td>0.0</td>\n",
       "      <td>0.001714</td>\n",
       "      <td>0.000000</td>\n",
       "      <td>0.0</td>\n",
       "      <td>0.000000</td>\n",
       "      <td>0.0</td>\n",
       "      <td>0.0</td>\n",
       "    </tr>\n",
       "    <tr>\n",
       "      <th>3</th>\n",
       "      <td>2015</td>\n",
       "      <td>3</td>\n",
       "      <td>9.285132</td>\n",
       "      <td>9.061558</td>\n",
       "      <td>8.659367</td>\n",
       "      <td>8.484520</td>\n",
       "      <td>8.161767</td>\n",
       "      <td>6.30</td>\n",
       "      <td>102213.032258</td>\n",
       "      <td>102157.900000</td>\n",
       "      <td>...</td>\n",
       "      <td>0.0</td>\n",
       "      <td>0.0</td>\n",
       "      <td>0.0</td>\n",
       "      <td>0.0</td>\n",
       "      <td>0.022286</td>\n",
       "      <td>0.001714</td>\n",
       "      <td>0.0</td>\n",
       "      <td>0.000000</td>\n",
       "      <td>0.0</td>\n",
       "      <td>0.0</td>\n",
       "    </tr>\n",
       "    <tr>\n",
       "      <th>4</th>\n",
       "      <td>2015</td>\n",
       "      <td>4</td>\n",
       "      <td>9.367829</td>\n",
       "      <td>9.012928</td>\n",
       "      <td>8.652893</td>\n",
       "      <td>8.434649</td>\n",
       "      <td>8.249765</td>\n",
       "      <td>6.00</td>\n",
       "      <td>102229.533548</td>\n",
       "      <td>102164.913522</td>\n",
       "      <td>...</td>\n",
       "      <td>0.0</td>\n",
       "      <td>0.0</td>\n",
       "      <td>0.0</td>\n",
       "      <td>0.0</td>\n",
       "      <td>0.012000</td>\n",
       "      <td>0.000000</td>\n",
       "      <td>0.0</td>\n",
       "      <td>0.000000</td>\n",
       "      <td>0.0</td>\n",
       "      <td>0.0</td>\n",
       "    </tr>\n",
       "  </tbody>\n",
       "</table>\n",
       "<p>5 rows × 74 columns</p>\n",
       "</div>"
      ],
      "text/plain": [
       "   year  ID_ESTACION  GustLocalDayAvgMonth1  GustLocalDayAvgMonth2  \\\n",
       "0  2015            0               8.734144               8.812870   \n",
       "1  2015            1               9.463468               8.959330   \n",
       "2  2015            2               9.012953               8.943690   \n",
       "3  2015            3               9.285132               9.061558   \n",
       "4  2015            4               9.367829               9.012928   \n",
       "\n",
       "   GustLocalDayAvgMonth3  GustLocalDayAvgMonth4  GustLocalDayAvgMonth5  \\\n",
       "0               8.413796               8.085149               8.106905   \n",
       "1               8.781306               8.496610               8.575500   \n",
       "2               8.489353               8.272118               8.052494   \n",
       "3               8.659367               8.484520               8.161767   \n",
       "4               8.652893               8.434649               8.249765   \n",
       "\n",
       "   GustLocalDayAvgMonth6  MSLPLocalDayAvgMonth1  MSLPLocalDayAvgMonth2  ...  \\\n",
       "0                   5.90          102201.825806          102146.615764  ...   \n",
       "1                   6.25          102234.058065          102167.031527  ...   \n",
       "2                   0.00          102230.348387          102165.751379  ...   \n",
       "3                   6.30          102213.032258          102157.900000  ...   \n",
       "4                   6.00          102229.533548          102164.913522  ...   \n",
       "\n",
       "   TotalSnowAmountLocalDaytimeMonth3  TotalSnowAmountLocalDaytimeMonth4  \\\n",
       "0                                0.0                                0.0   \n",
       "1                                0.0                                0.0   \n",
       "2                                0.0                                0.0   \n",
       "3                                0.0                                0.0   \n",
       "4                                0.0                                0.0   \n",
       "\n",
       "   TotalSnowAmountLocalDaytimeMonth5  TotalSnowAmountLocalDaytimeMonth6  \\\n",
       "0                                0.0                                0.0   \n",
       "1                                0.0                                0.0   \n",
       "2                                0.0                                0.0   \n",
       "3                                0.0                                0.0   \n",
       "4                                0.0                                0.0   \n",
       "\n",
       "   TotalSnowAmountLocalNighttimeMonth1  TotalSnowAmountLocalNighttimeMonth2  \\\n",
       "0                             0.017143                             0.001714   \n",
       "1                             0.025714                             0.003429   \n",
       "2                             0.001714                             0.000000   \n",
       "3                             0.022286                             0.001714   \n",
       "4                             0.012000                             0.000000   \n",
       "\n",
       "   TotalSnowAmountLocalNighttimeMonth3  TotalSnowAmountLocalNighttimeMonth4  \\\n",
       "0                                  0.0                             0.000000   \n",
       "1                                  0.0                             0.003429   \n",
       "2                                  0.0                             0.000000   \n",
       "3                                  0.0                             0.000000   \n",
       "4                                  0.0                             0.000000   \n",
       "\n",
       "   TotalSnowAmountLocalNighttimeMonth5  TotalSnowAmountLocalNighttimeMonth6  \n",
       "0                                  0.0                                  0.0  \n",
       "1                                  0.0                                  0.0  \n",
       "2                                  0.0                                  0.0  \n",
       "3                                  0.0                                  0.0  \n",
       "4                                  0.0                                  0.0  \n",
       "\n",
       "[5 rows x 74 columns]"
      ]
     },
     "execution_count": 7,
     "metadata": {},
     "output_type": "execute_result"
    }
   ],
   "source": [
    "df_pivot.head()"
   ]
  },
  {
   "cell_type": "code",
   "execution_count": null,
   "metadata": {},
   "outputs": [],
   "source": []
  },
  {
   "cell_type": "code",
   "execution_count": null,
   "metadata": {},
   "outputs": [],
   "source": []
  },
  {
   "cell_type": "code",
   "execution_count": 2,
   "metadata": {},
   "outputs": [],
   "source": [
    "#EDA\n",
    "import pandas as pd\n",
    "pd.options.display.float_format = '{:.2f}'.format\n",
    "pd.set_option('display.max_colwidth', None)\n",
    "pd.set_option('display.max_columns', None)  \n",
    "\n",
    "import numpy as np\n",
    "import warnings\n",
    "warnings.filterwarnings('ignore')\n",
    "\n",
    "#Data viz\n",
    "import matplotlib.pyplot as plt\n",
    "import seaborn as sns\n",
    "import plotly.express as px\n",
    "color_pal = sns.color_palette()\n",
    "plt.style.use('fivethirtyeight')"
   ]
  },
  {
   "attachments": {},
   "cell_type": "markdown",
   "metadata": {},
   "source": [
    "## Lectura de datos"
   ]
  },
  {
   "cell_type": "code",
   "execution_count": null,
   "metadata": {},
   "outputs": [],
   "source": [
    "df = pd.read_csv('https://raw.githubusercontent.com/eduardofc/data/main/kddcup99.csv')\n",
    "df.head()"
   ]
  },
  {
   "attachments": {},
   "cell_type": "markdown",
   "metadata": {},
   "source": [
    "## Buenas prácticas"
   ]
  },
  {
   "attachments": {},
   "cell_type": "markdown",
   "metadata": {},
   "source": [
    "Observamos columnas y modificamos los nombres para que estén bajo buenas prácticas"
   ]
  },
  {
   "cell_type": "code",
   "execution_count": null,
   "metadata": {},
   "outputs": [],
   "source": [
    "df.columns"
   ]
  },
  {
   "cell_type": "code",
   "execution_count": null,
   "metadata": {},
   "outputs": [],
   "source": [
    "df.columns = [col.lower().replace('-','_') for col in df.columns]"
   ]
  },
  {
   "attachments": {},
   "cell_type": "markdown",
   "metadata": {},
   "source": [
    "## Outliers"
   ]
  },
  {
   "cell_type": "code",
   "execution_count": null,
   "metadata": {},
   "outputs": [],
   "source": [
    "#Ver como sacar outliers"
   ]
  },
  {
   "attachments": {},
   "cell_type": "markdown",
   "metadata": {},
   "source": [
    "Visualización de distribuciones con y sin outliers"
   ]
  },
  {
   "cell_type": "code",
   "execution_count": null,
   "metadata": {},
   "outputs": [],
   "source": [
    "def plot_outliers(column):\n",
    "    plt.figure(figsize = (12,5))\n",
    "    plt.subplot(1,2,1)\n",
    "    \n",
    "    ax = sns.boxplot(x=df_num[column]) #originales\n",
    "    \n",
    "    plt.title('Con outliers')\n",
    "\n",
    "    temp = ... #armar un dataframe sin outliers\n",
    "    plt.subplot(1,2,2)\n",
    "    ax2= sns.boxplot(x=temp[column])\n",
    "    plt.title('Sin outliers')\n"
   ]
  },
  {
   "cell_type": "code",
   "execution_count": null,
   "metadata": {},
   "outputs": [],
   "source": [
    "#Creamos df numerico\n",
    "num_cols =  df.select_dtypes([np.number]).columns\n",
    "\n",
    "df_num = df[num_cols]\n",
    "\n",
    "#Plot outliers \n",
    "for i in df_num.columns:\n",
    "    plot_outliers(i)"
   ]
  },
  {
   "attachments": {},
   "cell_type": "markdown",
   "metadata": {},
   "source": [
    "## Imputaciones"
   ]
  },
  {
   "cell_type": "code",
   "execution_count": null,
   "metadata": {},
   "outputs": [],
   "source": [
    "#fillnas\n",
    "# knnimputer\n",
    "# imputar por la media, etc"
   ]
  },
  {
   "cell_type": "code",
   "execution_count": null,
   "metadata": {},
   "outputs": [],
   "source": []
  },
  {
   "cell_type": "code",
   "execution_count": null,
   "metadata": {},
   "outputs": [],
   "source": []
  }
 ],
 "metadata": {
  "kernelspec": {
   "display_name": "venv",
   "language": "python",
   "name": "python3"
  },
  "language_info": {
   "codemirror_mode": {
    "name": "ipython",
    "version": 3
   },
   "file_extension": ".py",
   "mimetype": "text/x-python",
   "name": "python",
   "nbconvert_exporter": "python",
   "pygments_lexer": "ipython3",
   "version": "3.9.13"
  },
  "orig_nbformat": 4,
  "vscode": {
   "interpreter": {
    "hash": "e1435488552ae345076a9e86dc7e9faa2492579cab23903b704b1d630f2d034e"
   }
  }
 },
 "nbformat": 4,
 "nbformat_minor": 2
}
